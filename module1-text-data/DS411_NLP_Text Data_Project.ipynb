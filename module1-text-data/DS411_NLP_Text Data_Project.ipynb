{
  "nbformat": 4,
  "nbformat_minor": 0,
  "metadata": {
    "colab": {
      "provenance": [],
      "toc_visible": true
    },
    "kernelspec": {
      "display_name": "py37  (Python3)",
      "language": "python",
      "name": "py37"
    },
    "language_info": {
      "codemirror_mode": {
        "name": "ipython",
        "version": 3
      },
      "file_extension": ".py",
      "mimetype": "text/x-python",
      "name": "python",
      "nbconvert_exporter": "python",
      "pygments_lexer": "ipython3",
      "version": "3.7.0"
    },
    "toc-autonumbering": false
  },
  "cells": [
    {
      "cell_type": "markdown",
      "metadata": {
        "id": "XLVEUBHAszyf"
      },
      "source": [
        "\n",
        "\n",
        "# Natural Language Processing (NLP)\n",
        "## *Data Science Unit 4 Sprint 1 Assignment 1*\n",
        "\n",
        "Your goal in this assignment: find the attributes of the best & worst coffee shops in the dataset. The text is fairly raw: dates in the review, extra words in the `star_rating` column, etc. You'll probably want to clean that stuff up for a better analysis. \n",
        "\n",
        "Analyze the corpus of text using text visualizations of token frequency. Try cleaning the data as much as possible. Try the following techniques: \n",
        "- Lemmatization\n",
        "- Custom stopword removal\n",
        "\n",
        "Keep in mind the attributes of good tokens. Once you have a solid baseline, layer in the star rating in your visualization(s). Key part of this assignment - produce a write-up of the attributes of the best and worst coffee shops. Based on your analysis, what makes the best the best and the worst the worst. Use graphs and numbesr from your analysis to support your conclusions. There should be plenty of markdown cells! :coffee:"
      ]
    },
    {
      "cell_type": "code",
      "metadata": {
        "id": "WVikJqB6szyi",
        "colab": {
          "base_uri": "https://localhost:8080/",
          "height": 320
        },
        "outputId": "b3563bcb-e88d-49fd-fe7f-7bca6e069ed5"
      },
      "source": [
        "from IPython.display import YouTubeVideo\n",
        "YouTubeVideo('Jml7NVYm8cs')"
      ],
      "execution_count": 1,
      "outputs": [
        {
          "output_type": "execute_result",
          "data": {
            "text/plain": [
              "<IPython.lib.display.YouTubeVideo at 0x7f03d3bd0640>"
            ],
            "text/html": [
              "\n",
              "        <iframe\n",
              "            width=\"400\"\n",
              "            height=\"300\"\n",
              "            src=\"https://www.youtube.com/embed/Jml7NVYm8cs\"\n",
              "            frameborder=\"0\"\n",
              "            allowfullscreen\n",
              "        ></iframe>\n",
              "        "
            ],
            "image/jpeg": "[encoded data removed]"
          },
          "metadata": {},
          "execution_count": 1
        }
      ]
    },
    {
      "cell_type": "markdown",
      "metadata": {
        "id": "Zwv93p0nw4y7"
      },
      "source": [
        "#0. Prepare"
      ]
    },
    {
      "cell_type": "markdown",
      "metadata": {
        "id": "NznKZiH9wpvW"
      },
      "source": [
        "## 0.1 Get spacy"
      ]
    },
    {
      "cell_type": "code",
      "source": [
        "# !pip install --upgrade spacy\n",
        "# !pip install --upgrade scikit-learn"
      ],
      "metadata": {
        "id": "55An_BcjwqX0"
      },
      "execution_count": null,
      "outputs": []
    },
    {
      "cell_type": "code",
      "metadata": {
        "colab": {
          "base_uri": "https://localhost:8080/"
        },
        "id": "jOfpgOqSyX4p",
        "outputId": "24b9ddce-c983-4b84-d257-6ddcef063231"
      },
      "source": [
        "# Locally (or on colab) let's use en_core_web_lg \n",
        "!python -m spacy download en_core_web_lg # Can do lg, takes awhile\n",
        "# Also on Colab, need to restart runtime after this step!"
      ],
      "execution_count": 3,
      "outputs": [
        {
          "output_type": "stream",
          "name": "stdout",
          "text": [
            "/usr/local/lib/python3.8/dist-packages/torch/cuda/__init__.py:497: UserWarning: Can't initialize NVML\n",
            "  warnings.warn(\"Can't initialize NVML\")\n",
            "2023-02-22 06:15:58.194403: I tensorflow/core/platform/cpu_feature_guard.cc:193] This TensorFlow binary is optimized with oneAPI Deep Neural Network Library (oneDNN) to use the following CPU instructions in performance-critical operations:  AVX2 FMA\n",
            "To enable them in other operations, rebuild TensorFlow with the appropriate compiler flags.\n",
            "2023-02-22 06:15:59.459635: W tensorflow/compiler/xla/stream_executor/platform/default/dso_loader.cc:64] Could not load dynamic library 'libnvinfer.so.7'; dlerror: libnvinfer.so.7: cannot open shared object file: No such file or directory; LD_LIBRARY_PATH: /usr/local/nvidia/lib:/usr/local/nvidia/lib64\n",
            "2023-02-22 06:15:59.459783: W tensorflow/compiler/xla/stream_executor/platform/default/dso_loader.cc:64] Could not load dynamic library 'libnvinfer_plugin.so.7'; dlerror: libnvinfer_plugin.so.7: cannot open shared object file: No such file or directory; LD_LIBRARY_PATH: /usr/local/nvidia/lib:/usr/local/nvidia/lib64\n",
            "2023-02-22 06:15:59.459806: W tensorflow/compiler/tf2tensorrt/utils/py_utils.cc:38] TF-TRT Warning: Cannot dlopen some TensorRT libraries. If you would like to use Nvidia GPU with TensorRT, please make sure the missing libraries mentioned above are installed properly.\n",
            "2023-02-22 06:16:02.045556: E tensorflow/compiler/xla/stream_executor/cuda/cuda_driver.cc:267] failed call to cuInit: CUDA_ERROR_NO_DEVICE: no CUDA-capable device is detected\n",
            "Looking in indexes: https://pypi.org/simple, https://us-python.pkg.dev/colab-wheels/public/simple/\n",
            "Collecting en-core-web-lg==3.5.0\n",
            "  Downloading https://github.com/explosion/spacy-models/releases/download/en_core_web_lg-3.5.0/en_core_web_lg-3.5.0-py3-none-any.whl (587.7 MB)\n",
            "\u001b[2K     \u001b[90m━━━━━━━━━━━━━━━━━━━━━━━━━━━━━━━━━━━━━━━\u001b[0m \u001b[32m587.7/587.7 MB\u001b[0m \u001b[31m2.1 MB/s\u001b[0m eta \u001b[36m0:00:00\u001b[0m\n",
            "\u001b[?25hRequirement already satisfied: spacy<3.6.0,>=3.5.0 in /usr/local/lib/python3.8/dist-packages (from en-core-web-lg==3.5.0) (3.5.0)\n",
            "Requirement already satisfied: srsly<3.0.0,>=2.4.3 in /usr/local/lib/python3.8/dist-packages (from spacy<3.6.0,>=3.5.0->en-core-web-lg==3.5.0) (2.4.5)\n",
            "Requirement already satisfied: tqdm<5.0.0,>=4.38.0 in /usr/local/lib/python3.8/dist-packages (from spacy<3.6.0,>=3.5.0->en-core-web-lg==3.5.0) (4.64.1)\n",
            "Requirement already satisfied: requests<3.0.0,>=2.13.0 in /usr/local/lib/python3.8/dist-packages (from spacy<3.6.0,>=3.5.0->en-core-web-lg==3.5.0) (2.25.1)\n",
            "Requirement already satisfied: catalogue<2.1.0,>=2.0.6 in /usr/local/lib/python3.8/dist-packages (from spacy<3.6.0,>=3.5.0->en-core-web-lg==3.5.0) (2.0.8)\n",
            "Requirement already satisfied: pathy>=0.10.0 in /usr/local/lib/python3.8/dist-packages (from spacy<3.6.0,>=3.5.0->en-core-web-lg==3.5.0) (0.10.1)\n",
            "Requirement already satisfied: murmurhash<1.1.0,>=0.28.0 in /usr/local/lib/python3.8/dist-packages (from spacy<3.6.0,>=3.5.0->en-core-web-lg==3.5.0) (1.0.9)\n",
            "Requirement already satisfied: numpy>=1.15.0 in /usr/local/lib/python3.8/dist-packages (from spacy<3.6.0,>=3.5.0->en-core-web-lg==3.5.0) (1.21.6)\n",
            "Requirement already satisfied: packaging>=20.0 in /usr/local/lib/python3.8/dist-packages (from spacy<3.6.0,>=3.5.0->en-core-web-lg==3.5.0) (23.0)\n",
            "Requirement already satisfied: typer<0.8.0,>=0.3.0 in /usr/local/lib/python3.8/dist-packages (from spacy<3.6.0,>=3.5.0->en-core-web-lg==3.5.0) (0.7.0)\n",
            "Requirement already satisfied: jinja2 in /usr/local/lib/python3.8/dist-packages (from spacy<3.6.0,>=3.5.0->en-core-web-lg==3.5.0) (2.11.3)\n",
            "Requirement already satisfied: langcodes<4.0.0,>=3.2.0 in /usr/local/lib/python3.8/dist-packages (from spacy<3.6.0,>=3.5.0->en-core-web-lg==3.5.0) (3.3.0)\n",
            "Requirement already satisfied: spacy-legacy<3.1.0,>=3.0.11 in /usr/local/lib/python3.8/dist-packages (from spacy<3.6.0,>=3.5.0->en-core-web-lg==3.5.0) (3.0.12)\n",
            "Requirement already satisfied: cymem<2.1.0,>=2.0.2 in /usr/local/lib/python3.8/dist-packages (from spacy<3.6.0,>=3.5.0->en-core-web-lg==3.5.0) (2.0.7)\n",
            "Requirement already satisfied: thinc<8.2.0,>=8.1.0 in /usr/local/lib/python3.8/dist-packages (from spacy<3.6.0,>=3.5.0->en-core-web-lg==3.5.0) (8.1.7)\n",
            "Requirement already satisfied: preshed<3.1.0,>=3.0.2 in /usr/local/lib/python3.8/dist-packages (from spacy<3.6.0,>=3.5.0->en-core-web-lg==3.5.0) (3.0.8)\n",
            "Requirement already satisfied: wasabi<1.2.0,>=0.9.1 in /usr/local/lib/python3.8/dist-packages (from spacy<3.6.0,>=3.5.0->en-core-web-lg==3.5.0) (0.10.1)\n",
            "Requirement already satisfied: pydantic!=1.8,!=1.8.1,<1.11.0,>=1.7.4 in /usr/local/lib/python3.8/dist-packages (from spacy<3.6.0,>=3.5.0->en-core-web-lg==3.5.0) (1.10.4)\n",
            "Requirement already satisfied: setuptools in /usr/local/lib/python3.8/dist-packages (from spacy<3.6.0,>=3.5.0->en-core-web-lg==3.5.0) (57.4.0)\n",
            "Requirement already satisfied: smart-open<7.0.0,>=5.2.1 in /usr/local/lib/python3.8/dist-packages (from spacy<3.6.0,>=3.5.0->en-core-web-lg==3.5.0) (6.3.0)\n",
            "Requirement already satisfied: spacy-loggers<2.0.0,>=1.0.0 in /usr/local/lib/python3.8/dist-packages (from spacy<3.6.0,>=3.5.0->en-core-web-lg==3.5.0) (1.0.4)\n",
            "Requirement already satisfied: typing-extensions>=4.2.0 in /usr/local/lib/python3.8/dist-packages (from pydantic!=1.8,!=1.8.1,<1.11.0,>=1.7.4->spacy<3.6.0,>=3.5.0->en-core-web-lg==3.5.0) (4.5.0)\n",
            "Requirement already satisfied: urllib3<1.27,>=1.21.1 in /usr/local/lib/python3.8/dist-packages (from requests<3.0.0,>=2.13.0->spacy<3.6.0,>=3.5.0->en-core-web-lg==3.5.0) (1.24.3)\n",
            "Requirement already satisfied: idna<3,>=2.5 in /usr/local/lib/python3.8/dist-packages (from requests<3.0.0,>=2.13.0->spacy<3.6.0,>=3.5.0->en-core-web-lg==3.5.0) (2.10)\n",
            "Requirement already satisfied: certifi>=2017.4.17 in /usr/local/lib/python3.8/dist-packages (from requests<3.0.0,>=2.13.0->spacy<3.6.0,>=3.5.0->en-core-web-lg==3.5.0) (2022.12.7)\n",
            "Requirement already satisfied: chardet<5,>=3.0.2 in /usr/local/lib/python3.8/dist-packages (from requests<3.0.0,>=2.13.0->spacy<3.6.0,>=3.5.0->en-core-web-lg==3.5.0) (4.0.0)\n",
            "Requirement already satisfied: blis<0.8.0,>=0.7.8 in /usr/local/lib/python3.8/dist-packages (from thinc<8.2.0,>=8.1.0->spacy<3.6.0,>=3.5.0->en-core-web-lg==3.5.0) (0.7.9)\n",
            "Requirement already satisfied: confection<1.0.0,>=0.0.1 in /usr/local/lib/python3.8/dist-packages (from thinc<8.2.0,>=8.1.0->spacy<3.6.0,>=3.5.0->en-core-web-lg==3.5.0) (0.0.4)\n",
            "Requirement already satisfied: click<9.0.0,>=7.1.1 in /usr/local/lib/python3.8/dist-packages (from typer<0.8.0,>=0.3.0->spacy<3.6.0,>=3.5.0->en-core-web-lg==3.5.0) (7.1.2)\n",
            "Requirement already satisfied: MarkupSafe>=0.23 in /usr/local/lib/python3.8/dist-packages (from jinja2->spacy<3.6.0,>=3.5.0->en-core-web-lg==3.5.0) (2.0.1)\n",
            "Installing collected packages: en-core-web-lg\n",
            "Successfully installed en-core-web-lg-3.5.0\n",
            "\u001b[38;5;2m✔ Download and installation successful\u001b[0m\n",
            "You can now load the package via spacy.load('en_core_web_lg')\n"
          ]
        }
      ]
    },
    {
      "cell_type": "markdown",
      "metadata": {
        "id": "S34mj-a5wwfa"
      },
      "source": [
        "## 0.2 Restart runtime!"
      ]
    },
    {
      "cell_type": "markdown",
      "metadata": {
        "id": "j7nBZY8Z0I4W"
      },
      "source": [
        "## 0.3 Install packages and do imports"
      ]
    },
    {
      "cell_type": "code",
      "metadata": {
        "colab": {
          "base_uri": "https://localhost:8080/"
        },
        "id": "gQuk1Tmf28gG",
        "outputId": "a61f2c3b-704e-4e10-fb6c-0c5c6ed8dfb4"
      },
      "source": [
        "!pip install squarify"
      ],
      "execution_count": 10,
      "outputs": [
        {
          "output_type": "stream",
          "name": "stdout",
          "text": [
            "Looking in indexes: https://pypi.org/simple, https://us-python.pkg.dev/colab-wheels/public/simple/\n",
            "Collecting squarify\n",
            "  Downloading squarify-0.4.3-py3-none-any.whl (4.3 kB)\n",
            "Installing collected packages: squarify\n",
            "Successfully installed squarify-0.4.3\n"
          ]
        }
      ]
    },
    {
      "cell_type": "code",
      "source": [
        "import spacy\n",
        "nlp = spacy.load(\"en_core_web_lg\")"
      ],
      "metadata": {
        "id": "UIjITkpaygkq"
      },
      "execution_count": 117,
      "outputs": []
    },
    {
      "cell_type": "code",
      "metadata": {
        "id": "IIyTZrE3-fNd"
      },
      "source": [
        "import pandas as pd\n",
        "import matplotlib.pyplot as plt\n",
        "%matplotlib inline\n",
        "import seaborn as sns\n",
        "import squarify"
      ],
      "execution_count": 114,
      "outputs": []
    },
    {
      "cell_type": "markdown",
      "metadata": {
        "id": "H9x5mry3szyk"
      },
      "source": [
        "-----"
      ]
    },
    {
      "cell_type": "markdown",
      "metadata": {
        "id": "xFOEkbR40TZf"
      },
      "source": [
        "## 0.4 Get data"
      ]
    },
    {
      "cell_type": "code",
      "metadata": {
        "id": "NXNgjaqaszyk",
        "colab": {
          "base_uri": "https://localhost:8080/",
          "height": 206
        },
        "outputId": "3e611e8f-ff70-4298-cc2c-aab6971f65f0"
      },
      "source": [
        "url = \"https://raw.githubusercontent.com/LambdaSchool/DS-Unit-4-Sprint-1-NLP/main/module1-text-data/data/yelp_coffeeshop_review_data.csv\"\n",
        "\n",
        "df = pd.read_csv(url)\n",
        "df.head()"
      ],
      "execution_count": 12,
      "outputs": [
        {
          "output_type": "execute_result",
          "data": {
            "text/plain": [
              "                  coffee_shop_name  \\\n",
              "0  The Factory - Cafe With a Soul    \n",
              "1  The Factory - Cafe With a Soul    \n",
              "2  The Factory - Cafe With a Soul    \n",
              "3  The Factory - Cafe With a Soul    \n",
              "4  The Factory - Cafe With a Soul    \n",
              "\n",
              "                                    full_review_text        star_rating  \n",
              "0   11/25/2016 1 check-in Love love loved the atm...   5.0 star rating   \n",
              "1   12/2/2016 Listed in Date Night: Austin, Ambia...   4.0 star rating   \n",
              "2   11/30/2016 1 check-in Listed in Brunch Spots ...   4.0 star rating   \n",
              "3   11/25/2016 Very cool decor! Good drinks Nice ...   2.0 star rating   \n",
              "4   12/3/2016 1 check-in They are located within ...   4.0 star rating   "
            ],
            "text/html": [
              "\n",
              "  <div id=\"df-dd80bc12-e072-48f5-95f9-4933f3ee0350\">\n",
              "    <div class=\"colab-df-container\">\n",
              "      <div>\n",
              "<style scoped>\n",
              "    .dataframe tbody tr th:only-of-type {\n",
              "        vertical-align: middle;\n",
              "    }\n",
              "\n",
              "    .dataframe tbody tr th {\n",
              "        vertical-align: top;\n",
              "    }\n",
              "\n",
              "    .dataframe thead th {\n",
              "        text-align: right;\n",
              "    }\n",
              "</style>\n",
              "<table border=\"1\" class=\"dataframe\">\n",
              "  <thead>\n",
              "    <tr style=\"text-align: right;\">\n",
              "      <th></th>\n",
              "      <th>coffee_shop_name</th>\n",
              "      <th>full_review_text</th>\n",
              "      <th>star_rating</th>\n",
              "    </tr>\n",
              "  </thead>\n",
              "  <tbody>\n",
              "    <tr>\n",
              "      <th>0</th>\n",
              "      <td>The Factory - Cafe With a Soul</td>\n",
              "      <td>11/25/2016 1 check-in Love love loved the atm...</td>\n",
              "      <td>5.0 star rating</td>\n",
              "    </tr>\n",
              "    <tr>\n",
              "      <th>1</th>\n",
              "      <td>The Factory - Cafe With a Soul</td>\n",
              "      <td>12/2/2016 Listed in Date Night: Austin, Ambia...</td>\n",
              "      <td>4.0 star rating</td>\n",
              "    </tr>\n",
              "    <tr>\n",
              "      <th>2</th>\n",
              "      <td>The Factory - Cafe With a Soul</td>\n",
              "      <td>11/30/2016 1 check-in Listed in Brunch Spots ...</td>\n",
              "      <td>4.0 star rating</td>\n",
              "    </tr>\n",
              "    <tr>\n",
              "      <th>3</th>\n",
              "      <td>The Factory - Cafe With a Soul</td>\n",
              "      <td>11/25/2016 Very cool decor! Good drinks Nice ...</td>\n",
              "      <td>2.0 star rating</td>\n",
              "    </tr>\n",
              "    <tr>\n",
              "      <th>4</th>\n",
              "      <td>The Factory - Cafe With a Soul</td>\n",
              "      <td>12/3/2016 1 check-in They are located within ...</td>\n",
              "      <td>4.0 star rating</td>\n",
              "    </tr>\n",
              "  </tbody>\n",
              "</table>\n",
              "</div>\n",
              "      <button class=\"colab-df-convert\" onclick=\"convertToInteractive('df-dd80bc12-e072-48f5-95f9-4933f3ee0350')\"\n",
              "              title=\"Convert this dataframe to an interactive table.\"\n",
              "              style=\"display:none;\">\n",
              "        \n",
              "  <svg xmlns=\"http://www.w3.org/2000/svg\" height=\"24px\"viewBox=\"0 0 24 24\"\n",
              "       width=\"24px\">\n",
              "    <path d=\"M0 0h24v24H0V0z\" fill=\"none\"/>\n",
              "    <path d=\"M18.56 5.44l.94 2.06.94-2.06 2.06-.94-2.06-.94-.94-2.06-.94 2.06-2.06.94zm-11 1L8.5 8.5l.94-2.06 2.06-.94-2.06-.94L8.5 2.5l-.94 2.06-2.06.94zm10 10l.94 2.06.94-2.06 2.06-.94-2.06-.94-.94-2.06-.94 2.06-2.06.94z\"/><path d=\"M17.41 7.96l-1.37-1.37c-.4-.4-.92-.59-1.43-.59-.52 0-1.04.2-1.43.59L10.3 9.45l-7.72 7.72c-.78.78-.78 2.05 0 2.83L4 21.41c.39.39.9.59 1.41.59.51 0 1.02-.2 1.41-.59l7.78-7.78 2.81-2.81c.8-.78.8-2.07 0-2.86zM5.41 20L4 18.59l7.72-7.72 1.47 1.35L5.41 20z\"/>\n",
              "  </svg>\n",
              "      </button>\n",
              "      \n",
              "  <style>\n",
              "    .colab-df-container {\n",
              "      display:flex;\n",
              "      flex-wrap:wrap;\n",
              "      gap: 12px;\n",
              "    }\n",
              "\n",
              "    .colab-df-convert {\n",
              "      background-color: #E8F0FE;\n",
              "      border: none;\n",
              "      border-radius: 50%;\n",
              "      cursor: pointer;\n",
              "      display: none;\n",
              "      fill: #1967D2;\n",
              "      height: 32px;\n",
              "      padding: 0 0 0 0;\n",
              "      width: 32px;\n",
              "    }\n",
              "\n",
              "    .colab-df-convert:hover {\n",
              "      background-color: #E2EBFA;\n",
              "      box-shadow: 0px 1px 2px rgba(60, 64, 67, 0.3), 0px 1px 3px 1px rgba(60, 64, 67, 0.15);\n",
              "      fill: #174EA6;\n",
              "    }\n",
              "\n",
              "    [theme=dark] .colab-df-convert {\n",
              "      background-color: #3B4455;\n",
              "      fill: #D2E3FC;\n",
              "    }\n",
              "\n",
              "    [theme=dark] .colab-df-convert:hover {\n",
              "      background-color: #434B5C;\n",
              "      box-shadow: 0px 1px 3px 1px rgba(0, 0, 0, 0.15);\n",
              "      filter: drop-shadow(0px 1px 2px rgba(0, 0, 0, 0.3));\n",
              "      fill: #FFFFFF;\n",
              "    }\n",
              "  </style>\n",
              "\n",
              "      <script>\n",
              "        const buttonEl =\n",
              "          document.querySelector('#df-dd80bc12-e072-48f5-95f9-4933f3ee0350 button.colab-df-convert');\n",
              "        buttonEl.style.display =\n",
              "          google.colab.kernel.accessAllowed ? 'block' : 'none';\n",
              "\n",
              "        async function convertToInteractive(key) {\n",
              "          const element = document.querySelector('#df-dd80bc12-e072-48f5-95f9-4933f3ee0350');\n",
              "          const dataTable =\n",
              "            await google.colab.kernel.invokeFunction('convertToInteractive',\n",
              "                                                     [key], {});\n",
              "          if (!dataTable) return;\n",
              "\n",
              "          const docLinkHtml = 'Like what you see? Visit the ' +\n",
              "            '<a target=\"_blank\" href=https://colab.research.google.com/notebooks/data_table.ipynb>data table notebook</a>'\n",
              "            + ' to learn more about interactive tables.';\n",
              "          element.innerHTML = '';\n",
              "          dataTable['output_type'] = 'display_data';\n",
              "          await google.colab.output.renderOutput(dataTable, element);\n",
              "          const docLink = document.createElement('div');\n",
              "          docLink.innerHTML = docLinkHtml;\n",
              "          element.appendChild(docLink);\n",
              "        }\n",
              "      </script>\n",
              "    </div>\n",
              "  </div>\n",
              "  "
            ]
          },
          "metadata": {},
          "execution_count": 12
        }
      ]
    },
    {
      "cell_type": "code",
      "metadata": {
        "id": "6fDPYtqqszyl",
        "colab": {
          "base_uri": "https://localhost:8080/",
          "height": 90
        },
        "outputId": "4bdfa450-45c4-4bd6-f736-692349dc49f2"
      },
      "source": [
        "df['full_review_text'][0]"
      ],
      "execution_count": 17,
      "outputs": [
        {
          "output_type": "execute_result",
          "data": {
            "text/plain": [
              "' 11/25/2016 1 check-in Love love loved the atmosphere! Every corner of the coffee shop had its own style, and there were swings!!! I ordered the matcha latte, and it was muy fantastico! Ordering and getting my drink were pretty streamlined. I ordered on an iPad, which included all beverage selections that ranged from coffee to wine, desired level of sweetness, and a checkout system. I got my latte within minutes!  I was hoping for a typical heart or feather on my latte, but found myself listing out all the possibilities of what the art may be. Any ideas? '"
            ],
            "application/vnd.google.colaboratory.intrinsic+json": {
              "type": "string"
            }
          },
          "metadata": {},
          "execution_count": 17
        }
      ]
    },
    {
      "cell_type": "markdown",
      "metadata": {
        "id": "qDezrvTjxA1G"
      },
      "source": [
        "# 1 Practice: Clean, tokenize, remove stop words, lemmatize"
      ]
    },
    {
      "cell_type": "markdown",
      "metadata": {
        "id": "KXrDeo0Gt257"
      },
      "source": [
        "## 1.0 Save Dates for later use (optional)\n",
        "Each Review starts with a date, we could grab this date and add it as a new column on our dataframe if we want. This could be a valuable feature later on. This isn't absolutely necessary, but might be a good idea. Otherwise we might just be throwing away this useful information when we clean the text.\n",
        "\n"
      ]
    },
    {
      "cell_type": "code",
      "metadata": {
        "id": "VelUfzqOuF2r"
      },
      "source": [
        "# grab date from the beginning of the review text\n",
        "def get_date(text):\n",
        "  return text.split()[0]\n",
        "\n",
        "df['date'] = df['full_review_text'].apply(get_date)"
      ],
      "execution_count": 33,
      "outputs": []
    },
    {
      "cell_type": "code",
      "source": [
        "df['date'] = pd.to_datetime(df['date'])\n",
        "pd.to_datetime()"
      ],
      "metadata": {
        "id": "1zR-StBs2DMp"
      },
      "execution_count": 40,
      "outputs": []
    },
    {
      "cell_type": "code",
      "metadata": {
        "colab": {
          "base_uri": "https://localhost:8080/",
          "height": 35
        },
        "id": "sHFo6eDyvJsb",
        "outputId": "6cecb142-e1ee-46c1-f96a-e4997298e331"
      },
      "source": [
        "# Another approach (we could also use regular expressions to grab the dates)\n",
        "import re\n",
        "\n",
        "def find_first_date(text):\n",
        "  #return re.findall('\\d+\\/\\d+\\/\\d+', text)[0]\n",
        "  return re.findall(r'\\d+/\\d+/\\d+', text)[0]\n",
        "\n",
        "example_text = \" 11/25/2016 1 check-in Love love loved the atmosphere! Every corner of the coffee shop had its own style, and there were swings!!! I ordered the matcha latte, and it was muy fantastico! Ordering and getting my drink were pretty streamlined. I ordered on an iPad, which included all beverage selections that ranged from coffee to wine, desired level of sweetness, and a checkout system. I got my latte within minutes!  I was hoping for a typical heart or feather on my latte, but found myself listing out all the possibilities of what the art may be. Any ideas? \"\n",
        "\n",
        "find_first_date(example_text)"
      ],
      "execution_count": 42,
      "outputs": [
        {
          "output_type": "execute_result",
          "data": {
            "text/plain": [
              "'11/25/2016'"
            ],
            "application/vnd.google.colaboratory.intrinsic+json": {
              "type": "string"
            }
          },
          "metadata": {},
          "execution_count": 42
        }
      ]
    },
    {
      "cell_type": "code",
      "metadata": {
        "colab": {
          "base_uri": "https://localhost:8080/"
        },
        "id": "ebJFVk1aynMq",
        "outputId": "e3d52a74-ee2f-4e67-f42f-a8b430f36961"
      },
      "source": [
        "print(df['date'].iloc[0])\n",
        "print(type(df['date'].iloc[0]))"
      ],
      "execution_count": 43,
      "outputs": [
        {
          "output_type": "stream",
          "name": "stdout",
          "text": [
            "2016-11-25 00:00:00\n",
            "<class 'pandas._libs.tslibs.timestamps.Timestamp'>\n"
          ]
        }
      ]
    },
    {
      "cell_type": "code",
      "metadata": {
        "id": "yeTdqBchuSad"
      },
      "source": [
        "# # turn date column strings into datetime objects\n",
        "# df['date'] = pd.to_datetime(df['date'], infer_datetime_format=True)"
      ],
      "execution_count": null,
      "outputs": []
    },
    {
      "cell_type": "code",
      "metadata": {
        "colab": {
          "base_uri": "https://localhost:8080/"
        },
        "id": "JeRhPmpsy1_i",
        "outputId": "286a117b-28f3-404d-dd43-6b562706f5fb"
      },
      "source": [
        "print(type(df['date'][0]))\n",
        "print(df['date'].iloc[0])"
      ],
      "execution_count": 56,
      "outputs": [
        {
          "output_type": "stream",
          "name": "stdout",
          "text": [
            "<class 'pandas._libs.tslibs.timestamps.Timestamp'>\n",
            "2016-11-25 00:00:00\n"
          ]
        }
      ]
    },
    {
      "cell_type": "code",
      "metadata": {
        "colab": {
          "base_uri": "https://localhost:8080/"
        },
        "id": "Z09gKsu9zIWG",
        "outputId": "32da6a18-22f8-4b62-9e84-a505ecddf419"
      },
      "source": [
        "dir(df['date'].iloc[0])"
      ],
      "execution_count": 57,
      "outputs": [
        {
          "output_type": "execute_result",
          "data": {
            "text/plain": [
              "['__add__',\n",
              " '__array_priority__',\n",
              " '__class__',\n",
              " '__delattr__',\n",
              " '__dict__',\n",
              " '__dir__',\n",
              " '__doc__',\n",
              " '__eq__',\n",
              " '__format__',\n",
              " '__ge__',\n",
              " '__getattribute__',\n",
              " '__gt__',\n",
              " '__hash__',\n",
              " '__init__',\n",
              " '__init_subclass__',\n",
              " '__le__',\n",
              " '__lt__',\n",
              " '__module__',\n",
              " '__ne__',\n",
              " '__new__',\n",
              " '__pyx_vtable__',\n",
              " '__radd__',\n",
              " '__reduce__',\n",
              " '__reduce_cython__',\n",
              " '__reduce_ex__',\n",
              " '__repr__',\n",
              " '__rsub__',\n",
              " '__setattr__',\n",
              " '__setstate__',\n",
              " '__setstate_cython__',\n",
              " '__sizeof__',\n",
              " '__str__',\n",
              " '__sub__',\n",
              " '__subclasshook__',\n",
              " '__weakref__',\n",
              " '_date_repr',\n",
              " '_freq',\n",
              " '_freqstr',\n",
              " '_repr_base',\n",
              " '_round',\n",
              " '_set_freq',\n",
              " '_short_repr',\n",
              " '_time_repr',\n",
              " 'asm8',\n",
              " 'astimezone',\n",
              " 'ceil',\n",
              " 'combine',\n",
              " 'ctime',\n",
              " 'date',\n",
              " 'day',\n",
              " 'day_name',\n",
              " 'day_of_week',\n",
              " 'day_of_year',\n",
              " 'dayofweek',\n",
              " 'dayofyear',\n",
              " 'days_in_month',\n",
              " 'daysinmonth',\n",
              " 'dst',\n",
              " 'floor',\n",
              " 'fold',\n",
              " 'freq',\n",
              " 'freqstr',\n",
              " 'fromisocalendar',\n",
              " 'fromisoformat',\n",
              " 'fromordinal',\n",
              " 'fromtimestamp',\n",
              " 'hour',\n",
              " 'is_leap_year',\n",
              " 'is_month_end',\n",
              " 'is_month_start',\n",
              " 'is_quarter_end',\n",
              " 'is_quarter_start',\n",
              " 'is_year_end',\n",
              " 'is_year_start',\n",
              " 'isocalendar',\n",
              " 'isoformat',\n",
              " 'isoweekday',\n",
              " 'max',\n",
              " 'microsecond',\n",
              " 'min',\n",
              " 'minute',\n",
              " 'month',\n",
              " 'month_name',\n",
              " 'nanosecond',\n",
              " 'normalize',\n",
              " 'now',\n",
              " 'quarter',\n",
              " 'replace',\n",
              " 'resolution',\n",
              " 'round',\n",
              " 'second',\n",
              " 'strftime',\n",
              " 'strptime',\n",
              " 'time',\n",
              " 'timestamp',\n",
              " 'timetuple',\n",
              " 'timetz',\n",
              " 'to_datetime64',\n",
              " 'to_julian_date',\n",
              " 'to_numpy',\n",
              " 'to_period',\n",
              " 'to_pydatetime',\n",
              " 'today',\n",
              " 'toordinal',\n",
              " 'tz',\n",
              " 'tz_convert',\n",
              " 'tz_localize',\n",
              " 'tzinfo',\n",
              " 'tzname',\n",
              " 'utcfromtimestamp',\n",
              " 'utcnow',\n",
              " 'utcoffset',\n",
              " 'utctimetuple',\n",
              " 'value',\n",
              " 'week',\n",
              " 'weekday',\n",
              " 'weekofyear',\n",
              " 'year']"
            ]
          },
          "metadata": {},
          "execution_count": 57
        }
      ]
    },
    {
      "cell_type": "code",
      "metadata": {
        "colab": {
          "base_uri": "https://localhost:8080/",
          "height": 35
        },
        "id": "cKV6JkwUzVnJ",
        "outputId": "ce57f3e2-0416-47e2-b8bf-5f298c7289e7"
      },
      "source": [
        "df['date'].iloc[0].day_name()"
      ],
      "execution_count": 58,
      "outputs": [
        {
          "output_type": "execute_result",
          "data": {
            "text/plain": [
              "'Friday'"
            ],
            "application/vnd.google.colaboratory.intrinsic+json": {
              "type": "string"
            }
          },
          "metadata": {},
          "execution_count": 58
        }
      ]
    },
    {
      "cell_type": "code",
      "metadata": {
        "colab": {
          "base_uri": "https://localhost:8080/",
          "height": 206
        },
        "id": "cuxXAcl8uIsn",
        "outputId": "6939e1ea-5906-4d82-f33b-f77f0b55ae39"
      },
      "source": [
        "df.head()"
      ],
      "execution_count": 59,
      "outputs": [
        {
          "output_type": "execute_result",
          "data": {
            "text/plain": [
              "                  coffee_shop_name  \\\n",
              "0  The Factory - Cafe With a Soul    \n",
              "1  The Factory - Cafe With a Soul    \n",
              "2  The Factory - Cafe With a Soul    \n",
              "3  The Factory - Cafe With a Soul    \n",
              "4  The Factory - Cafe With a Soul    \n",
              "\n",
              "                                    full_review_text        star_rating  \\\n",
              "0   11/25/2016 1 check-in Love love loved the atm...   5.0 star rating    \n",
              "1   12/2/2016 Listed in Date Night: Austin, Ambia...   4.0 star rating    \n",
              "2   11/30/2016 1 check-in Listed in Brunch Spots ...   4.0 star rating    \n",
              "3   11/25/2016 Very cool decor! Good drinks Nice ...   2.0 star rating    \n",
              "4   12/3/2016 1 check-in They are located within ...   4.0 star rating    \n",
              "\n",
              "        date  \n",
              "0 2016-11-25  \n",
              "1 2016-12-02  \n",
              "2 2016-11-30  \n",
              "3 2016-11-25  \n",
              "4 2016-12-03  "
            ],
            "text/html": [
              "\n",
              "  <div id=\"df-e6baa5a9-dff3-49ac-9db5-40a4f9c127fa\">\n",
              "    <div class=\"colab-df-container\">\n",
              "      <div>\n",
              "<style scoped>\n",
              "    .dataframe tbody tr th:only-of-type {\n",
              "        vertical-align: middle;\n",
              "    }\n",
              "\n",
              "    .dataframe tbody tr th {\n",
              "        vertical-align: top;\n",
              "    }\n",
              "\n",
              "    .dataframe thead th {\n",
              "        text-align: right;\n",
              "    }\n",
              "</style>\n",
              "<table border=\"1\" class=\"dataframe\">\n",
              "  <thead>\n",
              "    <tr style=\"text-align: right;\">\n",
              "      <th></th>\n",
              "      <th>coffee_shop_name</th>\n",
              "      <th>full_review_text</th>\n",
              "      <th>star_rating</th>\n",
              "      <th>date</th>\n",
              "    </tr>\n",
              "  </thead>\n",
              "  <tbody>\n",
              "    <tr>\n",
              "      <th>0</th>\n",
              "      <td>The Factory - Cafe With a Soul</td>\n",
              "      <td>11/25/2016 1 check-in Love love loved the atm...</td>\n",
              "      <td>5.0 star rating</td>\n",
              "      <td>2016-11-25</td>\n",
              "    </tr>\n",
              "    <tr>\n",
              "      <th>1</th>\n",
              "      <td>The Factory - Cafe With a Soul</td>\n",
              "      <td>12/2/2016 Listed in Date Night: Austin, Ambia...</td>\n",
              "      <td>4.0 star rating</td>\n",
              "      <td>2016-12-02</td>\n",
              "    </tr>\n",
              "    <tr>\n",
              "      <th>2</th>\n",
              "      <td>The Factory - Cafe With a Soul</td>\n",
              "      <td>11/30/2016 1 check-in Listed in Brunch Spots ...</td>\n",
              "      <td>4.0 star rating</td>\n",
              "      <td>2016-11-30</td>\n",
              "    </tr>\n",
              "    <tr>\n",
              "      <th>3</th>\n",
              "      <td>The Factory - Cafe With a Soul</td>\n",
              "      <td>11/25/2016 Very cool decor! Good drinks Nice ...</td>\n",
              "      <td>2.0 star rating</td>\n",
              "      <td>2016-11-25</td>\n",
              "    </tr>\n",
              "    <tr>\n",
              "      <th>4</th>\n",
              "      <td>The Factory - Cafe With a Soul</td>\n",
              "      <td>12/3/2016 1 check-in They are located within ...</td>\n",
              "      <td>4.0 star rating</td>\n",
              "      <td>2016-12-03</td>\n",
              "    </tr>\n",
              "  </tbody>\n",
              "</table>\n",
              "</div>\n",
              "      <button class=\"colab-df-convert\" onclick=\"convertToInteractive('df-e6baa5a9-dff3-49ac-9db5-40a4f9c127fa')\"\n",
              "              title=\"Convert this dataframe to an interactive table.\"\n",
              "              style=\"display:none;\">\n",
              "        \n",
              "  <svg xmlns=\"http://www.w3.org/2000/svg\" height=\"24px\"viewBox=\"0 0 24 24\"\n",
              "       width=\"24px\">\n",
              "    <path d=\"M0 0h24v24H0V0z\" fill=\"none\"/>\n",
              "    <path d=\"M18.56 5.44l.94 2.06.94-2.06 2.06-.94-2.06-.94-.94-2.06-.94 2.06-2.06.94zm-11 1L8.5 8.5l.94-2.06 2.06-.94-2.06-.94L8.5 2.5l-.94 2.06-2.06.94zm10 10l.94 2.06.94-2.06 2.06-.94-2.06-.94-.94-2.06-.94 2.06-2.06.94z\"/><path d=\"M17.41 7.96l-1.37-1.37c-.4-.4-.92-.59-1.43-.59-.52 0-1.04.2-1.43.59L10.3 9.45l-7.72 7.72c-.78.78-.78 2.05 0 2.83L4 21.41c.39.39.9.59 1.41.59.51 0 1.02-.2 1.41-.59l7.78-7.78 2.81-2.81c.8-.78.8-2.07 0-2.86zM5.41 20L4 18.59l7.72-7.72 1.47 1.35L5.41 20z\"/>\n",
              "  </svg>\n",
              "      </button>\n",
              "      \n",
              "  <style>\n",
              "    .colab-df-container {\n",
              "      display:flex;\n",
              "      flex-wrap:wrap;\n",
              "      gap: 12px;\n",
              "    }\n",
              "\n",
              "    .colab-df-convert {\n",
              "      background-color: #E8F0FE;\n",
              "      border: none;\n",
              "      border-radius: 50%;\n",
              "      cursor: pointer;\n",
              "      display: none;\n",
              "      fill: #1967D2;\n",
              "      height: 32px;\n",
              "      padding: 0 0 0 0;\n",
              "      width: 32px;\n",
              "    }\n",
              "\n",
              "    .colab-df-convert:hover {\n",
              "      background-color: #E2EBFA;\n",
              "      box-shadow: 0px 1px 2px rgba(60, 64, 67, 0.3), 0px 1px 3px 1px rgba(60, 64, 67, 0.15);\n",
              "      fill: #174EA6;\n",
              "    }\n",
              "\n",
              "    [theme=dark] .colab-df-convert {\n",
              "      background-color: #3B4455;\n",
              "      fill: #D2E3FC;\n",
              "    }\n",
              "\n",
              "    [theme=dark] .colab-df-convert:hover {\n",
              "      background-color: #434B5C;\n",
              "      box-shadow: 0px 1px 3px 1px rgba(0, 0, 0, 0.15);\n",
              "      filter: drop-shadow(0px 1px 2px rgba(0, 0, 0, 0.3));\n",
              "      fill: #FFFFFF;\n",
              "    }\n",
              "  </style>\n",
              "\n",
              "      <script>\n",
              "        const buttonEl =\n",
              "          document.querySelector('#df-e6baa5a9-dff3-49ac-9db5-40a4f9c127fa button.colab-df-convert');\n",
              "        buttonEl.style.display =\n",
              "          google.colab.kernel.accessAllowed ? 'block' : 'none';\n",
              "\n",
              "        async function convertToInteractive(key) {\n",
              "          const element = document.querySelector('#df-e6baa5a9-dff3-49ac-9db5-40a4f9c127fa');\n",
              "          const dataTable =\n",
              "            await google.colab.kernel.invokeFunction('convertToInteractive',\n",
              "                                                     [key], {});\n",
              "          if (!dataTable) return;\n",
              "\n",
              "          const docLinkHtml = 'Like what you see? Visit the ' +\n",
              "            '<a target=\"_blank\" href=https://colab.research.google.com/notebooks/data_table.ipynb>data table notebook</a>'\n",
              "            + ' to learn more about interactive tables.';\n",
              "          element.innerHTML = '';\n",
              "          dataTable['output_type'] = 'display_data';\n",
              "          await google.colab.output.renderOutput(dataTable, element);\n",
              "          const docLink = document.createElement('div');\n",
              "          docLink.innerHTML = docLinkHtml;\n",
              "          element.appendChild(docLink);\n",
              "        }\n",
              "      </script>\n",
              "    </div>\n",
              "  </div>\n",
              "  "
            ]
          },
          "metadata": {},
          "execution_count": 59
        }
      ]
    },
    {
      "cell_type": "code",
      "metadata": {
        "colab": {
          "base_uri": "https://localhost:8080/"
        },
        "id": "5OdgeYLv0PU5",
        "outputId": "181edd2f-c6ab-4b5f-b809-df9407382a72"
      },
      "source": [
        "df['star_rating'].unique()"
      ],
      "execution_count": null,
      "outputs": [
        {
          "output_type": "execute_result",
          "data": {
            "text/plain": [
              "array([' 5.0 star rating ', ' 4.0 star rating ', ' 2.0 star rating ',\n",
              "       ' 3.0 star rating ', ' 1.0 star rating '], dtype=object)"
            ]
          },
          "metadata": {},
          "execution_count": 27
        }
      ]
    },
    {
      "cell_type": "code",
      "metadata": {
        "colab": {
          "base_uri": "https://localhost:8080/"
        },
        "id": "L7Nt13a_0FU8",
        "outputId": "4ce29d63-c674-4c8d-b23a-5805c483a69b"
      },
      "source": [
        "df['star_rating'].value_counts()"
      ],
      "execution_count": 60,
      "outputs": [
        {
          "output_type": "execute_result",
          "data": {
            "text/plain": [
              " 5.0 star rating     3780\n",
              " 4.0 star rating     2360\n",
              " 3.0 star rating      738\n",
              " 2.0 star rating      460\n",
              " 1.0 star rating      278\n",
              "Name: star_rating, dtype: int64"
            ]
          },
          "metadata": {},
          "execution_count": 60
        }
      ]
    },
    {
      "cell_type": "code",
      "source": [
        "df['date'].dt.month.value_counts().sort_index().plot.bar()"
      ],
      "metadata": {
        "colab": {
          "base_uri": "https://localhost:8080/",
          "height": 286
        },
        "id": "3aaqHBih67zx",
        "outputId": "9e3ed544-0ddd-4b65-c2d6-30ccc20834df"
      },
      "execution_count": 77,
      "outputs": [
        {
          "output_type": "execute_result",
          "data": {
            "text/plain": [
              "<matplotlib.axes._subplots.AxesSubplot at 0x7f0f4b0b7400>"
            ]
          },
          "metadata": {},
          "execution_count": 77
        },
        {
          "output_type": "display_data",
          "data": {
            "text/plain": [
              "<Figure size 432x288 with 1 Axes>"
            ],
            "image/png": "[encoded data removed]"
          },
          "metadata": {
            "needs_background": "light"
          }
        }
      ]
    },
    {
      "cell_type": "code",
      "metadata": {
        "colab": {
          "base_uri": "https://localhost:8080/"
        },
        "id": "KvuvWTk4uLhJ",
        "outputId": "7852b56e-9cd1-44f3-bcd7-e7fe03eacfa1"
      },
      "source": [
        "# looks like most dates are in late 2016\n",
        "df['date'].value_counts()"
      ],
      "execution_count": 78,
      "outputs": [
        {
          "output_type": "execute_result",
          "data": {
            "text/plain": [
              "2016-10-09    31\n",
              "2016-09-18    30\n",
              "2016-11-20    27\n",
              "2016-11-02    27\n",
              "2016-12-02    26\n",
              "              ..\n",
              "2012-03-06     1\n",
              "2011-10-29     1\n",
              "2012-03-14     1\n",
              "2012-10-03     1\n",
              "2013-01-09     1\n",
              "Name: date, Length: 1592, dtype: int64"
            ]
          },
          "metadata": {},
          "execution_count": 78
        }
      ]
    },
    {
      "cell_type": "code",
      "metadata": {
        "colab": {
          "base_uri": "https://localhost:8080/",
          "height": 265
        },
        "id": "qEqwsjWFucJb",
        "outputId": "dfccb0dd-1e92-4787-bb14-bd405ba1bbd2"
      },
      "source": [
        "# histogram of review dates to see when most reviews were left\n",
        "# just a little EDA\n",
        "df['date'].hist(bins=20);"
      ],
      "execution_count": 80,
      "outputs": [
        {
          "output_type": "display_data",
          "data": {
            "text/plain": [
              "<Figure size 432x288 with 1 Axes>"
            ],
            "image/png": "[encoded data removed]"
          },
          "metadata": {
            "needs_background": "light"
          }
        }
      ]
    },
    {
      "cell_type": "markdown",
      "metadata": {
        "id": "1zbOpqPEusdt"
      },
      "source": [
        "## 1.1 Clean Review Text (with Regular Expressions `regex`)\n",
        "dataquest has a good [regex reference](https://www.dataquest.io/wp-content/uploads/2019/03/python-regular-expressions-cheat-sheet.pdf\n",
        ")\n",
        "\n",
        "It looks like the reviews have the following characteristics\n",
        "\n",
        "- Date at the beginning \n",
        "- Lots of punctuation \n",
        "- Use special characters like $ (as well as dollar amounts)\n",
        "- Upper and lower case words"
      ]
    },
    {
      "cell_type": "code",
      "source": [
        "df[\"full_review_text\"][100]"
      ],
      "metadata": {
        "colab": {
          "base_uri": "https://localhost:8080/",
          "height": 90
        },
        "id": "zqxo0weX8v2O",
        "outputId": "8adeb528-b3e0-4cda-ba2f-33aa6156ead1"
      },
      "execution_count": 94,
      "outputs": [
        {
          "output_type": "execute_result",
          "data": {
            "text/plain": [
              "\" 3/22/2016 1 check-in Okay... So listen, I wanted to like this place. Truly, I did. I have friends from Austin who just love this cute little shop, but for me it was a total miss. As soon as we walked in the smell of cats just overtook us. Now, I don't have a problem with cats, but when I'm going to have to sit on their ratted up couch or torn up chair, I don't want to have to also picture 20 cats around me.  The latter was good, $4 for a small cup. And free wifi is a plus as well. Will I be back? Probably not, but like I said earlier, some of my friends really love this place. \""
            ],
            "application/vnd.google.colaboratory.intrinsic+json": {
              "type": "string"
            }
          },
          "metadata": {},
          "execution_count": 94
        }
      ]
    },
    {
      "cell_type": "code",
      "metadata": {
        "id": "386V8zRuszyp"
      },
      "source": [
        "import re\n",
        "# considering using regex to remove dates\n",
        "# you can create and test regular expressions on this online regex editor: https://regex101.com/\n",
        "    \n",
        "def clean_data(text):\n",
        "    \"\"\"\n",
        "    Accepts a single text document and performs several regex substitutions in order to clean the document. \n",
        "    \n",
        "    Parameters\n",
        "    ----------\n",
        "    text: string or object \n",
        "    \n",
        "    Returns\n",
        "    -------\n",
        "    text: string or object\n",
        "    \"\"\"\n",
        "    \n",
        "    # order of operations - apply the expression from top to bottom\n",
        "    date_regex = r\"\\d+/\\d+/\\d+\"\n",
        "    punct_regex = r\"[^0-9a-zA-Z\\s]\" # any non-alphanumeric chars\n",
        "    special_chars_regex = r\"[\\$\\%\\&\\@+]\"\n",
        "    numerical_regex =  r\"\\d\"  # match one or more digits\n",
        "    \n",
        "    # Replace any strings matching the above regex patterns with blank strings\n",
        "    # (effectively removing them from the text)\n",
        "    text = re.sub(date_regex, \"\", text)\n",
        "    text = re.sub(punct_regex, \"\", text)\n",
        "    text = re.sub(special_chars_regex, \"\", text)\n",
        "    text = re.sub(numerical_regex, \"\", text)\n",
        "\n",
        "    # match one or more whitespace chars\n",
        "    whitespace_regex = r\"\\s+\"\n",
        "    # replace one or more whitespace characters with a single white space char\n",
        "    #    not a blank string!\n",
        "    text = re.sub(whitespace_regex, \" \", text)\n",
        "\n",
        "\n",
        "    # apply case normalization\n",
        "    text = text.lower()\n",
        "    return text"
      ],
      "execution_count": 98,
      "outputs": []
    },
    {
      "cell_type": "code",
      "metadata": {
        "id": "GpKDTXfRszyp",
        "colab": {
          "base_uri": "https://localhost:8080/",
          "height": 90
        },
        "outputId": "d6b7f261-ac37-4695-9539-60699a03d054"
      },
      "source": [
        "df['cleaned_review'] = df['full_review_text'].apply(clean_data)\n",
        "\n",
        "df['cleaned_review'][0]"
      ],
      "execution_count": 99,
      "outputs": [
        {
          "output_type": "execute_result",
          "data": {
            "text/plain": [
              "' checkin love love loved the atmosphere every corner of the coffee shop had its own style and there were swings i ordered the matcha latte and it was muy fantastico ordering and getting my drink were pretty streamlined i ordered on an ipad which included all beverage selections that ranged from coffee to wine desired level of sweetness and a checkout system i got my latte within minutes i was hoping for a typical heart or feather on my latte but found myself listing out all the possibilities of what the art may be any ideas '"
            ],
            "application/vnd.google.colaboratory.intrinsic+json": {
              "type": "string"
            }
          },
          "metadata": {},
          "execution_count": 99
        }
      ]
    },
    {
      "cell_type": "markdown",
      "metadata": {
        "id": "jYZSZec_szyr"
      },
      "source": [
        "## 1.2. Tokenize the cleaned up reviews"
      ]
    },
    {
      "cell_type": "code",
      "source": [
        "# with a for loop\n",
        "tokens = []\n",
        "for review in df['cleaned_review']:\n",
        "  tokens.append(review.split())\n",
        "\n",
        "df['tokens'] = tokens\n",
        "\n",
        "df.head()"
      ],
      "metadata": {
        "id": "u2pcCGnhQ_kC"
      },
      "execution_count": null,
      "outputs": []
    },
    {
      "cell_type": "code",
      "source": [
        "df.info()"
      ],
      "metadata": {
        "colab": {
          "base_uri": "https://localhost:8080/"
        },
        "id": "yrwtIIdURHWZ",
        "outputId": "05433ebc-15be-45b3-9d1b-1253b03bc26d"
      },
      "execution_count": 103,
      "outputs": [
        {
          "output_type": "stream",
          "name": "stdout",
          "text": [
            "<class 'pandas.core.frame.DataFrame'>\n",
            "RangeIndex: 7616 entries, 0 to 7615\n",
            "Data columns (total 6 columns):\n",
            " #   Column            Non-Null Count  Dtype         \n",
            "---  ------            --------------  -----         \n",
            " 0   coffee_shop_name  7616 non-null   object        \n",
            " 1   full_review_text  7616 non-null   object        \n",
            " 2   star_rating       7616 non-null   object        \n",
            " 3   date              7616 non-null   datetime64[ns]\n",
            " 4   cleaned_review    7616 non-null   object        \n",
            " 5   tokens            7616 non-null   object        \n",
            "dtypes: datetime64[ns](1), object(5)\n",
            "memory usage: 357.1+ KB\n"
          ]
        }
      ]
    },
    {
      "cell_type": "code",
      "metadata": {
        "colab": {
          "base_uri": "https://localhost:8080/",
          "height": 337
        },
        "id": "7BIHIfFyxycq",
        "outputId": "e3beed7b-4beb-4664-dc5a-97a6088249e8"
      },
      "source": [
        "# with a list comprehension\n",
        "df['tokens'] = [review.split() for review in df['cleaned_review']]\n",
        "df.head()"
      ],
      "execution_count": 104,
      "outputs": [
        {
          "output_type": "execute_result",
          "data": {
            "text/plain": [
              "                  coffee_shop_name  \\\n",
              "0  The Factory - Cafe With a Soul    \n",
              "1  The Factory - Cafe With a Soul    \n",
              "2  The Factory - Cafe With a Soul    \n",
              "3  The Factory - Cafe With a Soul    \n",
              "4  The Factory - Cafe With a Soul    \n",
              "\n",
              "                                    full_review_text        star_rating  \\\n",
              "0   11/25/2016 1 check-in Love love loved the atm...   5.0 star rating    \n",
              "1   12/2/2016 Listed in Date Night: Austin, Ambia...   4.0 star rating    \n",
              "2   11/30/2016 1 check-in Listed in Brunch Spots ...   4.0 star rating    \n",
              "3   11/25/2016 Very cool decor! Good drinks Nice ...   2.0 star rating    \n",
              "4   12/3/2016 1 check-in They are located within ...   4.0 star rating    \n",
              "\n",
              "        date                                     cleaned_review  \\\n",
              "0 2016-11-25   checkin love love loved the atmosphere every ...   \n",
              "1 2016-12-02   listed in date night austin ambiance in austi...   \n",
              "2 2016-11-30   checkin listed in brunch spots i loved the ec...   \n",
              "3 2016-11-25   very cool decor good drinks nice seating howe...   \n",
              "4 2016-12-03   checkin they are located within the northcros...   \n",
              "\n",
              "                                              tokens  \n",
              "0  [checkin, love, love, loved, the, atmosphere, ...  \n",
              "1  [listed, in, date, night, austin, ambiance, in...  \n",
              "2  [checkin, listed, in, brunch, spots, i, loved,...  \n",
              "3  [very, cool, decor, good, drinks, nice, seatin...  \n",
              "4  [checkin, they, are, located, within, the, nor...  "
            ],
            "text/html": [
              "\n",
              "  <div id=\"df-158693fd-c110-4b70-8fde-a4d3a78de762\">\n",
              "    <div class=\"colab-df-container\">\n",
              "      <div>\n",
              "<style scoped>\n",
              "    .dataframe tbody tr th:only-of-type {\n",
              "        vertical-align: middle;\n",
              "    }\n",
              "\n",
              "    .dataframe tbody tr th {\n",
              "        vertical-align: top;\n",
              "    }\n",
              "\n",
              "    .dataframe thead th {\n",
              "        text-align: right;\n",
              "    }\n",
              "</style>\n",
              "<table border=\"1\" class=\"dataframe\">\n",
              "  <thead>\n",
              "    <tr style=\"text-align: right;\">\n",
              "      <th></th>\n",
              "      <th>coffee_shop_name</th>\n",
              "      <th>full_review_text</th>\n",
              "      <th>star_rating</th>\n",
              "      <th>date</th>\n",
              "      <th>cleaned_review</th>\n",
              "      <th>tokens</th>\n",
              "    </tr>\n",
              "  </thead>\n",
              "  <tbody>\n",
              "    <tr>\n",
              "      <th>0</th>\n",
              "      <td>The Factory - Cafe With a Soul</td>\n",
              "      <td>11/25/2016 1 check-in Love love loved the atm...</td>\n",
              "      <td>5.0 star rating</td>\n",
              "      <td>2016-11-25</td>\n",
              "      <td>checkin love love loved the atmosphere every ...</td>\n",
              "      <td>[checkin, love, love, loved, the, atmosphere, ...</td>\n",
              "    </tr>\n",
              "    <tr>\n",
              "      <th>1</th>\n",
              "      <td>The Factory - Cafe With a Soul</td>\n",
              "      <td>12/2/2016 Listed in Date Night: Austin, Ambia...</td>\n",
              "      <td>4.0 star rating</td>\n",
              "      <td>2016-12-02</td>\n",
              "      <td>listed in date night austin ambiance in austi...</td>\n",
              "      <td>[listed, in, date, night, austin, ambiance, in...</td>\n",
              "    </tr>\n",
              "    <tr>\n",
              "      <th>2</th>\n",
              "      <td>The Factory - Cafe With a Soul</td>\n",
              "      <td>11/30/2016 1 check-in Listed in Brunch Spots ...</td>\n",
              "      <td>4.0 star rating</td>\n",
              "      <td>2016-11-30</td>\n",
              "      <td>checkin listed in brunch spots i loved the ec...</td>\n",
              "      <td>[checkin, listed, in, brunch, spots, i, loved,...</td>\n",
              "    </tr>\n",
              "    <tr>\n",
              "      <th>3</th>\n",
              "      <td>The Factory - Cafe With a Soul</td>\n",
              "      <td>11/25/2016 Very cool decor! Good drinks Nice ...</td>\n",
              "      <td>2.0 star rating</td>\n",
              "      <td>2016-11-25</td>\n",
              "      <td>very cool decor good drinks nice seating howe...</td>\n",
              "      <td>[very, cool, decor, good, drinks, nice, seatin...</td>\n",
              "    </tr>\n",
              "    <tr>\n",
              "      <th>4</th>\n",
              "      <td>The Factory - Cafe With a Soul</td>\n",
              "      <td>12/3/2016 1 check-in They are located within ...</td>\n",
              "      <td>4.0 star rating</td>\n",
              "      <td>2016-12-03</td>\n",
              "      <td>checkin they are located within the northcros...</td>\n",
              "      <td>[checkin, they, are, located, within, the, nor...</td>\n",
              "    </tr>\n",
              "  </tbody>\n",
              "</table>\n",
              "</div>\n",
              "      <button class=\"colab-df-convert\" onclick=\"convertToInteractive('df-158693fd-c110-4b70-8fde-a4d3a78de762')\"\n",
              "              title=\"Convert this dataframe to an interactive table.\"\n",
              "              style=\"display:none;\">\n",
              "        \n",
              "  <svg xmlns=\"http://www.w3.org/2000/svg\" height=\"24px\"viewBox=\"0 0 24 24\"\n",
              "       width=\"24px\">\n",
              "    <path d=\"M0 0h24v24H0V0z\" fill=\"none\"/>\n",
              "    <path d=\"M18.56 5.44l.94 2.06.94-2.06 2.06-.94-2.06-.94-.94-2.06-.94 2.06-2.06.94zm-11 1L8.5 8.5l.94-2.06 2.06-.94-2.06-.94L8.5 2.5l-.94 2.06-2.06.94zm10 10l.94 2.06.94-2.06 2.06-.94-2.06-.94-.94-2.06-.94 2.06-2.06.94z\"/><path d=\"M17.41 7.96l-1.37-1.37c-.4-.4-.92-.59-1.43-.59-.52 0-1.04.2-1.43.59L10.3 9.45l-7.72 7.72c-.78.78-.78 2.05 0 2.83L4 21.41c.39.39.9.59 1.41.59.51 0 1.02-.2 1.41-.59l7.78-7.78 2.81-2.81c.8-.78.8-2.07 0-2.86zM5.41 20L4 18.59l7.72-7.72 1.47 1.35L5.41 20z\"/>\n",
              "  </svg>\n",
              "      </button>\n",
              "      \n",
              "  <style>\n",
              "    .colab-df-container {\n",
              "      display:flex;\n",
              "      flex-wrap:wrap;\n",
              "      gap: 12px;\n",
              "    }\n",
              "\n",
              "    .colab-df-convert {\n",
              "      background-color: #E8F0FE;\n",
              "      border: none;\n",
              "      border-radius: 50%;\n",
              "      cursor: pointer;\n",
              "      display: none;\n",
              "      fill: #1967D2;\n",
              "      height: 32px;\n",
              "      padding: 0 0 0 0;\n",
              "      width: 32px;\n",
              "    }\n",
              "\n",
              "    .colab-df-convert:hover {\n",
              "      background-color: #E2EBFA;\n",
              "      box-shadow: 0px 1px 2px rgba(60, 64, 67, 0.3), 0px 1px 3px 1px rgba(60, 64, 67, 0.15);\n",
              "      fill: #174EA6;\n",
              "    }\n",
              "\n",
              "    [theme=dark] .colab-df-convert {\n",
              "      background-color: #3B4455;\n",
              "      fill: #D2E3FC;\n",
              "    }\n",
              "\n",
              "    [theme=dark] .colab-df-convert:hover {\n",
              "      background-color: #434B5C;\n",
              "      box-shadow: 0px 1px 3px 1px rgba(0, 0, 0, 0.15);\n",
              "      filter: drop-shadow(0px 1px 2px rgba(0, 0, 0, 0.3));\n",
              "      fill: #FFFFFF;\n",
              "    }\n",
              "  </style>\n",
              "\n",
              "      <script>\n",
              "        const buttonEl =\n",
              "          document.querySelector('#df-158693fd-c110-4b70-8fde-a4d3a78de762 button.colab-df-convert');\n",
              "        buttonEl.style.display =\n",
              "          google.colab.kernel.accessAllowed ? 'block' : 'none';\n",
              "\n",
              "        async function convertToInteractive(key) {\n",
              "          const element = document.querySelector('#df-158693fd-c110-4b70-8fde-a4d3a78de762');\n",
              "          const dataTable =\n",
              "            await google.colab.kernel.invokeFunction('convertToInteractive',\n",
              "                                                     [key], {});\n",
              "          if (!dataTable) return;\n",
              "\n",
              "          const docLinkHtml = 'Like what you see? Visit the ' +\n",
              "            '<a target=\"_blank\" href=https://colab.research.google.com/notebooks/data_table.ipynb>data table notebook</a>'\n",
              "            + ' to learn more about interactive tables.';\n",
              "          element.innerHTML = '';\n",
              "          dataTable['output_type'] = 'display_data';\n",
              "          await google.colab.output.renderOutput(dataTable, element);\n",
              "          const docLink = document.createElement('div');\n",
              "          docLink.innerHTML = docLinkHtml;\n",
              "          element.appendChild(docLink);\n",
              "        }\n",
              "      </script>\n",
              "    </div>\n",
              "  </div>\n",
              "  "
            ]
          },
          "metadata": {},
          "execution_count": 104
        }
      ]
    },
    {
      "cell_type": "markdown",
      "metadata": {
        "id": "ct0RJaQQ2FoX"
      },
      "source": [
        "### 1.3 Visualize the most common tokens\n",
        "Below is the `count()` function that we used in the lecture."
      ]
    },
    {
      "cell_type": "code",
      "metadata": {
        "id": "ypyH-_x1GErX"
      },
      "source": [
        "from collections import Counter\n",
        "\n",
        "def count(token_lists):\n",
        "    \"\"\"\n",
        "    Calculates some basic statistics about tokens in our corpus (i.e. corpus means collections text data)\n",
        "    \"\"\"\n",
        "    # stores the count of each token\n",
        "    word_counts = Counter()\n",
        "    \n",
        "    # stores the number of docs that each token appears in \n",
        "    appears_in_docs = Counter()\n",
        "\n",
        "    total_docs = len(token_lists)\n",
        "\n",
        "    for token_list in token_lists:\n",
        "        # stores count of every appearance of a token \n",
        "        word_counts.update(token_list)\n",
        "        \n",
        "        # use set() in order to not count duplicates, thereby count the num of docs that each token appears in\n",
        "        appears_in_docs.update(set(token_list))\n",
        "\n",
        "    # build word count dataframe\n",
        "    word_count_dict = zip(word_counts.keys(), word_counts.values())\n",
        "    wc = pd.DataFrame(word_count_dict, columns = ['word', 'count'])\n",
        "\n",
        "    # rank the the word counts\n",
        "    wc['rank'] = wc['count'].rank(method='first', ascending=False)\n",
        "    total = wc['count'].sum()\n",
        "\n",
        "    # calculate the percent total of each token\n",
        "    wc['fraction_of_total'] = wc['count'].apply(lambda token_count: token_count / total)\n",
        "\n",
        "    # calculate the cumulative percent total of word counts \n",
        "    wc = wc.sort_values(by='rank')\n",
        "    wc['cumulative_fraction_of_total'] = wc['fraction_of_total'].cumsum()\n",
        "\n",
        "    # create dataframe for document stats\n",
        "    t2 = zip(appears_in_docs.keys(), appears_in_docs.values())\n",
        "    ac = pd.DataFrame(t2, columns=['word', 'appears_in_docs'])\n",
        "    \n",
        "    # merge word count stats with doc stats\n",
        "    wc = ac.merge(wc, on='word')\n",
        "\n",
        "    wc['appears_in_fraction_of_docs'] = wc['appears_in_docs'].apply(lambda x: x / total_docs)\n",
        "\n",
        "    return wc.sort_values(by='rank')"
      ],
      "execution_count": 105,
      "outputs": []
    },
    {
      "cell_type": "markdown",
      "metadata": {
        "id": "cBoda7E4S5K_"
      },
      "source": [
        "#### Summary of the descriptive token statistics \n",
        "\n",
        "`word` The specific token that is being analyzed\n",
        "\n",
        "`appears_in_docs` Number of documents that the word/token appears in\n",
        "\n",
        "`count` The total number of appearances of that token within the corpus \n",
        "\n",
        "`rank` Ranking of tokens by count \n",
        "\n",
        "`fraction_of_total` Fraction of the total tokens that this token makes up\n",
        "\n",
        "`cumulative_fraction_of_total` Sum of fractional total of ranked tokens, down to and including this token. \n",
        "\n",
        "`appears_in_fraction_of_docs` Fraction of documents that token appears in "
      ]
    },
    {
      "cell_type": "code",
      "metadata": {
        "colab": {
          "base_uri": "https://localhost:8080/",
          "height": 248
        },
        "id": "JWIXe-TK2zhU",
        "outputId": "17944cf8-81d9-4a29-821b-29bd55c761bc"
      },
      "source": [
        "import squarify\n",
        "\n",
        "# visualize the 20 most common tokens with squarify\n",
        "# Lots of stopwords!\n",
        "\n",
        "#YOUR CODE HERE\n",
        "wc = count(df['tokens'])\n",
        "wc_top20 = wc[wc['rank'] <=20]\n",
        "\n",
        "\n",
        "squarify.plot(sizes=wc_top20['fraction_of_total'], label=wc_top20['word'], alpha=.8 ) #can also use ['count'] -> same graph (they're all relative)\n",
        "#\n",
        "plt.axis('off')\n",
        "plt.show()"
      ],
      "execution_count": 107,
      "outputs": [
        {
          "output_type": "display_data",
          "data": {
            "text/plain": [
              "<Figure size 432x288 with 1 Axes>"
            ],
            "image/png": "[encoded data removed]"
          },
          "metadata": {
            "needs_background": "light"
          }
        }
      ]
    },
    {
      "cell_type": "markdown",
      "metadata": {
        "id": "wbB72j8YyNYB"
      },
      "source": [
        "## 1.4 Clean, tokenize, remove stopwords, and lemmatize the reviews (with Spacy)\n",
        "\n",
        "We can do all of the above with Spacy, but Spacy has the added benefit of making it easy to lemmatize tokens and remove stop words as well! Let's write a tokenize function with Spacy. "
      ]
    },
    {
      "cell_type": "code",
      "metadata": {
        "id": "0j3WsTt4szyr"
      },
      "source": [
        "# IMPORTED ABOVE\n",
        "\n",
        "# import spacy\n",
        "# # import the large version of the pre-trained model\n",
        "# # depending on your computational resources/limitations, you might need to download and load in a smaller version of the model \n",
        "# # see the spaCy docs: https://spacy.io/models/en\n",
        "# nlp = spacy.load('')"
      ],
      "execution_count": null,
      "outputs": []
    },
    {
      "cell_type": "markdown",
      "metadata": {
        "id": "GiXS6ZOT02vN"
      },
      "source": [
        "## Remove stop word, punctuation and whitespace from each token"
      ]
    },
    {
      "cell_type": "code",
      "metadata": {
        "id": "YXgZXLPEszyr"
      },
      "source": [
        "# this will take longer to run than a regex method because Spacy is doing a fair amount\n",
        "# of extra stuff under the hood in creating the token attributes and everything.\n",
        "\n",
        "def spacy_tokenizer(text):\n",
        "    \"\"\"\n",
        "    Use the pre-trained model from Space to tokenize our text into lemmas \n",
        "    \n",
        "    Notes\n",
        "    -----\n",
        "    Rememeber that the pre-trained spaCy model has a lot of built in flags for what kind of token each token is\n",
        "    so we can use that functionality to create filters for stop words, white spaces, punctuation, and so on!\n",
        "    \n",
        "    See list of flags here: https://spacy.io/api/token#attributes\n",
        "    \n",
        "    Parameter\n",
        "    ---------\n",
        "    text: string\n",
        "        Full text article/document that needs to be tokenized \n",
        "    \"\"\"\n",
        "    tokens = []\n",
        "    for token in nlp(text):\n",
        "        # if statement will filter out stopwords, punctuation, and whitespace\n",
        "        # COMPLETE THE CODE HERE\n",
        "        if not (token.is_stop or token.is_punct or token.is_space):\n",
        "            # Now lemmatize!\n",
        "            tokens.append(token.lemma_)\n",
        "    \n",
        "    return tokens"
      ],
      "execution_count": 128,
      "outputs": []
    },
    {
      "cell_type": "code",
      "metadata": {
        "colab": {
          "base_uri": "https://localhost:8080/",
          "height": 90
        },
        "id": "7fMRJMoZ_5Aq",
        "outputId": "304dacc8-9bab-483a-a9d2-a548d2b8c836"
      },
      "source": [
        "df['full_review_text'][0]"
      ],
      "execution_count": 130,
      "outputs": [
        {
          "output_type": "execute_result",
          "data": {
            "text/plain": [
              "' 11/25/2016 1 check-in Love love loved the atmosphere! Every corner of the coffee shop had its own style, and there were swings!!! I ordered the matcha latte, and it was muy fantastico! Ordering and getting my drink were pretty streamlined. I ordered on an iPad, which included all beverage selections that ranged from coffee to wine, desired level of sweetness, and a checkout system. I got my latte within minutes!  I was hoping for a typical heart or feather on my latte, but found myself listing out all the possibilities of what the art may be. Any ideas? '"
            ],
            "application/vnd.google.colaboratory.intrinsic+json": {
              "type": "string"
            }
          },
          "metadata": {},
          "execution_count": 130
        }
      ]
    },
    {
      "cell_type": "code",
      "metadata": {
        "id": "SAuDB46Fszys",
        "colab": {
          "base_uri": "https://localhost:8080/"
        },
        "outputId": "4db574ff-c9af-4bbb-959b-eb505cc01e76"
      },
      "source": [
        "# This code cell takes ~ 3 minutes on Google Colab\n",
        "%%time \n",
        "# YOUR CODE HERE\n",
        "df['spacy_tokens'] = df['full_review_text'].apply(spacy_tokenizer)"
      ],
      "execution_count": 180,
      "outputs": [
        {
          "output_type": "stream",
          "name": "stdout",
          "text": [
            "CPU times: user 4min 14s, sys: 761 ms, total: 4min 15s\n",
            "Wall time: 4min 39s\n"
          ]
        }
      ]
    },
    {
      "cell_type": "code",
      "source": [
        "df.head()"
      ],
      "metadata": {
        "colab": {
          "base_uri": "https://localhost:8080/",
          "height": 337
        },
        "id": "PqPVL0s_WtYE",
        "outputId": "ee7ec6b8-65ef-44d2-ba24-cfd22df0688c"
      },
      "execution_count": 181,
      "outputs": [
        {
          "output_type": "execute_result",
          "data": {
            "text/plain": [
              "                  coffee_shop_name  \\\n",
              "0  The Factory - Cafe With a Soul    \n",
              "1  The Factory - Cafe With a Soul    \n",
              "2  The Factory - Cafe With a Soul    \n",
              "3  The Factory - Cafe With a Soul    \n",
              "4  The Factory - Cafe With a Soul    \n",
              "\n",
              "                                    full_review_text        star_rating  \\\n",
              "0   11/25/2016 1 check-in Love love loved the atm...   5.0 star rating    \n",
              "1   12/2/2016 Listed in Date Night: Austin, Ambia...   4.0 star rating    \n",
              "2   11/30/2016 1 check-in Listed in Brunch Spots ...   4.0 star rating    \n",
              "3   11/25/2016 Very cool decor! Good drinks Nice ...   2.0 star rating    \n",
              "4   12/3/2016 1 check-in They are located within ...   4.0 star rating    \n",
              "\n",
              "        date                                     cleaned_review  \\\n",
              "0 2016-11-25   checkin love love loved the atmosphere every ...   \n",
              "1 2016-12-02   listed in date night austin ambiance in austi...   \n",
              "2 2016-11-30   checkin listed in brunch spots i loved the ec...   \n",
              "3 2016-11-25   very cool decor good drinks nice seating howe...   \n",
              "4 2016-12-03   checkin they are located within the northcros...   \n",
              "\n",
              "                                              tokens  \\\n",
              "0  [checkin, love, love, loved, the, atmosphere, ...   \n",
              "1  [listed, in, date, night, austin, ambiance, in...   \n",
              "2  [checkin, listed, in, brunch, spots, i, loved,...   \n",
              "3  [very, cool, decor, good, drinks, nice, seatin...   \n",
              "4  [checkin, they, are, located, within, the, nor...   \n",
              "\n",
              "                                        spacy_tokens  stars  \n",
              "0  [11/25/2016, 1, check, love, love, love, atmos...      5  \n",
              "1  [12/2/2016, list, Date, Night, Austin, ambianc...      4  \n",
              "2  [11/30/2016, 1, check, Listed, Brunch, spot, l...      4  \n",
              "3  [11/25/2016, cool, decor, good, drink, nice, s...      2  \n",
              "4  [12/3/2016, 1, check, locate, Northcross, mall...      4  "
            ],
            "text/html": [
              "\n",
              "  <div id=\"df-0258442c-14ea-4681-a047-6087ec93b8dd\">\n",
              "    <div class=\"colab-df-container\">\n",
              "      <div>\n",
              "<style scoped>\n",
              "    .dataframe tbody tr th:only-of-type {\n",
              "        vertical-align: middle;\n",
              "    }\n",
              "\n",
              "    .dataframe tbody tr th {\n",
              "        vertical-align: top;\n",
              "    }\n",
              "\n",
              "    .dataframe thead th {\n",
              "        text-align: right;\n",
              "    }\n",
              "</style>\n",
              "<table border=\"1\" class=\"dataframe\">\n",
              "  <thead>\n",
              "    <tr style=\"text-align: right;\">\n",
              "      <th></th>\n",
              "      <th>coffee_shop_name</th>\n",
              "      <th>full_review_text</th>\n",
              "      <th>star_rating</th>\n",
              "      <th>date</th>\n",
              "      <th>cleaned_review</th>\n",
              "      <th>tokens</th>\n",
              "      <th>spacy_tokens</th>\n",
              "      <th>stars</th>\n",
              "    </tr>\n",
              "  </thead>\n",
              "  <tbody>\n",
              "    <tr>\n",
              "      <th>0</th>\n",
              "      <td>The Factory - Cafe With a Soul</td>\n",
              "      <td>11/25/2016 1 check-in Love love loved the atm...</td>\n",
              "      <td>5.0 star rating</td>\n",
              "      <td>2016-11-25</td>\n",
              "      <td>checkin love love loved the atmosphere every ...</td>\n",
              "      <td>[checkin, love, love, loved, the, atmosphere, ...</td>\n",
              "      <td>[11/25/2016, 1, check, love, love, love, atmos...</td>\n",
              "      <td>5</td>\n",
              "    </tr>\n",
              "    <tr>\n",
              "      <th>1</th>\n",
              "      <td>The Factory - Cafe With a Soul</td>\n",
              "      <td>12/2/2016 Listed in Date Night: Austin, Ambia...</td>\n",
              "      <td>4.0 star rating</td>\n",
              "      <td>2016-12-02</td>\n",
              "      <td>listed in date night austin ambiance in austi...</td>\n",
              "      <td>[listed, in, date, night, austin, ambiance, in...</td>\n",
              "      <td>[12/2/2016, list, Date, Night, Austin, ambianc...</td>\n",
              "      <td>4</td>\n",
              "    </tr>\n",
              "    <tr>\n",
              "      <th>2</th>\n",
              "      <td>The Factory - Cafe With a Soul</td>\n",
              "      <td>11/30/2016 1 check-in Listed in Brunch Spots ...</td>\n",
              "      <td>4.0 star rating</td>\n",
              "      <td>2016-11-30</td>\n",
              "      <td>checkin listed in brunch spots i loved the ec...</td>\n",
              "      <td>[checkin, listed, in, brunch, spots, i, loved,...</td>\n",
              "      <td>[11/30/2016, 1, check, Listed, Brunch, spot, l...</td>\n",
              "      <td>4</td>\n",
              "    </tr>\n",
              "    <tr>\n",
              "      <th>3</th>\n",
              "      <td>The Factory - Cafe With a Soul</td>\n",
              "      <td>11/25/2016 Very cool decor! Good drinks Nice ...</td>\n",
              "      <td>2.0 star rating</td>\n",
              "      <td>2016-11-25</td>\n",
              "      <td>very cool decor good drinks nice seating howe...</td>\n",
              "      <td>[very, cool, decor, good, drinks, nice, seatin...</td>\n",
              "      <td>[11/25/2016, cool, decor, good, drink, nice, s...</td>\n",
              "      <td>2</td>\n",
              "    </tr>\n",
              "    <tr>\n",
              "      <th>4</th>\n",
              "      <td>The Factory - Cafe With a Soul</td>\n",
              "      <td>12/3/2016 1 check-in They are located within ...</td>\n",
              "      <td>4.0 star rating</td>\n",
              "      <td>2016-12-03</td>\n",
              "      <td>checkin they are located within the northcros...</td>\n",
              "      <td>[checkin, they, are, located, within, the, nor...</td>\n",
              "      <td>[12/3/2016, 1, check, locate, Northcross, mall...</td>\n",
              "      <td>4</td>\n",
              "    </tr>\n",
              "  </tbody>\n",
              "</table>\n",
              "</div>\n",
              "      <button class=\"colab-df-convert\" onclick=\"convertToInteractive('df-0258442c-14ea-4681-a047-6087ec93b8dd')\"\n",
              "              title=\"Convert this dataframe to an interactive table.\"\n",
              "              style=\"display:none;\">\n",
              "        \n",
              "  <svg xmlns=\"http://www.w3.org/2000/svg\" height=\"24px\"viewBox=\"0 0 24 24\"\n",
              "       width=\"24px\">\n",
              "    <path d=\"M0 0h24v24H0V0z\" fill=\"none\"/>\n",
              "    <path d=\"M18.56 5.44l.94 2.06.94-2.06 2.06-.94-2.06-.94-.94-2.06-.94 2.06-2.06.94zm-11 1L8.5 8.5l.94-2.06 2.06-.94-2.06-.94L8.5 2.5l-.94 2.06-2.06.94zm10 10l.94 2.06.94-2.06 2.06-.94-2.06-.94-.94-2.06-.94 2.06-2.06.94z\"/><path d=\"M17.41 7.96l-1.37-1.37c-.4-.4-.92-.59-1.43-.59-.52 0-1.04.2-1.43.59L10.3 9.45l-7.72 7.72c-.78.78-.78 2.05 0 2.83L4 21.41c.39.39.9.59 1.41.59.51 0 1.02-.2 1.41-.59l7.78-7.78 2.81-2.81c.8-.78.8-2.07 0-2.86zM5.41 20L4 18.59l7.72-7.72 1.47 1.35L5.41 20z\"/>\n",
              "  </svg>\n",
              "      </button>\n",
              "      \n",
              "  <style>\n",
              "    .colab-df-container {\n",
              "      display:flex;\n",
              "      flex-wrap:wrap;\n",
              "      gap: 12px;\n",
              "    }\n",
              "\n",
              "    .colab-df-convert {\n",
              "      background-color: #E8F0FE;\n",
              "      border: none;\n",
              "      border-radius: 50%;\n",
              "      cursor: pointer;\n",
              "      display: none;\n",
              "      fill: #1967D2;\n",
              "      height: 32px;\n",
              "      padding: 0 0 0 0;\n",
              "      width: 32px;\n",
              "    }\n",
              "\n",
              "    .colab-df-convert:hover {\n",
              "      background-color: #E2EBFA;\n",
              "      box-shadow: 0px 1px 2px rgba(60, 64, 67, 0.3), 0px 1px 3px 1px rgba(60, 64, 67, 0.15);\n",
              "      fill: #174EA6;\n",
              "    }\n",
              "\n",
              "    [theme=dark] .colab-df-convert {\n",
              "      background-color: #3B4455;\n",
              "      fill: #D2E3FC;\n",
              "    }\n",
              "\n",
              "    [theme=dark] .colab-df-convert:hover {\n",
              "      background-color: #434B5C;\n",
              "      box-shadow: 0px 1px 3px 1px rgba(0, 0, 0, 0.15);\n",
              "      filter: drop-shadow(0px 1px 2px rgba(0, 0, 0, 0.3));\n",
              "      fill: #FFFFFF;\n",
              "    }\n",
              "  </style>\n",
              "\n",
              "      <script>\n",
              "        const buttonEl =\n",
              "          document.querySelector('#df-0258442c-14ea-4681-a047-6087ec93b8dd button.colab-df-convert');\n",
              "        buttonEl.style.display =\n",
              "          google.colab.kernel.accessAllowed ? 'block' : 'none';\n",
              "\n",
              "        async function convertToInteractive(key) {\n",
              "          const element = document.querySelector('#df-0258442c-14ea-4681-a047-6087ec93b8dd');\n",
              "          const dataTable =\n",
              "            await google.colab.kernel.invokeFunction('convertToInteractive',\n",
              "                                                     [key], {});\n",
              "          if (!dataTable) return;\n",
              "\n",
              "          const docLinkHtml = 'Like what you see? Visit the ' +\n",
              "            '<a target=\"_blank\" href=https://colab.research.google.com/notebooks/data_table.ipynb>data table notebook</a>'\n",
              "            + ' to learn more about interactive tables.';\n",
              "          element.innerHTML = '';\n",
              "          dataTable['output_type'] = 'display_data';\n",
              "          await google.colab.output.renderOutput(dataTable, element);\n",
              "          const docLink = document.createElement('div');\n",
              "          docLink.innerHTML = docLinkHtml;\n",
              "          element.appendChild(docLink);\n",
              "        }\n",
              "      </script>\n",
              "    </div>\n",
              "  </div>\n",
              "  "
            ]
          },
          "metadata": {},
          "execution_count": 181
        }
      ]
    },
    {
      "cell_type": "markdown",
      "metadata": {
        "id": "enAfqOhN3SNc"
      },
      "source": [
        "##1.5 Visualize the Spacy Tokens"
      ]
    },
    {
      "cell_type": "code",
      "metadata": {
        "colab": {
          "base_uri": "https://localhost:8080/",
          "height": 264
        },
        "id": "Rk-50jGh3Rxu",
        "outputId": "33552a1c-b94d-4047-c3c0-fcff5b7fa390"
      },
      "source": [
        "import squarify\n",
        "\n",
        "wc = count(df['spacy_tokens'])\n",
        "wc_top20 = wc[wc['rank'] <= 20]\n",
        "\n",
        "squarify.plot(sizes=wc_top20['count'], label=wc_top20['word'], alpha=0.8)\n",
        "plt.axis('off')\n",
        "plt.title(\"Squarify plot of Lemmas Only\")\n",
        "plt.show()"
      ],
      "execution_count": 136,
      "outputs": [
        {
          "output_type": "display_data",
          "data": {
            "text/plain": [
              "<Figure size 432x288 with 1 Axes>"
            ],
            "image/png": "[encoded data removed]"
          },
          "metadata": {
            "needs_background": "light"
          }
        }
      ]
    },
    {
      "cell_type": "markdown",
      "metadata": {
        "id": "qGzScOL73rFn"
      },
      "source": [
        "# 2. Compare High and Low Coffeeshop reviews!\n",
        "\n",
        "- We'll say that a \"good\" rating is 4 or 5 stars\n",
        "- a \"bad\" rating is 3 stars or less"
      ]
    },
    {
      "cell_type": "markdown",
      "metadata": {
        "id": "bOSuAA-G37e3"
      },
      "source": [
        "## 2.1 Create a numeric version of the star rating"
      ]
    },
    {
      "cell_type": "code",
      "metadata": {
        "colab": {
          "base_uri": "https://localhost:8080/"
        },
        "id": "OG3x8rdiBCNO",
        "outputId": "deb3a0c6-1111-4d20-e9c7-8841827219af"
      },
      "source": [
        "df['star_rating'].unique()"
      ],
      "execution_count": 137,
      "outputs": [
        {
          "output_type": "execute_result",
          "data": {
            "text/plain": [
              "array([' 5.0 star rating ', ' 4.0 star rating ', ' 2.0 star rating ',\n",
              "       ' 3.0 star rating ', ' 1.0 star rating '], dtype=object)"
            ]
          },
          "metadata": {},
          "execution_count": 137
        }
      ]
    },
    {
      "cell_type": "markdown",
      "metadata": {
        "id": "OLkuO5fBBUVG"
      },
      "source": [
        "Let's write a `regex` to extract only the numerical value of the rating from this text string<br>\n",
        "Reference: [Easiest way to remember Regular Expressions](https://towardsdatascience.com/easiest-way-to-remember-regular-expressions-regex-178ba518bebd)"
      ]
    },
    {
      "cell_type": "code",
      "metadata": {
        "id": "XWRZejBCBaPI"
      },
      "source": [
        "df['stars'] = df['star_rating'].str.extract(r'(\\d)').astype(int) # COMPLETE THE CODE"
      ],
      "execution_count": 152,
      "outputs": []
    },
    {
      "cell_type": "code",
      "metadata": {
        "colab": {
          "base_uri": "https://localhost:8080/"
        },
        "id": "5oWq_lTIB4gP",
        "outputId": "cedc6c71-93a6-405a-c287-c359b2797796"
      },
      "source": [
        "type(df['stars'][0])"
      ],
      "execution_count": 153,
      "outputs": [
        {
          "output_type": "execute_result",
          "data": {
            "text/plain": [
              "numpy.int64"
            ]
          },
          "metadata": {},
          "execution_count": 153
        }
      ]
    },
    {
      "cell_type": "code",
      "metadata": {
        "colab": {
          "base_uri": "https://localhost:8080/",
          "height": 337
        },
        "id": "Ug2Ym8GEBScT",
        "outputId": "ccde50a6-c0bf-448a-a1d7-331c1f298915"
      },
      "source": [
        "df.head()"
      ],
      "execution_count": 154,
      "outputs": [
        {
          "output_type": "execute_result",
          "data": {
            "text/plain": [
              "                  coffee_shop_name  \\\n",
              "0  The Factory - Cafe With a Soul    \n",
              "1  The Factory - Cafe With a Soul    \n",
              "2  The Factory - Cafe With a Soul    \n",
              "3  The Factory - Cafe With a Soul    \n",
              "4  The Factory - Cafe With a Soul    \n",
              "\n",
              "                                    full_review_text        star_rating  \\\n",
              "0   11/25/2016 1 check-in Love love loved the atm...   5.0 star rating    \n",
              "1   12/2/2016 Listed in Date Night: Austin, Ambia...   4.0 star rating    \n",
              "2   11/30/2016 1 check-in Listed in Brunch Spots ...   4.0 star rating    \n",
              "3   11/25/2016 Very cool decor! Good drinks Nice ...   2.0 star rating    \n",
              "4   12/3/2016 1 check-in They are located within ...   4.0 star rating    \n",
              "\n",
              "        date                                     cleaned_review  \\\n",
              "0 2016-11-25   checkin love love loved the atmosphere every ...   \n",
              "1 2016-12-02   listed in date night austin ambiance in austi...   \n",
              "2 2016-11-30   checkin listed in brunch spots i loved the ec...   \n",
              "3 2016-11-25   very cool decor good drinks nice seating howe...   \n",
              "4 2016-12-03   checkin they are located within the northcros...   \n",
              "\n",
              "                                              tokens  \\\n",
              "0  [checkin, love, love, loved, the, atmosphere, ...   \n",
              "1  [listed, in, date, night, austin, ambiance, in...   \n",
              "2  [checkin, listed, in, brunch, spots, i, loved,...   \n",
              "3  [very, cool, decor, good, drinks, nice, seatin...   \n",
              "4  [checkin, they, are, located, within, the, nor...   \n",
              "\n",
              "                                        spacy_tokens  stars  \n",
              "0  [11/25/2016, 1, check, love, love, love, atmos...      5  \n",
              "1  [12/2/2016, list, Date, Night, Austin, ambianc...      4  \n",
              "2  [11/30/2016, 1, check, Listed, Brunch, spot, l...      4  \n",
              "3  [11/25/2016, cool, decor, good, drink, nice, s...      2  \n",
              "4  [12/3/2016, 1, check, locate, Northcross, mall...      4  "
            ],
            "text/html": [
              "\n",
              "  <div id=\"df-5dc24388-2192-4be1-b5b5-39baeabf237c\">\n",
              "    <div class=\"colab-df-container\">\n",
              "      <div>\n",
              "<style scoped>\n",
              "    .dataframe tbody tr th:only-of-type {\n",
              "        vertical-align: middle;\n",
              "    }\n",
              "\n",
              "    .dataframe tbody tr th {\n",
              "        vertical-align: top;\n",
              "    }\n",
              "\n",
              "    .dataframe thead th {\n",
              "        text-align: right;\n",
              "    }\n",
              "</style>\n",
              "<table border=\"1\" class=\"dataframe\">\n",
              "  <thead>\n",
              "    <tr style=\"text-align: right;\">\n",
              "      <th></th>\n",
              "      <th>coffee_shop_name</th>\n",
              "      <th>full_review_text</th>\n",
              "      <th>star_rating</th>\n",
              "      <th>date</th>\n",
              "      <th>cleaned_review</th>\n",
              "      <th>tokens</th>\n",
              "      <th>spacy_tokens</th>\n",
              "      <th>stars</th>\n",
              "    </tr>\n",
              "  </thead>\n",
              "  <tbody>\n",
              "    <tr>\n",
              "      <th>0</th>\n",
              "      <td>The Factory - Cafe With a Soul</td>\n",
              "      <td>11/25/2016 1 check-in Love love loved the atm...</td>\n",
              "      <td>5.0 star rating</td>\n",
              "      <td>2016-11-25</td>\n",
              "      <td>checkin love love loved the atmosphere every ...</td>\n",
              "      <td>[checkin, love, love, loved, the, atmosphere, ...</td>\n",
              "      <td>[11/25/2016, 1, check, love, love, love, atmos...</td>\n",
              "      <td>5</td>\n",
              "    </tr>\n",
              "    <tr>\n",
              "      <th>1</th>\n",
              "      <td>The Factory - Cafe With a Soul</td>\n",
              "      <td>12/2/2016 Listed in Date Night: Austin, Ambia...</td>\n",
              "      <td>4.0 star rating</td>\n",
              "      <td>2016-12-02</td>\n",
              "      <td>listed in date night austin ambiance in austi...</td>\n",
              "      <td>[listed, in, date, night, austin, ambiance, in...</td>\n",
              "      <td>[12/2/2016, list, Date, Night, Austin, ambianc...</td>\n",
              "      <td>4</td>\n",
              "    </tr>\n",
              "    <tr>\n",
              "      <th>2</th>\n",
              "      <td>The Factory - Cafe With a Soul</td>\n",
              "      <td>11/30/2016 1 check-in Listed in Brunch Spots ...</td>\n",
              "      <td>4.0 star rating</td>\n",
              "      <td>2016-11-30</td>\n",
              "      <td>checkin listed in brunch spots i loved the ec...</td>\n",
              "      <td>[checkin, listed, in, brunch, spots, i, loved,...</td>\n",
              "      <td>[11/30/2016, 1, check, Listed, Brunch, spot, l...</td>\n",
              "      <td>4</td>\n",
              "    </tr>\n",
              "    <tr>\n",
              "      <th>3</th>\n",
              "      <td>The Factory - Cafe With a Soul</td>\n",
              "      <td>11/25/2016 Very cool decor! Good drinks Nice ...</td>\n",
              "      <td>2.0 star rating</td>\n",
              "      <td>2016-11-25</td>\n",
              "      <td>very cool decor good drinks nice seating howe...</td>\n",
              "      <td>[very, cool, decor, good, drinks, nice, seatin...</td>\n",
              "      <td>[11/25/2016, cool, decor, good, drink, nice, s...</td>\n",
              "      <td>2</td>\n",
              "    </tr>\n",
              "    <tr>\n",
              "      <th>4</th>\n",
              "      <td>The Factory - Cafe With a Soul</td>\n",
              "      <td>12/3/2016 1 check-in They are located within ...</td>\n",
              "      <td>4.0 star rating</td>\n",
              "      <td>2016-12-03</td>\n",
              "      <td>checkin they are located within the northcros...</td>\n",
              "      <td>[checkin, they, are, located, within, the, nor...</td>\n",
              "      <td>[12/3/2016, 1, check, locate, Northcross, mall...</td>\n",
              "      <td>4</td>\n",
              "    </tr>\n",
              "  </tbody>\n",
              "</table>\n",
              "</div>\n",
              "      <button class=\"colab-df-convert\" onclick=\"convertToInteractive('df-5dc24388-2192-4be1-b5b5-39baeabf237c')\"\n",
              "              title=\"Convert this dataframe to an interactive table.\"\n",
              "              style=\"display:none;\">\n",
              "        \n",
              "  <svg xmlns=\"http://www.w3.org/2000/svg\" height=\"24px\"viewBox=\"0 0 24 24\"\n",
              "       width=\"24px\">\n",
              "    <path d=\"M0 0h24v24H0V0z\" fill=\"none\"/>\n",
              "    <path d=\"M18.56 5.44l.94 2.06.94-2.06 2.06-.94-2.06-.94-.94-2.06-.94 2.06-2.06.94zm-11 1L8.5 8.5l.94-2.06 2.06-.94-2.06-.94L8.5 2.5l-.94 2.06-2.06.94zm10 10l.94 2.06.94-2.06 2.06-.94-2.06-.94-.94-2.06-.94 2.06-2.06.94z\"/><path d=\"M17.41 7.96l-1.37-1.37c-.4-.4-.92-.59-1.43-.59-.52 0-1.04.2-1.43.59L10.3 9.45l-7.72 7.72c-.78.78-.78 2.05 0 2.83L4 21.41c.39.39.9.59 1.41.59.51 0 1.02-.2 1.41-.59l7.78-7.78 2.81-2.81c.8-.78.8-2.07 0-2.86zM5.41 20L4 18.59l7.72-7.72 1.47 1.35L5.41 20z\"/>\n",
              "  </svg>\n",
              "      </button>\n",
              "      \n",
              "  <style>\n",
              "    .colab-df-container {\n",
              "      display:flex;\n",
              "      flex-wrap:wrap;\n",
              "      gap: 12px;\n",
              "    }\n",
              "\n",
              "    .colab-df-convert {\n",
              "      background-color: #E8F0FE;\n",
              "      border: none;\n",
              "      border-radius: 50%;\n",
              "      cursor: pointer;\n",
              "      display: none;\n",
              "      fill: #1967D2;\n",
              "      height: 32px;\n",
              "      padding: 0 0 0 0;\n",
              "      width: 32px;\n",
              "    }\n",
              "\n",
              "    .colab-df-convert:hover {\n",
              "      background-color: #E2EBFA;\n",
              "      box-shadow: 0px 1px 2px rgba(60, 64, 67, 0.3), 0px 1px 3px 1px rgba(60, 64, 67, 0.15);\n",
              "      fill: #174EA6;\n",
              "    }\n",
              "\n",
              "    [theme=dark] .colab-df-convert {\n",
              "      background-color: #3B4455;\n",
              "      fill: #D2E3FC;\n",
              "    }\n",
              "\n",
              "    [theme=dark] .colab-df-convert:hover {\n",
              "      background-color: #434B5C;\n",
              "      box-shadow: 0px 1px 3px 1px rgba(0, 0, 0, 0.15);\n",
              "      filter: drop-shadow(0px 1px 2px rgba(0, 0, 0, 0.3));\n",
              "      fill: #FFFFFF;\n",
              "    }\n",
              "  </style>\n",
              "\n",
              "      <script>\n",
              "        const buttonEl =\n",
              "          document.querySelector('#df-5dc24388-2192-4be1-b5b5-39baeabf237c button.colab-df-convert');\n",
              "        buttonEl.style.display =\n",
              "          google.colab.kernel.accessAllowed ? 'block' : 'none';\n",
              "\n",
              "        async function convertToInteractive(key) {\n",
              "          const element = document.querySelector('#df-5dc24388-2192-4be1-b5b5-39baeabf237c');\n",
              "          const dataTable =\n",
              "            await google.colab.kernel.invokeFunction('convertToInteractive',\n",
              "                                                     [key], {});\n",
              "          if (!dataTable) return;\n",
              "\n",
              "          const docLinkHtml = 'Like what you see? Visit the ' +\n",
              "            '<a target=\"_blank\" href=https://colab.research.google.com/notebooks/data_table.ipynb>data table notebook</a>'\n",
              "            + ' to learn more about interactive tables.';\n",
              "          element.innerHTML = '';\n",
              "          dataTable['output_type'] = 'display_data';\n",
              "          await google.colab.output.renderOutput(dataTable, element);\n",
              "          const docLink = document.createElement('div');\n",
              "          docLink.innerHTML = docLinkHtml;\n",
              "          element.appendChild(docLink);\n",
              "        }\n",
              "      </script>\n",
              "    </div>\n",
              "  </div>\n",
              "  "
            ]
          },
          "metadata": {},
          "execution_count": 154
        }
      ]
    },
    {
      "cell_type": "code",
      "metadata": {
        "id": "55Qc1RPa4JD-"
      },
      "source": [
        "# Using pd.Series.apply():\n",
        "# def star_rating_numeric(rating_string):\n",
        "#   return float(rating_string.split()[0])\n",
        "\n",
        "# df['star_rating'] = df[?].apply(?)\n",
        "\n",
        "# df.head()"
      ],
      "execution_count": null,
      "outputs": []
    },
    {
      "cell_type": "code",
      "metadata": {
        "id": "sY-vLc_WwUNA",
        "colab": {
          "base_uri": "https://localhost:8080/",
          "height": 265
        },
        "outputId": "cfcaace1-7c25-453f-fc99-3c37847ca49b"
      },
      "source": [
        "# most coffee shops get 4 or 5 star ratings.\n",
        "bin_edges =  [0.5 + i for i in range(6)]\n",
        "df['stars'].hist(bins=bin_edges);"
      ],
      "execution_count": 158,
      "outputs": [
        {
          "output_type": "display_data",
          "data": {
            "text/plain": [
              "<Figure size 432x288 with 1 Axes>"
            ],
            "image/png": "[encoded data removed]"
          },
          "metadata": {
            "needs_background": "light"
          }
        }
      ]
    },
    {
      "cell_type": "markdown",
      "metadata": {
        "id": "eCrNUerr4kKG"
      },
      "source": [
        "##2.2 Split into two dataframes based on star rating\n",
        "good: ratings 4 and 5 <br>\n",
        "bad: ratings <4"
      ]
    },
    {
      "cell_type": "code",
      "metadata": {
        "id": "d-ErzFog4pgM"
      },
      "source": [
        "# Complete code here\n",
        "good = df[df['stars'] > 3]\n",
        "bad = df[df['stars'] <= 3]"
      ],
      "execution_count": 159,
      "outputs": []
    },
    {
      "cell_type": "code",
      "metadata": {
        "id": "y9ahpHof4yiV"
      },
      "source": [
        "# make sure that all reviews are accounted for in one of the two groups\n",
        "assert df.shape[0] == good.shape[0] + bad.shape[0]"
      ],
      "execution_count": 160,
      "outputs": []
    },
    {
      "cell_type": "markdown",
      "metadata": {
        "id": "6HzFcfdkNZv3"
      },
      "source": [
        "#### Summary of the descriptive token statistics \n",
        "\n",
        "`word` The specific token that is being analyzed\n",
        "\n",
        "`appears_in_docs` Number of documents that the word/token appears in\n",
        "\n",
        "`count` The total number of appearances of that token within the corpus \n",
        "\n",
        "`rank` Ranking of tokens by count \n",
        "\n",
        "`fraction_of_total` Fraction of the total tokens that this token makes up\n",
        "\n",
        "`cumulative_fraction_of_total` Sum of fractional total of ranked tokens, down to and including this token. \n",
        "\n",
        "`appears_in_fraction_of_docs` Fraction of documents that token appears in "
      ]
    },
    {
      "cell_type": "code",
      "metadata": {
        "id": "V4aKjuS8szyw",
        "colab": {
          "base_uri": "https://localhost:8080/",
          "height": 363
        },
        "outputId": "1fcc83ac-bb2c-4fe2-f9e9-7055b7b6edc6"
      },
      "source": [
        "good_wc = count(good[\"spacy_tokens\"])\n",
        "good_wc.head(10)"
      ],
      "execution_count": 161,
      "outputs": [
        {
          "output_type": "execute_result",
          "data": {
            "text/plain": [
              "       word  appears_in_docs  count  rank  fraction_of_total  \\\n",
              "30   coffee             3887   7949   1.0           0.027517   \n",
              "69    place             3122   4796   2.0           0.016603   \n",
              "199    good             2902   4279   3.0           0.014813   \n",
              "106   great             2488   3444   4.0           0.011922   \n",
              "17    check             2686   2942   5.0           0.010184   \n",
              "204    like             1678   2435   6.0           0.008429   \n",
              "29     love             1564   2049   7.0           0.007093   \n",
              "396    come             1484   1992   8.0           0.006896   \n",
              "55   Austin             1543   1987   9.0           0.006879   \n",
              "34        1             1722   1805  10.0           0.006248   \n",
              "\n",
              "     cumulative_fraction_of_total  appears_in_fraction_of_docs  \n",
              "30                       0.027517                     0.633062  \n",
              "69                       0.044120                     0.508469  \n",
              "199                      0.058933                     0.472638  \n",
              "106                      0.070855                     0.405212  \n",
              "17                       0.081040                     0.437459  \n",
              "204                      0.089469                     0.273290  \n",
              "29                       0.096562                     0.254723  \n",
              "396                      0.103458                     0.241694  \n",
              "55                       0.110336                     0.251303  \n",
              "34                       0.116585                     0.280456  "
            ],
            "text/html": [
              "\n",
              "  <div id=\"df-67f70833-e84f-4cd4-b7f0-5bdd67003f81\">\n",
              "    <div class=\"colab-df-container\">\n",
              "      <div>\n",
              "<style scoped>\n",
              "    .dataframe tbody tr th:only-of-type {\n",
              "        vertical-align: middle;\n",
              "    }\n",
              "\n",
              "    .dataframe tbody tr th {\n",
              "        vertical-align: top;\n",
              "    }\n",
              "\n",
              "    .dataframe thead th {\n",
              "        text-align: right;\n",
              "    }\n",
              "</style>\n",
              "<table border=\"1\" class=\"dataframe\">\n",
              "  <thead>\n",
              "    <tr style=\"text-align: right;\">\n",
              "      <th></th>\n",
              "      <th>word</th>\n",
              "      <th>appears_in_docs</th>\n",
              "      <th>count</th>\n",
              "      <th>rank</th>\n",
              "      <th>fraction_of_total</th>\n",
              "      <th>cumulative_fraction_of_total</th>\n",
              "      <th>appears_in_fraction_of_docs</th>\n",
              "    </tr>\n",
              "  </thead>\n",
              "  <tbody>\n",
              "    <tr>\n",
              "      <th>30</th>\n",
              "      <td>coffee</td>\n",
              "      <td>3887</td>\n",
              "      <td>7949</td>\n",
              "      <td>1.0</td>\n",
              "      <td>0.027517</td>\n",
              "      <td>0.027517</td>\n",
              "      <td>0.633062</td>\n",
              "    </tr>\n",
              "    <tr>\n",
              "      <th>69</th>\n",
              "      <td>place</td>\n",
              "      <td>3122</td>\n",
              "      <td>4796</td>\n",
              "      <td>2.0</td>\n",
              "      <td>0.016603</td>\n",
              "      <td>0.044120</td>\n",
              "      <td>0.508469</td>\n",
              "    </tr>\n",
              "    <tr>\n",
              "      <th>199</th>\n",
              "      <td>good</td>\n",
              "      <td>2902</td>\n",
              "      <td>4279</td>\n",
              "      <td>3.0</td>\n",
              "      <td>0.014813</td>\n",
              "      <td>0.058933</td>\n",
              "      <td>0.472638</td>\n",
              "    </tr>\n",
              "    <tr>\n",
              "      <th>106</th>\n",
              "      <td>great</td>\n",
              "      <td>2488</td>\n",
              "      <td>3444</td>\n",
              "      <td>4.0</td>\n",
              "      <td>0.011922</td>\n",
              "      <td>0.070855</td>\n",
              "      <td>0.405212</td>\n",
              "    </tr>\n",
              "    <tr>\n",
              "      <th>17</th>\n",
              "      <td>check</td>\n",
              "      <td>2686</td>\n",
              "      <td>2942</td>\n",
              "      <td>5.0</td>\n",
              "      <td>0.010184</td>\n",
              "      <td>0.081040</td>\n",
              "      <td>0.437459</td>\n",
              "    </tr>\n",
              "    <tr>\n",
              "      <th>204</th>\n",
              "      <td>like</td>\n",
              "      <td>1678</td>\n",
              "      <td>2435</td>\n",
              "      <td>6.0</td>\n",
              "      <td>0.008429</td>\n",
              "      <td>0.089469</td>\n",
              "      <td>0.273290</td>\n",
              "    </tr>\n",
              "    <tr>\n",
              "      <th>29</th>\n",
              "      <td>love</td>\n",
              "      <td>1564</td>\n",
              "      <td>2049</td>\n",
              "      <td>7.0</td>\n",
              "      <td>0.007093</td>\n",
              "      <td>0.096562</td>\n",
              "      <td>0.254723</td>\n",
              "    </tr>\n",
              "    <tr>\n",
              "      <th>396</th>\n",
              "      <td>come</td>\n",
              "      <td>1484</td>\n",
              "      <td>1992</td>\n",
              "      <td>8.0</td>\n",
              "      <td>0.006896</td>\n",
              "      <td>0.103458</td>\n",
              "      <td>0.241694</td>\n",
              "    </tr>\n",
              "    <tr>\n",
              "      <th>55</th>\n",
              "      <td>Austin</td>\n",
              "      <td>1543</td>\n",
              "      <td>1987</td>\n",
              "      <td>9.0</td>\n",
              "      <td>0.006879</td>\n",
              "      <td>0.110336</td>\n",
              "      <td>0.251303</td>\n",
              "    </tr>\n",
              "    <tr>\n",
              "      <th>34</th>\n",
              "      <td>1</td>\n",
              "      <td>1722</td>\n",
              "      <td>1805</td>\n",
              "      <td>10.0</td>\n",
              "      <td>0.006248</td>\n",
              "      <td>0.116585</td>\n",
              "      <td>0.280456</td>\n",
              "    </tr>\n",
              "  </tbody>\n",
              "</table>\n",
              "</div>\n",
              "      <button class=\"colab-df-convert\" onclick=\"convertToInteractive('df-67f70833-e84f-4cd4-b7f0-5bdd67003f81')\"\n",
              "              title=\"Convert this dataframe to an interactive table.\"\n",
              "              style=\"display:none;\">\n",
              "        \n",
              "  <svg xmlns=\"http://www.w3.org/2000/svg\" height=\"24px\"viewBox=\"0 0 24 24\"\n",
              "       width=\"24px\">\n",
              "    <path d=\"M0 0h24v24H0V0z\" fill=\"none\"/>\n",
              "    <path d=\"M18.56 5.44l.94 2.06.94-2.06 2.06-.94-2.06-.94-.94-2.06-.94 2.06-2.06.94zm-11 1L8.5 8.5l.94-2.06 2.06-.94-2.06-.94L8.5 2.5l-.94 2.06-2.06.94zm10 10l.94 2.06.94-2.06 2.06-.94-2.06-.94-.94-2.06-.94 2.06-2.06.94z\"/><path d=\"M17.41 7.96l-1.37-1.37c-.4-.4-.92-.59-1.43-.59-.52 0-1.04.2-1.43.59L10.3 9.45l-7.72 7.72c-.78.78-.78 2.05 0 2.83L4 21.41c.39.39.9.59 1.41.59.51 0 1.02-.2 1.41-.59l7.78-7.78 2.81-2.81c.8-.78.8-2.07 0-2.86zM5.41 20L4 18.59l7.72-7.72 1.47 1.35L5.41 20z\"/>\n",
              "  </svg>\n",
              "      </button>\n",
              "      \n",
              "  <style>\n",
              "    .colab-df-container {\n",
              "      display:flex;\n",
              "      flex-wrap:wrap;\n",
              "      gap: 12px;\n",
              "    }\n",
              "\n",
              "    .colab-df-convert {\n",
              "      background-color: #E8F0FE;\n",
              "      border: none;\n",
              "      border-radius: 50%;\n",
              "      cursor: pointer;\n",
              "      display: none;\n",
              "      fill: #1967D2;\n",
              "      height: 32px;\n",
              "      padding: 0 0 0 0;\n",
              "      width: 32px;\n",
              "    }\n",
              "\n",
              "    .colab-df-convert:hover {\n",
              "      background-color: #E2EBFA;\n",
              "      box-shadow: 0px 1px 2px rgba(60, 64, 67, 0.3), 0px 1px 3px 1px rgba(60, 64, 67, 0.15);\n",
              "      fill: #174EA6;\n",
              "    }\n",
              "\n",
              "    [theme=dark] .colab-df-convert {\n",
              "      background-color: #3B4455;\n",
              "      fill: #D2E3FC;\n",
              "    }\n",
              "\n",
              "    [theme=dark] .colab-df-convert:hover {\n",
              "      background-color: #434B5C;\n",
              "      box-shadow: 0px 1px 3px 1px rgba(0, 0, 0, 0.15);\n",
              "      filter: drop-shadow(0px 1px 2px rgba(0, 0, 0, 0.3));\n",
              "      fill: #FFFFFF;\n",
              "    }\n",
              "  </style>\n",
              "\n",
              "      <script>\n",
              "        const buttonEl =\n",
              "          document.querySelector('#df-67f70833-e84f-4cd4-b7f0-5bdd67003f81 button.colab-df-convert');\n",
              "        buttonEl.style.display =\n",
              "          google.colab.kernel.accessAllowed ? 'block' : 'none';\n",
              "\n",
              "        async function convertToInteractive(key) {\n",
              "          const element = document.querySelector('#df-67f70833-e84f-4cd4-b7f0-5bdd67003f81');\n",
              "          const dataTable =\n",
              "            await google.colab.kernel.invokeFunction('convertToInteractive',\n",
              "                                                     [key], {});\n",
              "          if (!dataTable) return;\n",
              "\n",
              "          const docLinkHtml = 'Like what you see? Visit the ' +\n",
              "            '<a target=\"_blank\" href=https://colab.research.google.com/notebooks/data_table.ipynb>data table notebook</a>'\n",
              "            + ' to learn more about interactive tables.';\n",
              "          element.innerHTML = '';\n",
              "          dataTable['output_type'] = 'display_data';\n",
              "          await google.colab.output.renderOutput(dataTable, element);\n",
              "          const docLink = document.createElement('div');\n",
              "          docLink.innerHTML = docLinkHtml;\n",
              "          element.appendChild(docLink);\n",
              "        }\n",
              "      </script>\n",
              "    </div>\n",
              "  </div>\n",
              "  "
            ]
          },
          "metadata": {},
          "execution_count": 161
        }
      ]
    },
    {
      "cell_type": "code",
      "metadata": {
        "colab": {
          "base_uri": "https://localhost:8080/",
          "height": 363
        },
        "id": "VVPvC0Bk5wty",
        "outputId": "9dd748b2-ea4d-4199-cc8a-eab025769ddc"
      },
      "source": [
        "bad_wc = count(bad[\"spacy_tokens\"])\n",
        "bad_wc.head(10)"
      ],
      "execution_count": 162,
      "outputs": [
        {
          "output_type": "execute_result",
          "data": {
            "text/plain": [
              "       word  appears_in_docs  count  rank  fraction_of_total  \\\n",
              "35   coffee              913   2080   1.0           0.025773   \n",
              "14    place              750   1223   2.0           0.015154   \n",
              "24     good              643    990   3.0           0.012267   \n",
              "31     like              596    945   4.0           0.011709   \n",
              "62    order              439    767   5.0           0.009504   \n",
              "123    come              454    655   6.0           0.008116   \n",
              "4     drink              360    608   7.0           0.007534   \n",
              "487    time              418    606   8.0           0.007509   \n",
              "112   check              489    527   9.0           0.006530   \n",
              "163    food              317    494  10.0           0.006121   \n",
              "\n",
              "     cumulative_fraction_of_total  appears_in_fraction_of_docs  \n",
              "35                       0.025773                     0.618564  \n",
              "14                       0.040927                     0.508130  \n",
              "24                       0.053194                     0.435637  \n",
              "31                       0.064904                     0.403794  \n",
              "62                       0.074408                     0.297425  \n",
              "123                      0.082524                     0.307588  \n",
              "4                        0.090057                     0.243902  \n",
              "487                      0.097566                     0.283198  \n",
              "112                      0.104096                     0.331301  \n",
              "163                      0.110218                     0.214770  "
            ],
            "text/html": [
              "\n",
              "  <div id=\"df-8ea91105-6b41-4c22-8d3a-f1308ba04f3f\">\n",
              "    <div class=\"colab-df-container\">\n",
              "      <div>\n",
              "<style scoped>\n",
              "    .dataframe tbody tr th:only-of-type {\n",
              "        vertical-align: middle;\n",
              "    }\n",
              "\n",
              "    .dataframe tbody tr th {\n",
              "        vertical-align: top;\n",
              "    }\n",
              "\n",
              "    .dataframe thead th {\n",
              "        text-align: right;\n",
              "    }\n",
              "</style>\n",
              "<table border=\"1\" class=\"dataframe\">\n",
              "  <thead>\n",
              "    <tr style=\"text-align: right;\">\n",
              "      <th></th>\n",
              "      <th>word</th>\n",
              "      <th>appears_in_docs</th>\n",
              "      <th>count</th>\n",
              "      <th>rank</th>\n",
              "      <th>fraction_of_total</th>\n",
              "      <th>cumulative_fraction_of_total</th>\n",
              "      <th>appears_in_fraction_of_docs</th>\n",
              "    </tr>\n",
              "  </thead>\n",
              "  <tbody>\n",
              "    <tr>\n",
              "      <th>35</th>\n",
              "      <td>coffee</td>\n",
              "      <td>913</td>\n",
              "      <td>2080</td>\n",
              "      <td>1.0</td>\n",
              "      <td>0.025773</td>\n",
              "      <td>0.025773</td>\n",
              "      <td>0.618564</td>\n",
              "    </tr>\n",
              "    <tr>\n",
              "      <th>14</th>\n",
              "      <td>place</td>\n",
              "      <td>750</td>\n",
              "      <td>1223</td>\n",
              "      <td>2.0</td>\n",
              "      <td>0.015154</td>\n",
              "      <td>0.040927</td>\n",
              "      <td>0.508130</td>\n",
              "    </tr>\n",
              "    <tr>\n",
              "      <th>24</th>\n",
              "      <td>good</td>\n",
              "      <td>643</td>\n",
              "      <td>990</td>\n",
              "      <td>3.0</td>\n",
              "      <td>0.012267</td>\n",
              "      <td>0.053194</td>\n",
              "      <td>0.435637</td>\n",
              "    </tr>\n",
              "    <tr>\n",
              "      <th>31</th>\n",
              "      <td>like</td>\n",
              "      <td>596</td>\n",
              "      <td>945</td>\n",
              "      <td>4.0</td>\n",
              "      <td>0.011709</td>\n",
              "      <td>0.064904</td>\n",
              "      <td>0.403794</td>\n",
              "    </tr>\n",
              "    <tr>\n",
              "      <th>62</th>\n",
              "      <td>order</td>\n",
              "      <td>439</td>\n",
              "      <td>767</td>\n",
              "      <td>5.0</td>\n",
              "      <td>0.009504</td>\n",
              "      <td>0.074408</td>\n",
              "      <td>0.297425</td>\n",
              "    </tr>\n",
              "    <tr>\n",
              "      <th>123</th>\n",
              "      <td>come</td>\n",
              "      <td>454</td>\n",
              "      <td>655</td>\n",
              "      <td>6.0</td>\n",
              "      <td>0.008116</td>\n",
              "      <td>0.082524</td>\n",
              "      <td>0.307588</td>\n",
              "    </tr>\n",
              "    <tr>\n",
              "      <th>4</th>\n",
              "      <td>drink</td>\n",
              "      <td>360</td>\n",
              "      <td>608</td>\n",
              "      <td>7.0</td>\n",
              "      <td>0.007534</td>\n",
              "      <td>0.090057</td>\n",
              "      <td>0.243902</td>\n",
              "    </tr>\n",
              "    <tr>\n",
              "      <th>487</th>\n",
              "      <td>time</td>\n",
              "      <td>418</td>\n",
              "      <td>606</td>\n",
              "      <td>8.0</td>\n",
              "      <td>0.007509</td>\n",
              "      <td>0.097566</td>\n",
              "      <td>0.283198</td>\n",
              "    </tr>\n",
              "    <tr>\n",
              "      <th>112</th>\n",
              "      <td>check</td>\n",
              "      <td>489</td>\n",
              "      <td>527</td>\n",
              "      <td>9.0</td>\n",
              "      <td>0.006530</td>\n",
              "      <td>0.104096</td>\n",
              "      <td>0.331301</td>\n",
              "    </tr>\n",
              "    <tr>\n",
              "      <th>163</th>\n",
              "      <td>food</td>\n",
              "      <td>317</td>\n",
              "      <td>494</td>\n",
              "      <td>10.0</td>\n",
              "      <td>0.006121</td>\n",
              "      <td>0.110218</td>\n",
              "      <td>0.214770</td>\n",
              "    </tr>\n",
              "  </tbody>\n",
              "</table>\n",
              "</div>\n",
              "      <button class=\"colab-df-convert\" onclick=\"convertToInteractive('df-8ea91105-6b41-4c22-8d3a-f1308ba04f3f')\"\n",
              "              title=\"Convert this dataframe to an interactive table.\"\n",
              "              style=\"display:none;\">\n",
              "        \n",
              "  <svg xmlns=\"http://www.w3.org/2000/svg\" height=\"24px\"viewBox=\"0 0 24 24\"\n",
              "       width=\"24px\">\n",
              "    <path d=\"M0 0h24v24H0V0z\" fill=\"none\"/>\n",
              "    <path d=\"M18.56 5.44l.94 2.06.94-2.06 2.06-.94-2.06-.94-.94-2.06-.94 2.06-2.06.94zm-11 1L8.5 8.5l.94-2.06 2.06-.94-2.06-.94L8.5 2.5l-.94 2.06-2.06.94zm10 10l.94 2.06.94-2.06 2.06-.94-2.06-.94-.94-2.06-.94 2.06-2.06.94z\"/><path d=\"M17.41 7.96l-1.37-1.37c-.4-.4-.92-.59-1.43-.59-.52 0-1.04.2-1.43.59L10.3 9.45l-7.72 7.72c-.78.78-.78 2.05 0 2.83L4 21.41c.39.39.9.59 1.41.59.51 0 1.02-.2 1.41-.59l7.78-7.78 2.81-2.81c.8-.78.8-2.07 0-2.86zM5.41 20L4 18.59l7.72-7.72 1.47 1.35L5.41 20z\"/>\n",
              "  </svg>\n",
              "      </button>\n",
              "      \n",
              "  <style>\n",
              "    .colab-df-container {\n",
              "      display:flex;\n",
              "      flex-wrap:wrap;\n",
              "      gap: 12px;\n",
              "    }\n",
              "\n",
              "    .colab-df-convert {\n",
              "      background-color: #E8F0FE;\n",
              "      border: none;\n",
              "      border-radius: 50%;\n",
              "      cursor: pointer;\n",
              "      display: none;\n",
              "      fill: #1967D2;\n",
              "      height: 32px;\n",
              "      padding: 0 0 0 0;\n",
              "      width: 32px;\n",
              "    }\n",
              "\n",
              "    .colab-df-convert:hover {\n",
              "      background-color: #E2EBFA;\n",
              "      box-shadow: 0px 1px 2px rgba(60, 64, 67, 0.3), 0px 1px 3px 1px rgba(60, 64, 67, 0.15);\n",
              "      fill: #174EA6;\n",
              "    }\n",
              "\n",
              "    [theme=dark] .colab-df-convert {\n",
              "      background-color: #3B4455;\n",
              "      fill: #D2E3FC;\n",
              "    }\n",
              "\n",
              "    [theme=dark] .colab-df-convert:hover {\n",
              "      background-color: #434B5C;\n",
              "      box-shadow: 0px 1px 3px 1px rgba(0, 0, 0, 0.15);\n",
              "      filter: drop-shadow(0px 1px 2px rgba(0, 0, 0, 0.3));\n",
              "      fill: #FFFFFF;\n",
              "    }\n",
              "  </style>\n",
              "\n",
              "      <script>\n",
              "        const buttonEl =\n",
              "          document.querySelector('#df-8ea91105-6b41-4c22-8d3a-f1308ba04f3f button.colab-df-convert');\n",
              "        buttonEl.style.display =\n",
              "          google.colab.kernel.accessAllowed ? 'block' : 'none';\n",
              "\n",
              "        async function convertToInteractive(key) {\n",
              "          const element = document.querySelector('#df-8ea91105-6b41-4c22-8d3a-f1308ba04f3f');\n",
              "          const dataTable =\n",
              "            await google.colab.kernel.invokeFunction('convertToInteractive',\n",
              "                                                     [key], {});\n",
              "          if (!dataTable) return;\n",
              "\n",
              "          const docLinkHtml = 'Like what you see? Visit the ' +\n",
              "            '<a target=\"_blank\" href=https://colab.research.google.com/notebooks/data_table.ipynb>data table notebook</a>'\n",
              "            + ' to learn more about interactive tables.';\n",
              "          element.innerHTML = '';\n",
              "          dataTable['output_type'] = 'display_data';\n",
              "          await google.colab.output.renderOutput(dataTable, element);\n",
              "          const docLink = document.createElement('div');\n",
              "          docLink.innerHTML = docLinkHtml;\n",
              "          element.appendChild(docLink);\n",
              "        }\n",
              "      </script>\n",
              "    </div>\n",
              "  </div>\n",
              "  "
            ]
          },
          "metadata": {},
          "execution_count": 162
        }
      ]
    },
    {
      "cell_type": "markdown",
      "metadata": {
        "id": "w1BTCz_gszyx"
      },
      "source": [
        "##2.3 Visualize top 20 `good` and top 20 `bad` tokens using a word cloud"
      ]
    },
    {
      "cell_type": "code",
      "source": [
        "good_top20 = good_wc[good_wc['rank'] <= 20]\n",
        "plt.figure(figsize=(10,7))\n",
        "squarify.plot(sizes=good_top20['count'], label=good_top20['word'], alpha=0.8 )\n",
        "plt.title(\"Positive Reviews\")\n",
        "plt.axis('off')\n",
        "plt.show()\n",
        "\n",
        "bad_top20 = bad_wc[bad_wc['rank'] <= 20]\n",
        "plt.figure(figsize=(10,7))\n",
        "squarify.plot(sizes=bad_top20['fraction_of_total'], label=bad_top20['word'], alpha=0.8)\n",
        "plt.title(\"Negative Reviews\")\n",
        "plt.axis('off')\n",
        "plt.show()"
      ],
      "metadata": {
        "colab": {
          "base_uri": "https://localhost:8080/",
          "height": 837
        },
        "id": "36y1KEkBdmh7",
        "outputId": "bbb99e24-3813-4800-df6b-87573ff4e4de"
      },
      "execution_count": 163,
      "outputs": [
        {
          "output_type": "display_data",
          "data": {
            "text/plain": [
              "<Figure size 720x504 with 1 Axes>"
            ],
            "image/png": "[encoded data removed]"
          },
          "metadata": {
            "needs_background": "light"
          }
        },
        {
          "output_type": "display_data",
          "data": {
            "text/plain": [
              "<Figure size 720x504 with 1 Axes>"
            ],
            "image/png": "[encoded data removed]"
          },
          "metadata": {
            "needs_background": "light"
          }
        }
      ]
    },
    {
      "cell_type": "markdown",
      "metadata": {
        "id": "hhRS5oWkszy1"
      },
      "source": [
        "## 3. Find out which words are likely to occur in \"good\" and \"bad\" reviews\n",
        "Ok - let's do a more thorough analysis! <br>\n",
        "Looking at `df_pos_wc` and `df_neg_wc` we notice that certain words are ranked higher in one data set and lower in the other. "
      ]
    },
    {
      "cell_type": "code",
      "metadata": {
        "id": "ad_p-iZaszy1"
      },
      "source": [
        "# these are words that are ranked high in one data set but not the other\n",
        "# you might try working with two keyword lists -- one for the good reviews and one for the bad reviews \n",
        "good_key_words = [word for word in good_top20['word'] if word not in bad_top20['word'].to_list()]\n",
        "bad_key_words = [word for word in bad_top20['word'] if word not in good_top20['word'].to_list()]"
      ],
      "execution_count": 175,
      "outputs": []
    },
    {
      "cell_type": "code",
      "source": [
        "df_pos_keywords_mask = good_wc.word.isin(good_key_words)\n",
        "df_pos_keywords = good_wc[df_pos_keywords_mask]\n",
        "df_pos_keywords.head()"
      ],
      "metadata": {
        "colab": {
          "base_uri": "https://localhost:8080/",
          "height": 206
        },
        "id": "bHeZBvcIgzhk",
        "outputId": "496a50e3-ef42-4a84-963b-7a4f23baf6ce"
      },
      "execution_count": 178,
      "outputs": [
        {
          "output_type": "execute_result",
          "data": {
            "text/plain": [
              "         word  appears_in_docs  count  rank  fraction_of_total  \\\n",
              "29       love             1564   2049   7.0           0.007093   \n",
              "55     Austin             1543   1987   9.0           0.006879   \n",
              "149  friendly             1441   1516  15.0           0.005248   \n",
              "43       nice             1189   1400  18.0           0.004846   \n",
              "31      latte              944   1386  19.0           0.004798   \n",
              "\n",
              "     cumulative_fraction_of_total  appears_in_fraction_of_docs  \n",
              "29                       0.096562                     0.254723  \n",
              "55                       0.110336                     0.251303  \n",
              "149                      0.145982                     0.234691  \n",
              "43                       0.160913                     0.193648  \n",
              "31                       0.165711                     0.153746  "
            ],
            "text/html": [
              "\n",
              "  <div id=\"df-bc0afef5-a4c7-47ea-8dfa-db451a90ded8\">\n",
              "    <div class=\"colab-df-container\">\n",
              "      <div>\n",
              "<style scoped>\n",
              "    .dataframe tbody tr th:only-of-type {\n",
              "        vertical-align: middle;\n",
              "    }\n",
              "\n",
              "    .dataframe tbody tr th {\n",
              "        vertical-align: top;\n",
              "    }\n",
              "\n",
              "    .dataframe thead th {\n",
              "        text-align: right;\n",
              "    }\n",
              "</style>\n",
              "<table border=\"1\" class=\"dataframe\">\n",
              "  <thead>\n",
              "    <tr style=\"text-align: right;\">\n",
              "      <th></th>\n",
              "      <th>word</th>\n",
              "      <th>appears_in_docs</th>\n",
              "      <th>count</th>\n",
              "      <th>rank</th>\n",
              "      <th>fraction_of_total</th>\n",
              "      <th>cumulative_fraction_of_total</th>\n",
              "      <th>appears_in_fraction_of_docs</th>\n",
              "    </tr>\n",
              "  </thead>\n",
              "  <tbody>\n",
              "    <tr>\n",
              "      <th>29</th>\n",
              "      <td>love</td>\n",
              "      <td>1564</td>\n",
              "      <td>2049</td>\n",
              "      <td>7.0</td>\n",
              "      <td>0.007093</td>\n",
              "      <td>0.096562</td>\n",
              "      <td>0.254723</td>\n",
              "    </tr>\n",
              "    <tr>\n",
              "      <th>55</th>\n",
              "      <td>Austin</td>\n",
              "      <td>1543</td>\n",
              "      <td>1987</td>\n",
              "      <td>9.0</td>\n",
              "      <td>0.006879</td>\n",
              "      <td>0.110336</td>\n",
              "      <td>0.251303</td>\n",
              "    </tr>\n",
              "    <tr>\n",
              "      <th>149</th>\n",
              "      <td>friendly</td>\n",
              "      <td>1441</td>\n",
              "      <td>1516</td>\n",
              "      <td>15.0</td>\n",
              "      <td>0.005248</td>\n",
              "      <td>0.145982</td>\n",
              "      <td>0.234691</td>\n",
              "    </tr>\n",
              "    <tr>\n",
              "      <th>43</th>\n",
              "      <td>nice</td>\n",
              "      <td>1189</td>\n",
              "      <td>1400</td>\n",
              "      <td>18.0</td>\n",
              "      <td>0.004846</td>\n",
              "      <td>0.160913</td>\n",
              "      <td>0.193648</td>\n",
              "    </tr>\n",
              "    <tr>\n",
              "      <th>31</th>\n",
              "      <td>latte</td>\n",
              "      <td>944</td>\n",
              "      <td>1386</td>\n",
              "      <td>19.0</td>\n",
              "      <td>0.004798</td>\n",
              "      <td>0.165711</td>\n",
              "      <td>0.153746</td>\n",
              "    </tr>\n",
              "  </tbody>\n",
              "</table>\n",
              "</div>\n",
              "      <button class=\"colab-df-convert\" onclick=\"convertToInteractive('df-bc0afef5-a4c7-47ea-8dfa-db451a90ded8')\"\n",
              "              title=\"Convert this dataframe to an interactive table.\"\n",
              "              style=\"display:none;\">\n",
              "        \n",
              "  <svg xmlns=\"http://www.w3.org/2000/svg\" height=\"24px\"viewBox=\"0 0 24 24\"\n",
              "       width=\"24px\">\n",
              "    <path d=\"M0 0h24v24H0V0z\" fill=\"none\"/>\n",
              "    <path d=\"M18.56 5.44l.94 2.06.94-2.06 2.06-.94-2.06-.94-.94-2.06-.94 2.06-2.06.94zm-11 1L8.5 8.5l.94-2.06 2.06-.94-2.06-.94L8.5 2.5l-.94 2.06-2.06.94zm10 10l.94 2.06.94-2.06 2.06-.94-2.06-.94-.94-2.06-.94 2.06-2.06.94z\"/><path d=\"M17.41 7.96l-1.37-1.37c-.4-.4-.92-.59-1.43-.59-.52 0-1.04.2-1.43.59L10.3 9.45l-7.72 7.72c-.78.78-.78 2.05 0 2.83L4 21.41c.39.39.9.59 1.41.59.51 0 1.02-.2 1.41-.59l7.78-7.78 2.81-2.81c.8-.78.8-2.07 0-2.86zM5.41 20L4 18.59l7.72-7.72 1.47 1.35L5.41 20z\"/>\n",
              "  </svg>\n",
              "      </button>\n",
              "      \n",
              "  <style>\n",
              "    .colab-df-container {\n",
              "      display:flex;\n",
              "      flex-wrap:wrap;\n",
              "      gap: 12px;\n",
              "    }\n",
              "\n",
              "    .colab-df-convert {\n",
              "      background-color: #E8F0FE;\n",
              "      border: none;\n",
              "      border-radius: 50%;\n",
              "      cursor: pointer;\n",
              "      display: none;\n",
              "      fill: #1967D2;\n",
              "      height: 32px;\n",
              "      padding: 0 0 0 0;\n",
              "      width: 32px;\n",
              "    }\n",
              "\n",
              "    .colab-df-convert:hover {\n",
              "      background-color: #E2EBFA;\n",
              "      box-shadow: 0px 1px 2px rgba(60, 64, 67, 0.3), 0px 1px 3px 1px rgba(60, 64, 67, 0.15);\n",
              "      fill: #174EA6;\n",
              "    }\n",
              "\n",
              "    [theme=dark] .colab-df-convert {\n",
              "      background-color: #3B4455;\n",
              "      fill: #D2E3FC;\n",
              "    }\n",
              "\n",
              "    [theme=dark] .colab-df-convert:hover {\n",
              "      background-color: #434B5C;\n",
              "      box-shadow: 0px 1px 3px 1px rgba(0, 0, 0, 0.15);\n",
              "      filter: drop-shadow(0px 1px 2px rgba(0, 0, 0, 0.3));\n",
              "      fill: #FFFFFF;\n",
              "    }\n",
              "  </style>\n",
              "\n",
              "      <script>\n",
              "        const buttonEl =\n",
              "          document.querySelector('#df-bc0afef5-a4c7-47ea-8dfa-db451a90ded8 button.colab-df-convert');\n",
              "        buttonEl.style.display =\n",
              "          google.colab.kernel.accessAllowed ? 'block' : 'none';\n",
              "\n",
              "        async function convertToInteractive(key) {\n",
              "          const element = document.querySelector('#df-bc0afef5-a4c7-47ea-8dfa-db451a90ded8');\n",
              "          const dataTable =\n",
              "            await google.colab.kernel.invokeFunction('convertToInteractive',\n",
              "                                                     [key], {});\n",
              "          if (!dataTable) return;\n",
              "\n",
              "          const docLinkHtml = 'Like what you see? Visit the ' +\n",
              "            '<a target=\"_blank\" href=https://colab.research.google.com/notebooks/data_table.ipynb>data table notebook</a>'\n",
              "            + ' to learn more about interactive tables.';\n",
              "          element.innerHTML = '';\n",
              "          dataTable['output_type'] = 'display_data';\n",
              "          await google.colab.output.renderOutput(dataTable, element);\n",
              "          const docLink = document.createElement('div');\n",
              "          docLink.innerHTML = docLinkHtml;\n",
              "          element.appendChild(docLink);\n",
              "        }\n",
              "      </script>\n",
              "    </div>\n",
              "  </div>\n",
              "  "
            ]
          },
          "metadata": {},
          "execution_count": 178
        }
      ]
    },
    {
      "cell_type": "code",
      "source": [
        "df_neg_keywords_mask = bad_wc.word.isin(bad_key_words)\n",
        "df_neg_keywords = bad_wc[df_neg_keywords_mask]\n",
        "df_neg_keywords.head()"
      ],
      "metadata": {
        "colab": {
          "base_uri": "https://localhost:8080/",
          "height": 206
        },
        "id": "6k_eUot2hWY7",
        "outputId": "fd00b822-212a-44c9-fcb4-731e036b5009"
      },
      "execution_count": 179,
      "outputs": [
        {
          "output_type": "execute_result",
          "data": {
            "text/plain": [
              "        word  appears_in_docs  count  rank  fraction_of_total  \\\n",
              "163     food              317    494  10.0           0.006121   \n",
              "53        go              337    448  13.0           0.005551   \n",
              "9    service              334    434  14.0           0.005378   \n",
              "66     taste              282    387  19.0           0.004795   \n",
              "30         $              218    381  20.0           0.004721   \n",
              "\n",
              "     cumulative_fraction_of_total  appears_in_fraction_of_docs  \n",
              "163                      0.110218                     0.214770  \n",
              "53                       0.127144                     0.228320  \n",
              "9                        0.132521                     0.226287  \n",
              "66                       0.158096                     0.191057  \n",
              "30                       0.162817                     0.147696  "
            ],
            "text/html": [
              "\n",
              "  <div id=\"df-eeb53afd-508b-46d3-aca2-4e5fdac232db\">\n",
              "    <div class=\"colab-df-container\">\n",
              "      <div>\n",
              "<style scoped>\n",
              "    .dataframe tbody tr th:only-of-type {\n",
              "        vertical-align: middle;\n",
              "    }\n",
              "\n",
              "    .dataframe tbody tr th {\n",
              "        vertical-align: top;\n",
              "    }\n",
              "\n",
              "    .dataframe thead th {\n",
              "        text-align: right;\n",
              "    }\n",
              "</style>\n",
              "<table border=\"1\" class=\"dataframe\">\n",
              "  <thead>\n",
              "    <tr style=\"text-align: right;\">\n",
              "      <th></th>\n",
              "      <th>word</th>\n",
              "      <th>appears_in_docs</th>\n",
              "      <th>count</th>\n",
              "      <th>rank</th>\n",
              "      <th>fraction_of_total</th>\n",
              "      <th>cumulative_fraction_of_total</th>\n",
              "      <th>appears_in_fraction_of_docs</th>\n",
              "    </tr>\n",
              "  </thead>\n",
              "  <tbody>\n",
              "    <tr>\n",
              "      <th>163</th>\n",
              "      <td>food</td>\n",
              "      <td>317</td>\n",
              "      <td>494</td>\n",
              "      <td>10.0</td>\n",
              "      <td>0.006121</td>\n",
              "      <td>0.110218</td>\n",
              "      <td>0.214770</td>\n",
              "    </tr>\n",
              "    <tr>\n",
              "      <th>53</th>\n",
              "      <td>go</td>\n",
              "      <td>337</td>\n",
              "      <td>448</td>\n",
              "      <td>13.0</td>\n",
              "      <td>0.005551</td>\n",
              "      <td>0.127144</td>\n",
              "      <td>0.228320</td>\n",
              "    </tr>\n",
              "    <tr>\n",
              "      <th>9</th>\n",
              "      <td>service</td>\n",
              "      <td>334</td>\n",
              "      <td>434</td>\n",
              "      <td>14.0</td>\n",
              "      <td>0.005378</td>\n",
              "      <td>0.132521</td>\n",
              "      <td>0.226287</td>\n",
              "    </tr>\n",
              "    <tr>\n",
              "      <th>66</th>\n",
              "      <td>taste</td>\n",
              "      <td>282</td>\n",
              "      <td>387</td>\n",
              "      <td>19.0</td>\n",
              "      <td>0.004795</td>\n",
              "      <td>0.158096</td>\n",
              "      <td>0.191057</td>\n",
              "    </tr>\n",
              "    <tr>\n",
              "      <th>30</th>\n",
              "      <td>$</td>\n",
              "      <td>218</td>\n",
              "      <td>381</td>\n",
              "      <td>20.0</td>\n",
              "      <td>0.004721</td>\n",
              "      <td>0.162817</td>\n",
              "      <td>0.147696</td>\n",
              "    </tr>\n",
              "  </tbody>\n",
              "</table>\n",
              "</div>\n",
              "      <button class=\"colab-df-convert\" onclick=\"convertToInteractive('df-eeb53afd-508b-46d3-aca2-4e5fdac232db')\"\n",
              "              title=\"Convert this dataframe to an interactive table.\"\n",
              "              style=\"display:none;\">\n",
              "        \n",
              "  <svg xmlns=\"http://www.w3.org/2000/svg\" height=\"24px\"viewBox=\"0 0 24 24\"\n",
              "       width=\"24px\">\n",
              "    <path d=\"M0 0h24v24H0V0z\" fill=\"none\"/>\n",
              "    <path d=\"M18.56 5.44l.94 2.06.94-2.06 2.06-.94-2.06-.94-.94-2.06-.94 2.06-2.06.94zm-11 1L8.5 8.5l.94-2.06 2.06-.94-2.06-.94L8.5 2.5l-.94 2.06-2.06.94zm10 10l.94 2.06.94-2.06 2.06-.94-2.06-.94-.94-2.06-.94 2.06-2.06.94z\"/><path d=\"M17.41 7.96l-1.37-1.37c-.4-.4-.92-.59-1.43-.59-.52 0-1.04.2-1.43.59L10.3 9.45l-7.72 7.72c-.78.78-.78 2.05 0 2.83L4 21.41c.39.39.9.59 1.41.59.51 0 1.02-.2 1.41-.59l7.78-7.78 2.81-2.81c.8-.78.8-2.07 0-2.86zM5.41 20L4 18.59l7.72-7.72 1.47 1.35L5.41 20z\"/>\n",
              "  </svg>\n",
              "      </button>\n",
              "      \n",
              "  <style>\n",
              "    .colab-df-container {\n",
              "      display:flex;\n",
              "      flex-wrap:wrap;\n",
              "      gap: 12px;\n",
              "    }\n",
              "\n",
              "    .colab-df-convert {\n",
              "      background-color: #E8F0FE;\n",
              "      border: none;\n",
              "      border-radius: 50%;\n",
              "      cursor: pointer;\n",
              "      display: none;\n",
              "      fill: #1967D2;\n",
              "      height: 32px;\n",
              "      padding: 0 0 0 0;\n",
              "      width: 32px;\n",
              "    }\n",
              "\n",
              "    .colab-df-convert:hover {\n",
              "      background-color: #E2EBFA;\n",
              "      box-shadow: 0px 1px 2px rgba(60, 64, 67, 0.3), 0px 1px 3px 1px rgba(60, 64, 67, 0.15);\n",
              "      fill: #174EA6;\n",
              "    }\n",
              "\n",
              "    [theme=dark] .colab-df-convert {\n",
              "      background-color: #3B4455;\n",
              "      fill: #D2E3FC;\n",
              "    }\n",
              "\n",
              "    [theme=dark] .colab-df-convert:hover {\n",
              "      background-color: #434B5C;\n",
              "      box-shadow: 0px 1px 3px 1px rgba(0, 0, 0, 0.15);\n",
              "      filter: drop-shadow(0px 1px 2px rgba(0, 0, 0, 0.3));\n",
              "      fill: #FFFFFF;\n",
              "    }\n",
              "  </style>\n",
              "\n",
              "      <script>\n",
              "        const buttonEl =\n",
              "          document.querySelector('#df-eeb53afd-508b-46d3-aca2-4e5fdac232db button.colab-df-convert');\n",
              "        buttonEl.style.display =\n",
              "          google.colab.kernel.accessAllowed ? 'block' : 'none';\n",
              "\n",
              "        async function convertToInteractive(key) {\n",
              "          const element = document.querySelector('#df-eeb53afd-508b-46d3-aca2-4e5fdac232db');\n",
              "          const dataTable =\n",
              "            await google.colab.kernel.invokeFunction('convertToInteractive',\n",
              "                                                     [key], {});\n",
              "          if (!dataTable) return;\n",
              "\n",
              "          const docLinkHtml = 'Like what you see? Visit the ' +\n",
              "            '<a target=\"_blank\" href=https://colab.research.google.com/notebooks/data_table.ipynb>data table notebook</a>'\n",
              "            + ' to learn more about interactive tables.';\n",
              "          element.innerHTML = '';\n",
              "          dataTable['output_type'] = 'display_data';\n",
              "          await google.colab.output.renderOutput(dataTable, element);\n",
              "          const docLink = document.createElement('div');\n",
              "          docLink.innerHTML = docLinkHtml;\n",
              "          element.appendChild(docLink);\n",
              "        }\n",
              "      </script>\n",
              "    </div>\n",
              "  </div>\n",
              "  "
            ]
          },
          "metadata": {},
          "execution_count": 179
        }
      ]
    },
    {
      "cell_type": "code",
      "metadata": {
        "id": "4m0c-J5p3O7_",
        "colab": {
          "base_uri": "https://localhost:8080/",
          "height": 791
        },
        "outputId": "1eb980b5-e481-4e96-8642-079a36575cd7"
      },
      "source": [
        "import seaborn as sns\n",
        "\n",
        "plt.figure(figsize=(15,6))\n",
        "plt.title(\"4 and 5 star reviews: Keyword Document Frequency\")\n",
        "sns.barplot(x=df_pos_keywords.word, y=df_pos_keywords['appears_in_fraction_of_docs'], palette=\"rocket\", order=good_key_words);\n",
        "plt.ylim(0,.42)\n",
        "plt.show();\n",
        "\n",
        "plt.figure(figsize=(15,6))\n",
        "plt.title(\"1, 2, and 3 star reviews: Keyword Document Frequency\")\n",
        "sns.barplot(x=df_neg_keywords.word, y=df_neg_keywords['appears_in_fraction_of_docs'], palette=\"rocket\", order=bad_key_words);\n",
        "plt.ylim(0,.42)\n",
        "plt.show();"
      ],
      "execution_count": 183,
      "outputs": [
        {
          "output_type": "display_data",
          "data": {
            "text/plain": [
              "<Figure size 1080x432 with 1 Axes>"
            ],
            "image/png": "[encoded data removed]"
          },
          "metadata": {
            "needs_background": "light"
          }
        },
        {
          "output_type": "display_data",
          "data": {
            "text/plain": [
              "<Figure size 1080x432 with 1 Axes>"
            ],
            "image/png": "[encoded data removed]"
          },
          "metadata": {
            "needs_background": "light"
          }
        }
      ]
    }
  ]
}