{
  "nbformat": 4,
  "nbformat_minor": 0,
  "metadata": {
    "kernelspec": {
      "name": "python3",
      "display_name": "Python 3"
    },
    "colab": {
      "provenance": []
    },
    "language_info": {
      "name": "python"
    },
    "gpuClass": "standard"
  },
  "cells": [
    {
      "cell_type": "markdown",
      "metadata": {
        "id": "5utTU63WzGd3"
      },
      "source": [
        "# BloomTech Data Science - Topic Modeling\n",
        "## Unit 4.1.4 Project*\n",
        "\n",
        "Michael Luo\n",
        "\n",
        "2023/02/25\n",
        "\n",
        "![](https://drive.google.com/uc?export=view&id=1Aze8Xe_ZZpV22IwFNUH09T2howHmF1AK)\n",
        "\n",
        "[Image Credit: slides from Ben Mabey](https://speakerdeck.com/bmabey/visualizing-topic-models)\n",
        "\n",
        "Apply Topic Modeling to Analyze a corpus of Amazon reviews\n",
        "\n",
        "- Load in the Amazon Review dataset\n",
        "- Clean the dataset \n",
        "- Vectorize the dataset \n",
        "- Fit a Gensim LDA topic model on Amazon Reviews\n",
        "- Select appropriate number of topics\n",
        "- Create some dope visualization of the topics\n",
        "- Write a few bullets on your findings in markdown at the end"
      ]
    },
    {
      "cell_type": "code",
      "metadata": {
        "id": "X0x7DXmr8zYE"
      },
      "source": [
        "!pip install pyLDAvis==3.3.1\n",
        "!pip install pandarallel==1.4.8\n",
        "!python -m spacy download en_core_web_lg"
      ],
      "execution_count": null,
      "outputs": []
    },
    {
      "cell_type": "markdown",
      "metadata": {
        "id": "isyLmOAZqYR0"
      },
      "source": [
        "## Restart runtime!"
      ]
    },
    {
      "cell_type": "code",
      "metadata": {
        "id": "rXrXC0mrzGd5",
        "colab": {
          "base_uri": "https://localhost:8080/"
        },
        "outputId": "fcd7fcdf-1f39-4f3d-f36e-87bd2aa7b305"
      },
      "source": [
        "import re\n",
        "import pandas as pd\n",
        "import numpy as np\n",
        "import matplotlib.pyplot as plt\n",
        "from sklearn.feature_extraction.text import CountVectorizer, TfidfVectorizer\n",
        "\n",
        "import spacy\n",
        "\n",
        "import pyLDAvis\n",
        "import pyLDAvis.gensim_models \n",
        "\n",
        "import gensim\n",
        "import gensim.corpora as corpora\n",
        "from gensim.utils import simple_preprocess\n",
        "from gensim.models import CoherenceModel\n",
        "\n",
        "from pandarallel import pandarallel\n",
        "\n",
        "%matplotlib inline\n",
        "\n",
        "import warnings\n",
        "warnings.filterwarnings(\"ignore\")"
      ],
      "execution_count": 1,
      "outputs": [
        {
          "output_type": "stream",
          "name": "stderr",
          "text": [
            "/usr/local/lib/python3.8/dist-packages/torch/cuda/__init__.py:497: UserWarning: Can't initialize NVML\n",
            "  warnings.warn(\"Can't initialize NVML\")\n",
            "/usr/local/lib/python3.8/dist-packages/past/types/oldstr.py:5: DeprecationWarning: Using or importing the ABCs from 'collections' instead of from 'collections.abc' is deprecated since Python 3.3, and in 3.10 it will stop working\n",
            "  from collections import Iterable\n",
            "/usr/local/lib/python3.8/dist-packages/past/builtins/misc.py:4: DeprecationWarning: Using or importing the ABCs from 'collections' instead of from 'collections.abc' is deprecated since Python 3.3, and in 3.10 it will stop working\n",
            "  from collections import Mapping\n",
            "/usr/local/lib/python3.8/dist-packages/scipy/sparse/sparsetools.py:21: DeprecationWarning: `scipy.sparse.sparsetools` is deprecated!\n",
            "scipy.sparse.sparsetools is a private module for scipy.sparse, and should not be used.\n",
            "  _deprecated()\n"
          ]
        }
      ]
    },
    {
      "cell_type": "markdown",
      "metadata": {
        "id": "x9ph4ZzpzGd6"
      },
      "source": [
        "----\n",
        "### Load the Amazon Review corpus \n",
        "This dataset is located in the Sprint 1 Module 1 `/data` directory. \n",
        "\n",
        "If the provided relative path doesn't work for you, then you'll have to provide the file path so pandas can read in the file."
      ]
    },
    {
      "cell_type": "code",
      "metadata": {
        "colab": {
          "base_uri": "https://localhost:8080/"
        },
        "id": "c_L4bKk_4E84",
        "outputId": "49cef3e7-2c27-4989-d440-3f987952e0a1"
      },
      "source": [
        "# A \"brute force\" way to get the Amazon reviews dataset; just clone the Sprint 1 repo!\n",
        "# Overkill, but it does the job!\n",
        "!git clone https://github.com/michael-s-luo/DS4.1_Natural-Language-Processing.git"
      ],
      "execution_count": 2,
      "outputs": [
        {
          "output_type": "stream",
          "name": "stdout",
          "text": [
            "Cloning into 'DS4.1_Natural-Language-Processing'...\n",
            "remote: Enumerating objects: 448, done.\u001b[K\n",
            "remote: Counting objects: 100% (448/448), done.\u001b[K\n",
            "remote: Compressing objects: 100% (432/432), done.\u001b[K\n",
            "remote: Total 448 (delta 32), reused 419 (delta 16), pack-reused 0\u001b[K\n",
            "Receiving objects: 100% (448/448), 20.78 MiB | 36.88 MiB/s, done.\n",
            "Resolving deltas: 100% (32/32), done.\n"
          ]
        }
      ]
    },
    {
      "cell_type": "code",
      "metadata": {
        "colab": {
          "base_uri": "https://localhost:8080/"
        },
        "id": "7__zXIF_504B",
        "outputId": "c26ce539-a04f-4f8f-8697-8bf420c4a0fc"
      },
      "source": [
        "!unzip '/content/DS4.1_Natural-Language-Processing/module1-text-data/data/Datafiniti_Amazon_Consumer_Reviews_of_Amazon_Products_May19.csv.zip'"
      ],
      "execution_count": 3,
      "outputs": [
        {
          "output_type": "stream",
          "name": "stdout",
          "text": [
            "Archive:  /content/DS4.1_Natural-Language-Processing/module1-text-data/data/Datafiniti_Amazon_Consumer_Reviews_of_Amazon_Products_May19.csv.zip\n",
            "  inflating: Datafiniti_Amazon_Consumer_Reviews_of_Amazon_Products_May19.csv  \n",
            "   creating: __MACOSX/\n",
            "  inflating: __MACOSX/._Datafiniti_Amazon_Consumer_Reviews_of_Amazon_Products_May19.csv  \n"
          ]
        }
      ]
    },
    {
      "cell_type": "code",
      "metadata": {
        "id": "Ov482n4pzGd6"
      },
      "source": [
        "data_path = \"/content/Datafiniti_Amazon_Consumer_Reviews_of_Amazon_Products_May19.csv\"\n",
        "df = pd.read_csv(data_path)"
      ],
      "execution_count": 2,
      "outputs": []
    },
    {
      "cell_type": "code",
      "metadata": {
        "id": "-yZZEwZNzGd7",
        "colab": {
          "base_uri": "https://localhost:8080/",
          "height": 344
        },
        "outputId": "3153602c-e0b6-48c6-d392-107930c4fdd1"
      },
      "source": [
        "df.head(2)"
      ],
      "execution_count": 3,
      "outputs": [
        {
          "output_type": "execute_result",
          "data": {
            "text/plain": [
              "                     id             dateAdded           dateUpdated  \\\n",
              "0  AVpgNzjwLJeJML43Kpxn  2015-10-30T08:59:32Z  2019-04-25T09:08:16Z   \n",
              "1  AVpgNzjwLJeJML43Kpxn  2015-10-30T08:59:32Z  2019-04-25T09:08:16Z   \n",
              "\n",
              "                                                name                  asins  \\\n",
              "0  AmazonBasics AAA Performance Alkaline Batterie...  B00QWO9P0O,B00LH3DMUO   \n",
              "1  AmazonBasics AAA Performance Alkaline Batterie...  B00QWO9P0O,B00LH3DMUO   \n",
              "\n",
              "          brand                                         categories  \\\n",
              "0  Amazonbasics  AA,AAA,Health,Electronics,Health & Household,C...   \n",
              "1  Amazonbasics  AA,AAA,Health,Electronics,Health & Household,C...   \n",
              "\n",
              "  primaryCategories                                          imageURLs  \\\n",
              "0   Health & Beauty  https://images-na.ssl-images-amazon.com/images...   \n",
              "1   Health & Beauty  https://images-na.ssl-images-amazon.com/images...   \n",
              "\n",
              "                                                keys  ... reviews.didPurchase  \\\n",
              "0  amazonbasics/hl002619,amazonbasicsaaaperforman...  ...                 NaN   \n",
              "1  amazonbasics/hl002619,amazonbasicsaaaperforman...  ...                 NaN   \n",
              "\n",
              "  reviews.doRecommend reviews.id reviews.numHelpful reviews.rating  \\\n",
              "0                 NaN        NaN                NaN              3   \n",
              "1                 NaN        NaN                NaN              4   \n",
              "\n",
              "                                  reviews.sourceURLs  \\\n",
              "0  https://www.amazon.com/product-reviews/B00QWO9...   \n",
              "1  https://www.amazon.com/product-reviews/B00QWO9...   \n",
              "\n",
              "                                        reviews.text  \\\n",
              "0  I order 3 of them and one of the item is bad q...   \n",
              "1  Bulk is always the less expensive way to go fo...   \n",
              "\n",
              "                                       reviews.title  reviews.username  \\\n",
              "0  ... 3 of them and one of the item is bad quali...        Byger yang   \n",
              "1  ... always the less expensive way to go for pr...              ByMG   \n",
              "\n",
              "                                          sourceURLs  \n",
              "0  https://www.barcodable.com/upc/841710106442,ht...  \n",
              "1  https://www.barcodable.com/upc/841710106442,ht...  \n",
              "\n",
              "[2 rows x 24 columns]"
            ],
            "text/html": [
              "\n",
              "  <div id=\"df-5b2556a7-42ff-420e-a97b-33ede34214fa\">\n",
              "    <div class=\"colab-df-container\">\n",
              "      <div>\n",
              "<style scoped>\n",
              "    .dataframe tbody tr th:only-of-type {\n",
              "        vertical-align: middle;\n",
              "    }\n",
              "\n",
              "    .dataframe tbody tr th {\n",
              "        vertical-align: top;\n",
              "    }\n",
              "\n",
              "    .dataframe thead th {\n",
              "        text-align: right;\n",
              "    }\n",
              "</style>\n",
              "<table border=\"1\" class=\"dataframe\">\n",
              "  <thead>\n",
              "    <tr style=\"text-align: right;\">\n",
              "      <th></th>\n",
              "      <th>id</th>\n",
              "      <th>dateAdded</th>\n",
              "      <th>dateUpdated</th>\n",
              "      <th>name</th>\n",
              "      <th>asins</th>\n",
              "      <th>brand</th>\n",
              "      <th>categories</th>\n",
              "      <th>primaryCategories</th>\n",
              "      <th>imageURLs</th>\n",
              "      <th>keys</th>\n",
              "      <th>...</th>\n",
              "      <th>reviews.didPurchase</th>\n",
              "      <th>reviews.doRecommend</th>\n",
              "      <th>reviews.id</th>\n",
              "      <th>reviews.numHelpful</th>\n",
              "      <th>reviews.rating</th>\n",
              "      <th>reviews.sourceURLs</th>\n",
              "      <th>reviews.text</th>\n",
              "      <th>reviews.title</th>\n",
              "      <th>reviews.username</th>\n",
              "      <th>sourceURLs</th>\n",
              "    </tr>\n",
              "  </thead>\n",
              "  <tbody>\n",
              "    <tr>\n",
              "      <th>0</th>\n",
              "      <td>AVpgNzjwLJeJML43Kpxn</td>\n",
              "      <td>2015-10-30T08:59:32Z</td>\n",
              "      <td>2019-04-25T09:08:16Z</td>\n",
              "      <td>AmazonBasics AAA Performance Alkaline Batterie...</td>\n",
              "      <td>B00QWO9P0O,B00LH3DMUO</td>\n",
              "      <td>Amazonbasics</td>\n",
              "      <td>AA,AAA,Health,Electronics,Health &amp; Household,C...</td>\n",
              "      <td>Health &amp; Beauty</td>\n",
              "      <td>https://images-na.ssl-images-amazon.com/images...</td>\n",
              "      <td>amazonbasics/hl002619,amazonbasicsaaaperforman...</td>\n",
              "      <td>...</td>\n",
              "      <td>NaN</td>\n",
              "      <td>NaN</td>\n",
              "      <td>NaN</td>\n",
              "      <td>NaN</td>\n",
              "      <td>3</td>\n",
              "      <td>https://www.amazon.com/product-reviews/B00QWO9...</td>\n",
              "      <td>I order 3 of them and one of the item is bad q...</td>\n",
              "      <td>... 3 of them and one of the item is bad quali...</td>\n",
              "      <td>Byger yang</td>\n",
              "      <td>https://www.barcodable.com/upc/841710106442,ht...</td>\n",
              "    </tr>\n",
              "    <tr>\n",
              "      <th>1</th>\n",
              "      <td>AVpgNzjwLJeJML43Kpxn</td>\n",
              "      <td>2015-10-30T08:59:32Z</td>\n",
              "      <td>2019-04-25T09:08:16Z</td>\n",
              "      <td>AmazonBasics AAA Performance Alkaline Batterie...</td>\n",
              "      <td>B00QWO9P0O,B00LH3DMUO</td>\n",
              "      <td>Amazonbasics</td>\n",
              "      <td>AA,AAA,Health,Electronics,Health &amp; Household,C...</td>\n",
              "      <td>Health &amp; Beauty</td>\n",
              "      <td>https://images-na.ssl-images-amazon.com/images...</td>\n",
              "      <td>amazonbasics/hl002619,amazonbasicsaaaperforman...</td>\n",
              "      <td>...</td>\n",
              "      <td>NaN</td>\n",
              "      <td>NaN</td>\n",
              "      <td>NaN</td>\n",
              "      <td>NaN</td>\n",
              "      <td>4</td>\n",
              "      <td>https://www.amazon.com/product-reviews/B00QWO9...</td>\n",
              "      <td>Bulk is always the less expensive way to go fo...</td>\n",
              "      <td>... always the less expensive way to go for pr...</td>\n",
              "      <td>ByMG</td>\n",
              "      <td>https://www.barcodable.com/upc/841710106442,ht...</td>\n",
              "    </tr>\n",
              "  </tbody>\n",
              "</table>\n",
              "<p>2 rows × 24 columns</p>\n",
              "</div>\n",
              "      <button class=\"colab-df-convert\" onclick=\"convertToInteractive('df-5b2556a7-42ff-420e-a97b-33ede34214fa')\"\n",
              "              title=\"Convert this dataframe to an interactive table.\"\n",
              "              style=\"display:none;\">\n",
              "        \n",
              "  <svg xmlns=\"http://www.w3.org/2000/svg\" height=\"24px\"viewBox=\"0 0 24 24\"\n",
              "       width=\"24px\">\n",
              "    <path d=\"M0 0h24v24H0V0z\" fill=\"none\"/>\n",
              "    <path d=\"M18.56 5.44l.94 2.06.94-2.06 2.06-.94-2.06-.94-.94-2.06-.94 2.06-2.06.94zm-11 1L8.5 8.5l.94-2.06 2.06-.94-2.06-.94L8.5 2.5l-.94 2.06-2.06.94zm10 10l.94 2.06.94-2.06 2.06-.94-2.06-.94-.94-2.06-.94 2.06-2.06.94z\"/><path d=\"M17.41 7.96l-1.37-1.37c-.4-.4-.92-.59-1.43-.59-.52 0-1.04.2-1.43.59L10.3 9.45l-7.72 7.72c-.78.78-.78 2.05 0 2.83L4 21.41c.39.39.9.59 1.41.59.51 0 1.02-.2 1.41-.59l7.78-7.78 2.81-2.81c.8-.78.8-2.07 0-2.86zM5.41 20L4 18.59l7.72-7.72 1.47 1.35L5.41 20z\"/>\n",
              "  </svg>\n",
              "      </button>\n",
              "      \n",
              "  <style>\n",
              "    .colab-df-container {\n",
              "      display:flex;\n",
              "      flex-wrap:wrap;\n",
              "      gap: 12px;\n",
              "    }\n",
              "\n",
              "    .colab-df-convert {\n",
              "      background-color: #E8F0FE;\n",
              "      border: none;\n",
              "      border-radius: 50%;\n",
              "      cursor: pointer;\n",
              "      display: none;\n",
              "      fill: #1967D2;\n",
              "      height: 32px;\n",
              "      padding: 0 0 0 0;\n",
              "      width: 32px;\n",
              "    }\n",
              "\n",
              "    .colab-df-convert:hover {\n",
              "      background-color: #E2EBFA;\n",
              "      box-shadow: 0px 1px 2px rgba(60, 64, 67, 0.3), 0px 1px 3px 1px rgba(60, 64, 67, 0.15);\n",
              "      fill: #174EA6;\n",
              "    }\n",
              "\n",
              "    [theme=dark] .colab-df-convert {\n",
              "      background-color: #3B4455;\n",
              "      fill: #D2E3FC;\n",
              "    }\n",
              "\n",
              "    [theme=dark] .colab-df-convert:hover {\n",
              "      background-color: #434B5C;\n",
              "      box-shadow: 0px 1px 3px 1px rgba(0, 0, 0, 0.15);\n",
              "      filter: drop-shadow(0px 1px 2px rgba(0, 0, 0, 0.3));\n",
              "      fill: #FFFFFF;\n",
              "    }\n",
              "  </style>\n",
              "\n",
              "      <script>\n",
              "        const buttonEl =\n",
              "          document.querySelector('#df-5b2556a7-42ff-420e-a97b-33ede34214fa button.colab-df-convert');\n",
              "        buttonEl.style.display =\n",
              "          google.colab.kernel.accessAllowed ? 'block' : 'none';\n",
              "\n",
              "        async function convertToInteractive(key) {\n",
              "          const element = document.querySelector('#df-5b2556a7-42ff-420e-a97b-33ede34214fa');\n",
              "          const dataTable =\n",
              "            await google.colab.kernel.invokeFunction('convertToInteractive',\n",
              "                                                     [key], {});\n",
              "          if (!dataTable) return;\n",
              "\n",
              "          const docLinkHtml = 'Like what you see? Visit the ' +\n",
              "            '<a target=\"_blank\" href=https://colab.research.google.com/notebooks/data_table.ipynb>data table notebook</a>'\n",
              "            + ' to learn more about interactive tables.';\n",
              "          element.innerHTML = '';\n",
              "          dataTable['output_type'] = 'display_data';\n",
              "          await google.colab.output.renderOutput(dataTable, element);\n",
              "          const docLink = document.createElement('div');\n",
              "          docLink.innerHTML = docLinkHtml;\n",
              "          element.appendChild(docLink);\n",
              "        }\n",
              "      </script>\n",
              "    </div>\n",
              "  </div>\n",
              "  "
            ]
          },
          "metadata": {},
          "execution_count": 3
        }
      ]
    },
    {
      "cell_type": "markdown",
      "metadata": {
        "id": "kdwr6x8PzGd7"
      },
      "source": [
        "----\n",
        "\n",
        "### Clean data\n",
        "\n",
        "- Create a function called `clean_data` that uses regex expressions to clean your data in preparation for the vectorizer. \n",
        "\n",
        "- Save the clean text data to a column in your dataframe named `clean_text`\n",
        "\n",
        "- Feel free to re-use old code that you have written in previous modules  "
      ]
    },
    {
      "cell_type": "code",
      "metadata": {
        "colab": {
          "base_uri": "https://localhost:8080/"
        },
        "id": "g5cL1Amq8iT_",
        "outputId": "a4f3641b-d13b-41db-b814-29360eeba77d"
      },
      "source": [
        "df.shape"
      ],
      "execution_count": 4,
      "outputs": [
        {
          "output_type": "execute_result",
          "data": {
            "text/plain": [
              "(28332, 24)"
            ]
          },
          "metadata": {},
          "execution_count": 4
        }
      ]
    },
    {
      "cell_type": "code",
      "metadata": {
        "colab": {
          "base_uri": "https://localhost:8080/",
          "height": 35
        },
        "id": "dgW6kglx8T_l",
        "outputId": "4d34501d-d7bd-441e-df71-0527dd9d8b64"
      },
      "source": [
        "df['reviews.text'][8505]"
      ],
      "execution_count": 5,
      "outputs": [
        {
          "output_type": "execute_result",
          "data": {
            "text/plain": [
              "'Have had zero issues with longevity or voltage. As good as the major brand batteries'"
            ],
            "application/vnd.google.colaboratory.intrinsic+json": {
              "type": "string"
            }
          },
          "metadata": {},
          "execution_count": 5
        }
      ]
    },
    {
      "cell_type": "code",
      "metadata": {
        "deletable": false,
        "nbgrader": {
          "cell_type": "code",
          "checksum": "a2513c0ebd04cf8645fe0a1feb1e1a36",
          "grade": false,
          "grade_id": "cell-fa0950cfe5ef7725",
          "locked": false,
          "schema_version": 3,
          "solution": true,
          "task": false
        },
        "id": "4xo_hkHKzGd7"
      },
      "source": [
        "def clean_data(text):\n",
        "  \"\"\"\n",
        "  Cleans data to remove unwanted characters and punctuation.\n",
        "  \"\"\"\n",
        "  text = re.sub(r\"[^a-zA-Z ]\", \"\", text)\n",
        "\n",
        "  return text.strip().lower()\n",
        " \n"
      ],
      "execution_count": 6,
      "outputs": []
    },
    {
      "cell_type": "code",
      "metadata": {
        "deletable": false,
        "nbgrader": {
          "cell_type": "code",
          "checksum": "a6ceefe5476e71efcb3d36c3e203616f",
          "grade": false,
          "grade_id": "cell-5b8e2bc0f9a745f3",
          "locked": false,
          "schema_version": 3,
          "solution": true,
          "task": false
        },
        "id": "H693L3fJzGd8"
      },
      "source": [
        "# create a clean_text column by applying  clean_data to your text\n",
        "df['clean_text'] = df['reviews.text'].apply(clean_data)"
      ],
      "execution_count": 7,
      "outputs": []
    },
    {
      "cell_type": "markdown",
      "metadata": {
        "id": "kzqt1ainzGd8"
      },
      "source": [
        "------\n",
        "\n",
        "## Determine number of topics\n",
        "\n",
        "We are going to run an experiment to determine how many topics exists within the `primaryCategories` of `Electronics`. This is the largest primary category containing nearly 14K documents, so we should have plenty of data. \n",
        "\n",
        "Just as we did in the guided project, we'll be running a gridseach over the number of topics and scoring each model using the Coherence metric to determine which number of topics we should use. \n"
      ]
    },
    {
      "cell_type": "code",
      "metadata": {
        "id": "3jrHewGbzGd9"
      },
      "source": [
        "# create a mask for docs that are in the Electronics primaryCategories - save result to `electronics_mask`\n",
        "electronics_mask = df['primaryCategories'] == \"Electronics\"\n",
        "\n",
        "# use mask to select all the documents in the Electronics primaryCategories - save result to `df_electronics`\n",
        "df_electronics = df[electronics_mask]"
      ],
      "execution_count": 8,
      "outputs": []
    },
    {
      "cell_type": "code",
      "metadata": {
        "colab": {
          "base_uri": "https://localhost:8080/"
        },
        "id": "peb18zW3zGd9",
        "outputId": "c8f38557-43cb-4fe8-d71a-4fbbbe5b2c4c"
      },
      "source": [
        "df_electronics.shape"
      ],
      "execution_count": 9,
      "outputs": [
        {
          "output_type": "execute_result",
          "data": {
            "text/plain": [
              "(13995, 25)"
            ]
          },
          "metadata": {},
          "execution_count": 9
        }
      ]
    },
    {
      "cell_type": "markdown",
      "metadata": {
        "id": "FfZWF0I9zGd-"
      },
      "source": [
        "------\n",
        "### Tokenize your documents \n",
        "\n",
        "Remember that you'll need to use the [**corpora**](https://radimrehurek.com/gensim/corpora/dictionary.html) class from the Gensim library. So definitely check out the docs to learn more about this tool. There is an example on how to do this in the guided project.\n",
        "\n",
        "But before we can use the [**corpora**](https://radimrehurek.com/gensim/corpora/dictionary.html) class, we must first tokenize our articles. \n",
        "\n"
      ]
    },
    {
      "cell_type": "code",
      "metadata": {
        "id": "t6pNnk3vzGd-"
      },
      "source": [
        "# load in the spaCy language model\n",
        "nlp = spacy.load(\"en_core_web_lg\")"
      ],
      "execution_count": 10,
      "outputs": []
    },
    {
      "cell_type": "code",
      "metadata": {
        "id": "05x-KJPIBQa2",
        "colab": {
          "base_uri": "https://localhost:8080/"
        },
        "outputId": "2f228125-56f0-4e17-e678-61fe0f09f0e2"
      },
      "source": [
        "%%time\n",
        "# create our tokens in the form of lemmas \n",
        "df_electronics['lemmas'] = df_electronics['clean_text'].apply(lambda x: [token.lemma_ for token in nlp(x) if (token.is_stop != True) and (token.is_punct != True) and (len(token.lemma_) > 1)])"
      ],
      "execution_count": 11,
      "outputs": [
        {
          "output_type": "stream",
          "name": "stdout",
          "text": [
            "CPU times: user 1min 58s, sys: 534 ms, total: 1min 59s\n",
            "Wall time: 2min 8s\n"
          ]
        }
      ]
    },
    {
      "cell_type": "markdown",
      "metadata": {
        "id": "WS7vTVqnzGd_"
      },
      "source": [
        "### Use the corpora class to prep your data for LDA\n",
        "\n",
        "You'll need to create the same `id2word` and `corpus` objects that we created in the guided projects. So be sure to reference the guided project notebook if you need to. "
      ]
    },
    {
      "cell_type": "code",
      "metadata": {
        "deletable": false,
        "nbgrader": {
          "cell_type": "code",
          "checksum": "53bf811aebb39e7ed6fc592851f82f8b",
          "grade": false,
          "grade_id": "cell-9d92f28649aa999e",
          "locked": false,
          "schema_version": 3,
          "solution": true,
          "task": false
        },
        "id": "7paL9zS7zGd_"
      },
      "source": [
        "# Create lemma dictionary using Dictionary - save result to `id2word`\n",
        "# Dictionary where keys=id, values=set of lemmas for our entire training set\n",
        "id2word = corpora.Dictionary(df_electronics['lemmas'])\n",
        "\n",
        "# Create Term Document Frequency list - save result to `corpus`\n",
        "\n",
        "corpus = [id2word.doc2bow(doc_lemma) for doc_lemma in df_electronics['lemmas']]"
      ],
      "execution_count": 13,
      "outputs": []
    },
    {
      "cell_type": "markdown",
      "metadata": {
        "id": "vtmHceiazGd_"
      },
      "source": [
        "## Gridsearch the number of topics \n",
        "\n",
        "Just as we did in the guided project, we're going to run a `for` loop over a range of possible number of topics and then plot the `coherence_values` to determine which number of topics leads to the most sensible grouping of documents. "
      ]
    },
    {
      "cell_type": "code",
      "metadata": {
        "id": "FBICFYD4zGeA"
      },
      "source": [
        "def compute_coherence_values(dictionary, corpus, texts, limit, start=2, step=3):\n",
        "    \"\"\"\n",
        "    Compute c_v coherence for various number of topics\n",
        "\n",
        "    Parameters:\n",
        "    ----------\n",
        "    dictionary : Gensim dictionary\n",
        "    corpus : Gensim corpus\n",
        "    texts : List of input texts\n",
        "    limit : Max num of topics\n",
        "\n",
        "    Returns:\n",
        "    -------\n",
        "    model_list : List of LDA topic models\n",
        "    coherence_values : Coherence values corresponding to the LDA model with respective number of topics\n",
        "    \"\"\"\n",
        "    coherence_values = []\n",
        "    model_list = []\n",
        "    for num_topics in range(start, limit, step):\n",
        "        model = gensim.models.ldamulticore.LdaMulticore(corpus=corpus,\n",
        "                                                        id2word=id2word,\n",
        "                                                        num_topics=num_topics, \n",
        "                                                        chunksize=100,\n",
        "                                                        passes=10,\n",
        "                                                        random_state=1234,\n",
        "                                                        per_word_topics=True,\n",
        "                                                        workers=2)\n",
        "        model_list.append(model)\n",
        "        coherencemodel = CoherenceModel(model=model, texts=texts, dictionary=dictionary, coherence='c_v')\n",
        "        coherence_values.append(coherencemodel.get_coherence())\n",
        "\n",
        "    return model_list, coherence_values"
      ],
      "execution_count": 14,
      "outputs": []
    },
    {
      "cell_type": "code",
      "metadata": {
        "id": "Nn20KdDl2HUR",
        "colab": {
          "base_uri": "https://localhost:8080/"
        },
        "outputId": "5127e66c-2453-4bf6-ce0f-85fa19cb270c"
      },
      "source": [
        "%%time\n",
        "model_list, coherence_values = compute_coherence_values(dictionary=id2word, corpus=corpus, texts=df_electronics['lemmas'], start=2, limit=16, step=2)"
      ],
      "execution_count": 15,
      "outputs": [
        {
          "output_type": "stream",
          "name": "stdout",
          "text": [
            "CPU times: user 3min, sys: 13 s, total: 3min 13s\n",
            "Wall time: 4min 52s\n"
          ]
        }
      ]
    },
    {
      "cell_type": "code",
      "metadata": {
        "id": "k2kJsVLt2P5-",
        "colab": {
          "base_uri": "https://localhost:8080/",
          "height": 350
        },
        "outputId": "cd77328b-32f6-4e74-e139-3624d500ad4d"
      },
      "source": [
        "start=2; limit=16;  step=2;\n",
        "x = range(start, limit, step)\n",
        "\n",
        "plt.figure(figsize=(20,5))\n",
        "plt.grid()\n",
        "plt.title(\"Coherence Score vs. Number of Topics\")\n",
        "plt.xticks(x)\n",
        "plt.plot(x, coherence_values, \"-o\")\n",
        "\n",
        "plt.xlabel(\"Num Topics\")\n",
        "plt.ylabel(\"Coherence score\")\n",
        "\n",
        "plt.show();"
      ],
      "execution_count": 16,
      "outputs": [
        {
          "output_type": "display_data",
          "data": {
            "text/plain": [
              "<Figure size 1440x360 with 1 Axes>"
            ],
            "image/png": "[encoded data removed]"
          },
          "metadata": {
            "needs_background": "light"
          }
        }
      ]
    },
    {
      "cell_type": "code",
      "source": [
        "model_list, coherence_values = compute_coherence_values(dictionary=id2word, corpus=corpus, texts=df_electronics['lemmas'], start=3, limit=6, step=1)"
      ],
      "metadata": {
        "id": "IRh5Ebwt_XDr"
      },
      "execution_count": 22,
      "outputs": []
    },
    {
      "cell_type": "code",
      "source": [
        "start=3; limit=6;  step=1;\n",
        "x = range(start, limit, step)\n",
        "\n",
        "plt.figure(figsize=(20,5))\n",
        "plt.grid()\n",
        "plt.title(\"Coherence Score vs. Number of Topics\")\n",
        "plt.xticks(x)\n",
        "plt.plot(x, coherence_values, \"-o\")\n",
        "\n",
        "plt.xlabel(\"Num Topics\")\n",
        "plt.ylabel(\"Coherence score\")\n",
        "\n",
        "plt.show();"
      ],
      "metadata": {
        "colab": {
          "base_uri": "https://localhost:8080/",
          "height": 350
        },
        "id": "uhGIrDjh_bfO",
        "outputId": "b1176fa5-ae02-4dc9-99d8-00ddab2734fa"
      },
      "execution_count": 24,
      "outputs": [
        {
          "output_type": "display_data",
          "data": {
            "text/plain": [
              "<Figure size 1440x360 with 1 Axes>"
            ],
            "image/png": "[encoded data removed]"
          },
          "metadata": {
            "needs_background": "light"
          }
        }
      ]
    },
    {
      "cell_type": "code",
      "metadata": {
        "deletable": false,
        "nbgrader": {
          "cell_type": "code",
          "checksum": "45f72ff929ab8b765d0f0b5f35137f0d",
          "grade": false,
          "grade_id": "cell-e97661faebf1ac3c",
          "locked": false,
          "schema_version": 3,
          "solution": true,
          "task": false
        },
        "id": "1Qx7OVX-zGeB",
        "colab": {
          "base_uri": "https://localhost:8080/"
        },
        "outputId": "aab6d0d7-31f8-4670-9132-7a799ba2b46d"
      },
      "source": [
        "# np.argmax() -> get index of largest coherence value from coherence_values -> save to `max_cohereance_val_index`\n",
        "\n",
        "# `max_coherence_val_index` to index model_list for the corresponding model -> save to `lda_trained_model`\n",
        "max_coherence_val_index = np.argmax(coherence_values)\n",
        "\n",
        "lda_trained_model = model_list[max_coherence_val_index]\n",
        "lda_trained_model\n"
      ],
      "execution_count": 25,
      "outputs": [
        {
          "output_type": "execute_result",
          "data": {
            "text/plain": [
              "<gensim.models.ldamulticore.LdaMulticore at 0x7f4ece673490>"
            ]
          },
          "metadata": {},
          "execution_count": 25
        }
      ]
    },
    {
      "cell_type": "markdown",
      "metadata": {
        "id": "LwGY4o8fzGeB"
      },
      "source": [
        "## Use pyLDAvis to visualize your topics \n",
        "\n",
        "Take a look at the topic bubbles and bar chart for the terms on the right hand side.  \n",
        "\n",
        "- Describe the topic bubbles. \n",
        "- Do they overlap or not? \n",
        "- What does it mean when they overlap? \n",
        "- What does it mean when they don't overlap?\n",
        "- Are the terms in each topic distinct from the topics in the other topic bubbles?\n"
      ]
    },
    {
      "cell_type": "code",
      "metadata": {
        "id": "9poWZ8WgItYS",
        "colab": {
          "base_uri": "https://localhost:8080/"
        },
        "outputId": "c4c3b88a-ed9e-4186-ff3c-fa65307fef57"
      },
      "source": [
        "!pip install ipywidgets"
      ],
      "execution_count": 27,
      "outputs": [
        {
          "output_type": "stream",
          "name": "stdout",
          "text": [
            "Looking in indexes: https://pypi.org/simple, https://us-python.pkg.dev/colab-wheels/public/simple/\n",
            "Requirement already satisfied: ipywidgets in /usr/local/lib/python3.8/dist-packages (7.7.1)\n",
            "Requirement already satisfied: traitlets>=4.3.1 in /usr/local/lib/python3.8/dist-packages (from ipywidgets) (5.7.1)\n",
            "Requirement already satisfied: ipykernel>=4.5.1 in /usr/local/lib/python3.8/dist-packages (from ipywidgets) (5.3.4)\n",
            "Requirement already satisfied: jupyterlab-widgets>=1.0.0 in /usr/local/lib/python3.8/dist-packages (from ipywidgets) (3.0.5)\n",
            "Requirement already satisfied: ipython>=4.0.0 in /usr/local/lib/python3.8/dist-packages (from ipywidgets) (7.9.0)\n",
            "Requirement already satisfied: ipython-genutils~=0.2.0 in /usr/local/lib/python3.8/dist-packages (from ipywidgets) (0.2.0)\n",
            "Requirement already satisfied: widgetsnbextension~=3.6.0 in /usr/local/lib/python3.8/dist-packages (from ipywidgets) (3.6.2)\n",
            "Requirement already satisfied: jupyter-client in /usr/local/lib/python3.8/dist-packages (from ipykernel>=4.5.1->ipywidgets) (6.1.12)\n",
            "Requirement already satisfied: tornado>=4.2 in /usr/local/lib/python3.8/dist-packages (from ipykernel>=4.5.1->ipywidgets) (6.2)\n",
            "Requirement already satisfied: pexpect in /usr/local/lib/python3.8/dist-packages (from ipython>=4.0.0->ipywidgets) (4.8.0)\n",
            "Requirement already satisfied: pygments in /usr/local/lib/python3.8/dist-packages (from ipython>=4.0.0->ipywidgets) (2.6.1)\n",
            "Collecting jedi>=0.10\n",
            "  Downloading jedi-0.18.2-py2.py3-none-any.whl (1.6 MB)\n",
            "\u001b[2K     \u001b[90m━━━━━━━━━━━━━━━━━━━━━━━━━━━━━━━━━━━━━━━━\u001b[0m \u001b[32m1.6/1.6 MB\u001b[0m \u001b[31m60.9 MB/s\u001b[0m eta \u001b[36m0:00:00\u001b[0m\n",
            "\u001b[?25hRequirement already satisfied: pickleshare in /usr/local/lib/python3.8/dist-packages (from ipython>=4.0.0->ipywidgets) (0.7.5)\n",
            "Requirement already satisfied: prompt-toolkit<2.1.0,>=2.0.0 in /usr/local/lib/python3.8/dist-packages (from ipython>=4.0.0->ipywidgets) (2.0.10)\n",
            "Requirement already satisfied: decorator in /usr/local/lib/python3.8/dist-packages (from ipython>=4.0.0->ipywidgets) (4.4.2)\n",
            "Requirement already satisfied: backcall in /usr/local/lib/python3.8/dist-packages (from ipython>=4.0.0->ipywidgets) (0.2.0)\n",
            "Requirement already satisfied: setuptools>=18.5 in /usr/local/lib/python3.8/dist-packages (from ipython>=4.0.0->ipywidgets) (57.4.0)\n",
            "Requirement already satisfied: notebook>=4.4.1 in /usr/local/lib/python3.8/dist-packages (from widgetsnbextension~=3.6.0->ipywidgets) (6.3.0)\n",
            "Requirement already satisfied: parso<0.9.0,>=0.8.0 in /usr/local/lib/python3.8/dist-packages (from jedi>=0.10->ipython>=4.0.0->ipywidgets) (0.8.3)\n",
            "Requirement already satisfied: nbconvert in /usr/local/lib/python3.8/dist-packages (from notebook>=4.4.1->widgetsnbextension~=3.6.0->ipywidgets) (5.6.1)\n",
            "Requirement already satisfied: argon2-cffi in /usr/local/lib/python3.8/dist-packages (from notebook>=4.4.1->widgetsnbextension~=3.6.0->ipywidgets) (21.3.0)\n",
            "Requirement already satisfied: jupyter-core>=4.6.1 in /usr/local/lib/python3.8/dist-packages (from notebook>=4.4.1->widgetsnbextension~=3.6.0->ipywidgets) (5.2.0)\n",
            "Requirement already satisfied: Send2Trash>=1.5.0 in /usr/local/lib/python3.8/dist-packages (from notebook>=4.4.1->widgetsnbextension~=3.6.0->ipywidgets) (1.8.0)\n",
            "Requirement already satisfied: terminado>=0.8.3 in /usr/local/lib/python3.8/dist-packages (from notebook>=4.4.1->widgetsnbextension~=3.6.0->ipywidgets) (0.13.3)\n",
            "Requirement already satisfied: jinja2 in /usr/local/lib/python3.8/dist-packages (from notebook>=4.4.1->widgetsnbextension~=3.6.0->ipywidgets) (2.11.3)\n",
            "Requirement already satisfied: prometheus-client in /usr/local/lib/python3.8/dist-packages (from notebook>=4.4.1->widgetsnbextension~=3.6.0->ipywidgets) (0.16.0)\n",
            "Requirement already satisfied: nbformat in /usr/local/lib/python3.8/dist-packages (from notebook>=4.4.1->widgetsnbextension~=3.6.0->ipywidgets) (5.7.3)\n",
            "Requirement already satisfied: pyzmq>=17 in /usr/local/lib/python3.8/dist-packages (from notebook>=4.4.1->widgetsnbextension~=3.6.0->ipywidgets) (23.2.1)\n",
            "Requirement already satisfied: python-dateutil>=2.1 in /usr/local/lib/python3.8/dist-packages (from jupyter-client->ipykernel>=4.5.1->ipywidgets) (2.8.2)\n",
            "Requirement already satisfied: wcwidth in /usr/local/lib/python3.8/dist-packages (from prompt-toolkit<2.1.0,>=2.0.0->ipython>=4.0.0->ipywidgets) (0.2.6)\n",
            "Requirement already satisfied: six>=1.9.0 in /usr/local/lib/python3.8/dist-packages (from prompt-toolkit<2.1.0,>=2.0.0->ipython>=4.0.0->ipywidgets) (1.15.0)\n",
            "Requirement already satisfied: ptyprocess>=0.5 in /usr/local/lib/python3.8/dist-packages (from pexpect->ipython>=4.0.0->ipywidgets) (0.7.0)\n",
            "Requirement already satisfied: platformdirs>=2.5 in /usr/local/lib/python3.8/dist-packages (from jupyter-core>=4.6.1->notebook>=4.4.1->widgetsnbextension~=3.6.0->ipywidgets) (3.0.0)\n",
            "Requirement already satisfied: argon2-cffi-bindings in /usr/local/lib/python3.8/dist-packages (from argon2-cffi->notebook>=4.4.1->widgetsnbextension~=3.6.0->ipywidgets) (21.2.0)\n",
            "Requirement already satisfied: MarkupSafe>=0.23 in /usr/local/lib/python3.8/dist-packages (from jinja2->notebook>=4.4.1->widgetsnbextension~=3.6.0->ipywidgets) (2.0.1)\n",
            "Requirement already satisfied: testpath in /usr/local/lib/python3.8/dist-packages (from nbconvert->notebook>=4.4.1->widgetsnbextension~=3.6.0->ipywidgets) (0.6.0)\n",
            "Requirement already satisfied: entrypoints>=0.2.2 in /usr/local/lib/python3.8/dist-packages (from nbconvert->notebook>=4.4.1->widgetsnbextension~=3.6.0->ipywidgets) (0.4)\n",
            "Requirement already satisfied: mistune<2,>=0.8.1 in /usr/local/lib/python3.8/dist-packages (from nbconvert->notebook>=4.4.1->widgetsnbextension~=3.6.0->ipywidgets) (0.8.4)\n",
            "Requirement already satisfied: defusedxml in /usr/local/lib/python3.8/dist-packages (from nbconvert->notebook>=4.4.1->widgetsnbextension~=3.6.0->ipywidgets) (0.7.1)\n",
            "Requirement already satisfied: pandocfilters>=1.4.1 in /usr/local/lib/python3.8/dist-packages (from nbconvert->notebook>=4.4.1->widgetsnbextension~=3.6.0->ipywidgets) (1.5.0)\n",
            "Requirement already satisfied: bleach in /usr/local/lib/python3.8/dist-packages (from nbconvert->notebook>=4.4.1->widgetsnbextension~=3.6.0->ipywidgets) (6.0.0)\n",
            "Requirement already satisfied: fastjsonschema in /usr/local/lib/python3.8/dist-packages (from nbformat->notebook>=4.4.1->widgetsnbextension~=3.6.0->ipywidgets) (2.16.2)\n",
            "Requirement already satisfied: jsonschema>=2.6 in /usr/local/lib/python3.8/dist-packages (from nbformat->notebook>=4.4.1->widgetsnbextension~=3.6.0->ipywidgets) (4.3.3)\n",
            "Requirement already satisfied: importlib-resources>=1.4.0 in /usr/local/lib/python3.8/dist-packages (from jsonschema>=2.6->nbformat->notebook>=4.4.1->widgetsnbextension~=3.6.0->ipywidgets) (5.12.0)\n",
            "Requirement already satisfied: attrs>=17.4.0 in /usr/local/lib/python3.8/dist-packages (from jsonschema>=2.6->nbformat->notebook>=4.4.1->widgetsnbextension~=3.6.0->ipywidgets) (22.2.0)\n",
            "Requirement already satisfied: pyrsistent!=0.17.0,!=0.17.1,!=0.17.2,>=0.14.0 in /usr/local/lib/python3.8/dist-packages (from jsonschema>=2.6->nbformat->notebook>=4.4.1->widgetsnbextension~=3.6.0->ipywidgets) (0.19.3)\n",
            "Requirement already satisfied: cffi>=1.0.1 in /usr/local/lib/python3.8/dist-packages (from argon2-cffi-bindings->argon2-cffi->notebook>=4.4.1->widgetsnbextension~=3.6.0->ipywidgets) (1.15.1)\n",
            "Requirement already satisfied: webencodings in /usr/local/lib/python3.8/dist-packages (from bleach->nbconvert->notebook>=4.4.1->widgetsnbextension~=3.6.0->ipywidgets) (0.5.1)\n",
            "Requirement already satisfied: pycparser in /usr/local/lib/python3.8/dist-packages (from cffi>=1.0.1->argon2-cffi-bindings->argon2-cffi->notebook>=4.4.1->widgetsnbextension~=3.6.0->ipywidgets) (2.21)\n",
            "Requirement already satisfied: zipp>=3.1.0 in /usr/local/lib/python3.8/dist-packages (from importlib-resources>=1.4.0->jsonschema>=2.6->nbformat->notebook>=4.4.1->widgetsnbextension~=3.6.0->ipywidgets) (3.14.0)\n",
            "Installing collected packages: jedi\n",
            "Successfully installed jedi-0.18.2\n"
          ]
        }
      ]
    },
    {
      "cell_type": "code",
      "metadata": {
        "id": "YBqK345s2oYC",
        "colab": {
          "base_uri": "https://localhost:8080/",
          "height": 860
        },
        "outputId": "1caf485c-0b4b-481c-942a-8857ef9e490c"
      },
      "source": [
        "# plot your topics here -- using pyLDAvis\n",
        "import pyLDAvis\n",
        "\n",
        "pyLDAvis.enable_notebook()\n",
        "vis = pyLDAvis.gensim_models.prepare(lda_trained_model, corpus, id2word)\n",
        "vis"
      ],
      "execution_count": 37,
      "outputs": [
        {
          "output_type": "execute_result",
          "data": {
            "text/plain": [
              "PreparedData(topic_coordinates=              x         y  topics  cluster       Freq\n",
              "topic                                                \n",
              "3      0.062717  0.003748       1        1  32.511639\n",
              "0      0.236445  0.063174       2        1  23.555763\n",
              "2     -0.091511 -0.250291       3        1  22.772160\n",
              "1     -0.207651  0.183370       4        1  21.160438, topic_info=         Term         Freq        Total Category  logprob  loglift\n",
              "6        love  4305.000000  4305.000000  Default  30.0000  30.0000\n",
              "872      read  1900.000000  1900.000000  Default  29.0000  29.0000\n",
              "140       old  1904.000000  1904.000000  Default  28.0000  28.0000\n",
              "430      book  1655.000000  1655.000000  Default  27.0000  27.0000\n",
              "99        not  2604.000000  2604.000000  Default  26.0000  26.0000\n",
              "...       ...          ...          ...      ...      ...      ...\n",
              "1064       hd   266.114879   858.420725   Topic4  -5.0184   0.3819\n",
              "300      find   221.128738   502.180355   Topic4  -5.2036   0.7328\n",
              "2       great   298.710868  4649.409528   Topic4  -4.9029  -1.1920\n",
              "579   feature   217.835990   662.898670   Topic4  -5.2186   0.4402\n",
              "317      need   211.007508  1036.433310   Topic4  -5.2505  -0.0386\n",
              "\n",
              "[266 rows x 6 columns], token_table=      Topic      Freq        Term\n",
              "term                             \n",
              "1089      2  0.991539            \n",
              "1136      2  0.049067  absolutely\n",
              "1136      3  0.947001  absolutely\n",
              "2412      2  0.995507          ad\n",
              "1655      1  0.990882       adult\n",
              "...     ...       ...         ...\n",
              "1026      2  0.031430        year\n",
              "1026      3  0.968543        year\n",
              "1361      3  0.996241       young\n",
              "1522      1  0.995531     youtube\n",
              "1499      3  0.996681          yr\n",
              "\n",
              "[336 rows x 3 columns], R=30, lambda_step=0.01, plot_opts={'xlab': 'PC1', 'ylab': 'PC2'}, topic_order=[4, 1, 3, 2])"
            ],
            "text/html": [
              "\n",
              "<link rel=\"stylesheet\" type=\"text/css\" href=\"https://cdn.jsdelivr.net/gh/bmabey/pyLDAvis@3.3.1/pyLDAvis/js/ldavis.v1.0.0.css\">\n",
              "\n",
              "\n",
              "<div id=\"ldavis_el5096139975673899264826170696\"></div>\n",
              "<script type=\"text/javascript\">\n",
              "\n",
              "var ldavis_el5096139975673899264826170696_data = {\"mdsDat\": {\"x\": [0.06271668605113168, 0.23644536261575164, -0.09151148042441837, -0.20765056824246486], \"y\": [0.0037478279381388136, 0.06317400238316867, -0.25029133506828743, 0.18336950474698008], \"topics\": [1, 2, 3, 4], \"cluster\": [1, 1, 1, 1], \"Freq\": [32.51163903961897, 23.555763309538573, 22.772159912789004, 21.160437738053453]}, \"tinfo\": {\"Term\": [\"love\", \"read\", \"old\", \"book\", \"not\", \"price\", \"tablet\", \"year\", \"good\", \"great\", \"buy\", \"easy\", \"kindle\", \"use\", \"gift\", \"amazon\", \"kid\", \"son\", \"christmas\", \"daughter\", \"game\", \"size\", \"come\", \"light\", \"fire\", \"watch\", \"screen\", \"movie\", \"charge\", \"enjoy\", \"price\", \"movie\", \"video\", \"quality\", \"google\", \"prime\", \"user\", \"value\", \"android\", \"camera\", \"netflix\", \"storage\", \"friday\", \"friendly\", \"memory\", \"gb\", \"beat\", \"expect\", \"sd\", \"basic\", \"resolution\", \"inch\", \"speed\", \"member\", \"cost\", \"youtube\", \"adult\", \"browse\", \"choice\", \"affordable\", \"watch\", \"fast\", \"money\", \"black\", \"good\", \"life\", \"tablet\", \"great\", \"picture\", \"amazon\", \"nice\", \"battery\", \"product\", \"hd\", \"app\", \"ipad\", \"fire\", \"recommend\", \"work\", \"need\", \"well\", \"screen\", \"play\", \"use\", \"game\", \"look\", \"lot\", \"purchase\", \"kid\", \"not\", \"buy\", \"like\", \"come\", \"know\", \"slow\", \"warranty\", \"return\", \"ad\", \"sure\", \"feel\", \"will\", \"samsung\", \"ok\", \"toddler\", \"stop\", \"ask\", \"lock\", \"open\", \"charger\", \"tool\", \"wrong\", \"week\", \"power\", \"mini\", \"hope\", \"  \", \"couple\", \"freeze\", \"freetime\", \"customer\", \"probably\", \"helpful\", \"bright\", \"issue\", \"not\", \"charge\", \"thing\", \"try\", \"go\", \"fine\", \"problem\", \"time\", \"replace\", \"content\", \"case\", \"drop\", \"buy\", \"find\", \"take\", \"app\", \"day\", \"amazon\", \"like\", \"work\", \"store\", \"good\", \"ipad\", \"device\", \"tablet\", \"get\", \"little\", \"purchase\", \"kid\", \"love\", \"gift\", \"son\", \"christmas\", \"daughter\", \"control\", \"grandson\", \"parental\", \"granddaughter\", \"yr\", \"age\", \"mom\", \"durable\", \"present\", \"educational\", \"young\", \"mother\", \"birthday\", \"niece\", \"grandkid\", \"parent\", \"nephew\", \"grand\", \"sister\", \"entertain\", \"dad\", \"learning\", \"old\", \"appropriate\", \"grandchild\", \"year\", \"ago\", \"absolutely\", \"learn\", \"kid\", \"buy\", \"game\", \"purchase\", \"use\", \"play\", \"get\", \"easy\", \"tablet\", \"great\", \"child\", \"kindle\", \"enjoy\", \"set\", \"perfect\", \"fire\", \"wife\", \"time\", \"like\", \"read\", \"book\", \"light\", \"navigate\", \"reader\", \"carry\", \"library\", \"listen\", \"home\", \"trip\", \"weight\", \"keyboard\", \"lightweight\", \"search\", \"nook\", \"night\", \"leave\", \"page\", \"car\", \"application\", \"purse\", \"road\", \"news\", \"iphone\", \"savvy\", \"step\", \"magazine\", \"technology\", \"audio\", \"cable\", \"reliable\", \"close\", \"computer\", \"original\", \"email\", \"travel\", \"hand\", \"kindle\", \"size\", \"check\", \"small\", \"easy\", \"internet\", \"new\", \"screen\", \"use\", \"right\", \"device\", \"fire\", \"download\", \"enjoy\", \"like\", \"perfect\", \"want\", \"big\", \"hd\", \"find\", \"great\", \"feature\", \"need\"], \"Freq\": [4305.0, 1900.0, 1904.0, 1655.0, 2604.0, 1998.0, 6560.0, 1559.0, 3066.0, 4649.0, 3317.0, 2666.0, 2526.0, 3428.0, 902.0, 2053.0, 2020.0, 719.0, 710.0, 692.0, 1461.0, 892.0, 541.0, 467.0, 2331.0, 754.0, 1528.0, 575.0, 558.0, 710.0, 1997.7086969159222, 575.0162670792938, 497.2469155685208, 476.90488639923706, 390.21803231769695, 377.8427978140497, 306.69066805366174, 282.4553445183791, 270.9038304451437, 273.97170622547037, 257.89835008158764, 253.49681799378817, 246.0085577240435, 258.7239701433076, 256.6557033831495, 241.36906803260902, 234.54399495659354, 233.63250292505862, 190.7337623041447, 187.04034656874077, 190.38253198818973, 168.36504239628744, 156.18916844196917, 155.79890933732003, 149.62762603651697, 143.7910807980393, 141.40841066524047, 129.66952386752197, 123.33680068782098, 116.74656953227223, 722.8337747375095, 600.7207539553619, 312.6504158953882, 280.52468589888974, 2491.994835614685, 363.93674829898043, 4176.016378457664, 3080.0603609244995, 306.19995874802237, 1429.100001368099, 579.8061586404343, 447.1405420301987, 695.5425200733074, 563.349940441087, 963.5023825075407, 555.6414668510629, 998.7724916179566, 472.3928878726409, 704.789925281252, 539.2082744857535, 467.31612320168125, 623.0205834460072, 535.066157200683, 812.1813790712945, 516.6270117385804, 372.36665005170335, 390.10526329549657, 488.99900425157466, 512.424681897501, 524.9764669836336, 488.2709273792975, 404.9758362161192, 541.0597689325571, 328.57542249248445, 292.645679869035, 227.51139671414433, 222.51732512770792, 217.17895849535114, 219.27060824706905, 177.47796517599716, 152.62196908705127, 155.12813881304436, 139.14901159642295, 129.50882329869887, 123.07675163146233, 120.54939451802801, 116.9901323920389, 116.5250942621767, 111.05529701038239, 125.60404618371327, 108.39786476981732, 103.94424881981922, 107.08174430112389, 106.11484035811083, 104.93783510754793, 101.05755069585932, 98.86199724539529, 92.17769974045994, 90.55274598996407, 86.97565392670894, 87.9240501863026, 88.3101882370467, 100.48250915187052, 326.5474600254571, 2079.0008814154776, 490.43634372759107, 573.6496827807563, 249.62033124045573, 374.28103819356596, 171.4997644673878, 269.60032954974906, 607.4371845088534, 259.06302430908295, 168.63606800518744, 321.69262877951803, 172.49189099417072, 908.7058599680182, 280.5701619586426, 254.13549696804523, 609.2824474666555, 224.11205139976278, 623.5397657940302, 538.4774518195151, 509.25433061660715, 278.1050010883614, 573.5040403458254, 325.0245748456612, 314.4802001912721, 626.0404614164767, 331.40310456678026, 250.95684665493414, 283.6716951863622, 235.86414884575908, 4304.191167970387, 901.222120529739, 718.2212424468663, 709.381561896857, 692.1029817958763, 384.3719201688342, 353.849624690689, 320.09805848880603, 288.84419656734633, 251.0052891355862, 227.74358094323253, 217.79933344466727, 209.38170270425857, 176.9100552180157, 169.88376756858324, 172.80952934159066, 160.59225079418061, 138.2328844899528, 132.33140443912828, 122.46870418106144, 123.99530077920798, 123.13016418955924, 108.18085148535178, 87.99088369850223, 94.85310918645727, 84.17778916482288, 80.68421062982326, 1884.064218874027, 72.54300386669371, 68.06527412293967, 1509.6891235098692, 74.36692533249932, 193.27044766300114, 372.0936273511229, 1271.906159980825, 1920.1657971229854, 881.8525441903166, 788.9760231854831, 1332.0373412034928, 632.4532216122941, 602.581247737115, 1004.9687576529475, 1757.8527181141978, 1270.3426302443363, 364.6147877969417, 743.0401501325647, 373.75134465438737, 328.14873672697684, 344.9715191615968, 474.79021019284795, 272.8222100504219, 311.1994502295317, 302.27108579547973, 1899.9219742610628, 1655.0090666450035, 466.60073658176356, 274.5750952716234, 261.8117963331481, 199.51019652182998, 181.49029645799388, 177.0984182444471, 177.47416807471498, 172.29589031361533, 162.98322169648372, 137.1942190061181, 124.38562327386533, 101.33771353465568, 96.4968856472987, 78.01891754142612, 79.7526860429549, 74.14481465112635, 74.31527240579108, 72.34019731830466, 67.37791295350519, 70.38113908717875, 68.38882012100247, 67.17015746666063, 68.41135611889918, 66.62463832555405, 62.02484539325736, 59.97656109564597, 58.70881754812924, 67.23965751004948, 67.13046657260936, 78.10333855100345, 202.72381483536887, 143.45948868571875, 336.7316816500916, 261.44871012264593, 162.94292665785045, 1558.5564943003021, 626.1854248896972, 175.1070640362855, 310.16861520154555, 1437.6706290738687, 319.9115846263974, 453.83131189822404, 712.8998234998721, 1284.1118755252294, 231.57862179820603, 436.94677278578115, 846.279211350807, 363.8659597759997, 336.5471225052218, 482.858501448464, 319.9197897528137, 331.101353876319, 239.4729088020795, 266.1148793430121, 221.12873764631314, 298.7108680215221, 217.83599044240376, 211.00750814703864], \"Total\": [4305.0, 1900.0, 1904.0, 1655.0, 2604.0, 1998.0, 6560.0, 1559.0, 3066.0, 4649.0, 3317.0, 2666.0, 2526.0, 3428.0, 902.0, 2053.0, 2020.0, 719.0, 710.0, 692.0, 1461.0, 892.0, 541.0, 467.0, 2331.0, 754.0, 1528.0, 575.0, 558.0, 710.0, 1998.566570153322, 575.8819310523043, 498.1111287648496, 477.753669015654, 391.0658988276657, 378.6875086840277, 307.5579119390375, 283.2989205661343, 271.76690448318243, 274.8604411039046, 258.7637162026413, 254.34787920208004, 246.8557788902232, 259.63181298858495, 257.56132295278064, 242.22214227956147, 235.39526761595016, 234.5068703770132, 191.58953608807056, 187.8944558227691, 191.25477509897485, 169.22765611029573, 157.04612453733728, 156.65594084457865, 150.48579837035732, 144.64641700748388, 142.29749459529666, 130.52857122084194, 124.20867806675464, 117.60495311635913, 754.9617072455408, 644.840695743582, 328.62062273981184, 293.39849522150814, 3066.429912541693, 395.3289841639706, 6560.234151385842, 4649.40952766043, 338.63863039273645, 2053.2105600256878, 822.4066115028752, 598.8618341455897, 1117.7984680913105, 858.4207249423048, 1949.817966771001, 881.2444360119541, 2331.666877442603, 709.5804186198736, 1570.9080726184416, 1036.4333102870992, 813.6627766675813, 1528.7606216112167, 1265.7860679342714, 3428.628537692988, 1461.3527864790458, 590.658496520418, 697.3243797191708, 1587.4162966796887, 2020.5063682027392, 2604.552253072085, 3317.4721063367565, 1728.582875279578, 541.8611389892302, 329.3730746064879, 293.44734095569135, 228.30052479092876, 223.2953235708764, 217.97942226103274, 220.09287435103536, 178.29363760976946, 153.40678870977223, 155.96200838354514, 139.95034744170337, 130.32658856820274, 123.87642201787361, 121.33558656665151, 117.7871941480409, 117.32534708868037, 111.83244167153357, 126.50476952370211, 109.20140927757313, 104.72947200004239, 107.90307009500152, 106.938711410096, 105.76777741464004, 101.86180676004251, 99.68428946269323, 92.97779909628227, 91.35139733469595, 87.76440170351965, 88.72187766446127, 89.11878326509377, 101.44146875742152, 334.97449034254487, 2604.552253072085, 558.9233382628163, 741.7559451388461, 288.34928758580594, 463.515289651011, 193.3382580753906, 372.9156080658697, 1131.7660389986909, 376.8844746006188, 205.91323048584266, 528.8604577000907, 226.86895140043063, 3317.4721063367565, 502.1803551642282, 427.13022843257164, 1949.817966771001, 348.0108846335838, 2053.2105600256878, 1728.582875279578, 1570.9080726184416, 583.0591098390754, 3066.429912541693, 881.2444360119541, 852.4041389828365, 6560.234151385842, 1208.3984072700987, 601.0281522528586, 1587.4162966796887, 2020.5063682027392, 4305.042807063624, 902.062748445723, 719.0662751758006, 710.2229999072384, 692.9349948460214, 385.2256306568142, 354.6759033379592, 320.93253343558797, 289.66637296922346, 251.83572311062866, 228.58170177013437, 218.64698666638282, 210.2093449422602, 177.7564540564571, 170.71026329615088, 173.65279198628784, 161.4651550449073, 139.06602772616566, 133.15094933378137, 123.29065637536709, 124.83094214039694, 123.96290941734082, 109.01790336188463, 88.84130069528725, 95.77366260230772, 85.03639836176704, 81.51174941446295, 1904.1199591706252, 73.38086197130855, 68.88250608577192, 1559.0429348546052, 75.27977916161346, 203.80137008089068, 429.57239254377316, 2020.5063682027392, 3317.4721063367565, 1461.3527864790458, 1587.4162966796887, 3428.628537692988, 1265.7860679342714, 1208.3984072700987, 2666.8370477270505, 6560.234151385842, 4649.40952766043, 634.5617037338916, 2526.802506523701, 710.8310942377286, 648.5336721701932, 862.8851628880899, 2331.666877442603, 454.5465801945104, 1131.7660389986909, 1728.582875279578, 1900.6898316413808, 1655.7744679003877, 467.3777873725607, 275.36481113574445, 262.5738112112642, 200.26679718559964, 182.25218922423542, 177.86649271360182, 178.24397179794914, 173.06671436372895, 163.75203742292848, 137.9734065532965, 125.1656604724908, 102.10414402121741, 97.26595197055973, 78.78180329992749, 80.53631343023753, 74.90116732072947, 75.08605727245866, 73.13100422481298, 68.12705381993148, 71.1660237581534, 69.1734305394473, 67.94904558489895, 69.20494413278276, 67.41256333321006, 62.77732697516282, 60.74551894999285, 59.47859765860263, 68.13780279716902, 68.02753758038742, 79.77550134148629, 217.71685549111191, 151.53918667393884, 383.52500909074456, 303.9021453574454, 183.7460257690705, 2526.802506523701, 892.9171243401681, 204.7056236940653, 407.38414450019815, 2666.8370477270505, 490.14126012732606, 800.2298941319955, 1528.7606216112167, 3428.628537692988, 349.31590602550773, 852.4041389828365, 2331.666877442603, 737.9671706551275, 710.8310942377286, 1728.582875279578, 862.8851628880899, 1012.1498568375523, 476.57929225185353, 858.4207249423048, 502.1803551642282, 4649.40952766043, 662.8986699378536, 1036.4333102870992], \"Category\": [\"Default\", \"Default\", \"Default\", \"Default\", \"Default\", \"Default\", \"Default\", \"Default\", \"Default\", \"Default\", \"Default\", \"Default\", \"Default\", \"Default\", \"Default\", \"Default\", \"Default\", \"Default\", \"Default\", \"Default\", \"Default\", \"Default\", \"Default\", \"Default\", \"Default\", \"Default\", \"Default\", \"Default\", \"Default\", \"Default\", \"Topic1\", \"Topic1\", \"Topic1\", \"Topic1\", \"Topic1\", \"Topic1\", \"Topic1\", \"Topic1\", \"Topic1\", \"Topic1\", \"Topic1\", \"Topic1\", \"Topic1\", \"Topic1\", \"Topic1\", \"Topic1\", \"Topic1\", \"Topic1\", \"Topic1\", \"Topic1\", \"Topic1\", \"Topic1\", \"Topic1\", \"Topic1\", \"Topic1\", \"Topic1\", \"Topic1\", \"Topic1\", \"Topic1\", \"Topic1\", \"Topic1\", \"Topic1\", \"Topic1\", \"Topic1\", \"Topic1\", \"Topic1\", \"Topic1\", \"Topic1\", \"Topic1\", \"Topic1\", \"Topic1\", \"Topic1\", \"Topic1\", \"Topic1\", \"Topic1\", \"Topic1\", \"Topic1\", \"Topic1\", \"Topic1\", \"Topic1\", \"Topic1\", \"Topic1\", \"Topic1\", \"Topic1\", \"Topic1\", \"Topic1\", \"Topic1\", \"Topic1\", \"Topic1\", \"Topic1\", \"Topic1\", \"Topic1\", \"Topic2\", \"Topic2\", \"Topic2\", \"Topic2\", \"Topic2\", \"Topic2\", \"Topic2\", \"Topic2\", \"Topic2\", \"Topic2\", \"Topic2\", \"Topic2\", \"Topic2\", \"Topic2\", \"Topic2\", \"Topic2\", \"Topic2\", \"Topic2\", \"Topic2\", \"Topic2\", \"Topic2\", \"Topic2\", \"Topic2\", \"Topic2\", \"Topic2\", \"Topic2\", \"Topic2\", \"Topic2\", \"Topic2\", \"Topic2\", \"Topic2\", \"Topic2\", \"Topic2\", \"Topic2\", \"Topic2\", \"Topic2\", \"Topic2\", \"Topic2\", \"Topic2\", \"Topic2\", \"Topic2\", \"Topic2\", \"Topic2\", \"Topic2\", \"Topic2\", \"Topic2\", \"Topic2\", \"Topic2\", \"Topic2\", \"Topic2\", \"Topic2\", \"Topic2\", \"Topic2\", \"Topic2\", \"Topic2\", \"Topic2\", \"Topic2\", \"Topic2\", \"Topic2\", \"Topic2\", \"Topic2\", \"Topic3\", \"Topic3\", \"Topic3\", \"Topic3\", \"Topic3\", \"Topic3\", \"Topic3\", \"Topic3\", \"Topic3\", \"Topic3\", \"Topic3\", \"Topic3\", \"Topic3\", \"Topic3\", \"Topic3\", \"Topic3\", \"Topic3\", \"Topic3\", \"Topic3\", \"Topic3\", \"Topic3\", \"Topic3\", \"Topic3\", \"Topic3\", \"Topic3\", \"Topic3\", \"Topic3\", \"Topic3\", \"Topic3\", \"Topic3\", \"Topic3\", \"Topic3\", \"Topic3\", \"Topic3\", \"Topic3\", \"Topic3\", \"Topic3\", \"Topic3\", \"Topic3\", \"Topic3\", \"Topic3\", \"Topic3\", \"Topic3\", \"Topic3\", \"Topic3\", \"Topic3\", \"Topic3\", \"Topic3\", \"Topic3\", \"Topic3\", \"Topic3\", \"Topic3\", \"Topic3\", \"Topic4\", \"Topic4\", \"Topic4\", \"Topic4\", \"Topic4\", \"Topic4\", \"Topic4\", \"Topic4\", \"Topic4\", \"Topic4\", \"Topic4\", \"Topic4\", \"Topic4\", \"Topic4\", \"Topic4\", \"Topic4\", \"Topic4\", \"Topic4\", \"Topic4\", \"Topic4\", \"Topic4\", \"Topic4\", \"Topic4\", \"Topic4\", \"Topic4\", \"Topic4\", \"Topic4\", \"Topic4\", \"Topic4\", \"Topic4\", \"Topic4\", \"Topic4\", \"Topic4\", \"Topic4\", \"Topic4\", \"Topic4\", \"Topic4\", \"Topic4\", \"Topic4\", \"Topic4\", \"Topic4\", \"Topic4\", \"Topic4\", \"Topic4\", \"Topic4\", \"Topic4\", \"Topic4\", \"Topic4\", \"Topic4\", \"Topic4\", \"Topic4\", \"Topic4\", \"Topic4\", \"Topic4\", \"Topic4\", \"Topic4\", \"Topic4\", \"Topic4\", \"Topic4\", \"Topic4\"], \"logprob\": [30.0, 29.0, 28.0, 27.0, 26.0, 25.0, 24.0, 23.0, 22.0, 21.0, 20.0, 19.0, 18.0, 17.0, 16.0, 15.0, 14.0, 13.0, 12.0, 11.0, 10.0, 9.0, 8.0, 7.0, 6.0, 5.0, 4.0, 3.0, 2.0, 1.0, -3.4321, -4.6774, -4.8227, -4.8645, -5.0651, -5.0973, -5.306, -5.3883, -5.43, -5.4188, -5.4792, -5.4965, -5.5264, -5.4761, -5.4841, -5.5455, -5.5742, -5.5781, -5.7809, -5.8005, -5.7828, -5.9057, -5.9807, -5.9832, -6.0237, -6.0635, -6.0802, -6.1668, -6.2169, -6.2718, -4.4486, -4.6337, -5.2867, -5.3952, -3.211, -5.1348, -2.6947, -2.9991, -5.3076, -3.767, -4.6691, -4.9289, -4.4871, -4.6979, -4.1612, -4.7117, -4.1253, -4.874, -4.4739, -4.7417, -4.8848, -4.5972, -4.7494, -4.3321, -4.7845, -5.1119, -5.0654, -4.8395, -4.7927, -4.7685, -4.8409, -5.028, -4.4161, -4.9148, -5.0306, -5.2824, -5.3046, -5.3289, -5.3193, -5.5307, -5.6816, -5.6653, -5.774, -5.8458, -5.8968, -5.9175, -5.9475, -5.9515, -5.9996, -5.8765, -6.0238, -6.0657, -6.036, -6.0451, -6.0562, -6.0939, -6.1159, -6.1859, -6.2037, -6.244, -6.2331, -6.2287, -6.0996, -4.921, -3.0699, -4.5143, -4.3576, -5.1896, -4.7846, -5.565, -5.1126, -4.3003, -5.1525, -5.5818, -4.936, -5.5592, -3.8976, -5.0728, -5.1717, -4.2973, -5.2974, -4.2742, -4.4208, -4.4766, -5.0816, -4.3578, -4.9257, -4.9587, -4.2702, -4.9062, -5.1843, -5.0618, -5.2463, -2.3084, -3.872, -4.099, -4.1114, -4.136, -4.7241, -4.8069, -4.9071, -5.0099, -5.1503, -5.2475, -5.2922, -5.3316, -5.5001, -5.5406, -5.5236, -5.5969, -5.7468, -5.7904, -5.8679, -5.8555, -5.8625, -5.9919, -6.1985, -6.1234, -6.2428, -6.2852, -3.1346, -6.3916, -6.4553, -3.3561, -6.3667, -5.4117, -4.7566, -3.5275, -3.1156, -3.8937, -4.005, -3.4813, -4.2261, -4.2745, -3.763, -3.2039, -3.5287, -4.7769, -4.065, -4.7522, -4.8823, -4.8323, -4.5129, -5.0669, -4.9353, -4.9644, -3.0528, -3.1908, -4.4569, -4.9871, -5.0347, -5.3065, -5.4011, -5.4256, -5.4235, -5.4531, -5.5087, -5.6809, -5.779, -5.9839, -6.0328, -6.2454, -6.2234, -6.2963, -6.294, -6.321, -6.392, -6.3484, -6.3771, -6.3951, -6.3768, -6.4033, -6.4748, -6.5084, -6.5298, -6.3941, -6.3957, -6.2443, -5.2905, -5.6363, -4.7831, -5.0361, -5.5089, -3.2508, -4.1627, -5.4369, -4.8652, -3.3316, -4.8343, -4.4846, -4.033, -3.4445, -5.1574, -4.5225, -3.8615, -4.7056, -4.7836, -4.4226, -4.8343, -4.7999, -5.1239, -5.0184, -5.2036, -4.9029, -5.2186, -5.2505], \"loglift\": [30.0, 29.0, 28.0, 27.0, 26.0, 25.0, 24.0, 23.0, 22.0, 21.0, 20.0, 19.0, 18.0, 17.0, 16.0, 15.0, 14.0, 13.0, 12.0, 11.0, 10.0, 9.0, 8.0, 7.0, 6.0, 5.0, 4.0, 3.0, 2.0, 1.0, 1.1231, 1.1221, 1.1218, 1.1218, 1.1214, 1.1213, 1.1207, 1.1206, 1.1204, 1.1203, 1.1202, 1.1202, 1.1201, 1.1201, 1.12, 1.12, 1.1199, 1.1198, 1.1191, 1.119, 1.119, 1.1185, 1.1181, 1.1181, 1.1179, 1.1176, 1.1173, 1.117, 1.1165, 1.1162, 1.0801, 1.0527, 1.0738, 1.0787, 0.9161, 1.0408, 0.6719, 0.7118, 1.0229, 0.7612, 0.774, 0.8314, 0.6491, 0.7024, 0.4187, 0.6624, 0.2758, 0.7167, 0.3221, 0.4701, 0.569, 0.2259, 0.2625, -0.3166, 0.0838, 0.6622, 0.5427, -0.0539, -0.2484, -0.4781, -0.7925, -0.3277, 1.4443, 1.4434, 1.4431, 1.4423, 1.4423, 1.4421, 1.4421, 1.4412, 1.4407, 1.4404, 1.4401, 1.4395, 1.4393, 1.4393, 1.439, 1.439, 1.4388, 1.4387, 1.4384, 1.4383, 1.4382, 1.4381, 1.4379, 1.4379, 1.4375, 1.4372, 1.437, 1.4368, 1.4368, 1.4367, 1.4363, 1.4203, 1.2204, 1.3151, 1.1888, 1.3016, 1.232, 1.3259, 1.1214, 0.8235, 1.0709, 1.2461, 0.9487, 1.1718, 0.1509, 0.8637, 0.9266, 0.2826, 1.0057, 0.2541, 0.2795, 0.3193, 0.7055, -0.2307, 0.4484, 0.4487, -0.9036, 0.1521, 0.5724, -0.2762, -0.702, 1.4794, 1.4787, 1.4785, 1.4784, 1.4784, 1.4774, 1.4773, 1.477, 1.4768, 1.4763, 1.476, 1.4757, 1.4757, 1.4749, 1.4748, 1.4748, 1.4742, 1.4736, 1.4735, 1.4729, 1.4729, 1.4729, 1.4719, 1.47, 1.47, 1.4695, 1.4694, 1.469, 1.4681, 1.4677, 1.4475, 1.4674, 1.4266, 1.336, 1.0168, 0.9328, 0.9745, 0.7805, 0.5342, 0.7858, 0.7838, 0.5037, 0.1627, 0.1822, 0.9255, 0.2557, 0.8368, 0.7984, 0.5628, -0.1118, 0.9692, 0.1885, -0.2641, 1.5526, 1.5526, 1.5514, 1.5502, 1.5501, 1.5493, 1.5488, 1.5487, 1.5487, 1.5486, 1.5483, 1.5474, 1.5468, 1.5455, 1.5451, 1.5433, 1.5433, 1.5429, 1.5427, 1.5422, 1.542, 1.5419, 1.5416, 1.5415, 1.5415, 1.5413, 1.541, 1.5403, 1.54, 1.5398, 1.5398, 1.5319, 1.4817, 1.4982, 1.4229, 1.4026, 1.4329, 1.0698, 1.1982, 1.3969, 1.2804, 0.9352, 1.1264, 0.9859, 0.7902, 0.5709, 1.142, 0.8848, 0.5395, 0.8459, 0.8053, 0.2777, 0.5608, 0.4356, 0.8648, 0.3819, 0.7328, -1.192, 0.4402, -0.0386]}, \"token.table\": {\"Topic\": [2, 2, 3, 2, 1, 1, 3, 3, 1, 2, 1, 1, 2, 3, 4, 4, 3, 2, 4, 1, 1, 2, 4, 1, 1, 2, 3, 4, 3, 1, 4, 4, 2, 1, 1, 2, 3, 4, 1, 4, 4, 2, 3, 2, 4, 2, 1, 4, 1, 2, 3, 1, 3, 2, 4, 2, 2, 4, 1, 2, 3, 1, 2, 2, 3, 3, 2, 3, 4, 1, 2, 4, 1, 2, 4, 2, 3, 3, 1, 3, 4, 3, 1, 4, 3, 4, 3, 1, 1, 4, 1, 3, 4, 2, 2, 4, 1, 2, 1, 2, 3, 4, 2, 2, 1, 1, 1, 3, 4, 1, 1, 2, 3, 3, 2, 3, 1, 2, 3, 1, 3, 3, 3, 3, 3, 1, 3, 4, 1, 4, 1, 3, 4, 2, 4, 2, 1, 1, 4, 1, 2, 4, 1, 2, 4, 1, 2, 3, 1, 2, 3, 4, 2, 3, 4, 3, 4, 4, 1, 2, 4, 4, 4, 1, 2, 3, 4, 4, 1, 2, 3, 4, 2, 1, 2, 4, 1, 3, 4, 3, 4, 1, 1, 2, 3, 1, 2, 3, 1, 4, 1, 2, 3, 4, 3, 1, 2, 3, 4, 4, 1, 2, 4, 3, 4, 4, 1, 2, 2, 2, 3, 2, 3, 4, 4, 3, 3, 1, 3, 4, 1, 4, 1, 2, 3, 4, 2, 3, 1, 1, 2, 1, 2, 3, 4, 1, 2, 3, 1, 2, 3, 4, 4, 1, 4, 4, 1, 3, 4, 2, 3, 1, 2, 1, 3, 4, 4, 2, 4, 1, 2, 4, 1, 4, 2, 3, 4, 3, 1, 4, 2, 1, 2, 4, 3, 1, 4, 2, 1, 1, 2, 2, 1, 2, 3, 1, 2, 4, 4, 1, 2, 3, 4, 1, 2, 3, 4, 2, 2, 1, 4, 4, 2, 4, 1, 3, 4, 1, 1, 1, 1, 2, 3, 4, 2, 1, 4, 2, 4, 1, 2, 3, 4, 3, 4, 2, 1, 2, 3, 4, 2, 2, 3, 3, 1, 3], \"Freq\": [0.991539451464152, 0.04906738358054662, 0.9470005031045498, 0.9955068132079923, 0.9908818170060772, 0.9948560575015868, 0.9974551691337072, 0.9829996955906847, 0.6959831728033397, 0.3039142755978194, 0.9971780799261012, 0.4944051272624355, 0.3123368490693187, 0.10257367785527707, 0.0907777049019202, 0.9845345454120096, 0.9948097915304203, 0.9972342280105336, 0.9919534475014071, 0.995239583739433, 0.7464159085004064, 0.1770024302036758, 0.07514254112420199, 0.9983208344842555, 0.388183043215891, 0.03567087424146025, 0.0734400352030064, 0.5014905261005295, 0.9923343771041999, 0.9577417900110646, 0.04090000526737642, 0.9995322624455191, 0.9857901430738496, 0.9959505323938033, 0.14709995573673804, 0.27400381099322724, 0.5787539242101168, 0.9833014457399515, 0.9968695345883575, 0.9855358329907006, 0.9986677912197678, 0.6088562593624681, 0.39140759530444375, 0.8766855245711582, 0.12166248096089542, 0.9925563489530296, 0.14166684567171833, 0.8548861376741624, 0.07406687123323442, 0.3514236656385378, 0.5752001702155439, 0.9902689724617707, 0.9982780057708661, 0.01253517662921865, 0.9777437770790547, 0.9984107755155933, 0.06889682457595646, 0.9324036925946108, 0.17968733681026822, 0.8207340519171711, 0.9968184083319573, 0.9967717992287769, 0.9931354332123787, 0.9912902989289222, 0.9878122970665111, 0.998650674517847, 0.6436580287879407, 0.24137176079547776, 0.11493893371213226, 0.11848839697156102, 0.36836986781257586, 0.5126676185799225, 0.4105873703446902, 0.09621024189595051, 0.49324687394543637, 0.7581469343348564, 0.2380228747330363, 0.9942469496653805, 0.0839946333394894, 0.3768509219026199, 0.5392155479561864, 0.9958393638294687, 0.11994002714205293, 0.8786910684102573, 0.5261446819529821, 0.4740929353426604, 0.9919219691375875, 0.9978385691805177, 0.9320131374571076, 0.06823390690201786, 0.49479658788687847, 0.17649756336208774, 0.32885870780286436, 0.992744342270918, 0.5595599212719192, 0.44008093452346675, 0.10861792285214047, 0.8844602289388581, 0.42844885333522165, 0.005146532772795455, 0.20371692225648677, 0.36283056048207957, 0.9961533447221559, 0.9894835207352056, 0.9965332839519881, 0.9975665039606963, 0.3537817868371466, 0.6035503597492521, 0.04311073998208943, 0.9949544568136511, 0.22674640942219984, 0.27391628291513925, 0.49900760905688507, 0.998821868603316, 0.8068773745987782, 0.1920109260408857, 0.8126714358634856, 0.18718836444046577, 0.00032611213317154317, 0.9972743754163658, 0.9906629706635826, 0.9871882407316448, 0.9976995156103458, 0.9895315962027358, 0.9980943071361824, 0.6624497114475195, 0.27315296543452916, 0.06430924146844426, 0.10884589158481026, 0.8870940164162036, 0.6558555538577423, 0.03378296813832065, 0.30987136292390666, 0.9874461564206299, 0.9930209600616436, 0.9927409137886095, 0.9927455349881134, 0.34683878675269736, 0.6528730103580185, 0.6309259693214765, 0.3687966547292803, 0.9860329813799493, 0.02388241561863174, 0.9761937384115723, 0.9929449697763278, 0.25340182444236947, 0.11680240345390466, 0.6295451575990116, 0.0831089883193569, 0.005936356308525493, 0.2940475158156294, 0.6169852989994162, 0.9988673190517058, 0.8659774381615863, 0.1326900913312108, 0.9937217711785222, 0.9933407253523953, 0.9931293597648104, 0.9207521193260744, 0.01770677152550143, 0.06323846973393368, 0.9991916873613432, 0.9906870585103732, 0.23429596913859047, 0.31123760838657205, 0.17470958686383783, 0.27941963726898567, 0.9951284095144495, 0.407634815576702, 0.41761770901939677, 0.10648419672207726, 0.06821643852508075, 0.9933168104246417, 0.629805551247396, 0.13544205403169807, 0.23363754320467917, 0.5592806036081261, 0.27103598482547653, 0.16921823391220228, 0.9997577708026705, 0.9876177114793313, 0.9958128568821439, 0.997820624050438, 0.9912219681935742, 0.9970409531992773, 0.9524660911126701, 0.04564533982968067, 0.9971191614390242, 0.9984685557841818, 0.998675171550643, 0.5200527565547785, 0.18332100880409632, 0.09262535181680656, 0.20358280451402275, 0.9922322780106827, 0.9970485962489298, 0.163702957063476, 0.26867279212707895, 0.5673369657009015, 0.9830363980751522, 0.7052472486086918, 0.08876387784212844, 0.20671040045427172, 0.9913560561187125, 0.9900763467300804, 0.9869846339349776, 0.20157015447885884, 0.7982178117362809, 0.9932093956244071, 0.009978362922195198, 0.9894334602850396, 0.9972269667488436, 0.05279162555632094, 0.9436503068192369, 0.9879685810920591, 0.9933434601537944, 0.9970943007067399, 0.22946274720646598, 0.39982145346581194, 0.3708488843740865, 0.9036181124554994, 0.09449601176005222, 0.42266225988180256, 0.033180962458010665, 0.49929448270149385, 0.04424128327734756, 0.9916307284472403, 0.9957444354947762, 0.9997165117430747, 0.9981844960072307, 0.9918635889651551, 0.0831287275981335, 0.7240244016611628, 0.13407859290021532, 0.06167615273409905, 0.6226524904694585, 0.176239282503568, 0.20128852062590252, 0.3080477383423708, 0.17890707093912742, 0.4970340808837026, 0.016378816353582088, 0.9834565894642909, 0.9984224736207535, 0.9996370624865262, 0.9978146670126118, 0.6651818280414713, 0.3340001975547218, 0.9848952701077386, 0.6872132376226431, 0.3104399567638967, 0.9934392482575899, 0.9986774305607763, 0.1402741734767209, 0.19466619992687795, 0.6641552703387601, 0.9836154432048086, 0.9938317774083844, 0.9825887565132508, 0.4075196542826944, 0.12624605662369184, 0.4663908723973693, 0.9969229212612135, 0.9891860998218842, 0.22666517762769783, 0.5057563147066999, 0.266755617208107, 0.9905302974100663, 0.29789998729900485, 0.7010729024405151, 0.9984755665045917, 0.13009833768818713, 0.1080061671373629, 0.7609525411950568, 0.9985171392226122, 0.9933387433760674, 0.9938800230578562, 0.9929250296093702, 0.9947006469788209, 0.5213879602771392, 0.4767955689376471, 0.9950344855359002, 0.6365626445083252, 0.09542342324286675, 0.2679782397139932, 0.1428135869096647, 0.5946664110664727, 0.26221511039151546, 0.9877271778580643, 0.0013481523222746996, 0.7738394329856776, 0.13211892758292057, 0.09437066255922898, 0.0918917836516919, 0.5363299295824709, 0.27479177611227096, 0.09719323270852027, 0.9974940756771836, 0.9960098775279178, 0.13820238073870847, 0.8588290803048313, 0.9938363979021, 0.8670040494745662, 0.13178461552013407, 0.23682938850715166, 0.38849352893045075, 0.37449376212214625, 0.9981859938652851, 0.9954150175950597, 0.9977693155187983, 0.3339426446752422, 0.18277925818023613, 0.1561033664458233, 0.32702667274409813, 0.9986836438891064, 0.9576644657089268, 0.042386255743686936, 0.9930347018264152, 0.9954074621924479, 0.5739478484104121, 0.196641661125623, 0.0786566644502492, 0.14993926660828755, 0.6005985126610728, 0.39819901388884316, 0.9973483004683592, 0.4487850131324888, 0.3240164137367898, 0.14832185540407078, 0.07829866186566826, 0.9889982255218032, 0.03142953853581312, 0.9685429222260779, 0.9962408206696763, 0.9955310541328485, 0.9966814751286832], \"Term\": [\"  \", \"absolutely\", \"absolutely\", \"ad\", \"adult\", \"affordable\", \"age\", \"ago\", \"amazon\", \"amazon\", \"android\", \"app\", \"app\", \"app\", \"app\", \"application\", \"appropriate\", \"ask\", \"audio\", \"basic\", \"battery\", \"battery\", \"battery\", \"beat\", \"big\", \"big\", \"big\", \"big\", \"birthday\", \"black\", \"black\", \"book\", \"bright\", \"browse\", \"buy\", \"buy\", \"buy\", \"cable\", \"camera\", \"car\", \"carry\", \"case\", \"case\", \"charge\", \"charge\", \"charger\", \"check\", \"check\", \"child\", \"child\", \"child\", \"choice\", \"christmas\", \"close\", \"close\", \"come\", \"computer\", \"computer\", \"content\", \"content\", \"control\", \"cost\", \"couple\", \"customer\", \"dad\", \"daughter\", \"day\", \"day\", \"day\", \"device\", \"device\", \"device\", \"download\", \"download\", \"download\", \"drop\", \"drop\", \"durable\", \"easy\", \"easy\", \"easy\", \"educational\", \"email\", \"email\", \"enjoy\", \"enjoy\", \"entertain\", \"expect\", \"fast\", \"fast\", \"feature\", \"feature\", \"feature\", \"feel\", \"find\", \"find\", \"fine\", \"fine\", \"fire\", \"fire\", \"fire\", \"fire\", \"freetime\", \"freeze\", \"friday\", \"friendly\", \"game\", \"game\", \"game\", \"gb\", \"get\", \"get\", \"get\", \"gift\", \"go\", \"go\", \"good\", \"good\", \"good\", \"google\", \"grand\", \"grandchild\", \"granddaughter\", \"grandkid\", \"grandson\", \"great\", \"great\", \"great\", \"hand\", \"hand\", \"hd\", \"hd\", \"hd\", \"helpful\", \"home\", \"hope\", \"inch\", \"internet\", \"internet\", \"ipad\", \"ipad\", \"iphone\", \"issue\", \"issue\", \"keyboard\", \"kid\", \"kid\", \"kid\", \"kindle\", \"kindle\", \"kindle\", \"kindle\", \"know\", \"learn\", \"learn\", \"learning\", \"leave\", \"library\", \"life\", \"life\", \"life\", \"light\", \"lightweight\", \"like\", \"like\", \"like\", \"like\", \"listen\", \"little\", \"little\", \"little\", \"little\", \"lock\", \"look\", \"look\", \"look\", \"lot\", \"lot\", \"lot\", \"love\", \"magazine\", \"member\", \"memory\", \"mini\", \"mom\", \"money\", \"money\", \"mother\", \"movie\", \"navigate\", \"need\", \"need\", \"need\", \"need\", \"nephew\", \"netflix\", \"new\", \"new\", \"new\", \"news\", \"nice\", \"nice\", \"nice\", \"niece\", \"night\", \"nook\", \"not\", \"not\", \"ok\", \"old\", \"old\", \"open\", \"original\", \"original\", \"page\", \"parent\", \"parental\", \"perfect\", \"perfect\", \"perfect\", \"picture\", \"picture\", \"play\", \"play\", \"play\", \"play\", \"power\", \"present\", \"price\", \"prime\", \"probably\", \"problem\", \"problem\", \"problem\", \"problem\", \"product\", \"product\", \"product\", \"purchase\", \"purchase\", \"purchase\", \"purchase\", \"purse\", \"quality\", \"read\", \"reader\", \"recommend\", \"recommend\", \"reliable\", \"replace\", \"replace\", \"resolution\", \"return\", \"right\", \"right\", \"right\", \"road\", \"samsung\", \"savvy\", \"screen\", \"screen\", \"screen\", \"sd\", \"search\", \"set\", \"set\", \"set\", \"sister\", \"size\", \"size\", \"slow\", \"small\", \"small\", \"small\", \"son\", \"speed\", \"step\", \"stop\", \"storage\", \"store\", \"store\", \"sure\", \"tablet\", \"tablet\", \"tablet\", \"take\", \"take\", \"take\", \"technology\", \"thing\", \"thing\", \"thing\", \"thing\", \"time\", \"time\", \"time\", \"time\", \"toddler\", \"tool\", \"travel\", \"travel\", \"trip\", \"try\", \"try\", \"use\", \"use\", \"use\", \"user\", \"value\", \"video\", \"want\", \"want\", \"want\", \"want\", \"warranty\", \"watch\", \"watch\", \"week\", \"weight\", \"well\", \"well\", \"well\", \"well\", \"wife\", \"wife\", \"will\", \"work\", \"work\", \"work\", \"work\", \"wrong\", \"year\", \"year\", \"young\", \"youtube\", \"yr\"]}, \"R\": 30, \"lambda.step\": 0.01, \"plot.opts\": {\"xlab\": \"PC1\", \"ylab\": \"PC2\"}, \"topic.order\": [4, 1, 3, 2]};\n",
              "\n",
              "function LDAvis_load_lib(url, callback){\n",
              "  var s = document.createElement('script');\n",
              "  s.src = url;\n",
              "  s.async = true;\n",
              "  s.onreadystatechange = s.onload = callback;\n",
              "  s.onerror = function(){console.warn(\"failed to load library \" + url);};\n",
              "  document.getElementsByTagName(\"head\")[0].appendChild(s);\n",
              "}\n",
              "\n",
              "if(typeof(LDAvis) !== \"undefined\"){\n",
              "   // already loaded: just create the visualization\n",
              "   !function(LDAvis){\n",
              "       new LDAvis(\"#\" + \"ldavis_el5096139975673899264826170696\", ldavis_el5096139975673899264826170696_data);\n",
              "   }(LDAvis);\n",
              "}else if(typeof define === \"function\" && define.amd){\n",
              "   // require.js is available: use it to load d3/LDAvis\n",
              "   require.config({paths: {d3: \"https://d3js.org/d3.v5\"}});\n",
              "   require([\"d3\"], function(d3){\n",
              "      window.d3 = d3;\n",
              "      LDAvis_load_lib(\"https://cdn.jsdelivr.net/gh/bmabey/pyLDAvis@3.3.1/pyLDAvis/js/ldavis.v3.0.0.js\", function(){\n",
              "        new LDAvis(\"#\" + \"ldavis_el5096139975673899264826170696\", ldavis_el5096139975673899264826170696_data);\n",
              "      });\n",
              "    });\n",
              "}else{\n",
              "    // require.js not available: dynamically load d3 & LDAvis\n",
              "    LDAvis_load_lib(\"https://d3js.org/d3.v5.js\", function(){\n",
              "         LDAvis_load_lib(\"https://cdn.jsdelivr.net/gh/bmabey/pyLDAvis@3.3.1/pyLDAvis/js/ldavis.v3.0.0.js\", function(){\n",
              "                 new LDAvis(\"#\" + \"ldavis_el5096139975673899264826170696\", ldavis_el5096139975673899264826170696_data);\n",
              "            })\n",
              "         });\n",
              "}\n",
              "</script>"
            ]
          },
          "metadata": {},
          "execution_count": 37
        }
      ]
    },
    {
      "cell_type": "markdown",
      "metadata": {
        "id": "9gie-6YrzGeB"
      },
      "source": [
        "## Create a Topic id/name dictionary \n",
        "\n",
        "When populating your topic id/name dictionary, use the index ordering as shown in the viz tool. \n",
        "\n",
        "We'll use a function to map the the viz tool index ordering with the train LDA model ordering. "
      ]
    },
    {
      "cell_type": "code",
      "metadata": {
        "deletable": false,
        "nbgrader": {
          "cell_type": "code",
          "checksum": "fc10e9728e5dcf06baf0800c3cdb88ce",
          "grade": false,
          "grade_id": "cell-4905c0c1050f0d03",
          "locked": false,
          "schema_version": 3,
          "solution": true,
          "task": false
        },
        "id": "88vMiVwQzGeC"
      },
      "source": [
        "# create a dictionary \n",
        "# keys - use topic ids from pyLDAvis visualization \n",
        "# values - topic names that you create \n",
        "# save dictionary to `vis_topic_name_dict`\n",
        "\n",
        "vis_topic_name_dict = {\n",
        "    1: \"Table / Video\",\n",
        "    2: \"Issues\",\n",
        "    3: \"Family / Gifts\",\n",
        "    4: \"Reading Devices\",\n",
        "}\n"
      ],
      "execution_count": 42,
      "outputs": []
    },
    {
      "cell_type": "code",
      "metadata": {
        "id": "iWLsK27ZzGeC"
      },
      "source": [
        "def get_topic_id_lookup_dict(vis, vis_topic_name_dict):\n",
        "    \"\"\"\n",
        "    Both the starting index and the ordering of topic ids bewteen the trained LDA model \n",
        "    and the viz tool are different. So we need to create a look up dictionary that maps \n",
        "    the correct association between topic ids from both sources. \n",
        "    \"\"\"\n",
        "    # value is order of topic ids accoridng to pyLDAvis tool \n",
        "    # key is order of topic ids according to lda model\n",
        "    model_vis_tool_topic_id_lookup = vis.topic_coordinates.topics.to_dict()\n",
        "\n",
        "    # invert dictionary so that \n",
        "    # key is order of topic ids accoridng to pyLDAvis tool \n",
        "    # value is order of topic ids according to lda model\n",
        "    topic_id_lookup =  {v:k for k, v in model_vis_tool_topic_id_lookup.items()}\n",
        "    \n",
        "    return {v:vis_topic_name_dict[k]  for k, v in topic_id_lookup.items()}"
      ],
      "execution_count": 40,
      "outputs": []
    },
    {
      "cell_type": "markdown",
      "metadata": {
        "id": "tR8xm8IG4M0M"
      },
      "source": [
        "Create a topic id/name look up dict \n",
        "that is aligned with the index ordering of the trained LDA model"
      ]
    },
    {
      "cell_type": "code",
      "metadata": {
        "deletable": false,
        "nbgrader": {
          "cell_type": "code",
          "checksum": "55f23aa9324a225091037f0c5daf2192",
          "grade": false,
          "grade_id": "cell-d38acb7b250b4079",
          "locked": false,
          "schema_version": 3,
          "solution": true,
          "task": false
        },
        "id": "dcsa0f_tzGeC"
      },
      "source": [
        "topic_name_dict = get_topic_id_lookup_dict(vis, vis_topic_name_dict)"
      ],
      "execution_count": 43,
      "outputs": []
    },
    {
      "cell_type": "code",
      "metadata": {
        "id": "tbeEkAlC4WNi",
        "colab": {
          "base_uri": "https://localhost:8080/"
        },
        "outputId": "745bf6e2-2560-40a7-fe00-e982aec2bffd"
      },
      "source": [
        "topic_name_dict"
      ],
      "execution_count": 44,
      "outputs": [
        {
          "output_type": "execute_result",
          "data": {
            "text/plain": [
              "{3: 'Table / Video', 0: 'Issues', 2: 'Family / Gifts', 1: 'Reading Devices'}"
            ]
          },
          "metadata": {},
          "execution_count": 44
        }
      ]
    },
    {
      "cell_type": "markdown",
      "metadata": {
        "id": "t4NLAlB9zGeC"
      },
      "source": [
        "## Use the LDA Model to Assign Each Document a Topic Name\n",
        "\n",
        "Now that we have a topic id/name look up dict that is aligned with the index ordering of the trained LDA model, we can move forward to giving each topic a topic name. \n",
        "\n",
        "The function below has been given to you. However, you highly encouraged to read through it and make sure that you understand what it is doing each step of the way. In fact, a good way to do this is to copy and paste the code inside of the function into a new cell, comment out all the lines of code and line by line, uncomment the code and see the output. "
      ]
    },
    {
      "cell_type": "code",
      "metadata": {
        "id": "23No1SMKzGeC"
      },
      "source": [
        "def get_topic_ids_for_docs(lda_model, corpus):\n",
        "    \n",
        "    \"\"\"\n",
        "    Passes a Bag-of-Words vector into a trained LDA model in order to get the topic id of that document. \n",
        "    \n",
        "    Parameters\n",
        "    ----------\n",
        "    lda_model: Gensim object\n",
        "        Must be a trained model \n",
        "        \n",
        "    corpus: nested lists of tuples, \n",
        "        i.e. [[(),(), ..., ()], [(),(), ..., ()], ..., [(),(), ..., ()]]\n",
        "        \n",
        "    Returns\n",
        "    -------\n",
        "    topic_id_list: list\n",
        "        Contains topic ids for all document vectors in corpus \n",
        "    \"\"\"\n",
        "    \n",
        "    # store topic ids for each document\n",
        "    doc_topic_ids = []\n",
        "\n",
        "    # iterature through the bow vectors for each doc\n",
        "    for doc_bow in corpus:\n",
        "        \n",
        "        # store the topic ids for the doc\n",
        "        topic_ids = []\n",
        "        # store the topic probabilities for the doc\n",
        "        topic_probs = []\n",
        "\n",
        "        # list of tuples\n",
        "        # each tuple has a topic id and the prob that the doc belongs to that topic \n",
        "        topic_id_prob_tuples = lda_trained_model.get_document_topics(doc_bow)\n",
        "        \n",
        "        # iterate through the topic id/prob pairs \n",
        "        for topic_id_prob in topic_id_prob_tuples:\n",
        "            \n",
        "            # index for topic id\n",
        "            topic_id = topic_id_prob[0]\n",
        "            # index for prob that doc belongs that the corresponding topic\n",
        "            topic_prob = topic_id_prob[1]\n",
        "\n",
        "            # store all topic ids for doc\n",
        "            topic_ids.append(topic_id)\n",
        "            # store all topic probs for doc\n",
        "            topic_probs.append(topic_prob)\n",
        "\n",
        "        # get the index for the topic that had the highest probability, for the current document \n",
        "        max_topic_prob_ind = np.argmax(topic_probs)\n",
        "        # get the corresponding topic id\n",
        "        max_prob_topic_id = topic_ids[max_topic_prob_ind]\n",
        "        # store the most probable topic id for the current document\n",
        "        doc_topic_ids.append(max_prob_topic_id)\n",
        "        \n",
        "    return doc_topic_ids"
      ],
      "execution_count": 45,
      "outputs": []
    },
    {
      "cell_type": "code",
      "metadata": {
        "deletable": false,
        "nbgrader": {
          "cell_type": "code",
          "checksum": "09f2b8ebaf696dc05187cecce8c9e251",
          "grade": false,
          "grade_id": "cell-e28e8774a79ac647",
          "locked": false,
          "schema_version": 3,
          "solution": true,
          "task": false
        },
        "id": "gI94W2MvzGeD"
      },
      "source": [
        "# use get_topic_ids_for_docs to get the topic id for each doc in the corpus - save result to `doc_topic_ids`\n",
        "doc_topic_ids = get_topic_ids_for_docs(lda_trained_model, corpus)\n",
        "\n",
        "# create a new feature in df_electronics called topic_id using `doc_topic_ids`\n",
        "df_electronics['topic_id'] = doc_topic_ids\n",
        "\n",
        "# iterate through topic_id and use the lookup dict `topic_name_dict` to assign each document a topic name\n",
        "# save results to a new feature in df_electronics called `new_topic_name`\n",
        "df_electronics['new_topic_name'] = df_electronics['topic_id'].map(topic_name_dict)\n"
      ],
      "execution_count": 46,
      "outputs": []
    },
    {
      "cell_type": "markdown",
      "metadata": {
        "id": "NZa4oKuIzGeD"
      },
      "source": [
        "## Congratulations! You have created new topic names for your documents. "
      ]
    },
    {
      "cell_type": "code",
      "metadata": {
        "id": "kDVAZTa23xkF",
        "colab": {
          "base_uri": "https://localhost:8080/",
          "height": 520
        },
        "outputId": "565eab46-5914-4070-f2e8-c6f1599096cf"
      },
      "source": [
        "cols = [\"reviews.text\", \"new_topic_name\", \"topic_id\"]\n",
        "df_electronics[cols].head(15)"
      ],
      "execution_count": 51,
      "outputs": [
        {
          "output_type": "execute_result",
          "data": {
            "text/plain": [
              "                                           reviews.text   new_topic_name  \\\n",
              "8343  Great case to keep everything in its place! My...   Family / Gifts   \n",
              "8344  After discarding and getting rid of broken cd ...           Issues   \n",
              "8345     A few dollars more, but I am boycotting amazon    Table / Video   \n",
              "8346  My initial impression of this was very good. T...  Reading Devices   \n",
              "8347  Pros: Standard Echo. Cons: Older generation Ec...           Issues   \n",
              "8348  Pros: Got it for under 50, much impressive sou...    Table / Video   \n",
              "8349  Pros: I love the Alexa series so when this one...           Issues   \n",
              "8350  ASIDE FROM THE FACT THAT THE SCREEN IS SMALL, ...           Issues   \n",
              "8351  I wasn't sure I even wanted this item, but cau...           Issues   \n",
              "8352  Pros: Works good like Alexia Cons: setting it ...    Table / Video   \n",
              "8353  Pros: Relatively easy to setup and works quite...    Table / Video   \n",
              "8354  Pros: I WOULD recommend anyone who was going t...    Table / Video   \n",
              "8355  Pros: Allows you to cut your cable. With many ...  Reading Devices   \n",
              "8356  Pros: I'm a subscriber to DirectTV Now! So i p...    Table / Video   \n",
              "8357  Pros: Very satisfied I am about buy online thi...    Table / Video   \n",
              "\n",
              "      topic_id  \n",
              "8343         2  \n",
              "8344         0  \n",
              "8345         3  \n",
              "8346         1  \n",
              "8347         0  \n",
              "8348         3  \n",
              "8349         0  \n",
              "8350         0  \n",
              "8351         0  \n",
              "8352         3  \n",
              "8353         3  \n",
              "8354         3  \n",
              "8355         1  \n",
              "8356         3  \n",
              "8357         3  "
            ],
            "text/html": [
              "\n",
              "  <div id=\"df-69d5f65e-98ec-4138-bda5-87c6ca91dc34\">\n",
              "    <div class=\"colab-df-container\">\n",
              "      <div>\n",
              "<style scoped>\n",
              "    .dataframe tbody tr th:only-of-type {\n",
              "        vertical-align: middle;\n",
              "    }\n",
              "\n",
              "    .dataframe tbody tr th {\n",
              "        vertical-align: top;\n",
              "    }\n",
              "\n",
              "    .dataframe thead th {\n",
              "        text-align: right;\n",
              "    }\n",
              "</style>\n",
              "<table border=\"1\" class=\"dataframe\">\n",
              "  <thead>\n",
              "    <tr style=\"text-align: right;\">\n",
              "      <th></th>\n",
              "      <th>reviews.text</th>\n",
              "      <th>new_topic_name</th>\n",
              "      <th>topic_id</th>\n",
              "    </tr>\n",
              "  </thead>\n",
              "  <tbody>\n",
              "    <tr>\n",
              "      <th>8343</th>\n",
              "      <td>Great case to keep everything in its place! My...</td>\n",
              "      <td>Family / Gifts</td>\n",
              "      <td>2</td>\n",
              "    </tr>\n",
              "    <tr>\n",
              "      <th>8344</th>\n",
              "      <td>After discarding and getting rid of broken cd ...</td>\n",
              "      <td>Issues</td>\n",
              "      <td>0</td>\n",
              "    </tr>\n",
              "    <tr>\n",
              "      <th>8345</th>\n",
              "      <td>A few dollars more, but I am boycotting amazon</td>\n",
              "      <td>Table / Video</td>\n",
              "      <td>3</td>\n",
              "    </tr>\n",
              "    <tr>\n",
              "      <th>8346</th>\n",
              "      <td>My initial impression of this was very good. T...</td>\n",
              "      <td>Reading Devices</td>\n",
              "      <td>1</td>\n",
              "    </tr>\n",
              "    <tr>\n",
              "      <th>8347</th>\n",
              "      <td>Pros: Standard Echo. Cons: Older generation Ec...</td>\n",
              "      <td>Issues</td>\n",
              "      <td>0</td>\n",
              "    </tr>\n",
              "    <tr>\n",
              "      <th>8348</th>\n",
              "      <td>Pros: Got it for under 50, much impressive sou...</td>\n",
              "      <td>Table / Video</td>\n",
              "      <td>3</td>\n",
              "    </tr>\n",
              "    <tr>\n",
              "      <th>8349</th>\n",
              "      <td>Pros: I love the Alexa series so when this one...</td>\n",
              "      <td>Issues</td>\n",
              "      <td>0</td>\n",
              "    </tr>\n",
              "    <tr>\n",
              "      <th>8350</th>\n",
              "      <td>ASIDE FROM THE FACT THAT THE SCREEN IS SMALL, ...</td>\n",
              "      <td>Issues</td>\n",
              "      <td>0</td>\n",
              "    </tr>\n",
              "    <tr>\n",
              "      <th>8351</th>\n",
              "      <td>I wasn't sure I even wanted this item, but cau...</td>\n",
              "      <td>Issues</td>\n",
              "      <td>0</td>\n",
              "    </tr>\n",
              "    <tr>\n",
              "      <th>8352</th>\n",
              "      <td>Pros: Works good like Alexia Cons: setting it ...</td>\n",
              "      <td>Table / Video</td>\n",
              "      <td>3</td>\n",
              "    </tr>\n",
              "    <tr>\n",
              "      <th>8353</th>\n",
              "      <td>Pros: Relatively easy to setup and works quite...</td>\n",
              "      <td>Table / Video</td>\n",
              "      <td>3</td>\n",
              "    </tr>\n",
              "    <tr>\n",
              "      <th>8354</th>\n",
              "      <td>Pros: I WOULD recommend anyone who was going t...</td>\n",
              "      <td>Table / Video</td>\n",
              "      <td>3</td>\n",
              "    </tr>\n",
              "    <tr>\n",
              "      <th>8355</th>\n",
              "      <td>Pros: Allows you to cut your cable. With many ...</td>\n",
              "      <td>Reading Devices</td>\n",
              "      <td>1</td>\n",
              "    </tr>\n",
              "    <tr>\n",
              "      <th>8356</th>\n",
              "      <td>Pros: I'm a subscriber to DirectTV Now! So i p...</td>\n",
              "      <td>Table / Video</td>\n",
              "      <td>3</td>\n",
              "    </tr>\n",
              "    <tr>\n",
              "      <th>8357</th>\n",
              "      <td>Pros: Very satisfied I am about buy online thi...</td>\n",
              "      <td>Table / Video</td>\n",
              "      <td>3</td>\n",
              "    </tr>\n",
              "  </tbody>\n",
              "</table>\n",
              "</div>\n",
              "      <button class=\"colab-df-convert\" onclick=\"convertToInteractive('df-69d5f65e-98ec-4138-bda5-87c6ca91dc34')\"\n",
              "              title=\"Convert this dataframe to an interactive table.\"\n",
              "              style=\"display:none;\">\n",
              "        \n",
              "  <svg xmlns=\"http://www.w3.org/2000/svg\" height=\"24px\"viewBox=\"0 0 24 24\"\n",
              "       width=\"24px\">\n",
              "    <path d=\"M0 0h24v24H0V0z\" fill=\"none\"/>\n",
              "    <path d=\"M18.56 5.44l.94 2.06.94-2.06 2.06-.94-2.06-.94-.94-2.06-.94 2.06-2.06.94zm-11 1L8.5 8.5l.94-2.06 2.06-.94-2.06-.94L8.5 2.5l-.94 2.06-2.06.94zm10 10l.94 2.06.94-2.06 2.06-.94-2.06-.94-.94-2.06-.94 2.06-2.06.94z\"/><path d=\"M17.41 7.96l-1.37-1.37c-.4-.4-.92-.59-1.43-.59-.52 0-1.04.2-1.43.59L10.3 9.45l-7.72 7.72c-.78.78-.78 2.05 0 2.83L4 21.41c.39.39.9.59 1.41.59.51 0 1.02-.2 1.41-.59l7.78-7.78 2.81-2.81c.8-.78.8-2.07 0-2.86zM5.41 20L4 18.59l7.72-7.72 1.47 1.35L5.41 20z\"/>\n",
              "  </svg>\n",
              "      </button>\n",
              "      \n",
              "  <style>\n",
              "    .colab-df-container {\n",
              "      display:flex;\n",
              "      flex-wrap:wrap;\n",
              "      gap: 12px;\n",
              "    }\n",
              "\n",
              "    .colab-df-convert {\n",
              "      background-color: #E8F0FE;\n",
              "      border: none;\n",
              "      border-radius: 50%;\n",
              "      cursor: pointer;\n",
              "      display: none;\n",
              "      fill: #1967D2;\n",
              "      height: 32px;\n",
              "      padding: 0 0 0 0;\n",
              "      width: 32px;\n",
              "    }\n",
              "\n",
              "    .colab-df-convert:hover {\n",
              "      background-color: #E2EBFA;\n",
              "      box-shadow: 0px 1px 2px rgba(60, 64, 67, 0.3), 0px 1px 3px 1px rgba(60, 64, 67, 0.15);\n",
              "      fill: #174EA6;\n",
              "    }\n",
              "\n",
              "    [theme=dark] .colab-df-convert {\n",
              "      background-color: #3B4455;\n",
              "      fill: #D2E3FC;\n",
              "    }\n",
              "\n",
              "    [theme=dark] .colab-df-convert:hover {\n",
              "      background-color: #434B5C;\n",
              "      box-shadow: 0px 1px 3px 1px rgba(0, 0, 0, 0.15);\n",
              "      filter: drop-shadow(0px 1px 2px rgba(0, 0, 0, 0.3));\n",
              "      fill: #FFFFFF;\n",
              "    }\n",
              "  </style>\n",
              "\n",
              "      <script>\n",
              "        const buttonEl =\n",
              "          document.querySelector('#df-69d5f65e-98ec-4138-bda5-87c6ca91dc34 button.colab-df-convert');\n",
              "        buttonEl.style.display =\n",
              "          google.colab.kernel.accessAllowed ? 'block' : 'none';\n",
              "\n",
              "        async function convertToInteractive(key) {\n",
              "          const element = document.querySelector('#df-69d5f65e-98ec-4138-bda5-87c6ca91dc34');\n",
              "          const dataTable =\n",
              "            await google.colab.kernel.invokeFunction('convertToInteractive',\n",
              "                                                     [key], {});\n",
              "          if (!dataTable) return;\n",
              "\n",
              "          const docLinkHtml = 'Like what you see? Visit the ' +\n",
              "            '<a target=\"_blank\" href=https://colab.research.google.com/notebooks/data_table.ipynb>data table notebook</a>'\n",
              "            + ' to learn more about interactive tables.';\n",
              "          element.innerHTML = '';\n",
              "          dataTable['output_type'] = 'display_data';\n",
              "          await google.colab.output.renderOutput(dataTable, element);\n",
              "          const docLink = document.createElement('div');\n",
              "          docLink.innerHTML = docLinkHtml;\n",
              "          element.appendChild(docLink);\n",
              "        }\n",
              "      </script>\n",
              "    </div>\n",
              "  </div>\n",
              "  "
            ]
          },
          "metadata": {},
          "execution_count": 51
        }
      ]
    },
    {
      "cell_type": "markdown",
      "metadata": {
        "id": "eqY0KKxKQxbm"
      },
      "source": [
        "## Topic Modeling References\n"
      ]
    },
    {
      "cell_type": "markdown",
      "metadata": {
        "id": "iKhe7u4IXr0y"
      },
      "source": [
        "\n",
        "- [Topic Modeling with Gensim](https://www.tutorialspoint.com/gensim/gensim_topic_modeling.htm) -- Brief Tutorial\n",
        "\n",
        "- [Gensim documentation](https://radimrehurek.com/gensim/index.html) -- look up gensim commands\n",
        "\n",
        "- [`pyLDAvis` documentation](https://pyldavis.readthedocs.io/en/latest/readme.html) -- package for visualizing LDA models\n",
        "\n",
        "- [Visualizing Topic Models](https://speakerdeck.com/bmabey/visualizing-topic-models) -- slides from Ben Mabey\n",
        "\n",
        "- [Exploring the Space of Topic Coherence Measures](https://dl.acm.org/doi/10.1145/2684822.2685324) -- Study of Topic Coherence measures\n",
        "\n",
        "- [Exploring Topic Coherence over many models and many topics](https://www.researchgate.net/publication/232242203_Exploring_Topic_Coherence_over_many_models_and_many_topics) -- Study of automated topic coherence measures"
      ]
    }
  ]
}