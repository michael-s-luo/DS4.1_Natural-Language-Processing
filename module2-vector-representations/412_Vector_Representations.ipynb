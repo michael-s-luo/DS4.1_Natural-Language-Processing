{
  "nbformat": 4,
  "nbformat_minor": 0,
  "metadata": {
    "celltoolbar": "Create Assignment",
    "kernelspec": {
      "display_name": "py37  (Python3)",
      "language": "python",
      "name": "py37"
    },
    "language_info": {
      "codemirror_mode": {
        "name": "ipython",
        "version": 3
      },
      "file_extension": ".py",
      "mimetype": "text/x-python",
      "name": "python",
      "nbconvert_exporter": "python",
      "pygments_lexer": "ipython3",
      "version": "3.7.0"
    },
    "colab": {
      "provenance": []
    }
  },
  "cells": [
    {
      "cell_type": "markdown",
      "metadata": {
        "id": "cM-KfuCGdQ_9"
      },
      "source": [
        "*Unit 4, Sprint 1, Module 2*\n",
        "\n",
        "---\n",
        "\n",
        "# Vector Representations\n",
        "\n",
        "\n",
        "\n",
        "As we learned yesterday, machines cannot interpret raw text. We need to transform that text into something we/machines can more readily analyze. Yesterday, we did simple counts of counts to summarize the content of Amazon reviews. Today, we'll extend those concepts to talk about vector representations such as Bag of Words (BoW) and word embedding models. We'll use those representations for search, visualization, and prepare for our classification day tomorrow. \n",
        "\n",
        "Processing text data to prepare it for machine learning models often means translating the information from documents into a numerical format. Bag-of-Words approaches (sometimes referred to as Frequency-Based word embeddings) accomplish this by \"vectorizing\" tokenized documents. This is done by representing each document as a row in a DataFrame and creating a column for each unique word in the corpora (group of documents). The presence or lack of a given word in a document is then represented either as a raw count of how many times a given word appears in a document (CountVectorizer) or as that word's TF-IDF score (TfidfVectorizer).\n",
        "\n",
        "On the python side, we will be focusing on `sklearn` and `spacy` today.  \n",
        "\n",
        "## Case Study\n",
        "\n",
        "We're going to pretend we're on the datascience team at the BBC. We want to recommend articles to visitors to on the BBC website based on the article they just read. \n",
        "\n",
        "[BBC data set](http://mlg.ucd.ie/datasets/bbc.html)<br>\n",
        "For today's exercise, we have downloaded the \"raw text files\" from the \"BBC\" data set and focused on the tech articles only\n",
        "\n",
        "## Learning Objectives\n",
        "* <a href=\"#p1\">Part 1</a>: Represent a document as a vector\n",
        "* <a href=\"#p2\">Part 2</a>: Query Documents by Similarity\n",
        "* <a href=\"#p3\">Part 3</a>: Apply word embedding models to create document vectors"
      ]
    },
    {
      "cell_type": "markdown",
      "metadata": {
        "id": "uxtT9pdddRAB"
      },
      "source": [
        "### Let's start with an analogy\n",
        "\n",
        "![](https://peterbeshai.com/static/d9c3868cc1becd7648da453597a5d616/36dbb/DER_cube.jpg)\n",
        "\n",
        "Pretend that the objecting floating in the room is our raw text dataset (i.e. a collection of documents). \n",
        "\n",
        "A vectorizer is a mathematical transformation that takes our raw text data and transforms it into a numerical representation (i.e. numbers inside of vectors). \n",
        "\n",
        "Depending on which vectorizer you use, you will be capturing some of the information encoded in the text but not other information. \n",
        "\n",
        "So, as the analogy goes, depending which side of the floating object you stand and shine a light from, you will only see a portion of the information that exists in your text data set. Apply one vectorizer and you'll get word counts but not the contextual meaning; apply another vectorizer and you'll get the contextual meaning of the words but not the counts. \n",
        "\n",
        "**Take Away:** Understand the benefits and limitations of using each of the vectorizers that we'll be learning today. \n",
        "\n",
        "----"
      ]
    },
    {
      "cell_type": "markdown",
      "metadata": {
        "id": "RmTC1bWMBz02"
      },
      "source": [
        "# 0. Colab notebook setup"
      ]
    },
    {
      "cell_type": "markdown",
      "metadata": {
        "id": "si_FTZzkeGFD"
      },
      "source": [
        "##0.1 Get `spacy`"
      ]
    },
    {
      "cell_type": "code",
      "metadata": {
        "id": "eMfQKVrneA38"
      },
      "source": [
        "%%time\n",
        "# You'll use en_core_web_sm for the sprint challenge due memory constraints on Codegrader\n",
        "#!python -m spacy download en_core_web_sm \n",
        "\n",
        "# Locally (or on colab) let's use en_core_web_lg\n",
        "!pip install --upgrade spacy\n",
        "!python -m spacy download en_core_web_lg # Can do lg, takes awhile\n",
        "# Also on Colab, need to restart runtime after this step!\n",
        "#      or else Colab won't find spacy"
      ],
      "execution_count": null,
      "outputs": []
    },
    {
      "cell_type": "markdown",
      "metadata": {
        "id": "IRKrvC4feP15"
      },
      "source": [
        "##0.2 Restart the runtime!"
      ]
    },
    {
      "cell_type": "markdown",
      "metadata": {
        "id": "Eba3NjeAO-Ha"
      },
      "source": [
        "## 0.3 Imports"
      ]
    },
    {
      "cell_type": "code",
      "metadata": {
        "id": "0XVf_1L3dRAD",
        "colab": {
          "base_uri": "https://localhost:8080/"
        },
        "outputId": "71d12b8a-ed6d-47d9-ba0c-0a18d10644e8"
      },
      "source": [
        "\"\"\" Import Statements \"\"\"\n",
        "\n",
        "# Classics\n",
        "import numpy as np\n",
        "import pandas as pd\n",
        "import seaborn as sns\n",
        "import matplotlib.pyplot as plt\n",
        "\n",
        "from sklearn.feature_extraction.text import CountVectorizer, TfidfVectorizer\n",
        "from sklearn.metrics.pairwise import cosine_similarity\n",
        "from sklearn.neighbors import NearestNeighbors\n",
        "from sklearn.decomposition import PCA\n",
        "\n",
        "import spacy\n",
        "nlp = spacy.load(\"en_core_web_lg\")"
      ],
      "execution_count": 1,
      "outputs": [
        {
          "output_type": "stream",
          "name": "stderr",
          "text": [
            "/usr/local/lib/python3.8/dist-packages/torch/cuda/__init__.py:497: UserWarning: Can't initialize NVML\n",
            "  warnings.warn(\"Can't initialize NVML\")\n"
          ]
        }
      ]
    },
    {
      "cell_type": "markdown",
      "metadata": {
        "id": "55skIZ7eidH7"
      },
      "source": [
        "##0.4 Clone the git repo\n",
        "so we can access the files in the `/data` folder"
      ]
    },
    {
      "cell_type": "code",
      "metadata": {
        "id": "kpgi5SBuePAD",
        "colab": {
          "base_uri": "https://localhost:8080/"
        },
        "outputId": "47fe8a73-f705-4c5b-d21b-b1b45e142206"
      },
      "source": [
        "!git clone https://github.com/LambdaSchool/DS-Unit-4-Sprint-1-NLP.git"
      ],
      "execution_count": 2,
      "outputs": [
        {
          "output_type": "stream",
          "name": "stdout",
          "text": [
            "Cloning into 'DS-Unit-4-Sprint-1-NLP'...\n",
            "remote: Enumerating objects: 1693, done.\u001b[K\n",
            "remote: Counting objects: 100% (162/162), done.\u001b[K\n",
            "remote: Compressing objects: 100% (90/90), done.\u001b[K\n",
            "remote: Total 1693 (delta 89), reused 124 (delta 72), pack-reused 1531\u001b[K\n",
            "Receiving objects: 100% (1693/1693), 59.40 MiB | 20.43 MiB/s, done.\n",
            "Resolving deltas: 100% (258/258), done.\n"
          ]
        }
      ]
    },
    {
      "cell_type": "markdown",
      "metadata": {
        "id": "JD4Kv86TjEfJ"
      },
      "source": [
        "## 0.5 Get the BBC tech articles data"
      ]
    },
    {
      "cell_type": "markdown",
      "metadata": {
        "id": "4v8uWdQRBjF7"
      },
      "source": [
        "Helper function to read articles in `.txt` files in a specified directory and gather them into a big list"
      ]
    },
    {
      "cell_type": "code",
      "metadata": {
        "id": "6m0vfCnqdRAI"
      },
      "source": [
        "import os \n",
        "\n",
        "def gather_data(filefolder):\n",
        "    \"\"\" Produces List of Documents from a Directory\n",
        "    \n",
        "    filefolder (str): a path of .txt files\n",
        "    \n",
        "    returns list of strings \n",
        "    \"\"\"\n",
        "    \n",
        "    data = []\n",
        "    \n",
        "    files = os.listdir(filefolder) # Causes variation across machines\n",
        "    \n",
        "    for filename in files: \n",
        "        \n",
        "        path = os.path.join(filefolder, filename)\n",
        "                    \n",
        "        if  path[-3:] == 'txt': # os ~endswith('txt')\n",
        "            with open(path, 'rb') as f:\n",
        "                data.append(f.read())\n",
        "    \n",
        "    return data"
      ],
      "execution_count": 3,
      "outputs": []
    },
    {
      "cell_type": "markdown",
      "metadata": {
        "id": "XSH2TnEnBsK7"
      },
      "source": [
        "Read the articles into a list"
      ]
    },
    {
      "cell_type": "code",
      "metadata": {
        "id": "gFsYq8x6dRAJ",
        "colab": {
          "base_uri": "https://localhost:8080/"
        },
        "outputId": "109897d7-f196-4ffe-eb5b-49fd47080588"
      },
      "source": [
        "# locate and get path to the /data folder, using colab's file browser\n",
        "data_path = '/content/DS-Unit-4-Sprint-1-NLP/module2-vector-representations/data'\n",
        "data = gather_data(data_path)\n",
        "print(f'Number of Articles: {len(data)}')"
      ],
      "execution_count": 4,
      "outputs": [
        {
          "output_type": "stream",
          "name": "stdout",
          "text": [
            "Number of Articles: 401\n"
          ]
        }
      ]
    },
    {
      "cell_type": "markdown",
      "metadata": {
        "id": "2gx9kYDLCGtN"
      },
      "source": [
        "Articles turn out to be \"byte strings\" so we need to decode them to strings"
      ]
    },
    {
      "cell_type": "code",
      "metadata": {
        "id": "IC8NUCwhCY3Z",
        "colab": {
          "base_uri": "https://localhost:8080/"
        },
        "outputId": "2684f049-cb09-4522-f420-21d0701c9376"
      },
      "source": [
        "print(data[20])\n",
        "print(type(data[20]))"
      ],
      "execution_count": 5,
      "outputs": [
        {
          "output_type": "stream",
          "name": "stdout",
          "text": [
            "b'Gadgets galore on show at fair\\n\\nThe 2005 Consumer Electronics Show in Las Vegas is a geek\\'s paradise with more than 50,000 new gadgets and technologies launched during the four-day event.\\n\\nTop gadgets at the show are highlighted in the Innovations Showcase, which recognises some of the hottest developments in consumer electronics. The BBC News website took an early pre-show look at some of those technologies that will be making their debut in 2005. \\n\\n \\n\\nOne of the key issues for keen gadget users is how to store all their digital images, audio and video files. The 2.5GB and 5GB circular pocket hard drive from Seagate might help. The external USB drive won a CES best innovations design and engineering award and is small enough to slip into a pocket. \"It is the kind of storage that appeals to people who want their PCs to look cool,\" said Seagate. \"It is all about style but it also has lots of functionality.\" \"It is the first time you can say a hard drive is sexy,\" it said. In the centre of the device is a blue light that flashes while data is being written to ensure users do not unplug it when it is busy saving those precious pictures. \\n\\n \\n\\nUniversal Electronics\\' NevoSL is a universal controller that lets people use one device to get at their multimedia content, such as photos, no matter where it is in their house. It can also act as a remote for home theatre and stereo systems. Working with home broadband networks and PCs, the gadget has built-in wireless and a colourful, simple interface. Paul Arling, UEI chief, said consumers face real problems when trying to get at all the files they own that are typically spread across several different devices. He said the Nevo gave people a simple, single way to regain some control over digital media in the home. The Nevo won two awards at CES, one as a Girl\\'s Best Friend award and another for innovation, design and engineering. The gadget is expected to go on sale before the summer and will cost about $799 (\\xc2\\xa3425). \\n\\n \\n\\nHotseat is targeting keen gamers with money to spend with its Solo Chassis gaming chair. The specially-designed chair lets gamers play in surround-sound while stretching out in their own \"space\". It is compatible with all the major games consoles, DVD players and PCs. \"We found that kids love playing in surround sound,\" said Jay LeBoff from Hotseat. \"We are looking at offering different types of seats, depending on the market success of this one.\" The chair also lets people experience surround sound while watching videos, with wireless control for six surround sound speakers. And a drinks holder. The chair, which looks like a car seat on a skeletal frame, should go on sale in April and is expected to cost $399 (\\xc2\\xa3211). \\n\\n \\n\\nSatellite radio is big business in the US. In the UK, the digital radio technology is known as DAB and works on slightly different technology. Eton Corporation\\'s Porsche designed P7131 digital radio set will be launched both as a DAB radio in the UK as well as a satellite radio set in the US. DAB sets have been slow to take-off in the UK, but this one concentrates on sleek looks as much as technology. \"It is for the risqu&#233; consumer,\" said an Eton spokesperson. \"We are proud of it because it has the sound quality for the audiophile and the looks for the design-conscious consumer.\" The Porsche radio is set to go on sale at the end of January in the US and in the first quarter of 2005 in the UK. In the US is it expected to cost $250 (\\xc2\\xa3133). \\n\\n \\n\\nThe average person has a library of 600 digital images estimates the Consumer Electronics Association, the organisation behind CES. This is expected to grow to a massive 3,420 images - or 7.2GB - in five years\\' time. One gadget that might help swell that collection is Sanyo\\'s tiny handheld VPC-C4 camcorder which is another innovation in design and engineering award winner. It combines high quality video and stills in a very small device. It takes MPEG4 video quality at 30 frames a second and has a four megapixel still camera. Images and video are stored on SD cards, which have come down in price in recent months. A 512MB card will store about 30 minutes of video and 420 stills. The device is so tiny it can be controlled with one thumb. Because images and video are stored on SD memory, it is portable to other devices and means other data like audio can be stored on the card too. \\n\\n \\n\\nWearable technology has always promised much but failed to deliver because of lack of storage capability and poor design. MPIO\\'s tiny digital USB music players come in an array of fashionable colours, taking a leaf out of the Apple iPod mini book of design and reflecting the desire for gadgets that look good. Slung on a cord, the player would not look too geeky dangling discreetly from the neck. Although the pendant design was launched three months ago, the device emphasises large storage as well as good looks for fashion-conscious gadget fiends. An even dinkier model, the FY500, comes out in May and will store about 256MB of music. The range of players recently won an International Forum design award 2005.\\n'\n",
            "<class 'bytes'>\n"
          ]
        }
      ]
    },
    {
      "cell_type": "code",
      "metadata": {
        "id": "ubER5c_yPLMG",
        "colab": {
          "base_uri": "https://localhost:8080/"
        },
        "outputId": "3b89637f-3575-4be5-dea3-a85b13342c0b"
      },
      "source": [
        "# decode bytestrings in a corpus to strings\n",
        "# takes a list of documents, i.e a list of strings as input\n",
        "articles = []\n",
        "for article in data:\n",
        "  article = article.decode(\"utf-8\")\n",
        "  articles.append(article)\n",
        "print(len(articles))\n",
        "\n",
        "# Preview first article and check data type again\n",
        "data = articles\n",
        "print(data[0])\n",
        "print(type(data[0]))"
      ],
      "execution_count": 6,
      "outputs": [
        {
          "output_type": "stream",
          "name": "stdout",
          "text": [
            "401\n",
            "New delay hits EU software laws\n",
            "\n",
            "A fresh delay has hit controversial new European Union rules which govern computer-based inventions.\n",
            "\n",
            "The draft law was not adopted by EU ministers as planned at a Brussels meeting on Monday during which it was supposed to have been discussed. The fresh delay came after Polish officials had raised concerns about the law for the second time in two months. Critics say the law would favour large companies over small ones and could impact open-source software innovation. \"There was at one point the intention to put the item on today's agenda. But in the end we could not put it on,\" an EU spokesman told the Reuters agency. He added that no date had been chosen for more discussion of the law.\n",
            "\n",
            "In December, Poland requested more time to consider the issue because it was concerned that the law could lead to the patenting of pure computer software. Its ministers want to see the phrasing of the text of the Directive on the Patentability of Computer-Implemented Inventions changed so that it excludes software patenting. Poland is a large EU member, so its backing for the legislation is vital. The EU says the law would bring Europe more in line with how such laws work in the US, but this has caused some angry debate amongst critics and supporters. In the US, the patenting of computer programs and internet business methods is permitted. This means that the US-based Amazon.com holds a patent for its \"one-click shopping\" service. Critics say a similar model in Europe would hurt small software developers which do not have the legal and financial might of larger companies. But supporters say current law does not let big companies protect inventions which they have spent years developing.\n",
            "\n",
            "<class 'str'>\n"
          ]
        }
      ]
    },
    {
      "cell_type": "markdown",
      "metadata": {
        "id": "2CF_285ECuXV"
      },
      "source": [
        "Make a `spacy` tokenizer, as in Module 1<br>\n",
        "Question: why did we use [`.strip()`](https://python-reference.readthedocs.io/en/latest/docs/str/strip.html)?"
      ]
    },
    {
      "cell_type": "code",
      "metadata": {
        "id": "XlnxqpI2dRAQ"
      },
      "source": [
        "def tokenize(document):\n",
        "    \"\"\"\n",
        "    Takes a doc (text string) and returns a list of tokens in the form of lemmas.\n",
        "    Filters out Stop words, punctuation, and leading/trailing spaces. \n",
        "    \"\"\"\n",
        "    \n",
        "    doc = nlp(document)\n",
        "    # last \"and\" statement is to remove token lemmas that are empty strings\n",
        "    lemma_list = [token.lemma_.lower().strip() for token in doc if (not token.is_stop) \n",
        "                                                                and (not token.is_punct ) \n",
        "                                                                and (token.lemma_.strip()!=\"\") \n",
        "                                                                and (len(token.lemma_.strip())>1)]\n",
        "    \n",
        "    return lemma_list"
      ],
      "execution_count": 20,
      "outputs": []
    },
    {
      "cell_type": "code",
      "source": [
        "# Test our tokenizer\n",
        "tokenize('My 3 dogs ate my homework   assignments! It cost me $1.5 million.')"
      ],
      "metadata": {
        "colab": {
          "base_uri": "https://localhost:8080/"
        },
        "id": "OB39GHh-Jbk2",
        "outputId": "50af44b5-dae4-4367-ecfc-65da5befb4f4"
      },
      "execution_count": 21,
      "outputs": [
        {
          "output_type": "execute_result",
          "data": {
            "text/plain": [
              "['dog', 'eat', 'homework', 'assignment', 'cost', '1.5', 'million']"
            ]
          },
          "metadata": {},
          "execution_count": 21
        }
      ]
    },
    {
      "cell_type": "code",
      "metadata": {
        "id": "DKox9ksM2RWM",
        "colab": {
          "base_uri": "https://localhost:8080/",
          "height": 108
        },
        "outputId": "b89f4eb8-a198-4d00-8a40-2c52d35a6490"
      },
      "source": [
        "data[20]"
      ],
      "execution_count": 22,
      "outputs": [
        {
          "output_type": "execute_result",
          "data": {
            "text/plain": [
              "'Gadgets galore on show at fair\\n\\nThe 2005 Consumer Electronics Show in Las Vegas is a geek\\'s paradise with more than 50,000 new gadgets and technologies launched during the four-day event.\\n\\nTop gadgets at the show are highlighted in the Innovations Showcase, which recognises some of the hottest developments in consumer electronics. The BBC News website took an early pre-show look at some of those technologies that will be making their debut in 2005. \\n\\n \\n\\nOne of the key issues for keen gadget users is how to store all their digital images, audio and video files. The 2.5GB and 5GB circular pocket hard drive from Seagate might help. The external USB drive won a CES best innovations design and engineering award and is small enough to slip into a pocket. \"It is the kind of storage that appeals to people who want their PCs to look cool,\" said Seagate. \"It is all about style but it also has lots of functionality.\" \"It is the first time you can say a hard drive is sexy,\" it said. In the centre of the device is a blue light that flashes while data is being written to ensure users do not unplug it when it is busy saving those precious pictures. \\n\\n \\n\\nUniversal Electronics\\' NevoSL is a universal controller that lets people use one device to get at their multimedia content, such as photos, no matter where it is in their house. It can also act as a remote for home theatre and stereo systems. Working with home broadband networks and PCs, the gadget has built-in wireless and a colourful, simple interface. Paul Arling, UEI chief, said consumers face real problems when trying to get at all the files they own that are typically spread across several different devices. He said the Nevo gave people a simple, single way to regain some control over digital media in the home. The Nevo won two awards at CES, one as a Girl\\'s Best Friend award and another for innovation, design and engineering. The gadget is expected to go on sale before the summer and will cost about $799 (£425). \\n\\n \\n\\nHotseat is targeting keen gamers with money to spend with its Solo Chassis gaming chair. The specially-designed chair lets gamers play in surround-sound while stretching out in their own \"space\". It is compatible with all the major games consoles, DVD players and PCs. \"We found that kids love playing in surround sound,\" said Jay LeBoff from Hotseat. \"We are looking at offering different types of seats, depending on the market success of this one.\" The chair also lets people experience surround sound while watching videos, with wireless control for six surround sound speakers. And a drinks holder. The chair, which looks like a car seat on a skeletal frame, should go on sale in April and is expected to cost $399 (£211). \\n\\n \\n\\nSatellite radio is big business in the US. In the UK, the digital radio technology is known as DAB and works on slightly different technology. Eton Corporation\\'s Porsche designed P7131 digital radio set will be launched both as a DAB radio in the UK as well as a satellite radio set in the US. DAB sets have been slow to take-off in the UK, but this one concentrates on sleek looks as much as technology. \"It is for the risqu&#233; consumer,\" said an Eton spokesperson. \"We are proud of it because it has the sound quality for the audiophile and the looks for the design-conscious consumer.\" The Porsche radio is set to go on sale at the end of January in the US and in the first quarter of 2005 in the UK. In the US is it expected to cost $250 (£133). \\n\\n \\n\\nThe average person has a library of 600 digital images estimates the Consumer Electronics Association, the organisation behind CES. This is expected to grow to a massive 3,420 images - or 7.2GB - in five years\\' time. One gadget that might help swell that collection is Sanyo\\'s tiny handheld VPC-C4 camcorder which is another innovation in design and engineering award winner. It combines high quality video and stills in a very small device. It takes MPEG4 video quality at 30 frames a second and has a four megapixel still camera. Images and video are stored on SD cards, which have come down in price in recent months. A 512MB card will store about 30 minutes of video and 420 stills. The device is so tiny it can be controlled with one thumb. Because images and video are stored on SD memory, it is portable to other devices and means other data like audio can be stored on the card too. \\n\\n \\n\\nWearable technology has always promised much but failed to deliver because of lack of storage capability and poor design. MPIO\\'s tiny digital USB music players come in an array of fashionable colours, taking a leaf out of the Apple iPod mini book of design and reflecting the desire for gadgets that look good. Slung on a cord, the player would not look too geeky dangling discreetly from the neck. Although the pendant design was launched three months ago, the device emphasises large storage as well as good looks for fashion-conscious gadget fiends. An even dinkier model, the FY500, comes out in May and will store about 256MB of music. The range of players recently won an International Forum design award 2005.\\n'"
            ],
            "application/vnd.google.colaboratory.intrinsic+json": {
              "type": "string"
            }
          },
          "metadata": {},
          "execution_count": 22
        }
      ]
    },
    {
      "cell_type": "code",
      "metadata": {
        "id": "n4Zl0PeDOigp",
        "colab": {
          "base_uri": "https://localhost:8080/"
        },
        "outputId": "20942d40-6149-41af-8f22-136b2a7284ed"
      },
      "source": [
        "tokenize(data[20])"
      ],
      "execution_count": 23,
      "outputs": [
        {
          "output_type": "execute_result",
          "data": {
            "text/plain": [
              "['gadget',\n",
              " 'galore',\n",
              " 'fair',\n",
              " '2005',\n",
              " 'consumer',\n",
              " 'electronics',\n",
              " 'las',\n",
              " 'vegas',\n",
              " 'geek',\n",
              " 'paradise',\n",
              " '50,000',\n",
              " 'new',\n",
              " 'gadget',\n",
              " 'technology',\n",
              " 'launch',\n",
              " 'day',\n",
              " 'event',\n",
              " 'gadget',\n",
              " 'highlight',\n",
              " 'innovations',\n",
              " 'showcase',\n",
              " 'recognise',\n",
              " 'hot',\n",
              " 'development',\n",
              " 'consumer',\n",
              " 'electronic',\n",
              " 'bbc',\n",
              " 'news',\n",
              " 'website',\n",
              " 'take',\n",
              " 'early',\n",
              " 'pre',\n",
              " 'look',\n",
              " 'technology',\n",
              " 'make',\n",
              " 'debut',\n",
              " '2005',\n",
              " 'key',\n",
              " 'issue',\n",
              " 'keen',\n",
              " 'gadget',\n",
              " 'user',\n",
              " 'store',\n",
              " 'digital',\n",
              " 'image',\n",
              " 'audio',\n",
              " 'video',\n",
              " 'file',\n",
              " '2.5',\n",
              " 'gb',\n",
              " 'gb',\n",
              " 'circular',\n",
              " 'pocket',\n",
              " 'hard',\n",
              " 'drive',\n",
              " 'seagate',\n",
              " 'help',\n",
              " 'external',\n",
              " 'usb',\n",
              " 'drive',\n",
              " 'win',\n",
              " 'ces',\n",
              " 'good',\n",
              " 'innovation',\n",
              " 'design',\n",
              " 'engineering',\n",
              " 'award',\n",
              " 'small',\n",
              " 'slip',\n",
              " 'pocket',\n",
              " 'kind',\n",
              " 'storage',\n",
              " 'appeal',\n",
              " 'people',\n",
              " 'want',\n",
              " 'pc',\n",
              " 'look',\n",
              " 'cool',\n",
              " 'say',\n",
              " 'seagate',\n",
              " 'style',\n",
              " 'lot',\n",
              " 'functionality',\n",
              " 'time',\n",
              " 'hard',\n",
              " 'drive',\n",
              " 'sexy',\n",
              " 'say',\n",
              " 'centre',\n",
              " 'device',\n",
              " 'blue',\n",
              " 'light',\n",
              " 'flash',\n",
              " 'datum',\n",
              " 'write',\n",
              " 'ensure',\n",
              " 'user',\n",
              " 'unplug',\n",
              " 'busy',\n",
              " 'save',\n",
              " 'precious',\n",
              " 'picture',\n",
              " 'universal',\n",
              " 'electronics',\n",
              " 'nevosl',\n",
              " 'universal',\n",
              " 'controller',\n",
              " 'let',\n",
              " 'people',\n",
              " 'use',\n",
              " 'device',\n",
              " 'multimedia',\n",
              " 'content',\n",
              " 'photo',\n",
              " 'matter',\n",
              " 'house',\n",
              " 'act',\n",
              " 'remote',\n",
              " 'home',\n",
              " 'theatre',\n",
              " 'stereo',\n",
              " 'system',\n",
              " 'work',\n",
              " 'home',\n",
              " 'broadband',\n",
              " 'network',\n",
              " 'pc',\n",
              " 'gadget',\n",
              " 'build',\n",
              " 'wireless',\n",
              " 'colourful',\n",
              " 'simple',\n",
              " 'interface',\n",
              " 'paul',\n",
              " 'arling',\n",
              " 'uei',\n",
              " 'chief',\n",
              " 'say',\n",
              " 'consumer',\n",
              " 'face',\n",
              " 'real',\n",
              " 'problem',\n",
              " 'try',\n",
              " 'file',\n",
              " 'typically',\n",
              " 'spread',\n",
              " 'different',\n",
              " 'device',\n",
              " 'say',\n",
              " 'nevo',\n",
              " 'give',\n",
              " 'people',\n",
              " 'simple',\n",
              " 'single',\n",
              " 'way',\n",
              " 'regain',\n",
              " 'control',\n",
              " 'digital',\n",
              " 'medium',\n",
              " 'home',\n",
              " 'nevo',\n",
              " 'win',\n",
              " 'award',\n",
              " 'ces',\n",
              " 'girl',\n",
              " 'best',\n",
              " 'friend',\n",
              " 'award',\n",
              " 'innovation',\n",
              " 'design',\n",
              " 'engineering',\n",
              " 'gadget',\n",
              " 'expect',\n",
              " 'sale',\n",
              " 'summer',\n",
              " 'cost',\n",
              " '799',\n",
              " '425',\n",
              " 'hotseat',\n",
              " 'target',\n",
              " 'keen',\n",
              " 'gamer',\n",
              " 'money',\n",
              " 'spend',\n",
              " 'solo',\n",
              " 'chassis',\n",
              " 'gaming',\n",
              " 'chair',\n",
              " 'specially',\n",
              " 'design',\n",
              " 'chair',\n",
              " 'let',\n",
              " 'gamer',\n",
              " 'play',\n",
              " 'surround',\n",
              " 'sound',\n",
              " 'stretch',\n",
              " 'space',\n",
              " 'compatible',\n",
              " 'major',\n",
              " 'game',\n",
              " 'console',\n",
              " 'dvd',\n",
              " 'player',\n",
              " 'pc',\n",
              " 'find',\n",
              " 'kid',\n",
              " 'love',\n",
              " 'play',\n",
              " 'surround',\n",
              " 'sound',\n",
              " 'say',\n",
              " 'jay',\n",
              " 'leboff',\n",
              " 'hotseat',\n",
              " 'look',\n",
              " 'offer',\n",
              " 'different',\n",
              " 'type',\n",
              " 'seat',\n",
              " 'depend',\n",
              " 'market',\n",
              " 'success',\n",
              " 'chair',\n",
              " 'let',\n",
              " 'people',\n",
              " 'experience',\n",
              " 'surround',\n",
              " 'sound',\n",
              " 'watch',\n",
              " 'video',\n",
              " 'wireless',\n",
              " 'control',\n",
              " 'surround',\n",
              " 'sound',\n",
              " 'speaker',\n",
              " 'drink',\n",
              " 'holder',\n",
              " 'chair',\n",
              " 'look',\n",
              " 'like',\n",
              " 'car',\n",
              " 'seat',\n",
              " 'skeletal',\n",
              " 'frame',\n",
              " 'sale',\n",
              " 'april',\n",
              " 'expect',\n",
              " 'cost',\n",
              " '399',\n",
              " '211',\n",
              " 'satellite',\n",
              " 'radio',\n",
              " 'big',\n",
              " 'business',\n",
              " 'uk',\n",
              " 'digital',\n",
              " 'radio',\n",
              " 'technology',\n",
              " 'know',\n",
              " 'dab',\n",
              " 'work',\n",
              " 'slightly',\n",
              " 'different',\n",
              " 'technology',\n",
              " 'eton',\n",
              " 'corporation',\n",
              " 'porsche',\n",
              " 'design',\n",
              " 'p7131',\n",
              " 'digital',\n",
              " 'radio',\n",
              " 'set',\n",
              " 'launch',\n",
              " 'dab',\n",
              " 'radio',\n",
              " 'uk',\n",
              " 'satellite',\n",
              " 'radio',\n",
              " 'set',\n",
              " 'dab',\n",
              " 'set',\n",
              " 'slow',\n",
              " 'uk',\n",
              " 'concentrate',\n",
              " 'sleek',\n",
              " 'look',\n",
              " 'technology',\n",
              " 'risqu&#233',\n",
              " 'consumer',\n",
              " 'say',\n",
              " 'eton',\n",
              " 'spokesperson',\n",
              " 'proud',\n",
              " 'sound',\n",
              " 'quality',\n",
              " 'audiophile',\n",
              " 'look',\n",
              " 'design',\n",
              " 'conscious',\n",
              " 'consumer',\n",
              " 'porsche',\n",
              " 'radio',\n",
              " 'set',\n",
              " 'sale',\n",
              " 'end',\n",
              " 'january',\n",
              " 'quarter',\n",
              " '2005',\n",
              " 'uk',\n",
              " 'expect',\n",
              " 'cost',\n",
              " '250',\n",
              " '133',\n",
              " 'average',\n",
              " 'person',\n",
              " 'library',\n",
              " '600',\n",
              " 'digital',\n",
              " 'image',\n",
              " 'estimate',\n",
              " 'consumer',\n",
              " 'electronics',\n",
              " 'association',\n",
              " 'organisation',\n",
              " 'ces',\n",
              " 'expect',\n",
              " 'grow',\n",
              " 'massive',\n",
              " '3,420',\n",
              " 'image',\n",
              " '7.2',\n",
              " 'gb',\n",
              " 'year',\n",
              " 'time',\n",
              " 'gadget',\n",
              " 'help',\n",
              " 'swell',\n",
              " 'collection',\n",
              " 'sanyo',\n",
              " 'tiny',\n",
              " 'handheld',\n",
              " 'vpc',\n",
              " 'c4',\n",
              " 'camcorder',\n",
              " 'innovation',\n",
              " 'design',\n",
              " 'engineering',\n",
              " 'award',\n",
              " 'winner',\n",
              " 'combine',\n",
              " 'high',\n",
              " 'quality',\n",
              " 'video',\n",
              " 'still',\n",
              " 'small',\n",
              " 'device',\n",
              " 'take',\n",
              " 'mpeg4',\n",
              " 'video',\n",
              " 'quality',\n",
              " '30',\n",
              " 'frame',\n",
              " 'second',\n",
              " 'megapixel',\n",
              " 'camera',\n",
              " 'image',\n",
              " 'video',\n",
              " 'store',\n",
              " 'sd',\n",
              " 'card',\n",
              " 'come',\n",
              " 'price',\n",
              " 'recent',\n",
              " 'month',\n",
              " '512',\n",
              " 'mb',\n",
              " 'card',\n",
              " 'store',\n",
              " '30',\n",
              " 'minute',\n",
              " 'video',\n",
              " '420',\n",
              " 'still',\n",
              " 'device',\n",
              " 'tiny',\n",
              " 'control',\n",
              " 'thumb',\n",
              " 'image',\n",
              " 'video',\n",
              " 'store',\n",
              " 'sd',\n",
              " 'memory',\n",
              " 'portable',\n",
              " 'device',\n",
              " 'mean',\n",
              " 'datum',\n",
              " 'like',\n",
              " 'audio',\n",
              " 'store',\n",
              " 'card',\n",
              " 'wearable',\n",
              " 'technology',\n",
              " 'promise',\n",
              " 'fail',\n",
              " 'deliver',\n",
              " 'lack',\n",
              " 'storage',\n",
              " 'capability',\n",
              " 'poor',\n",
              " 'design',\n",
              " 'mpio',\n",
              " 'tiny',\n",
              " 'digital',\n",
              " 'usb',\n",
              " 'music',\n",
              " 'player',\n",
              " 'come',\n",
              " 'array',\n",
              " 'fashionable',\n",
              " 'colour',\n",
              " 'take',\n",
              " 'leaf',\n",
              " 'apple',\n",
              " 'ipod',\n",
              " 'mini',\n",
              " 'book',\n",
              " 'design',\n",
              " 'reflect',\n",
              " 'desire',\n",
              " 'gadget',\n",
              " 'look',\n",
              " 'good',\n",
              " 'slung',\n",
              " 'cord',\n",
              " 'player',\n",
              " 'look',\n",
              " 'geeky',\n",
              " 'dangle',\n",
              " 'discreetly',\n",
              " 'neck',\n",
              " 'pendant',\n",
              " 'design',\n",
              " 'launch',\n",
              " 'month',\n",
              " 'ago',\n",
              " 'device',\n",
              " 'emphasise',\n",
              " 'large',\n",
              " 'storage',\n",
              " 'good',\n",
              " 'look',\n",
              " 'fashion',\n",
              " 'conscious',\n",
              " 'gadget',\n",
              " 'fiend',\n",
              " 'dinkier',\n",
              " 'model',\n",
              " 'fy500',\n",
              " 'come',\n",
              " 'store',\n",
              " '256',\n",
              " 'mb',\n",
              " 'music',\n",
              " 'range',\n",
              " 'player',\n",
              " 'recently',\n",
              " 'win',\n",
              " 'international',\n",
              " 'forum',\n",
              " 'design',\n",
              " 'award',\n",
              " '2005']"
            ]
          },
          "metadata": {},
          "execution_count": 23
        }
      ]
    },
    {
      "cell_type": "markdown",
      "metadata": {
        "id": "wvGZ-eiUdRAB"
      },
      "source": [
        "# 1. Represent a document as a vector (Learn)\n",
        "<a id=\"p1\"></a>"
      ]
    },
    {
      "cell_type": "markdown",
      "metadata": {
        "id": "CSUmQeX5dRAC"
      },
      "source": [
        "## Overview\n",
        "\n",
        "In this section, we are going to create Document Term Matrices (DTM). <br>\n",
        "In the DTM, each row represents a document. The columns correspond to the vocabulary words of the entire corpus of documents. <br>\n",
        "Today, we'll learn three methods of computing the value in each cell. <br>\n",
        "* `CountVectorizer` from `sklearn` provides a basic implementation: counts of appearances of words. You could also ignore multiple occurrences of words in a document, and just keep track of whether or not a word occurs in the document via a boolean value.<br>\n",
        "* `TfidfVectorizer` is a more advanced implementation that keeps track of *term-frequency inverse-document frequency* (TF-IDF) instead of integer counts.\n",
        "\n",
        "* Word embeddings, an even more sophisticated method that helps solve the problem of accounting for the context of a word.\n",
        "\n",
        "**Discussion:** Don't we lose all the context and grammar if we do this? So Why does it work?"
      ]
    },
    {
      "cell_type": "markdown",
      "metadata": {
        "toc-hr-collapsed": true,
        "id": "TQQRch8mdRAD"
      },
      "source": [
        "## Follow Along"
      ]
    },
    {
      "cell_type": "markdown",
      "metadata": {
        "id": "wVIflCt1dRAF"
      },
      "source": [
        "**Warm Up (_3 Minutes_)**\n",
        "\n",
        "Extract the tokens from this sentence using Spacy. Text is from [OpenAI](https://openai.com/blog/better-language-models/)"
      ]
    },
    {
      "cell_type": "code",
      "metadata": {
        "id": "yg63BJ6-dRAG",
        "colab": {
          "base_uri": "https://localhost:8080/"
        },
        "outputId": "cb240e19-1ddb-4b99-993d-5e7191375f04"
      },
      "source": [
        "text = \"\"\"\n",
        "GPT-2 displays a broad set of capabilities, including the ability to generate conditional synthetic text samples of unprecedented quality, \n",
        "where we prime the model with an input and have it generate a lengthy continuation. In addition, GPT-2 outperforms other language models \n",
        "trained on specific domains (like Wikipedia, news, or books) without needing to use these domain-specific training datasets. On language \n",
        "tasks like question answering, reading comprehension, summarization, and translation, GPT-2 begins to learn these tasks from the raw text, \n",
        "using no task-specific training data. While scores on these downstream tasks are far from state-of-the-art, they suggest that the tasks \n",
        "can benefit from unsupervised techniques, given sufficient (unlabeled) data and compute.\"\"\"\n",
        "\n",
        "print(f'Number of Words: {len(text.split())}')"
      ],
      "execution_count": 24,
      "outputs": [
        {
          "output_type": "stream",
          "name": "stdout",
          "text": [
            "Number of Words: 110\n"
          ]
        }
      ]
    },
    {
      "cell_type": "code",
      "metadata": {
        "id": "r9rHYGcKRX-n",
        "colab": {
          "base_uri": "https://localhost:8080/"
        },
        "outputId": "72f322b8-c97d-4970-df79-f85f43ea0745"
      },
      "source": [
        "tokens = tokenize(text)\n",
        "print(f'Number of Words: {len(tokens)}')\n",
        "tokens"
      ],
      "execution_count": 25,
      "outputs": [
        {
          "output_type": "stream",
          "name": "stdout",
          "text": [
            "Number of Words: 73\n"
          ]
        },
        {
          "output_type": "execute_result",
          "data": {
            "text/plain": [
              "['gpt-2',\n",
              " 'display',\n",
              " 'broad',\n",
              " 'set',\n",
              " 'capability',\n",
              " 'include',\n",
              " 'ability',\n",
              " 'generate',\n",
              " 'conditional',\n",
              " 'synthetic',\n",
              " 'text',\n",
              " 'sample',\n",
              " 'unprecedented',\n",
              " 'quality',\n",
              " 'prime',\n",
              " 'model',\n",
              " 'input',\n",
              " 'generate',\n",
              " 'lengthy',\n",
              " 'continuation',\n",
              " 'addition',\n",
              " 'gpt-2',\n",
              " 'outperform',\n",
              " 'language',\n",
              " 'model',\n",
              " 'train',\n",
              " 'specific',\n",
              " 'domain',\n",
              " 'like',\n",
              " 'wikipedia',\n",
              " 'news',\n",
              " 'book',\n",
              " 'need',\n",
              " 'use',\n",
              " 'domain',\n",
              " 'specific',\n",
              " 'training',\n",
              " 'dataset',\n",
              " 'language',\n",
              " 'task',\n",
              " 'like',\n",
              " 'question',\n",
              " 'answering',\n",
              " 'read',\n",
              " 'comprehension',\n",
              " 'summarization',\n",
              " 'translation',\n",
              " 'gpt-2',\n",
              " 'begin',\n",
              " 'learn',\n",
              " 'task',\n",
              " 'raw',\n",
              " 'text',\n",
              " 'task',\n",
              " 'specific',\n",
              " 'training',\n",
              " 'datum',\n",
              " 'score',\n",
              " 'downstream',\n",
              " 'task',\n",
              " 'far',\n",
              " 'state',\n",
              " 'art',\n",
              " 'suggest',\n",
              " 'task',\n",
              " 'benefit',\n",
              " 'unsupervised',\n",
              " 'technique',\n",
              " 'give',\n",
              " 'sufficient',\n",
              " 'unlabeled',\n",
              " 'datum',\n",
              " 'compute']"
            ]
          },
          "metadata": {},
          "execution_count": 25
        }
      ]
    },
    {
      "cell_type": "markdown",
      "metadata": {
        "id": "5kJlWC4BdRAK"
      },
      "source": [
        "-----\n",
        "# 1.1 `CountVectorizer`\n",
        "\n",
        "![](https://images4.programmersought.com/947/0a/0acb9279d17a1631bcfb154583cca443.JPEG)"
      ]
    },
    {
      "cell_type": "code",
      "metadata": {
        "nbgrader": {
          "grade": false,
          "grade_id": "cell-c6a74f21ed3917ee",
          "locked": false,
          "schema_version": 3,
          "solution": true,
          "task": false
        },
        "id": "gRM5YA8KdRAK",
        "colab": {
          "base_uri": "https://localhost:8080/"
        },
        "outputId": "41fb6019-dd5a-46b1-94f9-66b5ffba35ff"
      },
      "source": [
        "from sklearn.feature_extraction.text import CountVectorizer\n",
        "\n",
        "\n",
        "# list of text documents\n",
        "\n",
        "# create the transformer\n",
        "\n",
        "# build vocab\n",
        "\n",
        "# transform text\n",
        "\n",
        "### BEGIN SOLUTION\n",
        "# a corpus is a collection of text documents\n",
        "corpus = [\"We created a new dataset which emphasizes diversity of content, by scraping content from the Internet.\",\n",
        "          \" In order to preserve document quality, we used only pages which have been curated/filtered by humans—specifically, we used outbound links from Reddit which received at least 3 karma.\",\n",
        "          \" This can be thought of as a heuristic indicator for whether other users found the link interesting (whether educational or funny), leading to higher data quality than other similar datasets, such as CommonCrawl.\"]\n",
        "\n",
        "# create the transformer\n",
        "vectorizer = CountVectorizer()\n",
        "\n",
        "# build vocabulary\n",
        "vectorizer.fit(corpus) #this model's vocab will be the set of words on what was fit\n",
        "\n",
        "# transform text to create the document-term matrix\n",
        "dtm = vectorizer.transform(corpus)\n",
        "dtm #sparse matrix representation is a notation that ignores the 0s in the matrix (because it is sparse)\n",
        "\n",
        "\n",
        "### END SOLUTION"
      ],
      "execution_count": 27,
      "outputs": [
        {
          "output_type": "execute_result",
          "data": {
            "text/plain": [
              "<3x61 sparse matrix of type '<class 'numpy.int64'>'\n",
              "\twith 69 stored elements in Compressed Sparse Row format>"
            ]
          },
          "metadata": {},
          "execution_count": 27
        }
      ]
    },
    {
      "cell_type": "code",
      "metadata": {
        "nbgrader": {
          "grade": false,
          "grade_id": "cell-93323028a4bfd7e7",
          "locked": false,
          "schema_version": 3,
          "solution": true,
          "task": false
        },
        "scrolled": true,
        "id": "YGKln3xLdRAL",
        "colab": {
          "base_uri": "https://localhost:8080/",
          "height": 465
        },
        "outputId": "07daa62c-8426-47a4-ae00-67569bc39557"
      },
      "source": [
        "# explore the document-term matrix \n",
        "\n",
        "# Get feature names\n",
        "print(vectorizer.get_feature_names_out()) #this is the set of words of our doc\n",
        "print(len(vectorizer.get_feature_names_out()))\n",
        "\n",
        "# Dealing with Sparse Matrix\n",
        "print(dtm.todense())\n",
        "\n",
        "# Get Word Counts for each document\n",
        "df_dtm = pd.DataFrame(dtm.todense(), columns=vectorizer.get_feature_names_out())\n",
        "print(df_dtm.shape)\n",
        "df_dtm.head()\n",
        "\n",
        "\n",
        "\n"
      ],
      "execution_count": 28,
      "outputs": [
        {
          "output_type": "stream",
          "name": "stdout",
          "text": [
            "['as' 'at' 'be' 'been' 'by' 'can' 'commoncrawl' 'content' 'created'\n",
            " 'curated' 'data' 'dataset' 'datasets' 'diversity' 'document'\n",
            " 'educational' 'emphasizes' 'filtered' 'for' 'found' 'from' 'funny' 'have'\n",
            " 'heuristic' 'higher' 'humans' 'in' 'indicator' 'interesting' 'internet'\n",
            " 'karma' 'leading' 'least' 'link' 'links' 'new' 'of' 'only' 'or' 'order'\n",
            " 'other' 'outbound' 'pages' 'preserve' 'quality' 'received' 'reddit'\n",
            " 'scraping' 'similar' 'specifically' 'such' 'than' 'the' 'this' 'thought'\n",
            " 'to' 'used' 'users' 'we' 'whether' 'which']\n",
            "61\n",
            "[[0 0 0 0 1 0 0 2 1 0 0 1 0 1 0 0 1 0 0 0 1 0 0 0 0 0 0 0 0 1 0 0 0 0 0 1\n",
            "  1 0 0 0 0 0 0 0 0 0 0 1 0 0 0 0 1 0 0 0 0 0 1 0 1]\n",
            " [0 1 0 1 1 0 0 0 0 1 0 0 0 0 1 0 0 1 0 0 1 0 1 0 0 1 1 0 0 0 1 0 1 0 1 0\n",
            "  0 1 0 1 0 1 1 1 1 1 1 0 0 1 0 0 0 0 0 1 2 0 2 0 2]\n",
            " [2 0 1 0 0 1 1 0 0 0 1 0 1 0 0 1 0 0 1 1 0 1 0 1 1 0 0 1 1 0 0 1 0 1 0 0\n",
            "  1 0 1 0 2 0 0 0 1 0 0 0 1 0 1 1 1 1 1 1 0 1 0 2 0]]\n",
            "(3, 61)\n"
          ]
        },
        {
          "output_type": "execute_result",
          "data": {
            "text/plain": [
              "   as  at  be  been  by  can  commoncrawl  content  created  curated  ...  \\\n",
              "0   0   0   0     0   1    0            0        2        1        0  ...   \n",
              "1   0   1   0     1   1    0            0        0        0        1  ...   \n",
              "2   2   0   1     0   0    1            1        0        0        0  ...   \n",
              "\n",
              "   than  the  this  thought  to  used  users  we  whether  which  \n",
              "0     0    1     0        0   0     0      0   1        0      1  \n",
              "1     0    0     0        0   1     2      0   2        0      2  \n",
              "2     1    1     1        1   1     0      1   0        2      0  \n",
              "\n",
              "[3 rows x 61 columns]"
            ],
            "text/html": [
              "\n",
              "  <div id=\"df-7daea098-41d2-4ffd-8a20-77fcf5117a3f\">\n",
              "    <div class=\"colab-df-container\">\n",
              "      <div>\n",
              "<style scoped>\n",
              "    .dataframe tbody tr th:only-of-type {\n",
              "        vertical-align: middle;\n",
              "    }\n",
              "\n",
              "    .dataframe tbody tr th {\n",
              "        vertical-align: top;\n",
              "    }\n",
              "\n",
              "    .dataframe thead th {\n",
              "        text-align: right;\n",
              "    }\n",
              "</style>\n",
              "<table border=\"1\" class=\"dataframe\">\n",
              "  <thead>\n",
              "    <tr style=\"text-align: right;\">\n",
              "      <th></th>\n",
              "      <th>as</th>\n",
              "      <th>at</th>\n",
              "      <th>be</th>\n",
              "      <th>been</th>\n",
              "      <th>by</th>\n",
              "      <th>can</th>\n",
              "      <th>commoncrawl</th>\n",
              "      <th>content</th>\n",
              "      <th>created</th>\n",
              "      <th>curated</th>\n",
              "      <th>...</th>\n",
              "      <th>than</th>\n",
              "      <th>the</th>\n",
              "      <th>this</th>\n",
              "      <th>thought</th>\n",
              "      <th>to</th>\n",
              "      <th>used</th>\n",
              "      <th>users</th>\n",
              "      <th>we</th>\n",
              "      <th>whether</th>\n",
              "      <th>which</th>\n",
              "    </tr>\n",
              "  </thead>\n",
              "  <tbody>\n",
              "    <tr>\n",
              "      <th>0</th>\n",
              "      <td>0</td>\n",
              "      <td>0</td>\n",
              "      <td>0</td>\n",
              "      <td>0</td>\n",
              "      <td>1</td>\n",
              "      <td>0</td>\n",
              "      <td>0</td>\n",
              "      <td>2</td>\n",
              "      <td>1</td>\n",
              "      <td>0</td>\n",
              "      <td>...</td>\n",
              "      <td>0</td>\n",
              "      <td>1</td>\n",
              "      <td>0</td>\n",
              "      <td>0</td>\n",
              "      <td>0</td>\n",
              "      <td>0</td>\n",
              "      <td>0</td>\n",
              "      <td>1</td>\n",
              "      <td>0</td>\n",
              "      <td>1</td>\n",
              "    </tr>\n",
              "    <tr>\n",
              "      <th>1</th>\n",
              "      <td>0</td>\n",
              "      <td>1</td>\n",
              "      <td>0</td>\n",
              "      <td>1</td>\n",
              "      <td>1</td>\n",
              "      <td>0</td>\n",
              "      <td>0</td>\n",
              "      <td>0</td>\n",
              "      <td>0</td>\n",
              "      <td>1</td>\n",
              "      <td>...</td>\n",
              "      <td>0</td>\n",
              "      <td>0</td>\n",
              "      <td>0</td>\n",
              "      <td>0</td>\n",
              "      <td>1</td>\n",
              "      <td>2</td>\n",
              "      <td>0</td>\n",
              "      <td>2</td>\n",
              "      <td>0</td>\n",
              "      <td>2</td>\n",
              "    </tr>\n",
              "    <tr>\n",
              "      <th>2</th>\n",
              "      <td>2</td>\n",
              "      <td>0</td>\n",
              "      <td>1</td>\n",
              "      <td>0</td>\n",
              "      <td>0</td>\n",
              "      <td>1</td>\n",
              "      <td>1</td>\n",
              "      <td>0</td>\n",
              "      <td>0</td>\n",
              "      <td>0</td>\n",
              "      <td>...</td>\n",
              "      <td>1</td>\n",
              "      <td>1</td>\n",
              "      <td>1</td>\n",
              "      <td>1</td>\n",
              "      <td>1</td>\n",
              "      <td>0</td>\n",
              "      <td>1</td>\n",
              "      <td>0</td>\n",
              "      <td>2</td>\n",
              "      <td>0</td>\n",
              "    </tr>\n",
              "  </tbody>\n",
              "</table>\n",
              "<p>3 rows × 61 columns</p>\n",
              "</div>\n",
              "      <button class=\"colab-df-convert\" onclick=\"convertToInteractive('df-7daea098-41d2-4ffd-8a20-77fcf5117a3f')\"\n",
              "              title=\"Convert this dataframe to an interactive table.\"\n",
              "              style=\"display:none;\">\n",
              "        \n",
              "  <svg xmlns=\"http://www.w3.org/2000/svg\" height=\"24px\"viewBox=\"0 0 24 24\"\n",
              "       width=\"24px\">\n",
              "    <path d=\"M0 0h24v24H0V0z\" fill=\"none\"/>\n",
              "    <path d=\"M18.56 5.44l.94 2.06.94-2.06 2.06-.94-2.06-.94-.94-2.06-.94 2.06-2.06.94zm-11 1L8.5 8.5l.94-2.06 2.06-.94-2.06-.94L8.5 2.5l-.94 2.06-2.06.94zm10 10l.94 2.06.94-2.06 2.06-.94-2.06-.94-.94-2.06-.94 2.06-2.06.94z\"/><path d=\"M17.41 7.96l-1.37-1.37c-.4-.4-.92-.59-1.43-.59-.52 0-1.04.2-1.43.59L10.3 9.45l-7.72 7.72c-.78.78-.78 2.05 0 2.83L4 21.41c.39.39.9.59 1.41.59.51 0 1.02-.2 1.41-.59l7.78-7.78 2.81-2.81c.8-.78.8-2.07 0-2.86zM5.41 20L4 18.59l7.72-7.72 1.47 1.35L5.41 20z\"/>\n",
              "  </svg>\n",
              "      </button>\n",
              "      \n",
              "  <style>\n",
              "    .colab-df-container {\n",
              "      display:flex;\n",
              "      flex-wrap:wrap;\n",
              "      gap: 12px;\n",
              "    }\n",
              "\n",
              "    .colab-df-convert {\n",
              "      background-color: #E8F0FE;\n",
              "      border: none;\n",
              "      border-radius: 50%;\n",
              "      cursor: pointer;\n",
              "      display: none;\n",
              "      fill: #1967D2;\n",
              "      height: 32px;\n",
              "      padding: 0 0 0 0;\n",
              "      width: 32px;\n",
              "    }\n",
              "\n",
              "    .colab-df-convert:hover {\n",
              "      background-color: #E2EBFA;\n",
              "      box-shadow: 0px 1px 2px rgba(60, 64, 67, 0.3), 0px 1px 3px 1px rgba(60, 64, 67, 0.15);\n",
              "      fill: #174EA6;\n",
              "    }\n",
              "\n",
              "    [theme=dark] .colab-df-convert {\n",
              "      background-color: #3B4455;\n",
              "      fill: #D2E3FC;\n",
              "    }\n",
              "\n",
              "    [theme=dark] .colab-df-convert:hover {\n",
              "      background-color: #434B5C;\n",
              "      box-shadow: 0px 1px 3px 1px rgba(0, 0, 0, 0.15);\n",
              "      filter: drop-shadow(0px 1px 2px rgba(0, 0, 0, 0.3));\n",
              "      fill: #FFFFFF;\n",
              "    }\n",
              "  </style>\n",
              "\n",
              "      <script>\n",
              "        const buttonEl =\n",
              "          document.querySelector('#df-7daea098-41d2-4ffd-8a20-77fcf5117a3f button.colab-df-convert');\n",
              "        buttonEl.style.display =\n",
              "          google.colab.kernel.accessAllowed ? 'block' : 'none';\n",
              "\n",
              "        async function convertToInteractive(key) {\n",
              "          const element = document.querySelector('#df-7daea098-41d2-4ffd-8a20-77fcf5117a3f');\n",
              "          const dataTable =\n",
              "            await google.colab.kernel.invokeFunction('convertToInteractive',\n",
              "                                                     [key], {});\n",
              "          if (!dataTable) return;\n",
              "\n",
              "          const docLinkHtml = 'Like what you see? Visit the ' +\n",
              "            '<a target=\"_blank\" href=https://colab.research.google.com/notebooks/data_table.ipynb>data table notebook</a>'\n",
              "            + ' to learn more about interactive tables.';\n",
              "          element.innerHTML = '';\n",
              "          dataTable['output_type'] = 'display_data';\n",
              "          await google.colab.output.renderOutput(dataTable, element);\n",
              "          const docLink = document.createElement('div');\n",
              "          docLink.innerHTML = docLinkHtml;\n",
              "          element.appendChild(docLink);\n",
              "        }\n",
              "      </script>\n",
              "    </div>\n",
              "  </div>\n",
              "  "
            ]
          },
          "metadata": {},
          "execution_count": 28
        }
      ]
    },
    {
      "cell_type": "code",
      "metadata": {
        "id": "dg3lw6qok5wR"
      },
      "source": [
        "dtm_new"
      ],
      "execution_count": null,
      "outputs": []
    },
    {
      "cell_type": "markdown",
      "metadata": {
        "id": "DJWsLvkXdRAL"
      },
      "source": [
        "**Three Minute Challenge:** \n",
        "* Apply CountVectorizer to our BBC Data\n",
        "* Store results in a dataframe called `dtm`\n",
        "* Extra Challenge - Try to Customize CountVectorizer with Spacy Processing"
      ]
    },
    {
      "cell_type": "code",
      "source": [
        "type(data)"
      ],
      "metadata": {
        "colab": {
          "base_uri": "https://localhost:8080/"
        },
        "id": "THHdd7BmNB8D",
        "outputId": "1ce1e80b-1d96-4efd-ab1f-4308e6df166a"
      },
      "execution_count": 31,
      "outputs": [
        {
          "output_type": "execute_result",
          "data": {
            "text/plain": [
              "list"
            ]
          },
          "metadata": {},
          "execution_count": 31
        }
      ]
    },
    {
      "cell_type": "code",
      "metadata": {
        "nbgrader": {
          "grade": false,
          "grade_id": "cell-3a7cd500efe1978b",
          "locked": false,
          "schema_version": 3,
          "solution": true,
          "task": false
        },
        "id": "0LQrT4qydRAL",
        "colab": {
          "base_uri": "https://localhost:8080/",
          "height": 254
        },
        "outputId": "d63b3328-85ef-4ee2-97ad-32b8a4bc8c7b"
      },
      "source": [
        "# Apply CountVectorizer to our Data\n",
        "# Use custom Spacy Vectorizer\n",
        "# BBC articles in `data` variable\n",
        "\n",
        "from sklearn.feature_extraction.text import CountVectorizer\n",
        "\n",
        "# Learn our Vocab\n",
        "# Get sparse dtm (i.e. transform the data)\n",
        "\n",
        "### BEGIN SOLUTION\n",
        "vect = CountVectorizer().fit(data)\n",
        "dtm_bbc = vect.transform(data)\n",
        "\n",
        "df_dtm_bbc = pd.DataFrame(data=dtm_bbc.todense(), columns=vect.get_feature_names_out())\n",
        "\n",
        "print(df_dtm_bbc.shape)\n",
        "df_dtm_bbc.head()\n"
      ],
      "execution_count": 34,
      "outputs": [
        {
          "output_type": "stream",
          "name": "stdout",
          "text": [
            "(401, 12098)\n"
          ]
        },
        {
          "output_type": "execute_result",
          "data": {
            "text/plain": [
              "   00  000  000s  0051  007  01  028  04m  05  0530  ...  zip  zodiac  zombie  \\\n",
              "0   0    0     0     0    0   0    0    0   0     0  ...    0       0       0   \n",
              "1   0    1     0     0    0   0    0    0   0     0  ...    0       0       0   \n",
              "2   0    0     0     0    0   0    0    1   0     0  ...    0       0       0   \n",
              "3   0    0     0     0    0   0    0    0   0     0  ...    0       0       0   \n",
              "4   0    1     0     0    0   0    0    0   0     0  ...    0       0       0   \n",
              "\n",
              "   zombies  zone  zonealarm  zones  zoom  zooms  zurich  \n",
              "0        0     0          0      0     0      0       0  \n",
              "1        0     0          0      0     0      0       0  \n",
              "2        0     0          0      0     0      0       0  \n",
              "3        0     0          0      0     0      0       0  \n",
              "4        0     0          0      0     0      0       0  \n",
              "\n",
              "[5 rows x 12098 columns]"
            ],
            "text/html": [
              "\n",
              "  <div id=\"df-f41de0ad-78fc-44a9-b466-1a85223e70c7\">\n",
              "    <div class=\"colab-df-container\">\n",
              "      <div>\n",
              "<style scoped>\n",
              "    .dataframe tbody tr th:only-of-type {\n",
              "        vertical-align: middle;\n",
              "    }\n",
              "\n",
              "    .dataframe tbody tr th {\n",
              "        vertical-align: top;\n",
              "    }\n",
              "\n",
              "    .dataframe thead th {\n",
              "        text-align: right;\n",
              "    }\n",
              "</style>\n",
              "<table border=\"1\" class=\"dataframe\">\n",
              "  <thead>\n",
              "    <tr style=\"text-align: right;\">\n",
              "      <th></th>\n",
              "      <th>00</th>\n",
              "      <th>000</th>\n",
              "      <th>000s</th>\n",
              "      <th>0051</th>\n",
              "      <th>007</th>\n",
              "      <th>01</th>\n",
              "      <th>028</th>\n",
              "      <th>04m</th>\n",
              "      <th>05</th>\n",
              "      <th>0530</th>\n",
              "      <th>...</th>\n",
              "      <th>zip</th>\n",
              "      <th>zodiac</th>\n",
              "      <th>zombie</th>\n",
              "      <th>zombies</th>\n",
              "      <th>zone</th>\n",
              "      <th>zonealarm</th>\n",
              "      <th>zones</th>\n",
              "      <th>zoom</th>\n",
              "      <th>zooms</th>\n",
              "      <th>zurich</th>\n",
              "    </tr>\n",
              "  </thead>\n",
              "  <tbody>\n",
              "    <tr>\n",
              "      <th>0</th>\n",
              "      <td>0</td>\n",
              "      <td>0</td>\n",
              "      <td>0</td>\n",
              "      <td>0</td>\n",
              "      <td>0</td>\n",
              "      <td>0</td>\n",
              "      <td>0</td>\n",
              "      <td>0</td>\n",
              "      <td>0</td>\n",
              "      <td>0</td>\n",
              "      <td>...</td>\n",
              "      <td>0</td>\n",
              "      <td>0</td>\n",
              "      <td>0</td>\n",
              "      <td>0</td>\n",
              "      <td>0</td>\n",
              "      <td>0</td>\n",
              "      <td>0</td>\n",
              "      <td>0</td>\n",
              "      <td>0</td>\n",
              "      <td>0</td>\n",
              "    </tr>\n",
              "    <tr>\n",
              "      <th>1</th>\n",
              "      <td>0</td>\n",
              "      <td>1</td>\n",
              "      <td>0</td>\n",
              "      <td>0</td>\n",
              "      <td>0</td>\n",
              "      <td>0</td>\n",
              "      <td>0</td>\n",
              "      <td>0</td>\n",
              "      <td>0</td>\n",
              "      <td>0</td>\n",
              "      <td>...</td>\n",
              "      <td>0</td>\n",
              "      <td>0</td>\n",
              "      <td>0</td>\n",
              "      <td>0</td>\n",
              "      <td>0</td>\n",
              "      <td>0</td>\n",
              "      <td>0</td>\n",
              "      <td>0</td>\n",
              "      <td>0</td>\n",
              "      <td>0</td>\n",
              "    </tr>\n",
              "    <tr>\n",
              "      <th>2</th>\n",
              "      <td>0</td>\n",
              "      <td>0</td>\n",
              "      <td>0</td>\n",
              "      <td>0</td>\n",
              "      <td>0</td>\n",
              "      <td>0</td>\n",
              "      <td>0</td>\n",
              "      <td>1</td>\n",
              "      <td>0</td>\n",
              "      <td>0</td>\n",
              "      <td>...</td>\n",
              "      <td>0</td>\n",
              "      <td>0</td>\n",
              "      <td>0</td>\n",
              "      <td>0</td>\n",
              "      <td>0</td>\n",
              "      <td>0</td>\n",
              "      <td>0</td>\n",
              "      <td>0</td>\n",
              "      <td>0</td>\n",
              "      <td>0</td>\n",
              "    </tr>\n",
              "    <tr>\n",
              "      <th>3</th>\n",
              "      <td>0</td>\n",
              "      <td>0</td>\n",
              "      <td>0</td>\n",
              "      <td>0</td>\n",
              "      <td>0</td>\n",
              "      <td>0</td>\n",
              "      <td>0</td>\n",
              "      <td>0</td>\n",
              "      <td>0</td>\n",
              "      <td>0</td>\n",
              "      <td>...</td>\n",
              "      <td>0</td>\n",
              "      <td>0</td>\n",
              "      <td>0</td>\n",
              "      <td>0</td>\n",
              "      <td>0</td>\n",
              "      <td>0</td>\n",
              "      <td>0</td>\n",
              "      <td>0</td>\n",
              "      <td>0</td>\n",
              "      <td>0</td>\n",
              "    </tr>\n",
              "    <tr>\n",
              "      <th>4</th>\n",
              "      <td>0</td>\n",
              "      <td>1</td>\n",
              "      <td>0</td>\n",
              "      <td>0</td>\n",
              "      <td>0</td>\n",
              "      <td>0</td>\n",
              "      <td>0</td>\n",
              "      <td>0</td>\n",
              "      <td>0</td>\n",
              "      <td>0</td>\n",
              "      <td>...</td>\n",
              "      <td>0</td>\n",
              "      <td>0</td>\n",
              "      <td>0</td>\n",
              "      <td>0</td>\n",
              "      <td>0</td>\n",
              "      <td>0</td>\n",
              "      <td>0</td>\n",
              "      <td>0</td>\n",
              "      <td>0</td>\n",
              "      <td>0</td>\n",
              "    </tr>\n",
              "  </tbody>\n",
              "</table>\n",
              "<p>5 rows × 12098 columns</p>\n",
              "</div>\n",
              "      <button class=\"colab-df-convert\" onclick=\"convertToInteractive('df-f41de0ad-78fc-44a9-b466-1a85223e70c7')\"\n",
              "              title=\"Convert this dataframe to an interactive table.\"\n",
              "              style=\"display:none;\">\n",
              "        \n",
              "  <svg xmlns=\"http://www.w3.org/2000/svg\" height=\"24px\"viewBox=\"0 0 24 24\"\n",
              "       width=\"24px\">\n",
              "    <path d=\"M0 0h24v24H0V0z\" fill=\"none\"/>\n",
              "    <path d=\"M18.56 5.44l.94 2.06.94-2.06 2.06-.94-2.06-.94-.94-2.06-.94 2.06-2.06.94zm-11 1L8.5 8.5l.94-2.06 2.06-.94-2.06-.94L8.5 2.5l-.94 2.06-2.06.94zm10 10l.94 2.06.94-2.06 2.06-.94-2.06-.94-.94-2.06-.94 2.06-2.06.94z\"/><path d=\"M17.41 7.96l-1.37-1.37c-.4-.4-.92-.59-1.43-.59-.52 0-1.04.2-1.43.59L10.3 9.45l-7.72 7.72c-.78.78-.78 2.05 0 2.83L4 21.41c.39.39.9.59 1.41.59.51 0 1.02-.2 1.41-.59l7.78-7.78 2.81-2.81c.8-.78.8-2.07 0-2.86zM5.41 20L4 18.59l7.72-7.72 1.47 1.35L5.41 20z\"/>\n",
              "  </svg>\n",
              "      </button>\n",
              "      \n",
              "  <style>\n",
              "    .colab-df-container {\n",
              "      display:flex;\n",
              "      flex-wrap:wrap;\n",
              "      gap: 12px;\n",
              "    }\n",
              "\n",
              "    .colab-df-convert {\n",
              "      background-color: #E8F0FE;\n",
              "      border: none;\n",
              "      border-radius: 50%;\n",
              "      cursor: pointer;\n",
              "      display: none;\n",
              "      fill: #1967D2;\n",
              "      height: 32px;\n",
              "      padding: 0 0 0 0;\n",
              "      width: 32px;\n",
              "    }\n",
              "\n",
              "    .colab-df-convert:hover {\n",
              "      background-color: #E2EBFA;\n",
              "      box-shadow: 0px 1px 2px rgba(60, 64, 67, 0.3), 0px 1px 3px 1px rgba(60, 64, 67, 0.15);\n",
              "      fill: #174EA6;\n",
              "    }\n",
              "\n",
              "    [theme=dark] .colab-df-convert {\n",
              "      background-color: #3B4455;\n",
              "      fill: #D2E3FC;\n",
              "    }\n",
              "\n",
              "    [theme=dark] .colab-df-convert:hover {\n",
              "      background-color: #434B5C;\n",
              "      box-shadow: 0px 1px 3px 1px rgba(0, 0, 0, 0.15);\n",
              "      filter: drop-shadow(0px 1px 2px rgba(0, 0, 0, 0.3));\n",
              "      fill: #FFFFFF;\n",
              "    }\n",
              "  </style>\n",
              "\n",
              "      <script>\n",
              "        const buttonEl =\n",
              "          document.querySelector('#df-f41de0ad-78fc-44a9-b466-1a85223e70c7 button.colab-df-convert');\n",
              "        buttonEl.style.display =\n",
              "          google.colab.kernel.accessAllowed ? 'block' : 'none';\n",
              "\n",
              "        async function convertToInteractive(key) {\n",
              "          const element = document.querySelector('#df-f41de0ad-78fc-44a9-b466-1a85223e70c7');\n",
              "          const dataTable =\n",
              "            await google.colab.kernel.invokeFunction('convertToInteractive',\n",
              "                                                     [key], {});\n",
              "          if (!dataTable) return;\n",
              "\n",
              "          const docLinkHtml = 'Like what you see? Visit the ' +\n",
              "            '<a target=\"_blank\" href=https://colab.research.google.com/notebooks/data_table.ipynb>data table notebook</a>'\n",
              "            + ' to learn more about interactive tables.';\n",
              "          element.innerHTML = '';\n",
              "          dataTable['output_type'] = 'display_data';\n",
              "          await google.colab.output.renderOutput(dataTable, element);\n",
              "          const docLink = document.createElement('div');\n",
              "          docLink.innerHTML = docLinkHtml;\n",
              "          element.appendChild(docLink);\n",
              "        }\n",
              "      </script>\n",
              "    </div>\n",
              "  </div>\n",
              "  "
            ]
          },
          "metadata": {},
          "execution_count": 34
        }
      ]
    },
    {
      "cell_type": "code",
      "source": [
        "import seaborn as sns\n",
        "# sns.set() #alias for set_theme...\n",
        "\n",
        "doc_len = [len(doc.split()) for doc in data]\n",
        "sns.distplot(doc_len);"
      ],
      "metadata": {
        "colab": {
          "base_uri": "https://localhost:8080/",
          "height": 325
        },
        "id": "TNFUexJcOafc",
        "outputId": "34830551-99d9-4ace-9233-f48b0c04c331"
      },
      "execution_count": 39,
      "outputs": [
        {
          "output_type": "stream",
          "name": "stderr",
          "text": [
            "/usr/local/lib/python3.8/dist-packages/seaborn/distributions.py:2619: FutureWarning: `distplot` is a deprecated function and will be removed in a future version. Please adapt your code to use either `displot` (a figure-level function with similar flexibility) or `histplot` (an axes-level function for histograms).\n",
            "  warnings.warn(msg, FutureWarning)\n"
          ]
        },
        {
          "output_type": "display_data",
          "data": {
            "text/plain": [
              "<Figure size 432x288 with 1 Axes>"
            ],
            "image/png": "[encoded data removed]"
          },
          "metadata": {}
        }
      ]
    },
    {
      "cell_type": "markdown",
      "metadata": {
        "id": "SYgUj_WcdRAN"
      },
      "source": [
        "#1.2  `TfidfVectorizer`\n",
        "\n",
        "## Term Frequency - Inverse Document Frequency (TF-IDF)\n",
        "\n",
        "![](https://miro.medium.com/max/1404/1*mu6G-cBmWlENS4pWHEnGcg@2x.jpeg)\n",
        "\n",
        "\n",
        "**Term Frequency**: $\\text{tf}_{i,j}$  is the number of times term $i$ appeared in document $j$ \n",
        "\n",
        "**Inverse Document Frequency:** A weight penalty for terms that exist in a high fraction of documents.\n",
        "\n",
        "The purpose of TF-IDF is to find what is **unique** to each document. Because of this we will penalize the term frequencies of words that are common across all documents. This effectively upweights terms that are rarer across documents.\n"
      ]
    },
    {
      "cell_type": "markdown",
      "metadata": {
        "id": "yfzMqqbrdRAN"
      },
      "source": [
        "#1.2  `TfidfVectorizer`\n",
        "\n",
        "## Term Frequency - Inverse Document Frequency (TF-IDF)\n",
        "\n",
        "![](https://miro.medium.com/max/1404/1*mu6G-cBmWlENS4pWHEnGcg@2x.jpeg)\n",
        "\n",
        "\n",
        "**Term Frequency**: $\\text{tf}_{i,j}$  is the number of times term $i$ appeared in document $j$ \n",
        "\n",
        "**Inverse Document Frequency:** A weight penalty for terms that exist in a high fraction of documents.\n",
        "\n",
        "The purpose of TF-IDF is to find what is **unique** to each document. Because of this we will penalize the term frequencies of words that are common across all documents. This effectively upweights terms that are rarer across documents.\n",
        "\n",
        "<img src=\"https://upload.wikimedia.org/wikipedia/commons/8/81/Logarithm_plots.png\" width=\"700\" height=\"400\" />\n",
        "\n",
        "It's useful to reference both the algebraic and geometric representations of a single mathematical ideal whenever possible in order to build the fullest understanding possible. "
      ]
    },
    {
      "cell_type": "markdown",
      "metadata": {
        "id": "1uysxF1NdRAN"
      },
      "source": [
        "The IDF portion of the TF-IDF equation has been coded up below so that we can play around with the values and get a better understanding of how this portion of the equation works. \n",
        "\n",
        "NOTE: There are other ways to construct the equation for the IDF term; different constructions of the equation serve different purposes and which you ultimately use simply depends on your problem/task. You can check out the [wikipedia article on tfidf](https://en.wikipedia.org/wiki/Tf%E2%80%93idf)\n",
        "\n",
        "In practice, you usually don't even have to think about the mathematical formulation of the IDF term. You simply import the tfidf vectorizer and use its api. The rare exception to this would if you are working a very particular kind of problem where the open source implementation of tfidf doesn't suit your needs and so then you might consider creating your own equation or using a different one that you read about. "
      ]
    },
    {
      "cell_type": "code",
      "metadata": {
        "id": "Sk_AVqh3dRAN"
      },
      "source": [
        "# inverse document frequency score \n",
        "# the plus ones are constants that shift the around the baseline value \n",
        "def idf(n, df):\n",
        "    \"\"\"\n",
        "    Parameters\n",
        "    ----------\n",
        "    n: int\n",
        "        num of docs in corpus \n",
        "        \n",
        "    df: int\n",
        "        num of docs that term t (i.e. a token) appears in \n",
        "\n",
        "    Returns\n",
        "    -------\n",
        "    inverse docuemnt frequency: float\n",
        "    \"\"\"\n",
        "    return np.log( n/ df) # this uses natural log!"
      ],
      "execution_count": 40,
      "outputs": []
    },
    {
      "cell_type": "code",
      "metadata": {
        "nbgrader": {
          "grade": false,
          "grade_id": "cell-4e40eb25d7faed91",
          "locked": false,
          "schema_version": 3,
          "solution": true,
          "task": false
        },
        "id": "1uh6Ab7FdRAO"
      },
      "source": [
        "n = 100                 # num of docs in corpus \n",
        "df_range = 100\n",
        "IDF = []\n",
        "DF = []\n",
        "for df in range(1, df_range + 1):\n",
        "    idf_score = idf(n, df)\n",
        "    IDF.append(idf_score)\n",
        "    DF.append(df)"
      ],
      "execution_count": 41,
      "outputs": []
    },
    {
      "cell_type": "code",
      "metadata": {
        "id": "qVAUfwlddRAO",
        "colab": {
          "base_uri": "https://localhost:8080/",
          "height": 585
        },
        "outputId": "84eb6f13-e4b6-402a-918e-73bf409e1bb8"
      },
      "source": [
        "plt.figure()\n",
        "plt.title(\"Inverse Document Frequency Score vs. Document Frequency of Token\")\n",
        "plt.ylabel(\"Inverse Document Frequency Score\")\n",
        "plt.xlabel(\"Document Frequency of Token\")\n",
        "plt.grid()\n",
        "plt.plot(DF, IDF);\n",
        "plt.show()\n",
        "\n",
        "\n",
        "# Term Frequency of 100%: log(1) = 0\n",
        "plt.figure()\n",
        "plt.title(\"Inverse Document Frequency Score vs. Document Frequency of Token\")\n",
        "plt.ylabel(\"Inverse Document Frequency Score\")\n",
        "plt.xlabel(\"Document Frequency of Token\")\n",
        "plt.xlim(95,100)\n",
        "plt.ylim(0,0.10)\n",
        "plt.grid()\n",
        "plt.plot(DF, IDF);\n",
        "plt.show()"
      ],
      "execution_count": 42,
      "outputs": [
        {
          "output_type": "display_data",
          "data": {
            "text/plain": [
              "<Figure size 432x288 with 1 Axes>"
            ],
            "image/png": "[encoded data removed]"
          },
          "metadata": {}
        },
        {
          "output_type": "display_data",
          "data": {
            "text/plain": [
              "<Figure size 432x288 with 1 Axes>"
            ],
            "image/png": "[encoded data removed]"
          },
          "metadata": {}
        }
      ]
    },
    {
      "cell_type": "code",
      "metadata": {
        "nbgrader": {
          "grade": false,
          "grade_id": "cell-bed0fb42b084357d",
          "locked": false,
          "schema_version": 3,
          "solution": true,
          "task": false
        },
        "id": "G7dv3fH2dRAO",
        "colab": {
          "base_uri": "https://localhost:8080/"
        },
        "outputId": "9cbea7b8-4aaf-4553-eff8-02f8f7326be7"
      },
      "source": [
        "# let's work through a couple of examples to help build intuition \n",
        "# imagine the token we are considering is \"purchase\", which rarely appears\n",
        "# imagine the token that we are considering is \"the\", which appears often\n",
        "\n",
        "n = 100\n",
        "\n",
        "# imagine the token we are considering is \"purchase\"\n",
        "tf = 1\n",
        "df = 20\n",
        "\n",
        "tfidf_score = tf * idf(n, df)\n",
        "print(f'purchase: {tfidf_score:.2f}')\n",
        "\n",
        "# imagine the token that we are considering is \"the\"\n",
        "tf = 50\n",
        "df = 95\n",
        "\n",
        "tfidf_score = tf * idf(n, df)\n",
        "print(f'the: {tfidf_score:.2f}')"
      ],
      "execution_count": 49,
      "outputs": [
        {
          "output_type": "stream",
          "name": "stdout",
          "text": [
            "purchase: 1.61\n",
            "the: 2.56\n"
          ]
        }
      ]
    },
    {
      "cell_type": "markdown",
      "metadata": {
        "id": "SQbFzVXAdRAP"
      },
      "source": [
        "Now that we have built some intuition on how TFIDF works, let's use `sklearn`'s `TfidfVectorizer` to vectorize our dataset. <br>\n",
        "Note that `TfidfVectorizer` is used with the same syntax as `CountVectorizer`"
      ]
    },
    {
      "cell_type": "code",
      "metadata": {
        "nbgrader": {
          "grade": false,
          "grade_id": "cell-4ccfa3ef2d0404fc",
          "locked": false,
          "schema_version": 3,
          "solution": true,
          "task": false
        },
        "id": "Lm6FsqHOdRAP",
        "colab": {
          "base_uri": "https://localhost:8080/",
          "height": 254
        },
        "outputId": "79e801e2-4e57-4129-854d-a8392303abb2"
      },
      "source": [
        "from sklearn.feature_extraction.text import TfidfVectorizer\n",
        "\n",
        "# 1. Instantiate vectorizer object\n",
        "tfidf = TfidfVectorizer(stop_words='english', max_features=1000)\n",
        "  # try using stop words from spaCy\n",
        "\n",
        "# 2. Create a vocabulary and get word counts per document\n",
        "dtm = tfidf.fit_transform(data)\n",
        "\n",
        "# 3. View term-document matrix as DataFrame\n",
        "dtm = pd.DataFrame(dtm.todense(), columns=tfidf.get_feature_names_out())\n",
        "print(dtm.shape)\n",
        "dtm.head()"
      ],
      "execution_count": 50,
      "outputs": [
        {
          "output_type": "stream",
          "name": "stdout",
          "text": [
            "(401, 1000)\n"
          ]
        },
        {
          "output_type": "execute_result",
          "data": {
            "text/plain": [
              "        000        10  100   11   12   14   15   18   20  200  ...  worldwide  \\\n",
              "0  0.000000  0.000000  0.0  0.0  0.0  0.0  0.0  0.0  0.0  0.0  ...   0.000000   \n",
              "1  0.034932  0.040224  0.0  0.0  0.0  0.0  0.0  0.0  0.0  0.0  ...   0.061562   \n",
              "2  0.000000  0.000000  0.0  0.0  0.0  0.0  0.0  0.0  0.0  0.0  ...   0.000000   \n",
              "3  0.000000  0.000000  0.0  0.0  0.0  0.0  0.0  0.0  0.0  0.0  ...   0.000000   \n",
              "4  0.039221  0.090325  0.0  0.0  0.0  0.0  0.0  0.0  0.0  0.0  ...   0.000000   \n",
              "\n",
              "   worm  worth  writing  xbox   xp     yahoo      year     years  york  \n",
              "0   0.0    0.0      0.0   0.0  0.0  0.000000  0.000000  0.048098   0.0  \n",
              "1   0.0    0.0      0.0   0.0  0.0  0.000000  0.057273  0.000000   0.0  \n",
              "2   0.0    0.0      0.0   0.0  0.0  0.654931  0.000000  0.000000   0.0  \n",
              "3   0.0    0.0      0.0   0.0  0.0  0.000000  0.000000  0.027212   0.0  \n",
              "4   0.0    0.0      0.0   0.0  0.0  0.000000  0.064305  0.000000   0.0  \n",
              "\n",
              "[5 rows x 1000 columns]"
            ],
            "text/html": [
              "\n",
              "  <div id=\"df-3cb24213-ee8b-4a6e-8ba9-85a878772640\">\n",
              "    <div class=\"colab-df-container\">\n",
              "      <div>\n",
              "<style scoped>\n",
              "    .dataframe tbody tr th:only-of-type {\n",
              "        vertical-align: middle;\n",
              "    }\n",
              "\n",
              "    .dataframe tbody tr th {\n",
              "        vertical-align: top;\n",
              "    }\n",
              "\n",
              "    .dataframe thead th {\n",
              "        text-align: right;\n",
              "    }\n",
              "</style>\n",
              "<table border=\"1\" class=\"dataframe\">\n",
              "  <thead>\n",
              "    <tr style=\"text-align: right;\">\n",
              "      <th></th>\n",
              "      <th>000</th>\n",
              "      <th>10</th>\n",
              "      <th>100</th>\n",
              "      <th>11</th>\n",
              "      <th>12</th>\n",
              "      <th>14</th>\n",
              "      <th>15</th>\n",
              "      <th>18</th>\n",
              "      <th>20</th>\n",
              "      <th>200</th>\n",
              "      <th>...</th>\n",
              "      <th>worldwide</th>\n",
              "      <th>worm</th>\n",
              "      <th>worth</th>\n",
              "      <th>writing</th>\n",
              "      <th>xbox</th>\n",
              "      <th>xp</th>\n",
              "      <th>yahoo</th>\n",
              "      <th>year</th>\n",
              "      <th>years</th>\n",
              "      <th>york</th>\n",
              "    </tr>\n",
              "  </thead>\n",
              "  <tbody>\n",
              "    <tr>\n",
              "      <th>0</th>\n",
              "      <td>0.000000</td>\n",
              "      <td>0.000000</td>\n",
              "      <td>0.0</td>\n",
              "      <td>0.0</td>\n",
              "      <td>0.0</td>\n",
              "      <td>0.0</td>\n",
              "      <td>0.0</td>\n",
              "      <td>0.0</td>\n",
              "      <td>0.0</td>\n",
              "      <td>0.0</td>\n",
              "      <td>...</td>\n",
              "      <td>0.000000</td>\n",
              "      <td>0.0</td>\n",
              "      <td>0.0</td>\n",
              "      <td>0.0</td>\n",
              "      <td>0.0</td>\n",
              "      <td>0.0</td>\n",
              "      <td>0.000000</td>\n",
              "      <td>0.000000</td>\n",
              "      <td>0.048098</td>\n",
              "      <td>0.0</td>\n",
              "    </tr>\n",
              "    <tr>\n",
              "      <th>1</th>\n",
              "      <td>0.034932</td>\n",
              "      <td>0.040224</td>\n",
              "      <td>0.0</td>\n",
              "      <td>0.0</td>\n",
              "      <td>0.0</td>\n",
              "      <td>0.0</td>\n",
              "      <td>0.0</td>\n",
              "      <td>0.0</td>\n",
              "      <td>0.0</td>\n",
              "      <td>0.0</td>\n",
              "      <td>...</td>\n",
              "      <td>0.061562</td>\n",
              "      <td>0.0</td>\n",
              "      <td>0.0</td>\n",
              "      <td>0.0</td>\n",
              "      <td>0.0</td>\n",
              "      <td>0.0</td>\n",
              "      <td>0.000000</td>\n",
              "      <td>0.057273</td>\n",
              "      <td>0.000000</td>\n",
              "      <td>0.0</td>\n",
              "    </tr>\n",
              "    <tr>\n",
              "      <th>2</th>\n",
              "      <td>0.000000</td>\n",
              "      <td>0.000000</td>\n",
              "      <td>0.0</td>\n",
              "      <td>0.0</td>\n",
              "      <td>0.0</td>\n",
              "      <td>0.0</td>\n",
              "      <td>0.0</td>\n",
              "      <td>0.0</td>\n",
              "      <td>0.0</td>\n",
              "      <td>0.0</td>\n",
              "      <td>...</td>\n",
              "      <td>0.000000</td>\n",
              "      <td>0.0</td>\n",
              "      <td>0.0</td>\n",
              "      <td>0.0</td>\n",
              "      <td>0.0</td>\n",
              "      <td>0.0</td>\n",
              "      <td>0.654931</td>\n",
              "      <td>0.000000</td>\n",
              "      <td>0.000000</td>\n",
              "      <td>0.0</td>\n",
              "    </tr>\n",
              "    <tr>\n",
              "      <th>3</th>\n",
              "      <td>0.000000</td>\n",
              "      <td>0.000000</td>\n",
              "      <td>0.0</td>\n",
              "      <td>0.0</td>\n",
              "      <td>0.0</td>\n",
              "      <td>0.0</td>\n",
              "      <td>0.0</td>\n",
              "      <td>0.0</td>\n",
              "      <td>0.0</td>\n",
              "      <td>0.0</td>\n",
              "      <td>...</td>\n",
              "      <td>0.000000</td>\n",
              "      <td>0.0</td>\n",
              "      <td>0.0</td>\n",
              "      <td>0.0</td>\n",
              "      <td>0.0</td>\n",
              "      <td>0.0</td>\n",
              "      <td>0.000000</td>\n",
              "      <td>0.000000</td>\n",
              "      <td>0.027212</td>\n",
              "      <td>0.0</td>\n",
              "    </tr>\n",
              "    <tr>\n",
              "      <th>4</th>\n",
              "      <td>0.039221</td>\n",
              "      <td>0.090325</td>\n",
              "      <td>0.0</td>\n",
              "      <td>0.0</td>\n",
              "      <td>0.0</td>\n",
              "      <td>0.0</td>\n",
              "      <td>0.0</td>\n",
              "      <td>0.0</td>\n",
              "      <td>0.0</td>\n",
              "      <td>0.0</td>\n",
              "      <td>...</td>\n",
              "      <td>0.000000</td>\n",
              "      <td>0.0</td>\n",
              "      <td>0.0</td>\n",
              "      <td>0.0</td>\n",
              "      <td>0.0</td>\n",
              "      <td>0.0</td>\n",
              "      <td>0.000000</td>\n",
              "      <td>0.064305</td>\n",
              "      <td>0.000000</td>\n",
              "      <td>0.0</td>\n",
              "    </tr>\n",
              "  </tbody>\n",
              "</table>\n",
              "<p>5 rows × 1000 columns</p>\n",
              "</div>\n",
              "      <button class=\"colab-df-convert\" onclick=\"convertToInteractive('df-3cb24213-ee8b-4a6e-8ba9-85a878772640')\"\n",
              "              title=\"Convert this dataframe to an interactive table.\"\n",
              "              style=\"display:none;\">\n",
              "        \n",
              "  <svg xmlns=\"http://www.w3.org/2000/svg\" height=\"24px\"viewBox=\"0 0 24 24\"\n",
              "       width=\"24px\">\n",
              "    <path d=\"M0 0h24v24H0V0z\" fill=\"none\"/>\n",
              "    <path d=\"M18.56 5.44l.94 2.06.94-2.06 2.06-.94-2.06-.94-.94-2.06-.94 2.06-2.06.94zm-11 1L8.5 8.5l.94-2.06 2.06-.94-2.06-.94L8.5 2.5l-.94 2.06-2.06.94zm10 10l.94 2.06.94-2.06 2.06-.94-2.06-.94-.94-2.06-.94 2.06-2.06.94z\"/><path d=\"M17.41 7.96l-1.37-1.37c-.4-.4-.92-.59-1.43-.59-.52 0-1.04.2-1.43.59L10.3 9.45l-7.72 7.72c-.78.78-.78 2.05 0 2.83L4 21.41c.39.39.9.59 1.41.59.51 0 1.02-.2 1.41-.59l7.78-7.78 2.81-2.81c.8-.78.8-2.07 0-2.86zM5.41 20L4 18.59l7.72-7.72 1.47 1.35L5.41 20z\"/>\n",
              "  </svg>\n",
              "      </button>\n",
              "      \n",
              "  <style>\n",
              "    .colab-df-container {\n",
              "      display:flex;\n",
              "      flex-wrap:wrap;\n",
              "      gap: 12px;\n",
              "    }\n",
              "\n",
              "    .colab-df-convert {\n",
              "      background-color: #E8F0FE;\n",
              "      border: none;\n",
              "      border-radius: 50%;\n",
              "      cursor: pointer;\n",
              "      display: none;\n",
              "      fill: #1967D2;\n",
              "      height: 32px;\n",
              "      padding: 0 0 0 0;\n",
              "      width: 32px;\n",
              "    }\n",
              "\n",
              "    .colab-df-convert:hover {\n",
              "      background-color: #E2EBFA;\n",
              "      box-shadow: 0px 1px 2px rgba(60, 64, 67, 0.3), 0px 1px 3px 1px rgba(60, 64, 67, 0.15);\n",
              "      fill: #174EA6;\n",
              "    }\n",
              "\n",
              "    [theme=dark] .colab-df-convert {\n",
              "      background-color: #3B4455;\n",
              "      fill: #D2E3FC;\n",
              "    }\n",
              "\n",
              "    [theme=dark] .colab-df-convert:hover {\n",
              "      background-color: #434B5C;\n",
              "      box-shadow: 0px 1px 3px 1px rgba(0, 0, 0, 0.15);\n",
              "      filter: drop-shadow(0px 1px 2px rgba(0, 0, 0, 0.3));\n",
              "      fill: #FFFFFF;\n",
              "    }\n",
              "  </style>\n",
              "\n",
              "      <script>\n",
              "        const buttonEl =\n",
              "          document.querySelector('#df-3cb24213-ee8b-4a6e-8ba9-85a878772640 button.colab-df-convert');\n",
              "        buttonEl.style.display =\n",
              "          google.colab.kernel.accessAllowed ? 'block' : 'none';\n",
              "\n",
              "        async function convertToInteractive(key) {\n",
              "          const element = document.querySelector('#df-3cb24213-ee8b-4a6e-8ba9-85a878772640');\n",
              "          const dataTable =\n",
              "            await google.colab.kernel.invokeFunction('convertToInteractive',\n",
              "                                                     [key], {});\n",
              "          if (!dataTable) return;\n",
              "\n",
              "          const docLinkHtml = 'Like what you see? Visit the ' +\n",
              "            '<a target=\"_blank\" href=https://colab.research.google.com/notebooks/data_table.ipynb>data table notebook</a>'\n",
              "            + ' to learn more about interactive tables.';\n",
              "          element.innerHTML = '';\n",
              "          dataTable['output_type'] = 'display_data';\n",
              "          await google.colab.output.renderOutput(dataTable, element);\n",
              "          const docLink = document.createElement('div');\n",
              "          docLink.innerHTML = docLinkHtml;\n",
              "          element.appendChild(docLink);\n",
              "        }\n",
              "      </script>\n",
              "    </div>\n",
              "  </div>\n",
              "  "
            ]
          },
          "metadata": {},
          "execution_count": 50
        }
      ]
    },
    {
      "cell_type": "markdown",
      "metadata": {
        "id": "n_VFnOHrMMtT"
      },
      "source": [
        "Now let's get a little fancier with the `TfidfVEctorizer`: we'll use the keywords `ngram_range`, `max_df`, `min_df` and `tokenizer` to accomplish the following:\n",
        "- Build a vocabulary from unigrams and bigrams\n",
        "- Do \"statistical trimming\" by ignoring all terms with document frequency higher than `max_df` and all terms with document frequency lower than `min_df`\n",
        "- Use the `spaCy` tokenizer that we built "
      ]
    },
    {
      "cell_type": "code",
      "metadata": {
        "nbgrader": {
          "grade": false,
          "grade_id": "cell-0667a7a2ebea2224",
          "locked": false,
          "schema_version": 3,
          "solution": true,
          "task": false
        },
        "id": "cKB5QWy-dRAQ",
        "colab": {
          "base_uri": "https://localhost:8080/"
        },
        "outputId": "ac2da402-aaa9-4498-e4ae-b144ae59814c"
      },
      "source": [
        "%%time\n",
        "### BEGIN SOLUTION\n",
        "# Instantiate vectorizer object (ngram_range includes unigrams and bigrams)\n",
        "tfidf = TfidfVectorizer(ngram_range=(1,2),\n",
        "                        max_df=0.25,            # \"statistical trimming\"\n",
        "                        min_df=5,               # \"statistical trimming\"\n",
        "                        tokenizer=tokenize)     # custom tokenizer\n",
        "\n",
        "# Create a vocabulary and get word counts per document\n",
        "dtm = tfidf.fit_transform(data)\n",
        "\n",
        "# Print word counts\n",
        "\n",
        "# Get feature names to use as dataframe column headers\n",
        "dtm = pd.DataFrame(dtm.todense(), columns=tfidf.get_feature_names_out())\n",
        "print(dtm.shape)\n",
        "\n",
        "# View Feature Matrix as DataFrame\n",
        "\n",
        "### END SOLUTION"
      ],
      "execution_count": 51,
      "outputs": [
        {
          "output_type": "stream",
          "name": "stdout",
          "text": [
            "(401, 3549)\n",
            "CPU times: user 42.9 s, sys: 54.5 ms, total: 42.9 s\n",
            "Wall time: 46.2 s\n"
          ]
        }
      ]
    },
    {
      "cell_type": "code",
      "metadata": {
        "id": "kWJZl78z__ay",
        "colab": {
          "base_uri": "https://localhost:8080/",
          "height": 235
        },
        "outputId": "96529552-70e1-4867-d2a6-0e2be56af669"
      },
      "source": [
        "dtm.head()"
      ],
      "execution_count": 52,
      "outputs": [
        {
          "output_type": "execute_result",
          "data": {
            "text/plain": [
              "   1,000  1.3  1.5  1.5 million        10  10 million  10 time  10 year  \\\n",
              "0    0.0  0.0  0.0          0.0  0.000000    0.000000      0.0      0.0   \n",
              "1    0.0  0.0  0.0          0.0  0.035442    0.067225      0.0      0.0   \n",
              "2    0.0  0.0  0.0          0.0  0.000000    0.000000      0.0      0.0   \n",
              "3    0.0  0.0  0.0          0.0  0.000000    0.000000      0.0      0.0   \n",
              "4    0.0  0.0  0.0          0.0  0.068968    0.065408      0.0      0.0   \n",
              "\n",
              "   10,000  100  ...  year time  yen  yes  york  young  young people  youth  \\\n",
              "0     0.0  0.0  ...        0.0  0.0  0.0   0.0    0.0           0.0    0.0   \n",
              "1     0.0  0.0  ...        0.0  0.0  0.0   0.0    0.0           0.0    0.0   \n",
              "2     0.0  0.0  ...        0.0  0.0  0.0   0.0    0.0           0.0    0.0   \n",
              "3     0.0  0.0  ...        0.0  0.0  0.0   0.0    0.0           0.0    0.0   \n",
              "4     0.0  0.0  ...        0.0  0.0  0.0   0.0    0.0           0.0    0.0   \n",
              "\n",
              "   zombie  zone  zoom  \n",
              "0     0.0   0.0   0.0  \n",
              "1     0.0   0.0   0.0  \n",
              "2     0.0   0.0   0.0  \n",
              "3     0.0   0.0   0.0  \n",
              "4     0.0   0.0   0.0  \n",
              "\n",
              "[5 rows x 3549 columns]"
            ],
            "text/html": [
              "\n",
              "  <div id=\"df-759f0719-92a8-485e-8f49-8f7b6ffbeb07\">\n",
              "    <div class=\"colab-df-container\">\n",
              "      <div>\n",
              "<style scoped>\n",
              "    .dataframe tbody tr th:only-of-type {\n",
              "        vertical-align: middle;\n",
              "    }\n",
              "\n",
              "    .dataframe tbody tr th {\n",
              "        vertical-align: top;\n",
              "    }\n",
              "\n",
              "    .dataframe thead th {\n",
              "        text-align: right;\n",
              "    }\n",
              "</style>\n",
              "<table border=\"1\" class=\"dataframe\">\n",
              "  <thead>\n",
              "    <tr style=\"text-align: right;\">\n",
              "      <th></th>\n",
              "      <th>1,000</th>\n",
              "      <th>1.3</th>\n",
              "      <th>1.5</th>\n",
              "      <th>1.5 million</th>\n",
              "      <th>10</th>\n",
              "      <th>10 million</th>\n",
              "      <th>10 time</th>\n",
              "      <th>10 year</th>\n",
              "      <th>10,000</th>\n",
              "      <th>100</th>\n",
              "      <th>...</th>\n",
              "      <th>year time</th>\n",
              "      <th>yen</th>\n",
              "      <th>yes</th>\n",
              "      <th>york</th>\n",
              "      <th>young</th>\n",
              "      <th>young people</th>\n",
              "      <th>youth</th>\n",
              "      <th>zombie</th>\n",
              "      <th>zone</th>\n",
              "      <th>zoom</th>\n",
              "    </tr>\n",
              "  </thead>\n",
              "  <tbody>\n",
              "    <tr>\n",
              "      <th>0</th>\n",
              "      <td>0.0</td>\n",
              "      <td>0.0</td>\n",
              "      <td>0.0</td>\n",
              "      <td>0.0</td>\n",
              "      <td>0.000000</td>\n",
              "      <td>0.000000</td>\n",
              "      <td>0.0</td>\n",
              "      <td>0.0</td>\n",
              "      <td>0.0</td>\n",
              "      <td>0.0</td>\n",
              "      <td>...</td>\n",
              "      <td>0.0</td>\n",
              "      <td>0.0</td>\n",
              "      <td>0.0</td>\n",
              "      <td>0.0</td>\n",
              "      <td>0.0</td>\n",
              "      <td>0.0</td>\n",
              "      <td>0.0</td>\n",
              "      <td>0.0</td>\n",
              "      <td>0.0</td>\n",
              "      <td>0.0</td>\n",
              "    </tr>\n",
              "    <tr>\n",
              "      <th>1</th>\n",
              "      <td>0.0</td>\n",
              "      <td>0.0</td>\n",
              "      <td>0.0</td>\n",
              "      <td>0.0</td>\n",
              "      <td>0.035442</td>\n",
              "      <td>0.067225</td>\n",
              "      <td>0.0</td>\n",
              "      <td>0.0</td>\n",
              "      <td>0.0</td>\n",
              "      <td>0.0</td>\n",
              "      <td>...</td>\n",
              "      <td>0.0</td>\n",
              "      <td>0.0</td>\n",
              "      <td>0.0</td>\n",
              "      <td>0.0</td>\n",
              "      <td>0.0</td>\n",
              "      <td>0.0</td>\n",
              "      <td>0.0</td>\n",
              "      <td>0.0</td>\n",
              "      <td>0.0</td>\n",
              "      <td>0.0</td>\n",
              "    </tr>\n",
              "    <tr>\n",
              "      <th>2</th>\n",
              "      <td>0.0</td>\n",
              "      <td>0.0</td>\n",
              "      <td>0.0</td>\n",
              "      <td>0.0</td>\n",
              "      <td>0.000000</td>\n",
              "      <td>0.000000</td>\n",
              "      <td>0.0</td>\n",
              "      <td>0.0</td>\n",
              "      <td>0.0</td>\n",
              "      <td>0.0</td>\n",
              "      <td>...</td>\n",
              "      <td>0.0</td>\n",
              "      <td>0.0</td>\n",
              "      <td>0.0</td>\n",
              "      <td>0.0</td>\n",
              "      <td>0.0</td>\n",
              "      <td>0.0</td>\n",
              "      <td>0.0</td>\n",
              "      <td>0.0</td>\n",
              "      <td>0.0</td>\n",
              "      <td>0.0</td>\n",
              "    </tr>\n",
              "    <tr>\n",
              "      <th>3</th>\n",
              "      <td>0.0</td>\n",
              "      <td>0.0</td>\n",
              "      <td>0.0</td>\n",
              "      <td>0.0</td>\n",
              "      <td>0.000000</td>\n",
              "      <td>0.000000</td>\n",
              "      <td>0.0</td>\n",
              "      <td>0.0</td>\n",
              "      <td>0.0</td>\n",
              "      <td>0.0</td>\n",
              "      <td>...</td>\n",
              "      <td>0.0</td>\n",
              "      <td>0.0</td>\n",
              "      <td>0.0</td>\n",
              "      <td>0.0</td>\n",
              "      <td>0.0</td>\n",
              "      <td>0.0</td>\n",
              "      <td>0.0</td>\n",
              "      <td>0.0</td>\n",
              "      <td>0.0</td>\n",
              "      <td>0.0</td>\n",
              "    </tr>\n",
              "    <tr>\n",
              "      <th>4</th>\n",
              "      <td>0.0</td>\n",
              "      <td>0.0</td>\n",
              "      <td>0.0</td>\n",
              "      <td>0.0</td>\n",
              "      <td>0.068968</td>\n",
              "      <td>0.065408</td>\n",
              "      <td>0.0</td>\n",
              "      <td>0.0</td>\n",
              "      <td>0.0</td>\n",
              "      <td>0.0</td>\n",
              "      <td>...</td>\n",
              "      <td>0.0</td>\n",
              "      <td>0.0</td>\n",
              "      <td>0.0</td>\n",
              "      <td>0.0</td>\n",
              "      <td>0.0</td>\n",
              "      <td>0.0</td>\n",
              "      <td>0.0</td>\n",
              "      <td>0.0</td>\n",
              "      <td>0.0</td>\n",
              "      <td>0.0</td>\n",
              "    </tr>\n",
              "  </tbody>\n",
              "</table>\n",
              "<p>5 rows × 3549 columns</p>\n",
              "</div>\n",
              "      <button class=\"colab-df-convert\" onclick=\"convertToInteractive('df-759f0719-92a8-485e-8f49-8f7b6ffbeb07')\"\n",
              "              title=\"Convert this dataframe to an interactive table.\"\n",
              "              style=\"display:none;\">\n",
              "        \n",
              "  <svg xmlns=\"http://www.w3.org/2000/svg\" height=\"24px\"viewBox=\"0 0 24 24\"\n",
              "       width=\"24px\">\n",
              "    <path d=\"M0 0h24v24H0V0z\" fill=\"none\"/>\n",
              "    <path d=\"M18.56 5.44l.94 2.06.94-2.06 2.06-.94-2.06-.94-.94-2.06-.94 2.06-2.06.94zm-11 1L8.5 8.5l.94-2.06 2.06-.94-2.06-.94L8.5 2.5l-.94 2.06-2.06.94zm10 10l.94 2.06.94-2.06 2.06-.94-2.06-.94-.94-2.06-.94 2.06-2.06.94z\"/><path d=\"M17.41 7.96l-1.37-1.37c-.4-.4-.92-.59-1.43-.59-.52 0-1.04.2-1.43.59L10.3 9.45l-7.72 7.72c-.78.78-.78 2.05 0 2.83L4 21.41c.39.39.9.59 1.41.59.51 0 1.02-.2 1.41-.59l7.78-7.78 2.81-2.81c.8-.78.8-2.07 0-2.86zM5.41 20L4 18.59l7.72-7.72 1.47 1.35L5.41 20z\"/>\n",
              "  </svg>\n",
              "      </button>\n",
              "      \n",
              "  <style>\n",
              "    .colab-df-container {\n",
              "      display:flex;\n",
              "      flex-wrap:wrap;\n",
              "      gap: 12px;\n",
              "    }\n",
              "\n",
              "    .colab-df-convert {\n",
              "      background-color: #E8F0FE;\n",
              "      border: none;\n",
              "      border-radius: 50%;\n",
              "      cursor: pointer;\n",
              "      display: none;\n",
              "      fill: #1967D2;\n",
              "      height: 32px;\n",
              "      padding: 0 0 0 0;\n",
              "      width: 32px;\n",
              "    }\n",
              "\n",
              "    .colab-df-convert:hover {\n",
              "      background-color: #E2EBFA;\n",
              "      box-shadow: 0px 1px 2px rgba(60, 64, 67, 0.3), 0px 1px 3px 1px rgba(60, 64, 67, 0.15);\n",
              "      fill: #174EA6;\n",
              "    }\n",
              "\n",
              "    [theme=dark] .colab-df-convert {\n",
              "      background-color: #3B4455;\n",
              "      fill: #D2E3FC;\n",
              "    }\n",
              "\n",
              "    [theme=dark] .colab-df-convert:hover {\n",
              "      background-color: #434B5C;\n",
              "      box-shadow: 0px 1px 3px 1px rgba(0, 0, 0, 0.15);\n",
              "      filter: drop-shadow(0px 1px 2px rgba(0, 0, 0, 0.3));\n",
              "      fill: #FFFFFF;\n",
              "    }\n",
              "  </style>\n",
              "\n",
              "      <script>\n",
              "        const buttonEl =\n",
              "          document.querySelector('#df-759f0719-92a8-485e-8f49-8f7b6ffbeb07 button.colab-df-convert');\n",
              "        buttonEl.style.display =\n",
              "          google.colab.kernel.accessAllowed ? 'block' : 'none';\n",
              "\n",
              "        async function convertToInteractive(key) {\n",
              "          const element = document.querySelector('#df-759f0719-92a8-485e-8f49-8f7b6ffbeb07');\n",
              "          const dataTable =\n",
              "            await google.colab.kernel.invokeFunction('convertToInteractive',\n",
              "                                                     [key], {});\n",
              "          if (!dataTable) return;\n",
              "\n",
              "          const docLinkHtml = 'Like what you see? Visit the ' +\n",
              "            '<a target=\"_blank\" href=https://colab.research.google.com/notebooks/data_table.ipynb>data table notebook</a>'\n",
              "            + ' to learn more about interactive tables.';\n",
              "          element.innerHTML = '';\n",
              "          dataTable['output_type'] = 'display_data';\n",
              "          await google.colab.output.renderOutput(dataTable, element);\n",
              "          const docLink = document.createElement('div');\n",
              "          docLink.innerHTML = docLinkHtml;\n",
              "          element.appendChild(docLink);\n",
              "        }\n",
              "      </script>\n",
              "    </div>\n",
              "  </div>\n",
              "  "
            ]
          },
          "metadata": {},
          "execution_count": 52
        }
      ]
    },
    {
      "cell_type": "markdown",
      "metadata": {
        "id": "jTMPm-hbdRAQ"
      },
      "source": [
        "## Challenge\n",
        "\n",
        "During this module's project assignment, you will transform data science job listings to vector representations for analysis downstream. "
      ]
    },
    {
      "cell_type": "markdown",
      "metadata": {
        "id": "oddqm9omdRAR"
      },
      "source": [
        "# 2. Query Documents by Similarity (Learn)\n",
        "<a id=\"p2\"></a>"
      ]
    },
    {
      "cell_type": "markdown",
      "metadata": {
        "id": "myAGpeGOdRAR"
      },
      "source": [
        "## Overview\n",
        "\n",
        "Have you ever considered how a search bar works in Google? You may just think that search bars simply match your input text against the documents. While there are many different mechanisms for the 'match', one of the most classic is to search by similarity. We will apply two measures of similarity between a document and the input query document: the **Cosine Similarity** between the documents and the **Euclidean distance** between the documents. <br>\n",
        "\n",
        "Cosine Similarity is [more compute intensive](https://stackoverflow.com/questions/28917985/why-cosine-distance-is-much-slower-than-using-euclidean-distance-with-dbscan-alg) than Euclidean distance."
      ]
    },
    {
      "cell_type": "markdown",
      "metadata": {
        "toc-hr-collapsed": true,
        "id": "GG_E_NYfdRAR"
      },
      "source": [
        "## Follow Along\n",
        "*Cosine similarity* and *nearest-neighbor distance* provide two measures that can be used to gauge the similarity of one word to another. <br>\n",
        "We develop these concepts in this section."
      ]
    },
    {
      "cell_type": "markdown",
      "metadata": {
        "id": "m_vR2dvwdRAS"
      },
      "source": [
        "### 2.1 Cosine Similarity\n",
        "The [`cosine_simlarity`](https://scikit-learn.org/stable/modules/generated/sklearn.metrics.pairwise.cosine_similarity.html) between two feature vectors is the dot product of the *normalized* feature vectors. <br>To *normalize* a vector, you simply divide it by its length: thus<br><br>\n",
        "$\\text{cosine_similarity}(\\textbf{u},\\textbf{v})= \\frac{\\textbf{u}}{\\left\\|\\textbf{u}\\right\\|} \\cdot \\frac{\\textbf{v}}{\\left\\|\\textbf{v}\\right\\|}$, <br><br>\n",
        "where $\\left\\|\\textbf{u}\\right\\|$ is the length of the vector $\\textbf{u}$<br><br>\n",
        "\n",
        "$\\textbf{cosine_similarity}$ is in the interval $[0, 1]$, <br><br>\n",
        "The larger the $\\textbf{cosine_similarity}$, the more similar the words are, and vice-versa.<br><br>\n",
        "\n",
        "`cosine_similarity` takes as input the document-term matrix <br>\n",
        "and creates a **similarity matrix** in which the rows and columns represent documents <br>\n",
        "and entry ($i, j$) is the cosine similarity between documents $i$ and $j$.<br><br>\n",
        "\n",
        "Let's compute the **similarity matrix** for the BBC tech articles corpus<br>\n",
        "\n"
      ]
    },
    {
      "cell_type": "code",
      "metadata": {
        "nbgrader": {
          "grade": false,
          "grade_id": "cell-76ce78f9798d38bc",
          "locked": false,
          "schema_version": 3,
          "solution": true,
          "task": false
        },
        "id": "-PunUo9xdRAS",
        "colab": {
          "base_uri": "https://localhost:8080/"
        },
        "outputId": "4e970574-bc6a-4d2a-ec96-408099591679"
      },
      "source": [
        "%%time\n",
        "from sklearn.metrics.pairwise import cosine_similarity\n",
        "\n",
        "# Calculate Distance of TF-IDF Vectors\n",
        "\n",
        "# Turn it into a DataFrame\n",
        "\n",
        "# Our Similarity Matrix is ? size \n",
        "\n",
        "# Each row is the similarity of one document to all other documents (including itself)\n",
        "\n",
        "# Grab the row and pick off the indicies of the most/least similar docs\n",
        "\n",
        "# Calculate Distance of TF-IDF Vectors\n",
        "from sklearn.metrics.pairwise import cosine_similarity\n",
        "\n",
        "# similarity matrix\n",
        "dist_matrix = cosine_similarity(dtm)\n",
        "\n",
        "# Turn it into a DataFrame\n",
        "df = pd.DataFrame(dist_matrix)\n",
        "\n",
        "# Size of the Similarity Matrix \n",
        "print(df.shape)"
      ],
      "execution_count": 53,
      "outputs": [
        {
          "output_type": "stream",
          "name": "stdout",
          "text": [
            "(401, 401)\n",
            "CPU times: user 55.1 ms, sys: 24.7 ms, total: 79.8 ms\n",
            "Wall time: 65.9 ms\n"
          ]
        }
      ]
    },
    {
      "cell_type": "code",
      "metadata": {
        "id": "jMaFFxxV9k6e",
        "colab": {
          "base_uri": "https://localhost:8080/",
          "height": 235
        },
        "outputId": "9f296032-bbf8-4943-b00d-2b0aa919e3c5"
      },
      "source": [
        "df.head()"
      ],
      "execution_count": 54,
      "outputs": [
        {
          "output_type": "execute_result",
          "data": {
            "text/plain": [
              "        0         1         2         3         4         5         6    \\\n",
              "0  1.000000  0.024167  0.014161  0.015564  0.009947  0.010028  0.003200   \n",
              "1  0.024167  1.000000  0.032979  0.056788  0.028829  0.061492  0.027166   \n",
              "2  0.014161  0.032979  1.000000  0.067698  0.012676  0.019885  0.066610   \n",
              "3  0.015564  0.056788  0.067698  1.000000  0.026972  0.046360  0.047284   \n",
              "4  0.009947  0.028829  0.012676  0.026972  1.000000  0.002555  0.017061   \n",
              "\n",
              "        7         8         9    ...       391       392       393       394  \\\n",
              "0  0.009225  0.007811  0.024582  ...  0.012303  0.013175  0.001381  0.009216   \n",
              "1  0.009739  0.014174  0.031265  ...  0.002990  0.055416  0.038204  0.009319   \n",
              "2  0.023622  0.059834  0.031792  ...  0.036122  0.016941  0.023554  0.032119   \n",
              "3  0.008035  0.014080  0.040100  ...  0.082199  0.029362  0.058474  0.013291   \n",
              "4  0.006022  0.001563  0.083719  ...  0.022007  0.400820  0.001948  0.016769   \n",
              "\n",
              "        395       396       397       398       399       400  \n",
              "0  0.021193  0.012833  0.025224  0.016521  0.036601  0.012644  \n",
              "1  0.027300  0.036228  0.321214  0.049168  0.018659  0.111530  \n",
              "2  0.040907  0.030927  0.005265  0.013400  0.003509  0.017196  \n",
              "3  0.141601  0.037376  0.030711  0.035686  0.030135  0.035682  \n",
              "4  0.026052  0.038574  0.043754  0.046452  0.036439  0.032712  \n",
              "\n",
              "[5 rows x 401 columns]"
            ],
            "text/html": [
              "\n",
              "  <div id=\"df-28da05d1-ecaf-4469-bf3a-339a649c114e\">\n",
              "    <div class=\"colab-df-container\">\n",
              "      <div>\n",
              "<style scoped>\n",
              "    .dataframe tbody tr th:only-of-type {\n",
              "        vertical-align: middle;\n",
              "    }\n",
              "\n",
              "    .dataframe tbody tr th {\n",
              "        vertical-align: top;\n",
              "    }\n",
              "\n",
              "    .dataframe thead th {\n",
              "        text-align: right;\n",
              "    }\n",
              "</style>\n",
              "<table border=\"1\" class=\"dataframe\">\n",
              "  <thead>\n",
              "    <tr style=\"text-align: right;\">\n",
              "      <th></th>\n",
              "      <th>0</th>\n",
              "      <th>1</th>\n",
              "      <th>2</th>\n",
              "      <th>3</th>\n",
              "      <th>4</th>\n",
              "      <th>5</th>\n",
              "      <th>6</th>\n",
              "      <th>7</th>\n",
              "      <th>8</th>\n",
              "      <th>9</th>\n",
              "      <th>...</th>\n",
              "      <th>391</th>\n",
              "      <th>392</th>\n",
              "      <th>393</th>\n",
              "      <th>394</th>\n",
              "      <th>395</th>\n",
              "      <th>396</th>\n",
              "      <th>397</th>\n",
              "      <th>398</th>\n",
              "      <th>399</th>\n",
              "      <th>400</th>\n",
              "    </tr>\n",
              "  </thead>\n",
              "  <tbody>\n",
              "    <tr>\n",
              "      <th>0</th>\n",
              "      <td>1.000000</td>\n",
              "      <td>0.024167</td>\n",
              "      <td>0.014161</td>\n",
              "      <td>0.015564</td>\n",
              "      <td>0.009947</td>\n",
              "      <td>0.010028</td>\n",
              "      <td>0.003200</td>\n",
              "      <td>0.009225</td>\n",
              "      <td>0.007811</td>\n",
              "      <td>0.024582</td>\n",
              "      <td>...</td>\n",
              "      <td>0.012303</td>\n",
              "      <td>0.013175</td>\n",
              "      <td>0.001381</td>\n",
              "      <td>0.009216</td>\n",
              "      <td>0.021193</td>\n",
              "      <td>0.012833</td>\n",
              "      <td>0.025224</td>\n",
              "      <td>0.016521</td>\n",
              "      <td>0.036601</td>\n",
              "      <td>0.012644</td>\n",
              "    </tr>\n",
              "    <tr>\n",
              "      <th>1</th>\n",
              "      <td>0.024167</td>\n",
              "      <td>1.000000</td>\n",
              "      <td>0.032979</td>\n",
              "      <td>0.056788</td>\n",
              "      <td>0.028829</td>\n",
              "      <td>0.061492</td>\n",
              "      <td>0.027166</td>\n",
              "      <td>0.009739</td>\n",
              "      <td>0.014174</td>\n",
              "      <td>0.031265</td>\n",
              "      <td>...</td>\n",
              "      <td>0.002990</td>\n",
              "      <td>0.055416</td>\n",
              "      <td>0.038204</td>\n",
              "      <td>0.009319</td>\n",
              "      <td>0.027300</td>\n",
              "      <td>0.036228</td>\n",
              "      <td>0.321214</td>\n",
              "      <td>0.049168</td>\n",
              "      <td>0.018659</td>\n",
              "      <td>0.111530</td>\n",
              "    </tr>\n",
              "    <tr>\n",
              "      <th>2</th>\n",
              "      <td>0.014161</td>\n",
              "      <td>0.032979</td>\n",
              "      <td>1.000000</td>\n",
              "      <td>0.067698</td>\n",
              "      <td>0.012676</td>\n",
              "      <td>0.019885</td>\n",
              "      <td>0.066610</td>\n",
              "      <td>0.023622</td>\n",
              "      <td>0.059834</td>\n",
              "      <td>0.031792</td>\n",
              "      <td>...</td>\n",
              "      <td>0.036122</td>\n",
              "      <td>0.016941</td>\n",
              "      <td>0.023554</td>\n",
              "      <td>0.032119</td>\n",
              "      <td>0.040907</td>\n",
              "      <td>0.030927</td>\n",
              "      <td>0.005265</td>\n",
              "      <td>0.013400</td>\n",
              "      <td>0.003509</td>\n",
              "      <td>0.017196</td>\n",
              "    </tr>\n",
              "    <tr>\n",
              "      <th>3</th>\n",
              "      <td>0.015564</td>\n",
              "      <td>0.056788</td>\n",
              "      <td>0.067698</td>\n",
              "      <td>1.000000</td>\n",
              "      <td>0.026972</td>\n",
              "      <td>0.046360</td>\n",
              "      <td>0.047284</td>\n",
              "      <td>0.008035</td>\n",
              "      <td>0.014080</td>\n",
              "      <td>0.040100</td>\n",
              "      <td>...</td>\n",
              "      <td>0.082199</td>\n",
              "      <td>0.029362</td>\n",
              "      <td>0.058474</td>\n",
              "      <td>0.013291</td>\n",
              "      <td>0.141601</td>\n",
              "      <td>0.037376</td>\n",
              "      <td>0.030711</td>\n",
              "      <td>0.035686</td>\n",
              "      <td>0.030135</td>\n",
              "      <td>0.035682</td>\n",
              "    </tr>\n",
              "    <tr>\n",
              "      <th>4</th>\n",
              "      <td>0.009947</td>\n",
              "      <td>0.028829</td>\n",
              "      <td>0.012676</td>\n",
              "      <td>0.026972</td>\n",
              "      <td>1.000000</td>\n",
              "      <td>0.002555</td>\n",
              "      <td>0.017061</td>\n",
              "      <td>0.006022</td>\n",
              "      <td>0.001563</td>\n",
              "      <td>0.083719</td>\n",
              "      <td>...</td>\n",
              "      <td>0.022007</td>\n",
              "      <td>0.400820</td>\n",
              "      <td>0.001948</td>\n",
              "      <td>0.016769</td>\n",
              "      <td>0.026052</td>\n",
              "      <td>0.038574</td>\n",
              "      <td>0.043754</td>\n",
              "      <td>0.046452</td>\n",
              "      <td>0.036439</td>\n",
              "      <td>0.032712</td>\n",
              "    </tr>\n",
              "  </tbody>\n",
              "</table>\n",
              "<p>5 rows × 401 columns</p>\n",
              "</div>\n",
              "      <button class=\"colab-df-convert\" onclick=\"convertToInteractive('df-28da05d1-ecaf-4469-bf3a-339a649c114e')\"\n",
              "              title=\"Convert this dataframe to an interactive table.\"\n",
              "              style=\"display:none;\">\n",
              "        \n",
              "  <svg xmlns=\"http://www.w3.org/2000/svg\" height=\"24px\"viewBox=\"0 0 24 24\"\n",
              "       width=\"24px\">\n",
              "    <path d=\"M0 0h24v24H0V0z\" fill=\"none\"/>\n",
              "    <path d=\"M18.56 5.44l.94 2.06.94-2.06 2.06-.94-2.06-.94-.94-2.06-.94 2.06-2.06.94zm-11 1L8.5 8.5l.94-2.06 2.06-.94-2.06-.94L8.5 2.5l-.94 2.06-2.06.94zm10 10l.94 2.06.94-2.06 2.06-.94-2.06-.94-.94-2.06-.94 2.06-2.06.94z\"/><path d=\"M17.41 7.96l-1.37-1.37c-.4-.4-.92-.59-1.43-.59-.52 0-1.04.2-1.43.59L10.3 9.45l-7.72 7.72c-.78.78-.78 2.05 0 2.83L4 21.41c.39.39.9.59 1.41.59.51 0 1.02-.2 1.41-.59l7.78-7.78 2.81-2.81c.8-.78.8-2.07 0-2.86zM5.41 20L4 18.59l7.72-7.72 1.47 1.35L5.41 20z\"/>\n",
              "  </svg>\n",
              "      </button>\n",
              "      \n",
              "  <style>\n",
              "    .colab-df-container {\n",
              "      display:flex;\n",
              "      flex-wrap:wrap;\n",
              "      gap: 12px;\n",
              "    }\n",
              "\n",
              "    .colab-df-convert {\n",
              "      background-color: #E8F0FE;\n",
              "      border: none;\n",
              "      border-radius: 50%;\n",
              "      cursor: pointer;\n",
              "      display: none;\n",
              "      fill: #1967D2;\n",
              "      height: 32px;\n",
              "      padding: 0 0 0 0;\n",
              "      width: 32px;\n",
              "    }\n",
              "\n",
              "    .colab-df-convert:hover {\n",
              "      background-color: #E2EBFA;\n",
              "      box-shadow: 0px 1px 2px rgba(60, 64, 67, 0.3), 0px 1px 3px 1px rgba(60, 64, 67, 0.15);\n",
              "      fill: #174EA6;\n",
              "    }\n",
              "\n",
              "    [theme=dark] .colab-df-convert {\n",
              "      background-color: #3B4455;\n",
              "      fill: #D2E3FC;\n",
              "    }\n",
              "\n",
              "    [theme=dark] .colab-df-convert:hover {\n",
              "      background-color: #434B5C;\n",
              "      box-shadow: 0px 1px 3px 1px rgba(0, 0, 0, 0.15);\n",
              "      filter: drop-shadow(0px 1px 2px rgba(0, 0, 0, 0.3));\n",
              "      fill: #FFFFFF;\n",
              "    }\n",
              "  </style>\n",
              "\n",
              "      <script>\n",
              "        const buttonEl =\n",
              "          document.querySelector('#df-28da05d1-ecaf-4469-bf3a-339a649c114e button.colab-df-convert');\n",
              "        buttonEl.style.display =\n",
              "          google.colab.kernel.accessAllowed ? 'block' : 'none';\n",
              "\n",
              "        async function convertToInteractive(key) {\n",
              "          const element = document.querySelector('#df-28da05d1-ecaf-4469-bf3a-339a649c114e');\n",
              "          const dataTable =\n",
              "            await google.colab.kernel.invokeFunction('convertToInteractive',\n",
              "                                                     [key], {});\n",
              "          if (!dataTable) return;\n",
              "\n",
              "          const docLinkHtml = 'Like what you see? Visit the ' +\n",
              "            '<a target=\"_blank\" href=https://colab.research.google.com/notebooks/data_table.ipynb>data table notebook</a>'\n",
              "            + ' to learn more about interactive tables.';\n",
              "          element.innerHTML = '';\n",
              "          dataTable['output_type'] = 'display_data';\n",
              "          await google.colab.output.renderOutput(dataTable, element);\n",
              "          const docLink = document.createElement('div');\n",
              "          docLink.innerHTML = docLinkHtml;\n",
              "          element.appendChild(docLink);\n",
              "        }\n",
              "      </script>\n",
              "    </div>\n",
              "  </div>\n",
              "  "
            ]
          },
          "metadata": {},
          "execution_count": 54
        }
      ]
    },
    {
      "cell_type": "code",
      "metadata": {
        "id": "XDtkkqU8Qx25",
        "colab": {
          "base_uri": "https://localhost:8080/"
        },
        "outputId": "419d74c6-29e8-4316-bae2-361717cc187b"
      },
      "source": [
        "# Each row is the similarity of one document to all other documents (including itself)\n"
      ],
      "execution_count": 60,
      "outputs": [
        {
          "output_type": "execute_result",
          "data": {
            "text/plain": [
              "0.7291921901229127"
            ]
          },
          "metadata": {},
          "execution_count": 60
        }
      ]
    },
    {
      "cell_type": "markdown",
      "metadata": {
        "id": "WFV_5FzLijNo"
      },
      "source": [
        "### Find the most similar documents to the first document"
      ]
    },
    {
      "cell_type": "code",
      "metadata": {
        "id": "JW0zaZkFQtgS",
        "colab": {
          "base_uri": "https://localhost:8080/"
        },
        "outputId": "3db499ef-a8f1-4b30-a9cc-a3f1954951e1"
      },
      "source": [
        "### BEGIN SOLUTION\n",
        "# Grab the first row and return the indices of the 5 most similar docs\n",
        "df.iloc[0][1:].sort_values(ascending=False).head(5)\n",
        "### END SOLUTION"
      ],
      "execution_count": 66,
      "outputs": [
        {
          "output_type": "execute_result",
          "data": {
            "text/plain": [
              "227    0.729192\n",
              "338    0.657955\n",
              "131    0.505425\n",
              "37     0.505425\n",
              "139    0.313778\n",
              "Name: 0, dtype: float64"
            ]
          },
          "metadata": {},
          "execution_count": 66
        }
      ]
    },
    {
      "cell_type": "code",
      "source": [
        "# 1st and 228th document\n",
        "# Both articles are about EU software legislation and Poland!\n",
        "\n",
        "print(data[0])\n",
        "print(\"---------------------\")\n",
        "print(data[227])"
      ],
      "metadata": {
        "colab": {
          "base_uri": "https://localhost:8080/"
        },
        "id": "9Sdn3xRhmtAW",
        "outputId": "853211f2-f5d8-4edb-b342-0ef1f7b4235c"
      },
      "execution_count": 71,
      "outputs": [
        {
          "output_type": "stream",
          "name": "stdout",
          "text": [
            "New delay hits EU software laws\n",
            "\n",
            "A fresh delay has hit controversial new European Union rules which govern computer-based inventions.\n",
            "\n",
            "The draft law was not adopted by EU ministers as planned at a Brussels meeting on Monday during which it was supposed to have been discussed. The fresh delay came after Polish officials had raised concerns about the law for the second time in two months. Critics say the law would favour large companies over small ones and could impact open-source software innovation. \"There was at one point the intention to put the item on today's agenda. But in the end we could not put it on,\" an EU spokesman told the Reuters agency. He added that no date had been chosen for more discussion of the law.\n",
            "\n",
            "In December, Poland requested more time to consider the issue because it was concerned that the law could lead to the patenting of pure computer software. Its ministers want to see the phrasing of the text of the Directive on the Patentability of Computer-Implemented Inventions changed so that it excludes software patenting. Poland is a large EU member, so its backing for the legislation is vital. The EU says the law would bring Europe more in line with how such laws work in the US, but this has caused some angry debate amongst critics and supporters. In the US, the patenting of computer programs and internet business methods is permitted. This means that the US-based Amazon.com holds a patent for its \"one-click shopping\" service. Critics say a similar model in Europe would hurt small software developers which do not have the legal and financial might of larger companies. But supporters say current law does not let big companies protect inventions which they have spent years developing.\n",
            "\n",
            "---------------------\n",
            "EU software patent law delayed\n",
            "\n",
            "Controversial new EU rules for the patenting of computer-based inventions have been put on hold due to a last minute intervention from Poland.\n",
            "\n",
            "Poland - a large and therefore crucial EU member - has requested more time to consider the issue, especially as it relates to the patenting of software. Critics say the law would favour large companies over small, innovative ones. They say it could have massive ramifications for developments such as open source software.\n",
            "\n",
            "Polish ministers want to see the phrasing of the text of the Directive on the Patentability of Computer-Implemented Inventions changed so that it excludes the patenting of software. The planned law has ignited angry debate about whether the EU should allow the patenting of computer programs and internet business methods as currently happens in the US. So, for instance, US-based Amazon.com holds a patent on 'one-click shopping'. Critics claim the law, which the EU says is needed to harmonise with the US, is little more than a law on ideas. \"Patent rights, it is claimed, protect inventors but in this case it is exclusively the interests of the big companies that are protected,\" Eva Lichtenberg, a Austrian Green member of the European Parliament said in a statement. \"Smaller, innovative firms cannot afford the patenting and legal costs that the directive would inflict on them,\" she added. The European Parliament has already clashed with the European Union on the issue and there have been accusations that the process to decide the issue has been undemocratic. The directive has been subject to several previous delays.\n",
            "\n"
          ]
        }
      ]
    },
    {
      "cell_type": "markdown",
      "metadata": {
        "id": "msStkSPqdRAS"
      },
      "source": [
        "### 2.2 K Nearest Neighbors Search (kNN) \n",
        "\n",
        "<img src=\"https://miro.medium.com/max/753/0*jqxx3-dJqFjXD6FA\" width=\"600\" height=\"400\" />\n",
        "\n",
        "\n",
        "Nearest Neighbor models are distance based algorithms. They store your training set in memory. "
      ]
    },
    {
      "cell_type": "markdown",
      "metadata": {
        "id": "CD4Oru_DlAhu"
      },
      "source": [
        "### `scikit-learn`'s `NearestNeighbors` class \n",
        "computes distances between all pairs of data points, <br>\n",
        "and returns the result in the form of a similarity matrix. <br>\n",
        "Entry $(i,j)$ in the similarity matrix records the similarity of data points $i$ and $j$.<br>\n",
        "\n",
        "Below is an example using `NearestNeighbors` to find the most similar documents to a given documentL\n"
      ]
    },
    {
      "cell_type": "code",
      "metadata": {
        "nbgrader": {
          "grade": false,
          "grade_id": "cell-eac83ba5d76f6bf2",
          "locked": false,
          "schema_version": 3,
          "solution": true,
          "task": false
        },
        "id": "OaF7cC7jdRAS",
        "colab": {
          "base_uri": "https://localhost:8080/"
        },
        "outputId": "8d675ed7-1b4d-43f9-99ad-bac0d48e3c6a"
      },
      "source": [
        "%%time\n",
        "from sklearn.neighbors import NearestNeighbors\n",
        "\n",
        "# Instantiate the nearest neighbors model\n",
        "nn = NearestNeighbors()\n",
        "\n",
        "# fit to our document term matrix\n",
        "nn.fit(dtm.values)"
      ],
      "execution_count": 72,
      "outputs": [
        {
          "output_type": "stream",
          "name": "stdout",
          "text": [
            "CPU times: user 8.58 ms, sys: 0 ns, total: 8.58 ms\n",
            "Wall time: 13.6 ms\n"
          ]
        },
        {
          "output_type": "execute_result",
          "data": {
            "text/plain": [
              "NearestNeighbors()"
            ]
          },
          "metadata": {},
          "execution_count": 72
        }
      ]
    },
    {
      "cell_type": "markdown",
      "metadata": {
        "id": "tPbW_1sum9NP"
      },
      "source": [
        "Find the 5 most similar documents to a query document; here we will choose the first document as our query document"
      ]
    },
    {
      "cell_type": "code",
      "metadata": {
        "id": "krvdbifUpi4X"
      },
      "source": [
        "# sample a doc from a dtm to use as our query point\n",
        "doc_index = 0\n",
        "query_doc = dtm.values[0][None,:] # re-cast as a row vector same as [[]]\n",
        "\n",
        "# Query Using the kneighbors method\n",
        "# NOTE: nn counts the original document as one of the neighbors, so if we want 5 nearest neighbors, we should set n_neightbors=6\n",
        "neigh_dist, neigh_index = nn.kneighbors(query_doc,n_neighbors=6)"
      ],
      "execution_count": 81,
      "outputs": []
    },
    {
      "cell_type": "code",
      "metadata": {
        "id": "3SUrN_YrvPsK",
        "colab": {
          "base_uri": "https://localhost:8080/"
        },
        "outputId": "5efdbff1-2de0-4b63-bd0e-dc7c6da7b2e4"
      },
      "source": [
        "# nearest neighbor search returns the same documents as cosine similarity!\n",
        "print(neigh_index)\n",
        "print(neigh_dist)"
      ],
      "execution_count": 82,
      "outputs": [
        {
          "output_type": "stream",
          "name": "stdout",
          "text": [
            "[[  0 227 338 131  37 382]]\n",
            "[[2.98023224e-08 7.35945392e-01 8.27097209e-01 9.94560133e-01\n",
            "  9.94560133e-01 1.17151368e+00]]\n"
          ]
        }
      ]
    },
    {
      "cell_type": "code",
      "metadata": {
        "id": "PDM_NrH7IBr8",
        "colab": {
          "base_uri": "https://localhost:8080/",
          "height": 108
        },
        "outputId": "ae539b93-5c5a-409a-b214-9bf6a4454005"
      },
      "source": [
        "data[0]"
      ],
      "execution_count": 83,
      "outputs": [
        {
          "output_type": "execute_result",
          "data": {
            "text/plain": [
              "'New delay hits EU software laws\\n\\nA fresh delay has hit controversial new European Union rules which govern computer-based inventions.\\n\\nThe draft law was not adopted by EU ministers as planned at a Brussels meeting on Monday during which it was supposed to have been discussed. The fresh delay came after Polish officials had raised concerns about the law for the second time in two months. Critics say the law would favour large companies over small ones and could impact open-source software innovation. \"There was at one point the intention to put the item on today\\'s agenda. But in the end we could not put it on,\" an EU spokesman told the Reuters agency. He added that no date had been chosen for more discussion of the law.\\n\\nIn December, Poland requested more time to consider the issue because it was concerned that the law could lead to the patenting of pure computer software. Its ministers want to see the phrasing of the text of the Directive on the Patentability of Computer-Implemented Inventions changed so that it excludes software patenting. Poland is a large EU member, so its backing for the legislation is vital. The EU says the law would bring Europe more in line with how such laws work in the US, but this has caused some angry debate amongst critics and supporters. In the US, the patenting of computer programs and internet business methods is permitted. This means that the US-based Amazon.com holds a patent for its \"one-click shopping\" service. Critics say a similar model in Europe would hurt small software developers which do not have the legal and financial might of larger companies. But supporters say current law does not let big companies protect inventions which they have spent years developing.\\n'"
            ],
            "application/vnd.google.colaboratory.intrinsic+json": {
              "type": "string"
            }
          },
          "metadata": {},
          "execution_count": 83
        }
      ]
    },
    {
      "cell_type": "code",
      "source": [
        "data[227]"
      ],
      "metadata": {
        "id": "R7jzq5UdVWIu",
        "colab": {
          "base_uri": "https://localhost:8080/",
          "height": 108
        },
        "outputId": "306bc1d6-cbef-448f-a96e-a479ec383b9c"
      },
      "execution_count": 84,
      "outputs": [
        {
          "output_type": "execute_result",
          "data": {
            "text/plain": [
              "'EU software patent law delayed\\n\\nControversial new EU rules for the patenting of computer-based inventions have been put on hold due to a last minute intervention from Poland.\\n\\nPoland - a large and therefore crucial EU member - has requested more time to consider the issue, especially as it relates to the patenting of software. Critics say the law would favour large companies over small, innovative ones. They say it could have massive ramifications for developments such as open source software.\\n\\nPolish ministers want to see the phrasing of the text of the Directive on the Patentability of Computer-Implemented Inventions changed so that it excludes the patenting of software. The planned law has ignited angry debate about whether the EU should allow the patenting of computer programs and internet business methods as currently happens in the US. So, for instance, US-based Amazon.com holds a patent on \\'one-click shopping\\'. Critics claim the law, which the EU says is needed to harmonise with the US, is little more than a law on ideas. \"Patent rights, it is claimed, protect inventors but in this case it is exclusively the interests of the big companies that are protected,\" Eva Lichtenberg, a Austrian Green member of the European Parliament said in a statement. \"Smaller, innovative firms cannot afford the patenting and legal costs that the directive would inflict on them,\" she added. The European Parliament has already clashed with the European Union on the issue and there have been accusations that the process to decide the issue has been undemocratic. The directive has been subject to several previous delays.\\n'"
            ],
            "application/vnd.google.colaboratory.intrinsic+json": {
              "type": "string"
            }
          },
          "metadata": {},
          "execution_count": 84
        }
      ]
    },
    {
      "cell_type": "markdown",
      "source": [
        "Which words do these two documents have in common?\n",
        "\n",
        "> Indented block\n",
        "\n"
      ],
      "metadata": {
        "id": "GJvImw9sYxQ7"
      }
    },
    {
      "cell_type": "code",
      "source": [
        "def shared_words(s1, s2):\n",
        "  res = []\n",
        "  l_s1, l_s2 = set(s1.split()), set(s2.split())\n",
        "  for ss1 in l_s1:\n",
        "    if ss1 in l_s2: res.append(ss1)\n",
        "  return res\n",
        "\n",
        "doc1_tokens = tokenize(data[0])\n",
        "doc2_tokens = tokenize(data[227])\n",
        "shared_words(' '.join(doc1_tokens), ' '.join(doc2_tokens))"
      ],
      "metadata": {
        "id": "zlxQ968QYtrm"
      },
      "execution_count": null,
      "outputs": []
    },
    {
      "cell_type": "markdown",
      "metadata": {
        "id": "LhG-KESidGIn"
      },
      "source": [
        "### Exercise: \n",
        "Search the BBC dataset for documents most similar to a random query doc"
      ]
    },
    {
      "cell_type": "code",
      "metadata": {
        "id": "ouWYmCawdRAT",
        "colab": {
          "base_uri": "https://localhost:8080/"
        },
        "outputId": "796ea4bd-fb8c-4961-9324-3c1f9c8b01da"
      },
      "source": [
        "rndm_tech_article = [ \"\"\"\n",
        "Blockchain technology encompasses so much more than just cryptocurrencies these days. And while these currencies are by far blockchain’s most famous use case, the potential for blockchain far, far exceeds a straightforward transfer of value.\n",
        "The gaming industry, for example, has always been fairly controversial due to a range of issues. Many players feel particularly worried about the protection of their data, fraudulent activities, high fees, and most of all, unfair and hidden odds.\n",
        "In these cases, P2P doesn’t just mean peer-to-peer; it means player-to-player. As with the other P2P industries that blockchain is disrupting, such as FinTech, there are already plenty of ways in which blockchain technology is being applied to resolve these issues and many more of the challenges faced by the gaming industry. Here are just a few.\n",
        "Reducing fraud\n",
        "The gaming industry suffers a lot from online fraud. One of the main advantages of blockchain technology is that it enables highly secure data encryption. What’s more, all of it is entirely accessible and transparent to the player. In other words, blockchain is a for game changer for venues such as online casinos, lotteries, and virtually anything which relies on random number generation.\n",
        "On top of this, hackers will have particularly hard time, if it is even possible, to destroy a decentralized blockchain network, making sure gamer data stays safe. This is an inherent feature of distributed ledger technology whereby nodes in the ledger maintain the distributed databases in a shared manner, and each node has the complete information in the entire database.\n",
        "\"\"\"]\n",
        "\n",
        "\n",
        "# transform the rndm_tech_article to get its document vector\n",
        "doc_tfidf = tfidf.transform(rndm_tech_article)\n",
        "doc_tfidf"
      ],
      "execution_count": 88,
      "outputs": [
        {
          "output_type": "execute_result",
          "data": {
            "text/plain": [
              "<1x3549 sparse matrix of type '<class 'numpy.float64'>'\n",
              "\twith 61 stored elements in Compressed Sparse Row format>"
            ]
          },
          "metadata": {},
          "execution_count": 88
        }
      ]
    },
    {
      "cell_type": "code",
      "source": [
        "# use k Nearest Neighbors to find the most similar documents in our document term matrix to the query\n",
        "neigh_dist, neigh_index = nn.kneighbors(doc_tfidf, n_neighbors=10)"
      ],
      "metadata": {
        "id": "d1Z_yaXfVpOk"
      },
      "execution_count": 89,
      "outputs": []
    },
    {
      "cell_type": "code",
      "source": [
        "# Inspect the most similar documents \n",
        "print(neigh_dist, neigh_index)"
      ],
      "metadata": {
        "id": "CQrZ5URfVqU6",
        "colab": {
          "base_uri": "https://localhost:8080/"
        },
        "outputId": "d0e61733-61a2-4599-88fe-353faffa0d06"
      },
      "execution_count": 90,
      "outputs": [
        {
          "output_type": "stream",
          "name": "stdout",
          "text": [
            "[[1.28274362 1.28285451 1.29550261 1.30942299 1.31330908 1.31716547\n",
            "  1.31817308 1.31848061 1.31848061 1.3238883 ]] [[129  46 316 377 399  58 312  49 171  45]]\n"
          ]
        }
      ]
    },
    {
      "cell_type": "code",
      "source": [
        "# Document @ 129:\n",
        "print(data[129])\n",
        "# Document @ 46\n",
        "print(data[46])\n",
        "\n",
        "#Shared words:\n",
        "print(shared_words(data[129], data[46]))"
      ],
      "metadata": {
        "colab": {
          "base_uri": "https://localhost:8080/"
        },
        "id": "8ckK1fRmpunZ",
        "outputId": "e9e02774-7fd8-45a2-d2b9-bf6376ee3525"
      },
      "execution_count": 92,
      "outputs": [
        {
          "output_type": "stream",
          "name": "stdout",
          "text": [
            "Peer-to-peer nets 'here to stay'\n",
            "\n",
            "Peer-to-peer (P2P) networks are here to stay, and are on the verge of being exploited by commercial media firms, says a panel of industry experts.\n",
            "\n",
            "Once several high-profile legal cases against file-sharers are resolved this year, firms will be very keen to try and make money from P2P technology. The expert panel probed the future of P2P at the Consumer Electronics Show in Las Vegas earlier in January. The first convictions for P2P piracy were handed out in the US in January. William Trowbridge and Michael Chicoine pleaded guilty to charges that they infringed copyright by illegally sharing music, movies and software. Since the first successful file-sharing network Napster was forced to close down, the entertainment industry has been nervous and critical of P2P technology, blaming it for falling sales and piracy. But that is going to change very soon, according to the panel.\n",
            "\n",
            "The music and film industries have started some big legal cases against owners of legitimate P2P networks - which are not illegal in themselves - and of individuals accused of distributing pirated content over networks. But they have slowly realised that P2P is a good way to distribute content, said Travis Kalanick, founder and chairman of P2P network Red Swoosh, and soon they are all going to want a slice of it. They are just waiting to come up with \"business models\" that work for them, which includes digital rights management and copy-protection standards.\n",
            "\n",
            "But, until the legal actions are resolved, experimentation with P2P cannot not happen, said Michael Weiss, president of StreamCast Networks. Remembering the furore around VCRs when they first came out, Mr Weiss said: \"Old media always tries to stop new media. \"When they can't stop it, they try to control it. Then they figure out how to make money and they always make a lot of money.\" Once the courts decided that the VCR in itself was not an illegal technology, the film studios turned it into an extremely lucrative business. In August 2004, the San Francisco-based US Court of Appeals ruled in favour of Grokster and StreamCast, two file-sharing networks. The court said they were essentially in the same position that Sony was in the 1980s VCR battle, and said that the networks themselves could not be deemed as illegal.\n",
            "\n",
            "P2P networks usually do not rely on dedicated servers for the transfer of files. Instead it uses direct connections between computers - or clients. There are now many different types of P2P systems than work in different ways. P2P nets can be used to share any kind of file, like photos, free software, licensed music and any other digital content. The BBC has already decided to embrace the technology. It aims to offer most of its own programmes for download this year and it will use P2P technology to distribute them. The files would be locked seven days after a programme aired making rights management easier to control. But the technology is still demonised and misunderstood by many. The global entertainment industry says more than 2.6 billion copyrighted music files are downloaded every month, and about half a million films are downloaded a day. Legal music download services, like Apple iTunes, Napster, have rushed into the music marketplace to try and lure file-sharers away from free content. Sales of legally-downloaded songs grew tenfold in 2004, with 200 million tracks bought online in the US and Europe in 12 months, the IFPI reported this week. But such download services are very different from P2P networks, not least because of the financial aspect.\n",
            "\n",
            "There are several money-spinning models that could turn P2P into a golden egg for commercial entertainment companies. Paid-for-pass-along, in which firms receive money each time a file is shared, along with various DRM solutions and advertiser-based options are all being considered. \"We see there are going to be different models for commoditising P2P,\" said Marc Morgenstern, vice president of anti-piracy firm Overpeer.\n",
            "\n",
            "\"Consumers are hungry for it and we will discover new models together,\" agreed Mr Morgenstern. But many net users will continue to ignore the entertainment industry's potential controlling grip on content and P2P technology by continuing to use it for their own creations. Unsigned bands, for example, use P2P networks to distribute their music effectively, which also draws the attention of record companies looking for new artists to sign. \"Increasingly, what you are seeing on P2P is consumer-created content,\" said Derek Broes, from Microsoft. \"They will probably play an increasing role in helping P2P spread,\" he said. Looking into P2P's future, file sharing is just the beginning for P2P networks, as far as Mr Broes is concerned. \"Once some of these issues are resolved, you are going to see aggressive movement to protect content, but also in ways that are unimaginable now,\" he said. \"File-sharing is the tip of the iceberg.\"\n",
            "\n",
            "Peer-to-peer nets 'here to stay'\n",
            "\n",
            "Peer-to-peer (P2P) networks are here to stay, and are on the verge of being exploited by commercial media firms, says a panel of industry experts.\n",
            "\n",
            "Once several high-profile legal cases against file-sharers are resolved this year, firms will be very keen to try and make money from P2P technology. The expert panel probed the future of P2P at the Consumer Electronics Show in Las Vegas earlier in January. The first convictions for P2P piracy were handed out in the US in January. William Trowbridge and Michael Chicoine pleaded guilty to charges that they infringed copyright by illegally sharing music, movies and software. Since the first successful file-sharing network Napster was forced to close down, the entertainment industry has been nervous and critical of P2P technology, blaming it for falling sales and piracy. But that is going to change very soon, according to the panel.\n",
            "\n",
            "The music and film industries have started some big legal cases against owners of legitimate P2P networks - which are not illegal in themselves - and of individuals accused of distributing pirated content over networks. But they have slowly realised that P2P is a good way to distribute content, said Travis Kalanick, founder and chairman of P2P network Red Swoosh, and soon they are all going to want a slice of it. They are just waiting to come up with \"business models\" that work for them, which includes digital rights management and copy-protection standards.\n",
            "\n",
            "But, until the legal actions are resolved, experimentation with P2P cannot not happen, said Michael Weiss, president of StreamCast Networks. Remembering the furore around VCRs when they first came out, Mr Weiss said: \"Old media always tries to stop new media. \"When they can't stop it, they try to control it. Then they figure out how to make money and they always make a lot of money.\" Once the courts decided that the VCR in itself was not an illegal technology, the film studios turned it into an extremely lucrative business. In August 2004, the San Francisco-based US Court of Appeals ruled in favour of Grokster and StreamCast, two file-sharing networks. The court said they were essentially in the same position that Sony was in the 1980s VCR battle, and said that the networks themselves could not be deemed as illegal.\n",
            "\n",
            "P2P networks usually do not rely on dedicated servers for the transfer of files. Instead it uses direct connections between computers - or clients. There are now many different types of P2P systems than work in different ways. P2P nets can be used to share any kind of file, like photos, free software, licensed music and any other digital content. The BBC has already decided to embrace the technology. It aims to offer most of its own programmes for download this year and it will use P2P technology to distribute them. The files would be locked seven days after a programme aired making rights management easier to control. But the technology is still demonised and misunderstood by many. The global entertainment industry says more than 2.6 billion copyrighted music files are downloaded every month, and about half a million films are downloaded a day. Legal music download services, like Apple iTunes, Napster, have rushed into the music marketplace to try and lure file-sharers away from free content. Sales of legally-downloaded songs grew tenfold in 2004, with 200 million tracks bought online in the US and Europe in 12 months, the IFPI reported this week. But such download services are very different from P2P networks, not least because of the financial aspect.\n",
            "\n",
            "There are several money-spinning models that could turn P2P into a golden egg for commercial entertainment companies. Paid-for-pass-along, in which firms receive money each time a file is shared, along with various DRM solutions and advertiser-based options are all being considered. \"We see there are going to be different models for commoditising P2P,\" said Marc Morgenstern, vice president of anti-piracy firm Overpeer.\n",
            "\n",
            "\"Consumers are hungry for it and we will discover new models together,\" agreed Mr Morgenstern. But many net users will continue to ignore the entertainment industry's potential controlling grip on content and P2P technology by continuing to use it for their own creations. Unsigned bands, for example, use P2P networks to distribute their music effectively, which also draws the attention of record companies looking for new artists to sign. \"Increasingly, what you are seeing on P2P is consumer-created content,\" said Derek Broes, from Microsoft. \"They will probably pay an increasing role in helping P2P spread,\" he said. Looking into P2P's future, file sharing is just the beginning for P2P networks, as far as Mr Broes is concerned. \"Once some of these issues are resolved, you are going to see aggressive movement to protect content, but also in ways that are unimaginable now,\" he said. \"File-sharing is the tip of the iceberg.\"\n",
            "\n",
            "['considered.', 'Trowbridge', 'says', 'VCRs', 'being', 'IFPI', 'P2P,\"', 'nervous', 'battle,', 'court', 'role', 'They', 'how', 'courts', 'each', 'been', 'year,', 'files', 'technology', 'were', 'Apple', 'president', 'San', 'transfer', 'advertiser-based', 'Overpeer.', 'which', 'file-sharers', 'golden', 'download', 'their', 'draws', 'several', 'Red', \"industry's\", 'as', 'year', 'distribute', 'Travis', 'work', 'copy-protection', 'Once', 'sharing', 'all', 'between', 'technology,', 'same', 'programme', 'after', 'them.', 'network', 'services', 'firms,', 'includes', 'rely', 'kind', 'such', 'music', 'firms', 'licensed', 'falling', 'bands,', 'Looking', 'its', 'US', 'started', 'stay,', 'lot', 'decided', 'future,', 'you', 'least', 'In', 'August', 'pirated', 'helping', 'Swoosh,', 'waiting', '\"Increasingly,', 'industry', 'Chicoine', 'actions', 'also', 'tenfold', 'month,', 'discover', 'expert', 'aggressive', 'aired', 'but', 'grew', 'Mr', 'effectively,', 'according', 'legitimate', 'issues', 'here', 'a', 'future', 'most', 'copyright', 'they', 'more', 'deemed', 'by', 'digital', 'try', 'Derek', 'cases', 'forced', 'now,\"', '\"Once', 'Sales', 'aims', 'come', 'this', 'commoditising', 'months,', 'Consumer', 'increasing', 'first', 'new', 'Electronics', 'these', 'legally-downloaded', 'StreamCast', 'DRM', 'Marc', 'cannot', 'away', 'from', 'at', 'chairman', 'offer', 'lucrative', 'BBC', 'Weiss,', 'Since', 'up', 'be', 'said', 'do', 'every', 'turned', 'media.', 'networks,', 'embrace', 'William', 'would', 'misunderstood', 'when', 'solutions', '(P2P)', 'global', \"P2P's\", 'sign.', 'came', 'hungry', 'aspect.', 'file', 'the', 'tries', 'usually', 'creations.', 'illegal.', '\"When', 'looking', 'for', 'commercial', 'in', 'far', 'computers', 'Las', 'songs', 'blaming', 'illegal', 'just', 'Sony', 'way', 'could', '\"business', 'time', 'There', 'locked', 'iceberg.\"', 'ruled', '\"We', 'Microsoft.', 'going', 'different', 'furore', 'essentially', 'But,', 'Napster', 'photos,', 'downloaded', 'high-profile', 'piracy.', 'StreamCast,', 'tracks', 'handed', 'software,', 'that', 'controlling', 'Instead', 'reported', 'money-spinning', 'or', 'day.', 'Then', 'billion', 'films', 'realised', 'use', 'seeing', 'lure', 'we', 'stop', 'about', 'Grokster', 'many.', 'days', 'ways', 'dedicated', 'control', 'successful', 'now', 'grip', 'ways.', '2004,', 'vice', 'services,', 'against', 'Morgenstern,', \"can't\", 'making', 'down,', 'easier', 'share', 'change', 'itself', 'networks', 'already', 'demonised', 'consumer-created', 'industries', 'panel.', 'sales', 'illegally', 'programmes', 'artists', 'models\"', 'panel', 'But', 'has', 'said.', 'individuals', 'Weiss', 'figure', 'exploited', 'critical', 'potential', 'firm', 'files.', 'record', 'anti-piracy', 'It', 'any', 'used', 'Remembering', 'an', 'was', 'keen', 'guilty', 'resolved', 'convictions', 'resolved,', 'them,', 'turn', 'slowly', 'egg', 'favour', 'into', '2.6', 'Vegas', 'net', 'verge', 'concerned.', 'film', 'extremely', 'bought', 'Morgenstern.', 'content.', 'like', 'experts.', 'systems', 'Francisco-based', 'themselves', 'beginning', 'it', 'charges', 'with', 'own', 'rights', 'content', 'than', 'very', 'see', 'money.\"', 'of', 'out', '200', 'attention', 'half', 'have', 'other', 'seven', 'always', 'iTunes,', '-', '\"They', 'receive', 'continuing', 'can', 'technology.', 'still', 'many', '1980s', 'agreed', 'infringed', 'options', 'free', '\"Old', 'P2P', 'types', 'rushed', 'shared,', 'content,', 'to', '\"File-sharing', 'along', 'earlier', 'until', 'control.', 'there', 'are', 'Legal', 'money', 'Kalanick,', 'soon', 'standards.', 'two', '12', 'users', 'business.', 'good', 'uses', 'example,', '\"Consumers', 'distributing', 'will', 'over', 'out,', 'connections', 'direct', 'make', 'protect', 'Broes,', 'around', 'ignore', 'content,\"', 'copyrighted', 'owners', 'on', 'file-sharing', 'networks.', 'Broes', 'clients.', 'Unsigned', 'founder', 'Napster,', 'want', 'various', 'probably', 'Networks.', 'together,\"', \"stay'\", 'soon,', 'media', 'is', 'accused', 'January.', 'probed', 'it.', 'and', 'unimaginable', 'some', 'week.', 'what', 'nets', 'spread,\"', 'Michael', 'tip', 'financial', 'experimentation', 'Paid-for-pass-along,', 'file,', 'he', 'Appeals', \"'here\", 'slice', 'because', 'management', 'movies', 'models', 'companies.', 'entertainment', 'studios', 'said:', 'big', 'it,', 'companies', 'position', 'The', 'software.', 'pleaded', 'Court', 'online', 'Peer-to-peer', 'close', 'not', 'servers', 'Europe', 'VCR', 'piracy', 'legal', 'marketplace', 'Show', 'movement', 'music,', 'million', 'continue', 'happen,']\n"
          ]
        }
      ]
    },
    {
      "cell_type": "markdown",
      "metadata": {
        "id": "RaSuFg0ldRAT"
      },
      "source": [
        "## Challenge\n",
        "\n",
        "In the module project assignment, you will apply one of these search techniques to retrieve documents related to a query document. "
      ]
    },
    {
      "cell_type": "markdown",
      "metadata": {
        "id": "3ugKeF8odRAT"
      },
      "source": [
        "# 3. Apply word embedding models to create document vectors (Learn)\n",
        "<a id=\"p3\"></a>\n"
      ]
    },
    {
      "cell_type": "markdown",
      "metadata": {
        "id": "K5wmBPMUdRAU"
      },
      "source": [
        "## Overview\n",
        "### Bag of Words (BoW) models lose information about context\n",
        "\n",
        "One of the limitations of Bag-of-Words approaches is that any information about the context surrounding that word is lost. This also means that with bag-of-words approaches often the only tools that we have for identifying words with similar usage or meaning and subsequently consolidating them into a single vector is through the processes of stemming and lemmatization which tend to be quite limited at consolidating words unless the two words are very close in their spelling or in their root parts-of-speech.\n",
        "\n",
        "### Embedding approaches preserve more textual context\n",
        "Word2Vec is an increasingly popular word embedding technique. Like Bag-of-words it learns a real-value vector representation for a predefined fixed-size vocabulary that is generated from a corpus of text. However, in contrast to BoW, Word2Vec approaches are much more capable of accounting for textual context, and are better at discovering words with similar meanings or usages (semantic or syntactic similarity).\n",
        "\n",
        "##3.1 Word2Vec Intuition\n",
        "Reference: [Deep NLP: Word Vectors with Word2Vec](https://medium.com/deep-learning-demystified/deep-nlp-word-vectors-with-word2vec-d62cb29b40b3)\n",
        "### The Distribution Hypothesis\n",
        "\n",
        "In order to understand how Word2Vec preserves textual context we have to understand what's called the [Distribution Hypothesis](https://en.wikipedia.org/wiki/Distributional_semantics). The Distribution Hypothesis operates under the assumption that words that have similar contexts will have similar meanings. Practically speaking, this means that if two words are found to have similar words both to the right and to the left of them throughout the corpora then those words have the same context and are assumed to have the same meaning. \n",
        "\n",
        "> \"You shall know a word by the company it keeps\" - John Firth\n",
        "\n",
        "This means that we let the usage of a word define its meaning and its \"similarity\" to other words. In the following example, which words would you say have a similar meaning? \n",
        "\n",
        "**Sentence 1**: Traffic was light today\n",
        "\n",
        "**Sentence 2**: Traffic was heavy yesterday\n",
        "\n",
        "**Sentence 3**: Prediction is that traffic will be smooth-flowing tomorrow since it is a national holiday\n",
        "\n",
        "What words in the above sentences seem to have a similar meaning if all you knew about them was the context in which they appeared above? \n",
        "\n",
        "Lets take a look at how this might work in action, the following example is simplified, but will give you an idea of the intuition for how this works.\n",
        "\n",
        "#### Corpora:\n",
        "\n",
        "1) \"It was the sunniest of days.\"\n",
        "\n",
        "2) \"It was the rainiest of days.\"\n",
        "\n",
        "#### Vocabulary:\n",
        "\n",
        "{\"it\": 1, \"was\": 2, \"the\": 3, \"of\": 4, \"days\": 5, \"sunniest\": 6, \"rainiest\": 7}\n",
        "\n",
        "### Vectorization\n",
        "\n",
        "|       doc   | START_was | it_the | was_sunniest | the_of | sunniest_days | of_it | days_was | it_the | was_rainiest | rainiest_days | of_END |\n",
        "|----------|-----------|--------|--------------|--------|---------------|-------|----------|--------|-------------|--------------|--------|\n",
        "| it       | 1         | 0      | 0            | 0      | 0             | 0     | 1        | 0      | 0           | 0            | 0      |\n",
        "| was      | 0         | 1      | 0            | 0      | 0             | 0     | 0        | 1      | 0           | 0            | 0      |\n",
        "| the      | 0         | 0      | 1            | 0      | 0             | 0     | 0        | 0      | 1           | 0            | 0      |\n",
        "| sunniest | 0         | 0      | 0            | 1      | 0             | 0     | 0        | 0      | 0           | 0            | 0      |\n",
        "| of       | 0         | 0      | 0            | 0      | 1             | 0     | 0        | 0      | 0           | 1            | 0      |\n",
        "| days     | 0         | 0      | 0            | 0      | 0             | 0     | 0        | 0      | 0           | 0            | 1      |\n",
        "| rainiest  | 0         | 0      | 0            | 1      | 0             | 0     | 0        | 0      | 0           | 0            | 0      |\n",
        "\n",
        "Each column vector represents the word's context -in this case defined by the words to the left and right of the center word. How far we look to the left and right of a given word is referred to as our \"window of context.\" Each row vector represents the the different usages of a given word. Word2Vec can consider a larger context than only words that are immediately to the left and right of a given word, but we're going to keep our window of context small for this example. What's most important is that this vectorization has translated our documents from a text representation to a numeric one in a way that preserves information about the underlying context. \n",
        "\n",
        "We can see that words that have a similar context will have similar row-vector representations, but before looking that more in-depth, lets simplify our vectorization slightly. You'll notice that we're repeating the column-vector \"it_the\" twice. Lets combine those into a single vector by adding them element-wise. \n",
        "\n",
        "|       *   | START_was | it_the | was_sunniest | the_of | sunniest_days | of_it | days_was | was_rainiest | rainiest_days | of_END |\n",
        "|----------|-----------|--------|--------------|--------|---------------|-------|----------|-------------|--------------|--------|\n",
        "| it       | 1         | 0      | 0            | 0      | 0             | 0     | 1        | 0           | 0            | 0      |\n",
        "| was      | 0         | 2      | 0            | 0      | 0             | 0     | 0        | 0           | 0            | 0      |\n",
        "| the      | 0         | 0      | 1            | 0      | 0             | 0     | 0        | 1           | 0            | 0      |\n",
        "| sunniest | 0         | 0      | 0            | 1      | 0             | 0     | 0        | 0           | 0            | 0      |\n",
        "| of       | 0         | 0      | 0            | 0      | 1             | 0     | 0        | 0           | 1            | 0      |\n",
        "| days     | 0         | 0      | 0            | 0      | 0             | 0     | 0        | 0           | 0            | 1      |\n",
        "| rainiest  | 0         | 0      | 0            | 1      | 0             | 0     | 0        | 0           | 0            | 0      |\n",
        "\n",
        "Now, can you spot which words have a similar row-vector representation? Hint: Look for values that are repeated in a given column. Each column represents the context that word was found in. If there are multiple words that share a context then those words are understood to have a closer meaning with each other than with other words in the text.\n",
        "\n",
        "Lets look specifically at the words sunniest and rainiest. You'll notice that these two words have exactly the same 10-dimensional vector representation. Based on this very small corpora of text we would conclude that these two words have relatd meanings because they share the same usage. Is this a good assumption? Well, they are both referring to the weather outside so that's better than nothing. You could imagine that as our corpora grows larger we will be exposed a greater number of contexts and the Distribution Hypothesis assumption will improve. \n",
        "\n",
        "##3.2 Word2Vec Variants\n",
        "\n",
        "###3.2.1 Skip-Gram\n",
        "\n",
        "The Skip-Gram method predicts the neighbors’ of a word given a center word. In the skip-gram model, we take a center word and a window of context (neighbors) words to train the model and then predict context words out to some window size for each center word.\n",
        "\n",
        "This notion of “context” or “neighboring” words is best described by considering a center word and a window of words around it. \n",
        "\n",
        "For example, if we consider the sentence **“The speedy Porsche drove past the elegant Rolls-Royce”** and a window size of 2, we’d have the following pairs for the skip-gram model:\n",
        "\n",
        "**Text:**\n",
        "**The**\tspeedy\tPorsche\tdrove\tpast\tthe\telegant\tRolls-Royce\n",
        "\n",
        "*Training Sample with window of 2*: (the, speedy), (the, Porsche)\n",
        "\n",
        "**Text:**\n",
        "The\t**speedy**\tPorsche\tdrove\tpast\tthe\telegant\tRolls-Royce\n",
        "\n",
        "*Training Sample with window of 2*: (speedy, the), (speedy, Porsche), (speedy, drove)\n",
        "\n",
        "**Text:**\n",
        "The\tspeedy\t**Porsche**\tdrove\tpast\tthe\telegant\tRolls-Royce\n",
        "\n",
        "*Training Sample with window of 2*: (Porsche, the), (Porsche, speedy), (Porsche, drove), (Porsche, past)\n",
        "\n",
        "**Text:**\n",
        "The\tspeedy\tPorsche\t**drove**\tpast\tthe\telegant\tRolls-Royce\n",
        "\n",
        "*Training Sample with window of 2*: (drove, speedy), (drove, Porsche), (drove, past), (drove, the)\n",
        "\n",
        "The **Skip-gram model** is going to output a probability distribution i.e. the probability of a word appearing in context given a center word and we are going to select the vector representation that maximizes the probability.\n",
        "\n",
        "With CountVectorizer and TF-IDF the best we could do for context was to look at common bi-grams and tri-grams (n-grams). Well, skip-grams go far beyond that and give our model much stronger contextual information.\n",
        "\n",
        "![alt text](https://www.dropbox.com/s/c7mwy6dk9k99bgh/Image%202%20-%20SkipGrams.jpg?raw=1)\n",
        "\n",
        "###3.2.2 Continuous Bag of Words\n",
        "\n",
        "This model takes thes opposite approach from the skip-gram model in that it tries to predict a center word based on the neighboring words. In the case of the CBOW model, we input the context words within the window (such as “the”, “Porsche”, “drove”) and aim to predict the target or center word “speedy” (the input to the prediction pipeline is reversed as compared to the SkipGram model).\n",
        "\n",
        "A graphical depiction of the input to output prediction pipeline for both variants of the Word2vec model is attached. The graphical depiction will help crystallize the difference between SkipGrams and Continuous Bag of Words.\n",
        "\n",
        "![alt text](https://www.dropbox.com/s/k3ddmbtd52wq2li/Image%203%20-%20CBOW%20Model.jpg?raw=1)\n",
        "\n",
        "###3.2.3 Notes on Word Embeddings:\n",
        "\n",
        "1) Word2Vec is useful for topic-modeling, because each word vector contains information about related context words.\n",
        "\n",
        "2) Word2Vec can result in really large and complex vectorizations. In fact, you need Deep Neural Networks to train your Word2Vec models from scratch, but we can use helpful pretrained embeddings to do really cool things! \n",
        "Let's take a look at how to work with these word vectors."
      ]
    },
    {
      "cell_type": "markdown",
      "metadata": {
        "id": "YbCusle-77J4"
      },
      "source": [
        "## 3.3 Spacy word embeddings\n",
        "#### `spacy` provides pretrained Word2Vec models. \n",
        "\n",
        "We will use their `en_core_web_md` model, which has 300-dimensional word embeddings for 20,000 words. "
      ]
    },
    {
      "cell_type": "code",
      "metadata": {
        "nbgrader": {
          "grade": false,
          "grade_id": "cell-08acf3f0c46d7591",
          "locked": false,
          "schema_version": 3,
          "solution": true,
          "task": false
        },
        "scrolled": true,
        "id": "zfaoM_g7dRAU",
        "colab": {
          "base_uri": "https://localhost:8080/"
        },
        "outputId": "6ef7c320-ea74-4062-ade0-5a8c92b3b5d7"
      },
      "source": [
        "# Process a text\n",
        "doc = nlp(\"bananas\")\n",
        "\n",
        "# Get the vector for the token \"bananas\"\n",
        "bananas_vector = doc.vector\n",
        "\n",
        "# print the dimensionality of the vector embedding\n",
        "print(len(bananas_vector))\n",
        "print(bananas_vector)"
      ],
      "execution_count": 96,
      "outputs": [
        {
          "output_type": "stream",
          "name": "stdout",
          "text": [
            "300\n",
            "[-2.1689e-01 -2.5989e+00 -1.3144e+00  2.2500e+00 -4.6767e-01 -2.0695e+00\n",
            " -6.3379e-01 -4.0222e-01 -3.4022e+00 -3.6932e-01 -7.9938e-01 -1.0412e+00\n",
            "  9.3756e-01  1.6070e+00  8.8330e-01 -2.8483e+00  1.3349e-01 -3.1656e+00\n",
            "  8.1896e-01 -4.8113e+00  1.5655e+00  1.6665e+00 -4.7081e-01 -1.9475e+00\n",
            " -1.1779e+00 -1.3810e+00 -2.0071e+00 -2.1639e-01  9.0609e-01  1.5279e+00\n",
            "  1.2587e-04 -2.9000e+00  7.6069e-01 -2.2825e+00  1.2495e-02 -1.5653e+00\n",
            "  2.0052e+00 -1.7747e+00  5.9220e-01 -1.1428e+00 -1.3441e+00  3.4784e-01\n",
            "  1.7492e+00  1.9086e+00  1.0600e+00  1.2965e+00  4.1431e-01  7.9416e-01\n",
            " -1.1277e+00 -1.1403e+00  7.5891e-01 -9.4419e-01  1.4413e+00 -2.2554e+00\n",
            "  1.6226e-01  3.8901e-01  1.2299e-01  1.1577e+00  1.5524e+00  1.3853e+00\n",
            "  1.1112e+00  7.5767e-01  3.9431e+00 -2.8506e-01 -2.1645e+00 -1.0862e+00\n",
            " -1.4973e+00 -1.2781e+00  2.4643e+00 -1.5886e+00  2.5679e-01  6.4918e-01\n",
            "  1.6809e-01  5.7693e-01  3.1121e-01 -4.5278e-01 -2.7555e+00 -2.1846e+00\n",
            "  4.4865e+00  2.7107e-01 -5.3831e-01  8.3013e-01  6.7752e-02  1.4234e-01\n",
            "  1.2585e+00 -8.5423e-01  9.2971e-01 -3.9940e-01 -5.8663e-01  6.6604e-01\n",
            "  2.3871e+00  4.9333e-01  2.3922e+00 -3.7396e+00 -3.9524e-01 -6.3799e-01\n",
            "  3.3500e+00 -2.0430e+00 -1.5601e+00 -2.3594e+00 -1.4671e+00 -3.2848e+00\n",
            "  1.5197e+00 -1.1674e+00 -1.2885e+00  3.4890e+00 -4.0526e+00  1.6946e+00\n",
            " -1.5310e+00  2.6790e+00  1.2865e+00 -2.9286e-02  3.1037e+00  1.3635e-01\n",
            " -1.3327e-01  5.4603e-01  1.2937e+00 -2.3662e+00  2.8862e-01  1.6226e+00\n",
            "  6.3531e-01  1.5498e+00 -2.3349e+00  1.6150e+00 -2.0071e+00 -4.8784e-01\n",
            "  1.7768e+00 -2.6920e+00  1.6341e+00  4.0537e-01  3.7324e-01  7.8494e-01\n",
            "  1.3917e+00 -2.9035e-01  2.5224e+00  1.2485e+00 -1.5159e+00 -2.0832e+00\n",
            " -1.8766e-01 -1.3394e+00 -5.3597e-01 -2.4915e+00  1.6341e+00 -3.0336e+00\n",
            "  1.8791e-01 -2.4776e-01  1.6347e+00 -7.0009e-01  2.1221e+00 -2.3470e+00\n",
            " -2.1513e+00  1.2630e+00 -2.8195e-01 -5.6535e-01 -9.0373e-01  1.3455e+00\n",
            "  4.1099e+00  6.9325e-01  4.6835e-01  2.9949e-01 -3.2456e-01 -2.1713e+00\n",
            "  4.6691e-01 -1.3795e-01  6.0910e-01 -1.3374e+00 -8.3586e-01  1.8260e+00\n",
            " -4.5386e-01  1.2555e+00 -6.6705e-01 -3.0835e-01 -1.4692e-01  3.9952e+00\n",
            " -1.1289e+00  1.7926e-01 -5.8095e-01  6.2500e-01  2.6151e+00 -1.3212e+00\n",
            " -1.9355e+00  2.4898e+00 -1.7301e+00  8.6154e-01 -2.5272e+00 -3.0166e+00\n",
            "  5.8867e-01 -1.4207e-01  1.7611e+00 -1.0399e+00  5.7063e-01  7.2554e-01\n",
            "  8.7684e-01  1.6996e+00  1.1084e+00 -2.6877e-01 -2.2970e+00  1.8850e+00\n",
            "  1.2536e-01  1.1671e+00 -1.3038e+00  8.2640e-01  3.8002e-01 -1.0354e+00\n",
            "  2.2547e+00 -2.4526e-01  8.3622e-01 -7.9525e-01  1.4251e+00  4.5795e-02\n",
            "  2.5062e+00  7.2175e-01 -3.8197e-01  1.1387e+00  1.6779e+00 -1.6925e+00\n",
            "  8.2290e-02 -3.3117e-01 -6.1974e-01  8.0306e-01  2.1189e+00 -7.8231e-01\n",
            "  3.3266e-01 -7.1646e-01  1.7721e+00 -1.2573e+00  1.5601e-01  9.6129e-01\n",
            "  4.8986e-01  3.1657e+00 -3.0332e+00 -9.1339e-01 -2.8627e-01 -9.8174e-01\n",
            " -2.7599e+00  2.9160e+00 -1.1540e+00  2.9537e+00 -1.1502e+00 -2.2760e+00\n",
            "  1.1679e+00  2.0314e-01 -2.2882e+00  1.0485e+00 -4.9545e-01  2.4065e+00\n",
            "  9.1433e-01  1.3808e-01 -1.1361e+00 -1.2278e+00 -1.8958e+00 -2.4934e-01\n",
            " -4.1792e+00 -1.3781e+00 -8.9829e-01 -1.4802e+00 -1.2894e+00  2.2336e+00\n",
            " -2.4411e+00  3.0410e-01  2.1452e+00  1.8540e+00 -3.3640e-01  4.2768e-01\n",
            " -4.2577e-01  2.2337e-01  3.3650e+00 -2.1996e-01 -1.7426e+00  1.4554e+00\n",
            "  2.5087e+00 -1.1257e+00  1.4096e+00  1.3704e-01  7.6963e-01 -7.6688e-02\n",
            " -6.1875e-01 -2.0445e-01  4.9965e-01 -6.7246e-01 -4.0058e-01 -1.1536e+00\n",
            " -9.2837e-01 -2.5444e+00 -1.9880e-01 -2.1432e+00 -1.8218e+00 -5.7831e-01\n",
            " -1.6785e+00  2.6610e+00  1.0343e+00 -1.4297e+00  1.4563e+00 -2.0388e+00\n",
            " -1.4377e+00 -9.7985e-01  2.9488e+00 -2.7107e-01 -2.4010e-01 -1.3845e-01]\n"
          ]
        }
      ]
    },
    {
      "cell_type": "code",
      "source": [
        "apple = nlp('apple')\n",
        "banana = nlp('banana')\n",
        "gravity = nlp('gravity')\n",
        "\n",
        "print(f'Apple -> Banana similarity: {apple.similarity(banana)}')\n",
        "print(f'Apple -> Gravity similarity: {apple.similarity(gravity)}')\n",
        "print(f'Banana -> Gravity similarity: {banana.similarity(gravity)}')"
      ],
      "metadata": {
        "id": "XHQ4uUf4WI1G",
        "colab": {
          "base_uri": "https://localhost:8080/"
        },
        "outputId": "d690b37b-a3b4-46a7-e3ae-d47e25683f0b"
      },
      "execution_count": 97,
      "outputs": [
        {
          "output_type": "stream",
          "name": "stdout",
          "text": [
            "Apple -> Banana similarity: 0.6646700384869841\n",
            "Apple -> Gravity similarity: 0.1950858162480275\n",
            "Banana -> Gravity similarity: 0.07896224402806362\n"
          ]
        }
      ]
    },
    {
      "cell_type": "markdown",
      "metadata": {
        "id": "FD1qE_vCHWuG"
      },
      "source": [
        "### Spacy Document vectors\n",
        "\n",
        "From spacy we can get word2vec embeddings for each word in a document<br>\n",
        "We can create a document vector by averaging all the word vectors in that doc<br>\n",
        "We can calculate the similarity between documents now! "
      ]
    },
    {
      "cell_type": "code",
      "metadata": {
        "id": "6Vkq3tlyL2Xp"
      },
      "source": [
        "doc1 = nlp(\"On a hot summer day, it's good to drink water.\")\n",
        "doc2 = nlp(\"There are lots of cold drinks in the refrigerator.\")\n",
        "doc3 = nlp(\"cosine distance measures similarity\")"
      ],
      "execution_count": 98,
      "outputs": []
    },
    {
      "cell_type": "code",
      "metadata": {
        "id": "zM5RbtPfL38t",
        "colab": {
          "base_uri": "https://localhost:8080/"
        },
        "outputId": "45287e9e-29bd-4e08-c4c4-1082e90488ce"
      },
      "source": [
        "len(doc1.vector)"
      ],
      "execution_count": 99,
      "outputs": [
        {
          "output_type": "execute_result",
          "data": {
            "text/plain": [
              "300"
            ]
          },
          "metadata": {},
          "execution_count": 99
        }
      ]
    },
    {
      "cell_type": "code",
      "metadata": {
        "id": "Lz5eGGl5MKxx",
        "colab": {
          "base_uri": "https://localhost:8080/"
        },
        "outputId": "4c1144cb-d2a3-40ac-a739-e4d00ff74a36"
      },
      "source": [
        "type(doc)"
      ],
      "execution_count": 100,
      "outputs": [
        {
          "output_type": "execute_result",
          "data": {
            "text/plain": [
              "spacy.tokens.doc.Doc"
            ]
          },
          "metadata": {},
          "execution_count": 100
        }
      ]
    },
    {
      "cell_type": "code",
      "metadata": {
        "nbgrader": {
          "grade": false,
          "grade_id": "cell-4a00f1280d6a3a32",
          "locked": false,
          "schema_version": 3,
          "solution": true,
          "task": false
        },
        "id": "CXNDY_VadRAV",
        "colab": {
          "base_uri": "https://localhost:8080/"
        },
        "outputId": "7123cd23-b8f0-4d31-8128-4bf3f193c527"
      },
      "source": [
        "# Get the similarity of doc1 and doc2\n",
        "similarity = doc1.similarity(doc2)\n",
        "print(similarity)"
      ],
      "execution_count": 101,
      "outputs": [
        {
          "output_type": "stream",
          "name": "stdout",
          "text": [
            "0.6108931607606939\n"
          ]
        }
      ]
    },
    {
      "cell_type": "code",
      "metadata": {
        "id": "plyigAgONqJ5",
        "colab": {
          "base_uri": "https://localhost:8080/"
        },
        "outputId": "24879708-635e-4d04-d934-844840fa5963"
      },
      "source": [
        "doc3.similarity(doc2)"
      ],
      "execution_count": 102,
      "outputs": [
        {
          "output_type": "execute_result",
          "data": {
            "text/plain": [
              "0.5440013341813931"
            ]
          },
          "metadata": {},
          "execution_count": 102
        }
      ]
    },
    {
      "cell_type": "code",
      "metadata": {
        "id": "QbXwpFEvcdQG",
        "colab": {
          "base_uri": "https://localhost:8080/"
        },
        "outputId": "18c30c5c-772f-4db1-d87e-d8c7d2f7db9a"
      },
      "source": [
        "doc3.similarity(doc1)"
      ],
      "execution_count": 103,
      "outputs": [
        {
          "output_type": "execute_result",
          "data": {
            "text/plain": [
              "0.4692416983237825"
            ]
          },
          "metadata": {},
          "execution_count": 103
        }
      ]
    },
    {
      "cell_type": "markdown",
      "metadata": {
        "id": "fBwRFUIhzH79"
      },
      "source": [
        "## Challenge: can we make a \"thesaurus\"?<br>\n",
        "Given a query word, do you think we could find good synonyms  <br>\n",
        "by doing a nearest neighbor search on the `spacy` word embeddings?<br>\n",
        "Let's give it a try!"
      ]
    },
    {
      "cell_type": "markdown",
      "metadata": {
        "id": "93PNwg0ODA5k"
      },
      "source": [
        "First, get the embeddings for the vocabulary words and make a document-term matrix"
      ]
    },
    {
      "cell_type": "code",
      "metadata": {
        "id": "sKtrMIBTe4Ja",
        "colab": {
          "base_uri": "https://localhost:8080/"
        },
        "outputId": "e13a71c4-c13e-462a-96fb-4e95b5df23ab"
      },
      "source": [
        "%%time\n",
        "vocab = list(nlp.vocab.strings)\n",
        "print(len(vocab))"
      ],
      "execution_count": 104,
      "outputs": [
        {
          "output_type": "stream",
          "name": "stdout",
          "text": [
            "777060\n",
            "CPU times: user 275 ms, sys: 25.3 ms, total: 301 ms\n",
            "Wall time: 301 ms\n"
          ]
        }
      ]
    },
    {
      "cell_type": "code",
      "metadata": {
        "id": "HhvStTRcYt70",
        "colab": {
          "base_uri": "https://localhost:8080/"
        },
        "outputId": "8efde183-6100-4aec-fd88-8e61c86d7620"
      },
      "source": [
        "# eliminate duplicates due to mixing upper and lower case\n",
        "vocab =[word.lower() for word in vocab]\n",
        "vocab = list(set(vocab))\n",
        "print(len(vocab))"
      ],
      "execution_count": 106,
      "outputs": [
        {
          "output_type": "stream",
          "name": "stdout",
          "text": [
            "428089\n"
          ]
        }
      ]
    },
    {
      "cell_type": "code",
      "metadata": {
        "id": "NYsIXtUlZobh",
        "colab": {
          "base_uri": "https://localhost:8080/"
        },
        "outputId": "92050e9c-bf47-401b-bf1d-0c4aa0fb8a20"
      },
      "source": [
        "%%time\n",
        "word_vectors = [nlp.vocab.get_vector(word) for word in vocab]\n",
        "word_vectors = np.asarray(word_vectors)\n",
        "print(word_vectors.shape)"
      ],
      "execution_count": 107,
      "outputs": [
        {
          "output_type": "stream",
          "name": "stdout",
          "text": [
            "(428089, 300)\n",
            "CPU times: user 1.7 s, sys: 684 ms, total: 2.39 s\n",
            "Wall time: 2.4 s\n"
          ]
        }
      ]
    },
    {
      "cell_type": "markdown",
      "metadata": {
        "id": "PJuBDt0PEh3G"
      },
      "source": [
        "Fit a nearest-neighbors model to the document-term matrix"
      ]
    },
    {
      "cell_type": "code",
      "metadata": {
        "id": "IB3pAOhmto8W",
        "colab": {
          "base_uri": "https://localhost:8080/"
        },
        "outputId": "9c196b1d-e4e6-41c5-8c74-c407b1f2862d"
      },
      "source": [
        "%%time\n",
        "nn = NearestNeighbors(n_neighbors=20, algorithm='auto')\n",
        "\n",
        "# fit to the document-term matrix of all the vocabulary words\n",
        "nn.fit(word_vectors)"
      ],
      "execution_count": 108,
      "outputs": [
        {
          "output_type": "stream",
          "name": "stdout",
          "text": [
            "CPU times: user 177 ms, sys: 1.46 ms, total: 179 ms\n",
            "Wall time: 204 ms\n"
          ]
        },
        {
          "output_type": "execute_result",
          "data": {
            "text/plain": [
              "NearestNeighbors(n_neighbors=20)"
            ]
          },
          "metadata": {},
          "execution_count": 108
        }
      ]
    },
    {
      "cell_type": "markdown",
      "metadata": {
        "id": "qdrcAOcfChy0"
      },
      "source": [
        "Choose a query word, for which you want to find synonyms"
      ]
    },
    {
      "cell_type": "code",
      "metadata": {
        "id": "8pBxmi4O5rhp",
        "colab": {
          "base_uri": "https://localhost:8080/"
        },
        "outputId": "75566ac4-9be5-4485-afff-d77ec5586fef"
      },
      "source": [
        "query_word = 'marvelous'\n",
        "query_vector = nlp.vocab.get_vector(query_word).reshape(1,-1)\n",
        "query_vector.shape"
      ],
      "execution_count": 122,
      "outputs": [
        {
          "output_type": "execute_result",
          "data": {
            "text/plain": [
              "(1, 300)"
            ]
          },
          "metadata": {},
          "execution_count": 122
        }
      ]
    },
    {
      "cell_type": "markdown",
      "metadata": {
        "id": "qRbtlDz0EI6Q"
      },
      "source": [
        "Find the nearest neighbors to the query, from spacy's vocabulary"
      ]
    },
    {
      "cell_type": "code",
      "metadata": {
        "id": "plA09PgS68Sc",
        "colab": {
          "base_uri": "https://localhost:8080/"
        },
        "outputId": "962b456b-b38a-4e8f-a94f-d207bc6ec5ae"
      },
      "source": [
        "neigh_dist, neigh_index = nn.kneighbors(query_vector, n_neighbors=5)\n",
        "[vocab[int(index)] for index in neigh_index[0]]"
      ],
      "execution_count": 126,
      "outputs": [
        {
          "output_type": "execute_result",
          "data": {
            "text/plain": [
              "['marvelous', 'marvellous', 'splendid', 'fantabulous', 'stupendous']"
            ]
          },
          "metadata": {},
          "execution_count": 126
        }
      ]
    },
    {
      "cell_type": "markdown",
      "metadata": {
        "id": "_JftffA2DK2Y"
      },
      "source": [
        "## Can we visualize word vectors?\n",
        "\n",
        "300 dimensional word vectors are difficult (impossible) to visualize! <br>\n",
        "However, we can use Principal Components Analysis (PCA) to reduce their dimensionality. <br>\n",
        "\n",
        "PCA is one of the most important techniques in machine learning, and indeed in all of mathematics! PCA transforms the feature vectors of a data set to their \"Principal Components\", which are ranked in order of their importance in describing the data set. By eliminating the less important Principal Components, we can reduce the dimensionality of the data set, at the cost of losing some information.\n",
        "\n",
        "If you're interested to explore this topic in greater depth, here are a couple of references:\n",
        "- One of the best brief introductions to the mathematics of PCA is [Daniela Witten's tweetstorm](https://twitter.com/womeninstat/status/1285610321747611653?lang=en)\n",
        "- For a more in-depth, but still understandable exposition of PCA, watch the Statquest video [Principal Component Analysis (PCA), Step-by-Step](https://youtu.be/FgakZw6K1QQ) from Josh Starmer.\n",
        "\n",
        "Now let's use PCA to reduce our 300-dimensional word vectors down to two dimensions, so that we can visualize them in a plane. Of course, in the process we lose a lot of information, but these 2D word vectors still pack a surprising amount of information!"
      ]
    },
    {
      "cell_type": "code",
      "metadata": {
        "nbgrader": {
          "grade": false,
          "grade_id": "cell-c54d3921b438215d",
          "locked": false,
          "schema_version": 3,
          "solution": true,
          "task": false
        },
        "id": "WNGfmJ13dRAV",
        "colab": {
          "base_uri": "https://localhost:8080/"
        },
        "outputId": "2939dc3a-808c-4112-f6ee-82ef2791ad18"
      },
      "source": [
        "# import the PCA module from sklearn\n",
        "from sklearn.decomposition import PCA\n",
        "\n",
        "def get_word_vectors(words):\n",
        "    # converts a list of words into their word vectors\n",
        "    return [nlp(word).vector for word in words]\n",
        "\n",
        "words = ['machine learning', 'man', 'woman',  'king', 'queen',\n",
        "         'artificial intelligence', 'nurse', 'doctor', \n",
        "         'data', 'science', 'concrete', 'wood',  'marble', \n",
        "         'design', 'color', 'font', 'pharmacy', 'medicine', 'vancomycin', 'bacteria', 'infection']\n",
        "\n",
        "\n",
        "word_vectors = get_word_vectors(words)\n",
        "\n",
        "# intialise pca model and tell it to project data down onto 2 dimensions\n",
        "pca = PCA(n_components=2)\n",
        "\n",
        "# fit the pca model to our 300D data, this will work out which is the best \n",
        "# way to project the data down that will best maintain the relative distances \n",
        "# between data points. It will store these intructioons on how to transform the data.\n",
        "pca.fit(word_vectors)\n",
        "\n",
        "# Tell our (fitted) pca model to transform our 300D data down onto 2D using the \n",
        "# instructions it learnt during the fit phase.\n",
        "word_vecs_2d = pca.transform(word_vectors)\n",
        "\n",
        "# let's look at our new 2D word vectors\n",
        "word_vecs_2d"
      ],
      "execution_count": 131,
      "outputs": [
        {
          "output_type": "execute_result",
          "data": {
            "text/plain": [
              "array([[ 11.26649978,  -0.80079459],\n",
              "       [-46.70616148, -10.36564896],\n",
              "       [-35.61520098, -11.89800433],\n",
              "       [-20.28485113,  -3.72986109],\n",
              "       [-25.08973905,   0.3928278 ],\n",
              "       [ 10.2344484 ,  -5.29759403],\n",
              "       [-16.87124951, -19.9138406 ],\n",
              "       [-15.28269793, -20.77570408],\n",
              "       [ 66.29253484, -28.04614402],\n",
              "       [ 14.00629983, -14.51714492],\n",
              "       [  7.42847034,  15.46051316],\n",
              "       [  0.45345633,  46.85514645],\n",
              "       [ -6.39501644,  27.05285396],\n",
              "       [ 20.47422842,  18.39230087],\n",
              "       [  8.23808426,  26.69900165],\n",
              "       [  6.7742669 ,  24.71752388],\n",
              "       [  1.52456236, -12.12881707],\n",
              "       [  2.03121054, -14.28699612],\n",
              "       [ -2.68979929,  -2.51160955],\n",
              "       [  7.61593371,  -1.0095694 ],\n",
              "       [ 12.59472008, -14.28843899]])"
            ]
          },
          "metadata": {},
          "execution_count": 131
        }
      ]
    },
    {
      "cell_type": "code",
      "metadata": {
        "id": "mjxAfKfodRAV",
        "colab": {
          "base_uri": "https://localhost:8080/",
          "height": 486
        },
        "outputId": "59845d9a-9737-48e7-8e43-bc7a18610878"
      },
      "source": [
        "# create a nice big plot \n",
        "plt.figure(figsize=(12,8))\n",
        "\n",
        "# plot the scatter plot of where the words will be\n",
        "plt.scatter(word_vecs_2d[:,0], word_vecs_2d[:,1])\n",
        "\n",
        "# for each word and coordinate pair: draw the text on the plot\n",
        "for word, coord in zip(words, word_vecs_2d):\n",
        "    x, y = coord\n",
        "    plt.text(x, y, word, size= 15)\n",
        "\n",
        "# show the plot\n",
        "plt.grid();\n",
        "plt.show()"
      ],
      "execution_count": 132,
      "outputs": [
        {
          "output_type": "display_data",
          "data": {
            "text/plain": [
              "<Figure size 864x576 with 1 Axes>"
            ],
            "image/png": "[encoded data removed]"
          },
          "metadata": {}
        }
      ]
    },
    {
      "cell_type": "markdown",
      "metadata": {
        "id": "ruZeW9_ZDACQ"
      },
      "source": [
        "### Spend a few minutes exploring the magic of word vectors!\n",
        "Create your own `words` list and run it through the code in the above two cells. <br>\n",
        "Perhaps include clusters of words that have similar meanings or that might <br>reveal implicit gender bias or some other kind of bias. What did you find out?"
      ]
    },
    {
      "cell_type": "markdown",
      "metadata": {
        "id": "6uAb_h7ldRAW"
      },
      "source": [
        "## Challenge\n",
        "\n",
        "You will extract word embeddings from documents using Spacy's pre-trained model in the upcoming module project. "
      ]
    },
    {
      "cell_type": "markdown",
      "metadata": {
        "id": "KUWsVDc4dRAW"
      },
      "source": [
        "## King - Man + Woman = Queen \n",
        "\n",
        "Check out [**The amazing power of word vectors**](https://blog.acolyer.org/2016/04/21/the-amazing-power-of-word-vectors/), which explores the above equation"
      ]
    },
    {
      "cell_type": "markdown",
      "metadata": {
        "id": "yEkjvdD5dRAW"
      },
      "source": [
        "# Sources\n",
        "\n",
        "* Spacy 101 - https://course.spacy.io\n",
        "* NLTK Book - https://www.nltk.org/book/\n",
        "* An Introduction to Information Retrieval - https://nlp.stanford.edu/IR-book/pdf/irbookonlinereading.pdf"
      ]
    }
  ]
}